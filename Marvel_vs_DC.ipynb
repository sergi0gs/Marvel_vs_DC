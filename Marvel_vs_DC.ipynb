{
  "nbformat": 4,
  "nbformat_minor": 0,
  "metadata": {
    "colab": {
      "name": "Marvel_vs_DC.ipynb",
      "provenance": [],
      "toc_visible": true,
      "authorship_tag": "ABX9TyNHH8YJpPKl8qc6/y70HE33",
      "include_colab_link": true
    },
    "kernelspec": {
      "name": "python3",
      "display_name": "Python 3"
    },
    "language_info": {
      "name": "python"
    }
  },
  "cells": [
    {
      "cell_type": "markdown",
      "metadata": {
        "id": "view-in-github",
        "colab_type": "text"
      },
      "source": [
        "<a href=\"https://colab.research.google.com/github/sergi0gs/Marvel_vs_DC/blob/main/Marvel_vs_DC.ipynb\" target=\"_parent\"><img src=\"https://colab.research.google.com/assets/colab-badge.svg\" alt=\"Open In Colab\"/></a>"
      ]
    },
    {
      "cell_type": "markdown",
      "metadata": {
        "id": "_-ahwrefCy4J"
      },
      "source": [
        "# **Introduction**\n",
        "\n",
        "In this project we will try to analyse the information about the heroes of Marvel and DC comics learning about the different types of techniques that we have in Python to analyse, clean, transform and visualize data.\n",
        "\n",
        "The information comes from these datasets in kaggle: https://www.kaggle.com/thec03u5/complete-superhero-dataset, https://www.kaggle.com/claudiodavi/superhero-set\n",
        "\n",
        "Which was constructed using web scrapping tecniques from the next website: https://www.superherodb.com/.\n",
        "\n",
        "Alse we use as a guide the next example maked in R from: https://cosmoduende.medium.com/dc-comics-vs-marvel-comics-an%C3%A1lisis-exploratorio-y-visualizaci%C3%B3n-de-datos-con-r-b0cf565e44e2\n",
        "\n",
        "# **What do we want to know?**\n",
        "1. How many heroes are there in DC Comics and Marvel Comics?\n",
        "2. What is the predominant gender in the characters of DC Comics and Marvel Comics?\n",
        "3. What is the predominant race in both comics?\n",
        "4.   Which has more Heroes or Villains?\n",
        "5.   Realize a comparative between the character abilites of both comics.\n",
        "6.   Who are the most intelligent characters?\n",
        "7.   Who are the strongest characters?\n",
        "8.   Who are the fastest characters?\n",
        "9.   Who are the characters with more power?\n",
        "10. What superpowers predominate in the characters of DC Comics and Marvel Comics?\n",
        "\n",
        "\n",
        "\n"
      ]
    },
    {
      "cell_type": "markdown",
      "metadata": {
        "id": "cy56Eu4YSMoD"
      },
      "source": [
        "# Data Exploration"
      ]
    },
    {
      "cell_type": "markdown",
      "metadata": {
        "id": "XO_awMjmN7XU"
      },
      "source": [
        "## Import libraries"
      ]
    },
    {
      "cell_type": "code",
      "metadata": {
        "id": "G9yAjNNIN6tN"
      },
      "source": [
        "import numpy as np\n",
        "import pandas as pd\n",
        "import matplotlib.pyplot as plt\n",
        "import seaborn as sns\n",
        "%matplotlib inline"
      ],
      "execution_count": 1,
      "outputs": []
    },
    {
      "cell_type": "markdown",
      "metadata": {
        "id": "jyOjnliwOIAs"
      },
      "source": [
        "## Read files"
      ]
    },
    {
      "cell_type": "code",
      "metadata": {
        "id": "JJq8smoyAiU_"
      },
      "source": [
        "superhero = pd.read_csv('https://raw.githubusercontent.com/sergi0gs/Marvel_vs_DC/main/datasets/SuperheroDataset.csv')\n",
        "heroes_information = pd.read_csv('https://raw.githubusercontent.com/sergi0gs/Marvel_vs_DC/main/datasets/heroes_information.csv')\n",
        "super_hero_powers = pd.read_csv('https://raw.githubusercontent.com/sergi0gs/Marvel_vs_DC/main/datasets/super_hero_powers.csv')"
      ],
      "execution_count": 2,
      "outputs": []
    },
    {
      "cell_type": "markdown",
      "metadata": {
        "id": "weKqhb2KQPXr"
      },
      "source": [
        "## Data Shape"
      ]
    },
    {
      "cell_type": "markdown",
      "metadata": {
        "id": "pH2B1MDYQTJc"
      },
      "source": [
        "### SuperHero.csv"
      ]
    },
    {
      "cell_type": "code",
      "metadata": {
        "colab": {
          "base_uri": "https://localhost:8080/"
        },
        "id": "pOqk7Ng7QFvk",
        "outputId": "9775acb0-b05f-4c16-c6ab-e9bdc03ee282"
      },
      "source": [
        "superhero.shape"
      ],
      "execution_count": 3,
      "outputs": [
        {
          "output_type": "execute_result",
          "data": {
            "text/plain": [
              "(743, 29)"
            ]
          },
          "metadata": {
            "tags": []
          },
          "execution_count": 3
        }
      ]
    },
    {
      "cell_type": "markdown",
      "metadata": {
        "id": "NtHdKtOuRXmb"
      },
      "source": [
        "### heroes_information.csv"
      ]
    },
    {
      "cell_type": "code",
      "metadata": {
        "colab": {
          "base_uri": "https://localhost:8080/"
        },
        "id": "nDjbFhIkQcAF",
        "outputId": "e272630d-1632-4058-d610-da5bdf20af4e"
      },
      "source": [
        "heroes_information.shape"
      ],
      "execution_count": 4,
      "outputs": [
        {
          "output_type": "execute_result",
          "data": {
            "text/plain": [
              "(734, 11)"
            ]
          },
          "metadata": {
            "tags": []
          },
          "execution_count": 4
        }
      ]
    },
    {
      "cell_type": "markdown",
      "metadata": {
        "id": "8HQxmqafRa_D"
      },
      "source": [
        "### super_hero_powers.csv\n"
      ]
    },
    {
      "cell_type": "code",
      "metadata": {
        "colab": {
          "base_uri": "https://localhost:8080/"
        },
        "id": "xQPY23YDRaVd",
        "outputId": "e19d6849-e0c2-48de-c5a2-588ff75922bd"
      },
      "source": [
        "super_hero_powers.shape"
      ],
      "execution_count": 5,
      "outputs": [
        {
          "output_type": "execute_result",
          "data": {
            "text/plain": [
              "(667, 168)"
            ]
          },
          "metadata": {
            "tags": []
          },
          "execution_count": 5
        }
      ]
    },
    {
      "cell_type": "markdown",
      "metadata": {
        "id": "zBAPDIlVSH6L"
      },
      "source": [
        "## Information"
      ]
    },
    {
      "cell_type": "markdown",
      "metadata": {
        "id": "Gd7jGn4GSX0c"
      },
      "source": [
        "### SuperHero.csv"
      ]
    },
    {
      "cell_type": "code",
      "metadata": {
        "id": "H1laIapxSdHv",
        "colab": {
          "base_uri": "https://localhost:8080/"
        },
        "outputId": "bb4fb251-a041-4f54-c046-9a237c408669"
      },
      "source": [
        "superhero.info()"
      ],
      "execution_count": 6,
      "outputs": [
        {
          "output_type": "stream",
          "text": [
            "<class 'pandas.core.frame.DataFrame'>\n",
            "RangeIndex: 743 entries, 0 to 742\n",
            "Data columns (total 29 columns):\n",
            " #   Column            Non-Null Count  Dtype  \n",
            "---  ------            --------------  -----  \n",
            " 0   Unnamed: 0        743 non-null    int64  \n",
            " 1   Unnamed: 0.1      743 non-null    int64  \n",
            " 2   Name              743 non-null    object \n",
            " 3   Url               743 non-null    object \n",
            " 4   Intelligence      665 non-null    float64\n",
            " 5   Strength          665 non-null    float64\n",
            " 6   Speed             665 non-null    float64\n",
            " 7   Durability        665 non-null    float64\n",
            " 8   Power             665 non-null    float64\n",
            " 9   Combat            665 non-null    float64\n",
            " 10  Full name         743 non-null    object \n",
            " 11  Alter Egos        743 non-null    object \n",
            " 12  Aliases           743 non-null    object \n",
            " 13  Place of birth    743 non-null    object \n",
            " 14  First appearance  743 non-null    object \n",
            " 15  Creator           735 non-null    object \n",
            " 16  Alignment         743 non-null    object \n",
            " 17  Gender            743 non-null    object \n",
            " 18  Race              743 non-null    object \n",
            " 19  Height            743 non-null    object \n",
            " 20  Weight            743 non-null    object \n",
            " 21  Eye color         743 non-null    object \n",
            " 22  Hair color        743 non-null    object \n",
            " 23  Occupation        743 non-null    object \n",
            " 24  Base              743 non-null    object \n",
            " 25  Team Affiliation  743 non-null    object \n",
            " 26  Relatives         743 non-null    object \n",
            " 27  Skin color        74 non-null     object \n",
            " 28  Total Power       743 non-null    float64\n",
            "dtypes: float64(7), int64(2), object(20)\n",
            "memory usage: 168.5+ KB\n"
          ],
          "name": "stdout"
        }
      ]
    },
    {
      "cell_type": "code",
      "metadata": {
        "colab": {
          "base_uri": "https://localhost:8080/",
          "height": 649
        },
        "id": "XhDENmIVHwsK",
        "outputId": "6cf863eb-fb11-4b08-a177-2a86e585fc56"
      },
      "source": [
        "superhero.sample(5)"
      ],
      "execution_count": 7,
      "outputs": [
        {
          "output_type": "execute_result",
          "data": {
            "text/html": [
              "<div>\n",
              "<style scoped>\n",
              "    .dataframe tbody tr th:only-of-type {\n",
              "        vertical-align: middle;\n",
              "    }\n",
              "\n",
              "    .dataframe tbody tr th {\n",
              "        vertical-align: top;\n",
              "    }\n",
              "\n",
              "    .dataframe thead th {\n",
              "        text-align: right;\n",
              "    }\n",
              "</style>\n",
              "<table border=\"1\" class=\"dataframe\">\n",
              "  <thead>\n",
              "    <tr style=\"text-align: right;\">\n",
              "      <th></th>\n",
              "      <th>Unnamed: 0</th>\n",
              "      <th>Unnamed: 0.1</th>\n",
              "      <th>Name</th>\n",
              "      <th>Url</th>\n",
              "      <th>Intelligence</th>\n",
              "      <th>Strength</th>\n",
              "      <th>Speed</th>\n",
              "      <th>Durability</th>\n",
              "      <th>Power</th>\n",
              "      <th>Combat</th>\n",
              "      <th>Full name</th>\n",
              "      <th>Alter Egos</th>\n",
              "      <th>Aliases</th>\n",
              "      <th>Place of birth</th>\n",
              "      <th>First appearance</th>\n",
              "      <th>Creator</th>\n",
              "      <th>Alignment</th>\n",
              "      <th>Gender</th>\n",
              "      <th>Race</th>\n",
              "      <th>Height</th>\n",
              "      <th>Weight</th>\n",
              "      <th>Eye color</th>\n",
              "      <th>Hair color</th>\n",
              "      <th>Occupation</th>\n",
              "      <th>Base</th>\n",
              "      <th>Team Affiliation</th>\n",
              "      <th>Relatives</th>\n",
              "      <th>Skin color</th>\n",
              "      <th>Total Power</th>\n",
              "    </tr>\n",
              "  </thead>\n",
              "  <tbody>\n",
              "    <tr>\n",
              "      <th>722</th>\n",
              "      <td>722</td>\n",
              "      <td>722</td>\n",
              "      <td>White Canary</td>\n",
              "      <td>/white-canary/10-10542/</td>\n",
              "      <td>85.0</td>\n",
              "      <td>10.0</td>\n",
              "      <td>35.0</td>\n",
              "      <td>15.0</td>\n",
              "      <td>50.0</td>\n",
              "      <td>90.0</td>\n",
              "      <td>-</td>\n",
              "      <td>No alter egos found.</td>\n",
              "      <td>Silk Sister, Sara Lance</td>\n",
              "      <td>-</td>\n",
              "      <td>Birds of Prey #1</td>\n",
              "      <td>DC Comics</td>\n",
              "      <td>bad</td>\n",
              "      <td>Female</td>\n",
              "      <td>Human</td>\n",
              "      <td>- // 0 cm</td>\n",
              "      <td>- lb // 0 kg</td>\n",
              "      <td>Brown</td>\n",
              "      <td>Black</td>\n",
              "      <td>-</td>\n",
              "      <td>-</td>\n",
              "      <td>Justice Legion Alpha, League of Assassins, Ext...</td>\n",
              "      <td>-</td>\n",
              "      <td>NaN</td>\n",
              "      <td>285.0</td>\n",
              "    </tr>\n",
              "    <tr>\n",
              "      <th>151</th>\n",
              "      <td>151</td>\n",
              "      <td>151</td>\n",
              "      <td>Captain Atom</td>\n",
              "      <td>/captain-atom/10-1007/</td>\n",
              "      <td>95.0</td>\n",
              "      <td>95.0</td>\n",
              "      <td>85.0</td>\n",
              "      <td>90.0</td>\n",
              "      <td>100.0</td>\n",
              "      <td>80.0</td>\n",
              "      <td>Nathaniel Christopher Adam</td>\n",
              "      <td>No alter egos found.</td>\n",
              "      <td>Monarch, Allen Adam, Cameron Scott</td>\n",
              "      <td>-</td>\n",
              "      <td>Captain Atom #1</td>\n",
              "      <td>DC Comics</td>\n",
              "      <td>good</td>\n",
              "      <td>Male</td>\n",
              "      <td>Human / Radiation</td>\n",
              "      <td>6'4 // 193 cm</td>\n",
              "      <td>200 lb // 90 kg</td>\n",
              "      <td>Blue</td>\n",
              "      <td>Silver</td>\n",
              "      <td>Former Soldier</td>\n",
              "      <td>-</td>\n",
              "      <td>Justice League Europe (Leader), United States ...</td>\n",
              "      <td>Angela Adam Eiling (wife, deceased), Peggy Eil...</td>\n",
              "      <td>Silver</td>\n",
              "      <td>545.0</td>\n",
              "    </tr>\n",
              "    <tr>\n",
              "      <th>412</th>\n",
              "      <td>412</td>\n",
              "      <td>412</td>\n",
              "      <td>Lizard</td>\n",
              "      <td>/lizard/10-11/</td>\n",
              "      <td>80.0</td>\n",
              "      <td>55.0</td>\n",
              "      <td>60.0</td>\n",
              "      <td>70.0</td>\n",
              "      <td>80.0</td>\n",
              "      <td>60.0</td>\n",
              "      <td>Curtis Connors</td>\n",
              "      <td>The Lizard (SONY)</td>\n",
              "      <td>-</td>\n",
              "      <td>Coral Gables, Florida</td>\n",
              "      <td>Amazing Spider-Man #6</td>\n",
              "      <td>Marvel Comics</td>\n",
              "      <td>bad</td>\n",
              "      <td>Male</td>\n",
              "      <td>Human</td>\n",
              "      <td>6'8 // 203 cm</td>\n",
              "      <td>510 lb // 230 kg</td>\n",
              "      <td>Red</td>\n",
              "      <td>No Hair</td>\n",
              "      <td>Research biologist</td>\n",
              "      <td>Florida</td>\n",
              "      <td>The FIRM, Secret Empire, Formerly: Sinister Tw...</td>\n",
              "      <td>Martha (wife, deceased), Billy (son), unnamed ...</td>\n",
              "      <td>NaN</td>\n",
              "      <td>405.0</td>\n",
              "    </tr>\n",
              "    <tr>\n",
              "      <th>294</th>\n",
              "      <td>294</td>\n",
              "      <td>294</td>\n",
              "      <td>Greedo</td>\n",
              "      <td>/greedo/10-10468/</td>\n",
              "      <td>75.0</td>\n",
              "      <td>10.0</td>\n",
              "      <td>15.0</td>\n",
              "      <td>15.0</td>\n",
              "      <td>35.0</td>\n",
              "      <td>40.0</td>\n",
              "      <td>-</td>\n",
              "      <td>No alter egos found.</td>\n",
              "      <td>-</td>\n",
              "      <td>Rodia</td>\n",
              "      <td>-</td>\n",
              "      <td>George Lucas</td>\n",
              "      <td>bad</td>\n",
              "      <td>Male</td>\n",
              "      <td>Rodian</td>\n",
              "      <td>5'7 // 170 cm</td>\n",
              "      <td>- lb // 0 kg</td>\n",
              "      <td>Purple</td>\n",
              "      <td>-</td>\n",
              "      <td>Bounty Hunter</td>\n",
              "      <td>-</td>\n",
              "      <td>Trade Federation</td>\n",
              "      <td>-</td>\n",
              "      <td>Green</td>\n",
              "      <td>190.0</td>\n",
              "    </tr>\n",
              "    <tr>\n",
              "      <th>347</th>\n",
              "      <td>347</td>\n",
              "      <td>347</td>\n",
              "      <td>Invisible Woman</td>\n",
              "      <td>/invisible-woman/10-620/</td>\n",
              "      <td>95.0</td>\n",
              "      <td>10.0</td>\n",
              "      <td>30.0</td>\n",
              "      <td>85.0</td>\n",
              "      <td>95.0</td>\n",
              "      <td>60.0</td>\n",
              "      <td>Susan Storm Richards</td>\n",
              "      <td>No alter egos found.</td>\n",
              "      <td>Invisible Girl</td>\n",
              "      <td>Glenville, Long Island, New York</td>\n",
              "      <td>FANTASTIC FOUR #1</td>\n",
              "      <td>Marvel Comics</td>\n",
              "      <td>good</td>\n",
              "      <td>Female</td>\n",
              "      <td>Human / Radiation</td>\n",
              "      <td>5'6 // 168 cm</td>\n",
              "      <td>120 lb // 54 kg</td>\n",
              "      <td>blue</td>\n",
              "      <td>Blond</td>\n",
              "      <td>Member of the Fantastic Four, financial manage...</td>\n",
              "      <td>Pier Four, New York City</td>\n",
              "      <td>Fantastic Four, Fantastic Five, Future Foundat...</td>\n",
              "      <td>Reed Richards (Mister Fantastic, husband), Fra...</td>\n",
              "      <td>NaN</td>\n",
              "      <td>375.0</td>\n",
              "    </tr>\n",
              "  </tbody>\n",
              "</table>\n",
              "</div>"
            ],
            "text/plain": [
              "     Unnamed: 0  Unnamed: 0.1  ... Skin color Total Power\n",
              "722         722           722  ...        NaN       285.0\n",
              "151         151           151  ...     Silver       545.0\n",
              "412         412           412  ...        NaN       405.0\n",
              "294         294           294  ...      Green       190.0\n",
              "347         347           347  ...        NaN       375.0\n",
              "\n",
              "[5 rows x 29 columns]"
            ]
          },
          "metadata": {
            "tags": []
          },
          "execution_count": 7
        }
      ]
    },
    {
      "cell_type": "markdown",
      "metadata": {
        "id": "U4BjXlYtDBkk"
      },
      "source": [
        "### heroes_information.csv"
      ]
    },
    {
      "cell_type": "code",
      "metadata": {
        "id": "OZCNZ8uQSfbj",
        "colab": {
          "base_uri": "https://localhost:8080/"
        },
        "outputId": "7f514289-2ff4-4487-f573-8aa2456a6a79"
      },
      "source": [
        "heroes_information.info()"
      ],
      "execution_count": 8,
      "outputs": [
        {
          "output_type": "stream",
          "text": [
            "<class 'pandas.core.frame.DataFrame'>\n",
            "RangeIndex: 734 entries, 0 to 733\n",
            "Data columns (total 11 columns):\n",
            " #   Column      Non-Null Count  Dtype  \n",
            "---  ------      --------------  -----  \n",
            " 0   Unnamed: 0  734 non-null    int64  \n",
            " 1   name        734 non-null    object \n",
            " 2   Gender      734 non-null    object \n",
            " 3   Eye color   734 non-null    object \n",
            " 4   Race        734 non-null    object \n",
            " 5   Hair color  734 non-null    object \n",
            " 6   Height      734 non-null    float64\n",
            " 7   Publisher   719 non-null    object \n",
            " 8   Skin color  734 non-null    object \n",
            " 9   Alignment   734 non-null    object \n",
            " 10  Weight      732 non-null    float64\n",
            "dtypes: float64(2), int64(1), object(8)\n",
            "memory usage: 63.2+ KB\n"
          ],
          "name": "stdout"
        }
      ]
    },
    {
      "cell_type": "code",
      "metadata": {
        "colab": {
          "base_uri": "https://localhost:8080/",
          "height": 204
        },
        "id": "PQc5V3zHH1Qp",
        "outputId": "5529f916-804b-4e00-b04e-122c01b8f92b"
      },
      "source": [
        "heroes_information.sample(5)"
      ],
      "execution_count": 9,
      "outputs": [
        {
          "output_type": "execute_result",
          "data": {
            "text/html": [
              "<div>\n",
              "<style scoped>\n",
              "    .dataframe tbody tr th:only-of-type {\n",
              "        vertical-align: middle;\n",
              "    }\n",
              "\n",
              "    .dataframe tbody tr th {\n",
              "        vertical-align: top;\n",
              "    }\n",
              "\n",
              "    .dataframe thead th {\n",
              "        text-align: right;\n",
              "    }\n",
              "</style>\n",
              "<table border=\"1\" class=\"dataframe\">\n",
              "  <thead>\n",
              "    <tr style=\"text-align: right;\">\n",
              "      <th></th>\n",
              "      <th>Unnamed: 0</th>\n",
              "      <th>name</th>\n",
              "      <th>Gender</th>\n",
              "      <th>Eye color</th>\n",
              "      <th>Race</th>\n",
              "      <th>Hair color</th>\n",
              "      <th>Height</th>\n",
              "      <th>Publisher</th>\n",
              "      <th>Skin color</th>\n",
              "      <th>Alignment</th>\n",
              "      <th>Weight</th>\n",
              "    </tr>\n",
              "  </thead>\n",
              "  <tbody>\n",
              "    <tr>\n",
              "      <th>290</th>\n",
              "      <td>290</td>\n",
              "      <td>Goliath</td>\n",
              "      <td>Male</td>\n",
              "      <td>-</td>\n",
              "      <td>Human</td>\n",
              "      <td>-</td>\n",
              "      <td>-99.0</td>\n",
              "      <td>Marvel Comics</td>\n",
              "      <td>-</td>\n",
              "      <td>good</td>\n",
              "      <td>-99.0</td>\n",
              "    </tr>\n",
              "    <tr>\n",
              "      <th>130</th>\n",
              "      <td>130</td>\n",
              "      <td>Boomer</td>\n",
              "      <td>Female</td>\n",
              "      <td>-</td>\n",
              "      <td>-</td>\n",
              "      <td>-</td>\n",
              "      <td>-99.0</td>\n",
              "      <td>Marvel Comics</td>\n",
              "      <td>-</td>\n",
              "      <td>good</td>\n",
              "      <td>-99.0</td>\n",
              "    </tr>\n",
              "    <tr>\n",
              "      <th>116</th>\n",
              "      <td>116</td>\n",
              "      <td>Blizzard</td>\n",
              "      <td>Male</td>\n",
              "      <td>-</td>\n",
              "      <td>-</td>\n",
              "      <td>Brown</td>\n",
              "      <td>-99.0</td>\n",
              "      <td>Marvel Comics</td>\n",
              "      <td>-</td>\n",
              "      <td>bad</td>\n",
              "      <td>-99.0</td>\n",
              "    </tr>\n",
              "    <tr>\n",
              "      <th>630</th>\n",
              "      <td>630</td>\n",
              "      <td>Spyke</td>\n",
              "      <td>Male</td>\n",
              "      <td>brown</td>\n",
              "      <td>Mutant</td>\n",
              "      <td>Blond</td>\n",
              "      <td>183.0</td>\n",
              "      <td>Marvel Comics</td>\n",
              "      <td>-</td>\n",
              "      <td>good</td>\n",
              "      <td>83.0</td>\n",
              "    </tr>\n",
              "    <tr>\n",
              "      <th>439</th>\n",
              "      <td>439</td>\n",
              "      <td>Maxima</td>\n",
              "      <td>Female</td>\n",
              "      <td>brown</td>\n",
              "      <td>-</td>\n",
              "      <td>Red</td>\n",
              "      <td>180.0</td>\n",
              "      <td>DC Comics</td>\n",
              "      <td>-</td>\n",
              "      <td>bad</td>\n",
              "      <td>72.0</td>\n",
              "    </tr>\n",
              "  </tbody>\n",
              "</table>\n",
              "</div>"
            ],
            "text/plain": [
              "     Unnamed: 0      name  Gender  ... Skin color Alignment Weight\n",
              "290         290   Goliath    Male  ...          -      good  -99.0\n",
              "130         130    Boomer  Female  ...          -      good  -99.0\n",
              "116         116  Blizzard    Male  ...          -       bad  -99.0\n",
              "630         630     Spyke    Male  ...          -      good   83.0\n",
              "439         439    Maxima  Female  ...          -       bad   72.0\n",
              "\n",
              "[5 rows x 11 columns]"
            ]
          },
          "metadata": {
            "tags": []
          },
          "execution_count": 9
        }
      ]
    },
    {
      "cell_type": "markdown",
      "metadata": {
        "id": "-7ubOwPZEEz4"
      },
      "source": [
        "### super_hero_powers.csv"
      ]
    },
    {
      "cell_type": "code",
      "metadata": {
        "colab": {
          "base_uri": "https://localhost:8080/"
        },
        "id": "0h_CwN1kDG-8",
        "outputId": "064bd39a-056b-4c72-aba6-305fc778afa3"
      },
      "source": [
        "super_hero_powers.info()"
      ],
      "execution_count": 10,
      "outputs": [
        {
          "output_type": "stream",
          "text": [
            "<class 'pandas.core.frame.DataFrame'>\n",
            "RangeIndex: 667 entries, 0 to 666\n",
            "Columns: 168 entries, hero_names to Omniscient\n",
            "dtypes: bool(167), object(1)\n",
            "memory usage: 114.1+ KB\n"
          ],
          "name": "stdout"
        }
      ]
    },
    {
      "cell_type": "code",
      "metadata": {
        "colab": {
          "base_uri": "https://localhost:8080/",
          "height": 287
        },
        "id": "8oC-Xo9YIDKy",
        "outputId": "ac35b0d5-cdea-4c46-964f-cea5197050ae"
      },
      "source": [
        "super_hero_powers.sample(5)"
      ],
      "execution_count": 11,
      "outputs": [
        {
          "output_type": "execute_result",
          "data": {
            "text/html": [
              "<div>\n",
              "<style scoped>\n",
              "    .dataframe tbody tr th:only-of-type {\n",
              "        vertical-align: middle;\n",
              "    }\n",
              "\n",
              "    .dataframe tbody tr th {\n",
              "        vertical-align: top;\n",
              "    }\n",
              "\n",
              "    .dataframe thead th {\n",
              "        text-align: right;\n",
              "    }\n",
              "</style>\n",
              "<table border=\"1\" class=\"dataframe\">\n",
              "  <thead>\n",
              "    <tr style=\"text-align: right;\">\n",
              "      <th></th>\n",
              "      <th>hero_names</th>\n",
              "      <th>Agility</th>\n",
              "      <th>Accelerated Healing</th>\n",
              "      <th>Lantern Power Ring</th>\n",
              "      <th>Dimensional Awareness</th>\n",
              "      <th>Cold Resistance</th>\n",
              "      <th>Durability</th>\n",
              "      <th>Stealth</th>\n",
              "      <th>Energy Absorption</th>\n",
              "      <th>Flight</th>\n",
              "      <th>Danger Sense</th>\n",
              "      <th>Underwater breathing</th>\n",
              "      <th>Marksmanship</th>\n",
              "      <th>Weapons Master</th>\n",
              "      <th>Power Augmentation</th>\n",
              "      <th>Animal Attributes</th>\n",
              "      <th>Longevity</th>\n",
              "      <th>Intelligence</th>\n",
              "      <th>Super Strength</th>\n",
              "      <th>Cryokinesis</th>\n",
              "      <th>Telepathy</th>\n",
              "      <th>Energy Armor</th>\n",
              "      <th>Energy Blasts</th>\n",
              "      <th>Duplication</th>\n",
              "      <th>Size Changing</th>\n",
              "      <th>Density Control</th>\n",
              "      <th>Stamina</th>\n",
              "      <th>Astral Travel</th>\n",
              "      <th>Audio Control</th>\n",
              "      <th>Dexterity</th>\n",
              "      <th>Omnitrix</th>\n",
              "      <th>Super Speed</th>\n",
              "      <th>Possession</th>\n",
              "      <th>Animal Oriented Powers</th>\n",
              "      <th>Weapon-based Powers</th>\n",
              "      <th>Electrokinesis</th>\n",
              "      <th>Darkforce Manipulation</th>\n",
              "      <th>Death Touch</th>\n",
              "      <th>Teleportation</th>\n",
              "      <th>Enhanced Senses</th>\n",
              "      <th>...</th>\n",
              "      <th>Mind Control Resistance</th>\n",
              "      <th>Plant Control</th>\n",
              "      <th>Sonar</th>\n",
              "      <th>Sonic Scream</th>\n",
              "      <th>Time Manipulation</th>\n",
              "      <th>Enhanced Touch</th>\n",
              "      <th>Magic Resistance</th>\n",
              "      <th>Invisibility</th>\n",
              "      <th>Sub-Mariner</th>\n",
              "      <th>Radiation Absorption</th>\n",
              "      <th>Intuitive aptitude</th>\n",
              "      <th>Vision - Microscopic</th>\n",
              "      <th>Melting</th>\n",
              "      <th>Wind Control</th>\n",
              "      <th>Super Breath</th>\n",
              "      <th>Wallcrawling</th>\n",
              "      <th>Vision - Night</th>\n",
              "      <th>Vision - Infrared</th>\n",
              "      <th>Grim Reaping</th>\n",
              "      <th>Matter Absorption</th>\n",
              "      <th>The Force</th>\n",
              "      <th>Resurrection</th>\n",
              "      <th>Terrakinesis</th>\n",
              "      <th>Vision - Heat</th>\n",
              "      <th>Vitakinesis</th>\n",
              "      <th>Radar Sense</th>\n",
              "      <th>Qwardian Power Ring</th>\n",
              "      <th>Weather Control</th>\n",
              "      <th>Vision - X-Ray</th>\n",
              "      <th>Vision - Thermal</th>\n",
              "      <th>Web Creation</th>\n",
              "      <th>Reality Warping</th>\n",
              "      <th>Odin Force</th>\n",
              "      <th>Symbiote Costume</th>\n",
              "      <th>Speed Force</th>\n",
              "      <th>Phoenix Force</th>\n",
              "      <th>Molecular Dissipation</th>\n",
              "      <th>Vision - Cryo</th>\n",
              "      <th>Omnipresent</th>\n",
              "      <th>Omniscient</th>\n",
              "    </tr>\n",
              "  </thead>\n",
              "  <tbody>\n",
              "    <tr>\n",
              "      <th>28</th>\n",
              "      <td>Ant-Man II</td>\n",
              "      <td>True</td>\n",
              "      <td>False</td>\n",
              "      <td>False</td>\n",
              "      <td>False</td>\n",
              "      <td>False</td>\n",
              "      <td>False</td>\n",
              "      <td>True</td>\n",
              "      <td>False</td>\n",
              "      <td>False</td>\n",
              "      <td>False</td>\n",
              "      <td>False</td>\n",
              "      <td>False</td>\n",
              "      <td>False</td>\n",
              "      <td>False</td>\n",
              "      <td>False</td>\n",
              "      <td>False</td>\n",
              "      <td>True</td>\n",
              "      <td>True</td>\n",
              "      <td>False</td>\n",
              "      <td>True</td>\n",
              "      <td>False</td>\n",
              "      <td>False</td>\n",
              "      <td>False</td>\n",
              "      <td>True</td>\n",
              "      <td>False</td>\n",
              "      <td>True</td>\n",
              "      <td>False</td>\n",
              "      <td>False</td>\n",
              "      <td>False</td>\n",
              "      <td>False</td>\n",
              "      <td>False</td>\n",
              "      <td>False</td>\n",
              "      <td>True</td>\n",
              "      <td>False</td>\n",
              "      <td>False</td>\n",
              "      <td>False</td>\n",
              "      <td>False</td>\n",
              "      <td>False</td>\n",
              "      <td>False</td>\n",
              "      <td>...</td>\n",
              "      <td>False</td>\n",
              "      <td>False</td>\n",
              "      <td>False</td>\n",
              "      <td>False</td>\n",
              "      <td>False</td>\n",
              "      <td>False</td>\n",
              "      <td>False</td>\n",
              "      <td>False</td>\n",
              "      <td>False</td>\n",
              "      <td>False</td>\n",
              "      <td>False</td>\n",
              "      <td>False</td>\n",
              "      <td>False</td>\n",
              "      <td>False</td>\n",
              "      <td>False</td>\n",
              "      <td>False</td>\n",
              "      <td>False</td>\n",
              "      <td>False</td>\n",
              "      <td>False</td>\n",
              "      <td>False</td>\n",
              "      <td>False</td>\n",
              "      <td>False</td>\n",
              "      <td>False</td>\n",
              "      <td>False</td>\n",
              "      <td>False</td>\n",
              "      <td>False</td>\n",
              "      <td>False</td>\n",
              "      <td>False</td>\n",
              "      <td>False</td>\n",
              "      <td>False</td>\n",
              "      <td>False</td>\n",
              "      <td>False</td>\n",
              "      <td>False</td>\n",
              "      <td>False</td>\n",
              "      <td>False</td>\n",
              "      <td>False</td>\n",
              "      <td>False</td>\n",
              "      <td>False</td>\n",
              "      <td>False</td>\n",
              "      <td>False</td>\n",
              "    </tr>\n",
              "    <tr>\n",
              "      <th>436</th>\n",
              "      <td>Mystique</td>\n",
              "      <td>True</td>\n",
              "      <td>True</td>\n",
              "      <td>False</td>\n",
              "      <td>False</td>\n",
              "      <td>False</td>\n",
              "      <td>False</td>\n",
              "      <td>True</td>\n",
              "      <td>False</td>\n",
              "      <td>False</td>\n",
              "      <td>False</td>\n",
              "      <td>False</td>\n",
              "      <td>True</td>\n",
              "      <td>True</td>\n",
              "      <td>False</td>\n",
              "      <td>False</td>\n",
              "      <td>True</td>\n",
              "      <td>True</td>\n",
              "      <td>True</td>\n",
              "      <td>False</td>\n",
              "      <td>False</td>\n",
              "      <td>False</td>\n",
              "      <td>False</td>\n",
              "      <td>False</td>\n",
              "      <td>False</td>\n",
              "      <td>False</td>\n",
              "      <td>True</td>\n",
              "      <td>False</td>\n",
              "      <td>False</td>\n",
              "      <td>False</td>\n",
              "      <td>False</td>\n",
              "      <td>False</td>\n",
              "      <td>False</td>\n",
              "      <td>False</td>\n",
              "      <td>False</td>\n",
              "      <td>False</td>\n",
              "      <td>False</td>\n",
              "      <td>False</td>\n",
              "      <td>False</td>\n",
              "      <td>False</td>\n",
              "      <td>...</td>\n",
              "      <td>False</td>\n",
              "      <td>False</td>\n",
              "      <td>False</td>\n",
              "      <td>False</td>\n",
              "      <td>False</td>\n",
              "      <td>False</td>\n",
              "      <td>False</td>\n",
              "      <td>False</td>\n",
              "      <td>False</td>\n",
              "      <td>False</td>\n",
              "      <td>False</td>\n",
              "      <td>False</td>\n",
              "      <td>False</td>\n",
              "      <td>False</td>\n",
              "      <td>False</td>\n",
              "      <td>False</td>\n",
              "      <td>False</td>\n",
              "      <td>False</td>\n",
              "      <td>False</td>\n",
              "      <td>False</td>\n",
              "      <td>False</td>\n",
              "      <td>False</td>\n",
              "      <td>False</td>\n",
              "      <td>False</td>\n",
              "      <td>False</td>\n",
              "      <td>False</td>\n",
              "      <td>False</td>\n",
              "      <td>False</td>\n",
              "      <td>False</td>\n",
              "      <td>False</td>\n",
              "      <td>False</td>\n",
              "      <td>False</td>\n",
              "      <td>False</td>\n",
              "      <td>False</td>\n",
              "      <td>False</td>\n",
              "      <td>False</td>\n",
              "      <td>False</td>\n",
              "      <td>False</td>\n",
              "      <td>False</td>\n",
              "      <td>False</td>\n",
              "    </tr>\n",
              "    <tr>\n",
              "      <th>350</th>\n",
              "      <td>Klaw</td>\n",
              "      <td>False</td>\n",
              "      <td>False</td>\n",
              "      <td>False</td>\n",
              "      <td>False</td>\n",
              "      <td>False</td>\n",
              "      <td>True</td>\n",
              "      <td>False</td>\n",
              "      <td>False</td>\n",
              "      <td>False</td>\n",
              "      <td>False</td>\n",
              "      <td>False</td>\n",
              "      <td>False</td>\n",
              "      <td>False</td>\n",
              "      <td>False</td>\n",
              "      <td>False</td>\n",
              "      <td>False</td>\n",
              "      <td>False</td>\n",
              "      <td>True</td>\n",
              "      <td>False</td>\n",
              "      <td>False</td>\n",
              "      <td>False</td>\n",
              "      <td>True</td>\n",
              "      <td>False</td>\n",
              "      <td>False</td>\n",
              "      <td>False</td>\n",
              "      <td>False</td>\n",
              "      <td>False</td>\n",
              "      <td>True</td>\n",
              "      <td>False</td>\n",
              "      <td>False</td>\n",
              "      <td>False</td>\n",
              "      <td>False</td>\n",
              "      <td>False</td>\n",
              "      <td>False</td>\n",
              "      <td>False</td>\n",
              "      <td>False</td>\n",
              "      <td>False</td>\n",
              "      <td>False</td>\n",
              "      <td>False</td>\n",
              "      <td>...</td>\n",
              "      <td>False</td>\n",
              "      <td>False</td>\n",
              "      <td>False</td>\n",
              "      <td>False</td>\n",
              "      <td>False</td>\n",
              "      <td>False</td>\n",
              "      <td>False</td>\n",
              "      <td>False</td>\n",
              "      <td>False</td>\n",
              "      <td>False</td>\n",
              "      <td>False</td>\n",
              "      <td>False</td>\n",
              "      <td>False</td>\n",
              "      <td>False</td>\n",
              "      <td>False</td>\n",
              "      <td>False</td>\n",
              "      <td>False</td>\n",
              "      <td>False</td>\n",
              "      <td>False</td>\n",
              "      <td>False</td>\n",
              "      <td>False</td>\n",
              "      <td>False</td>\n",
              "      <td>False</td>\n",
              "      <td>False</td>\n",
              "      <td>False</td>\n",
              "      <td>False</td>\n",
              "      <td>False</td>\n",
              "      <td>False</td>\n",
              "      <td>False</td>\n",
              "      <td>False</td>\n",
              "      <td>False</td>\n",
              "      <td>False</td>\n",
              "      <td>False</td>\n",
              "      <td>False</td>\n",
              "      <td>False</td>\n",
              "      <td>False</td>\n",
              "      <td>False</td>\n",
              "      <td>False</td>\n",
              "      <td>False</td>\n",
              "      <td>False</td>\n",
              "    </tr>\n",
              "    <tr>\n",
              "      <th>558</th>\n",
              "      <td>Sobek</td>\n",
              "      <td>False</td>\n",
              "      <td>False</td>\n",
              "      <td>False</td>\n",
              "      <td>False</td>\n",
              "      <td>False</td>\n",
              "      <td>True</td>\n",
              "      <td>False</td>\n",
              "      <td>False</td>\n",
              "      <td>False</td>\n",
              "      <td>False</td>\n",
              "      <td>False</td>\n",
              "      <td>False</td>\n",
              "      <td>False</td>\n",
              "      <td>False</td>\n",
              "      <td>False</td>\n",
              "      <td>False</td>\n",
              "      <td>False</td>\n",
              "      <td>True</td>\n",
              "      <td>False</td>\n",
              "      <td>False</td>\n",
              "      <td>False</td>\n",
              "      <td>False</td>\n",
              "      <td>False</td>\n",
              "      <td>False</td>\n",
              "      <td>False</td>\n",
              "      <td>False</td>\n",
              "      <td>False</td>\n",
              "      <td>False</td>\n",
              "      <td>False</td>\n",
              "      <td>False</td>\n",
              "      <td>False</td>\n",
              "      <td>False</td>\n",
              "      <td>False</td>\n",
              "      <td>False</td>\n",
              "      <td>False</td>\n",
              "      <td>False</td>\n",
              "      <td>False</td>\n",
              "      <td>False</td>\n",
              "      <td>False</td>\n",
              "      <td>...</td>\n",
              "      <td>False</td>\n",
              "      <td>False</td>\n",
              "      <td>False</td>\n",
              "      <td>False</td>\n",
              "      <td>False</td>\n",
              "      <td>False</td>\n",
              "      <td>False</td>\n",
              "      <td>False</td>\n",
              "      <td>False</td>\n",
              "      <td>False</td>\n",
              "      <td>False</td>\n",
              "      <td>False</td>\n",
              "      <td>False</td>\n",
              "      <td>False</td>\n",
              "      <td>False</td>\n",
              "      <td>False</td>\n",
              "      <td>False</td>\n",
              "      <td>False</td>\n",
              "      <td>False</td>\n",
              "      <td>False</td>\n",
              "      <td>False</td>\n",
              "      <td>False</td>\n",
              "      <td>False</td>\n",
              "      <td>False</td>\n",
              "      <td>False</td>\n",
              "      <td>False</td>\n",
              "      <td>False</td>\n",
              "      <td>False</td>\n",
              "      <td>False</td>\n",
              "      <td>False</td>\n",
              "      <td>False</td>\n",
              "      <td>False</td>\n",
              "      <td>False</td>\n",
              "      <td>False</td>\n",
              "      <td>False</td>\n",
              "      <td>False</td>\n",
              "      <td>False</td>\n",
              "      <td>False</td>\n",
              "      <td>False</td>\n",
              "      <td>False</td>\n",
              "    </tr>\n",
              "    <tr>\n",
              "      <th>664</th>\n",
              "      <td>Yoda</td>\n",
              "      <td>True</td>\n",
              "      <td>False</td>\n",
              "      <td>False</td>\n",
              "      <td>False</td>\n",
              "      <td>False</td>\n",
              "      <td>False</td>\n",
              "      <td>True</td>\n",
              "      <td>False</td>\n",
              "      <td>False</td>\n",
              "      <td>True</td>\n",
              "      <td>False</td>\n",
              "      <td>True</td>\n",
              "      <td>True</td>\n",
              "      <td>False</td>\n",
              "      <td>False</td>\n",
              "      <td>True</td>\n",
              "      <td>True</td>\n",
              "      <td>False</td>\n",
              "      <td>False</td>\n",
              "      <td>True</td>\n",
              "      <td>False</td>\n",
              "      <td>True</td>\n",
              "      <td>False</td>\n",
              "      <td>False</td>\n",
              "      <td>False</td>\n",
              "      <td>True</td>\n",
              "      <td>False</td>\n",
              "      <td>False</td>\n",
              "      <td>False</td>\n",
              "      <td>False</td>\n",
              "      <td>True</td>\n",
              "      <td>False</td>\n",
              "      <td>False</td>\n",
              "      <td>False</td>\n",
              "      <td>False</td>\n",
              "      <td>False</td>\n",
              "      <td>False</td>\n",
              "      <td>False</td>\n",
              "      <td>False</td>\n",
              "      <td>...</td>\n",
              "      <td>False</td>\n",
              "      <td>False</td>\n",
              "      <td>False</td>\n",
              "      <td>False</td>\n",
              "      <td>False</td>\n",
              "      <td>False</td>\n",
              "      <td>False</td>\n",
              "      <td>False</td>\n",
              "      <td>False</td>\n",
              "      <td>False</td>\n",
              "      <td>False</td>\n",
              "      <td>False</td>\n",
              "      <td>False</td>\n",
              "      <td>False</td>\n",
              "      <td>False</td>\n",
              "      <td>False</td>\n",
              "      <td>False</td>\n",
              "      <td>False</td>\n",
              "      <td>False</td>\n",
              "      <td>False</td>\n",
              "      <td>True</td>\n",
              "      <td>False</td>\n",
              "      <td>False</td>\n",
              "      <td>False</td>\n",
              "      <td>False</td>\n",
              "      <td>False</td>\n",
              "      <td>False</td>\n",
              "      <td>False</td>\n",
              "      <td>False</td>\n",
              "      <td>False</td>\n",
              "      <td>False</td>\n",
              "      <td>False</td>\n",
              "      <td>False</td>\n",
              "      <td>False</td>\n",
              "      <td>False</td>\n",
              "      <td>False</td>\n",
              "      <td>False</td>\n",
              "      <td>False</td>\n",
              "      <td>False</td>\n",
              "      <td>False</td>\n",
              "    </tr>\n",
              "  </tbody>\n",
              "</table>\n",
              "<p>5 rows × 168 columns</p>\n",
              "</div>"
            ],
            "text/plain": [
              "     hero_names  Agility  ...  Omnipresent  Omniscient\n",
              "28   Ant-Man II     True  ...        False       False\n",
              "436    Mystique     True  ...        False       False\n",
              "350        Klaw    False  ...        False       False\n",
              "558       Sobek    False  ...        False       False\n",
              "664        Yoda     True  ...        False       False\n",
              "\n",
              "[5 rows x 168 columns]"
            ]
          },
          "metadata": {
            "tags": []
          },
          "execution_count": 11
        }
      ]
    },
    {
      "cell_type": "markdown",
      "metadata": {
        "id": "hardSZBNEXsS"
      },
      "source": [
        "## Null Values"
      ]
    },
    {
      "cell_type": "markdown",
      "metadata": {
        "id": "Xzi8mXxEEd1Z"
      },
      "source": [
        "### SuperHero.csv"
      ]
    },
    {
      "cell_type": "code",
      "metadata": {
        "colab": {
          "base_uri": "https://localhost:8080/"
        },
        "id": "iLAY4y-tIRjr",
        "outputId": "f60df538-5540-459d-be94-a05124ff81c0"
      },
      "source": [
        "superhero.isnull().sum()"
      ],
      "execution_count": 12,
      "outputs": [
        {
          "output_type": "execute_result",
          "data": {
            "text/plain": [
              "Unnamed: 0            0\n",
              "Unnamed: 0.1          0\n",
              "Name                  0\n",
              "Url                   0\n",
              "Intelligence         78\n",
              "Strength             78\n",
              "Speed                78\n",
              "Durability           78\n",
              "Power                78\n",
              "Combat               78\n",
              "Full name             0\n",
              "Alter Egos            0\n",
              "Aliases               0\n",
              "Place of birth        0\n",
              "First appearance      0\n",
              "Creator               8\n",
              "Alignment             0\n",
              "Gender                0\n",
              "Race                  0\n",
              "Height                0\n",
              "Weight                0\n",
              "Eye color             0\n",
              "Hair color            0\n",
              "Occupation            0\n",
              "Base                  0\n",
              "Team Affiliation      0\n",
              "Relatives             0\n",
              "Skin color          669\n",
              "Total Power           0\n",
              "dtype: int64"
            ]
          },
          "metadata": {
            "tags": []
          },
          "execution_count": 12
        }
      ]
    },
    {
      "cell_type": "markdown",
      "metadata": {
        "id": "yp_8UUXyEkDy"
      },
      "source": [
        "### heroes_information.csv"
      ]
    },
    {
      "cell_type": "code",
      "metadata": {
        "colab": {
          "base_uri": "https://localhost:8080/"
        },
        "id": "b1HihQb8Ir_7",
        "outputId": "e1b705e4-efff-4d85-b8d5-979b78f082c0"
      },
      "source": [
        "heroes_information.isnull().sum()\n"
      ],
      "execution_count": 13,
      "outputs": [
        {
          "output_type": "execute_result",
          "data": {
            "text/plain": [
              "Unnamed: 0     0\n",
              "name           0\n",
              "Gender         0\n",
              "Eye color      0\n",
              "Race           0\n",
              "Hair color     0\n",
              "Height         0\n",
              "Publisher     15\n",
              "Skin color     0\n",
              "Alignment      0\n",
              "Weight         2\n",
              "dtype: int64"
            ]
          },
          "metadata": {
            "tags": []
          },
          "execution_count": 13
        }
      ]
    },
    {
      "cell_type": "markdown",
      "metadata": {
        "id": "ePTtyjPwErRy"
      },
      "source": [
        "### super_hero_powers.csv"
      ]
    },
    {
      "cell_type": "code",
      "metadata": {
        "colab": {
          "base_uri": "https://localhost:8080/"
        },
        "id": "aVKgQXyFIww5",
        "outputId": "b0188163-4bfb-4757-826d-a5a5d438a93f"
      },
      "source": [
        "super_hero_powers.isnull().sum()"
      ],
      "execution_count": 14,
      "outputs": [
        {
          "output_type": "execute_result",
          "data": {
            "text/plain": [
              "hero_names               0\n",
              "Agility                  0\n",
              "Accelerated Healing      0\n",
              "Lantern Power Ring       0\n",
              "Dimensional Awareness    0\n",
              "                        ..\n",
              "Phoenix Force            0\n",
              "Molecular Dissipation    0\n",
              "Vision - Cryo            0\n",
              "Omnipresent              0\n",
              "Omniscient               0\n",
              "Length: 168, dtype: int64"
            ]
          },
          "metadata": {
            "tags": []
          },
          "execution_count": 14
        }
      ]
    },
    {
      "cell_type": "code",
      "metadata": {
        "colab": {
          "base_uri": "https://localhost:8080/"
        },
        "id": "6xO8uhtsI1dT",
        "outputId": "df8c46f8-ffab-4ee3-e512-553c43598903"
      },
      "source": [
        "super_hero_powers.isnull().sum().sum()"
      ],
      "execution_count": 15,
      "outputs": [
        {
          "output_type": "execute_result",
          "data": {
            "text/plain": [
              "0"
            ]
          },
          "metadata": {
            "tags": []
          },
          "execution_count": 15
        }
      ]
    },
    {
      "cell_type": "markdown",
      "metadata": {
        "id": "dbqj74IMEuxE"
      },
      "source": [
        "## Duplicates"
      ]
    },
    {
      "cell_type": "markdown",
      "metadata": {
        "id": "5-eEIBHLE-hp"
      },
      "source": [
        "### SuperHero.csv"
      ]
    },
    {
      "cell_type": "code",
      "metadata": {
        "colab": {
          "base_uri": "https://localhost:8080/"
        },
        "id": "9mj0oBWAI8nR",
        "outputId": "b0eabb01-7d15-4f77-d646-a7514fce65a7"
      },
      "source": [
        "superhero.duplicated().sum()"
      ],
      "execution_count": 16,
      "outputs": [
        {
          "output_type": "execute_result",
          "data": {
            "text/plain": [
              "0"
            ]
          },
          "metadata": {
            "tags": []
          },
          "execution_count": 16
        }
      ]
    },
    {
      "cell_type": "markdown",
      "metadata": {
        "id": "l8oEiMxMFBJS"
      },
      "source": [
        "### heroes_information.csv"
      ]
    },
    {
      "cell_type": "code",
      "metadata": {
        "colab": {
          "base_uri": "https://localhost:8080/"
        },
        "id": "7vth1ZnkLaQQ",
        "outputId": "3b4c33ed-2296-4cd3-a0e8-cf48e8af6d08"
      },
      "source": [
        "heroes_information.duplicated().sum()\n"
      ],
      "execution_count": 17,
      "outputs": [
        {
          "output_type": "execute_result",
          "data": {
            "text/plain": [
              "0"
            ]
          },
          "metadata": {
            "tags": []
          },
          "execution_count": 17
        }
      ]
    },
    {
      "cell_type": "markdown",
      "metadata": {
        "id": "uqp7VmGrFFYC"
      },
      "source": [
        "### super_hero_powers.csv"
      ]
    },
    {
      "cell_type": "code",
      "metadata": {
        "colab": {
          "base_uri": "https://localhost:8080/"
        },
        "id": "DFYDLkDuLyNh",
        "outputId": "209631e5-ac0d-4994-d88b-27d65b545835"
      },
      "source": [
        "super_hero_powers.duplicated().sum()"
      ],
      "execution_count": 18,
      "outputs": [
        {
          "output_type": "execute_result",
          "data": {
            "text/plain": [
              "0"
            ]
          },
          "metadata": {
            "tags": []
          },
          "execution_count": 18
        }
      ]
    },
    {
      "cell_type": "markdown",
      "metadata": {
        "id": "YL5UQT-oFhox"
      },
      "source": [
        "# Data Cleaning"
      ]
    },
    {
      "cell_type": "markdown",
      "metadata": {
        "id": "uKfd-IngFnKR"
      },
      "source": [
        "## SuperHero.csv"
      ]
    },
    {
      "cell_type": "markdown",
      "metadata": {
        "id": "X-7pgE0nVmRt"
      },
      "source": [
        "**Step 1:** Eliminate unnecessary columns like: \"Skin color\",\"Unnamed: 0\" and \"Unnamed: 0.1\"\n"
      ]
    },
    {
      "cell_type": "code",
      "metadata": {
        "id": "0eeSYV0RL7XB",
        "colab": {
          "base_uri": "https://localhost:8080/",
          "height": 1000
        },
        "outputId": "b34a90a8-ba85-4531-ede1-2fa1e4442973"
      },
      "source": [
        "superhero_clean = superhero.copy(deep = True)\n",
        "superhero_clean.drop(columns = ['Unnamed: 0','Unnamed: 0.1','Url','First appearance','Skin color'], inplace=True)\n",
        "superhero_clean"
      ],
      "execution_count": 27,
      "outputs": [
        {
          "output_type": "execute_result",
          "data": {
            "text/html": [
              "<div>\n",
              "<style scoped>\n",
              "    .dataframe tbody tr th:only-of-type {\n",
              "        vertical-align: middle;\n",
              "    }\n",
              "\n",
              "    .dataframe tbody tr th {\n",
              "        vertical-align: top;\n",
              "    }\n",
              "\n",
              "    .dataframe thead th {\n",
              "        text-align: right;\n",
              "    }\n",
              "</style>\n",
              "<table border=\"1\" class=\"dataframe\">\n",
              "  <thead>\n",
              "    <tr style=\"text-align: right;\">\n",
              "      <th></th>\n",
              "      <th>Name</th>\n",
              "      <th>Intelligence</th>\n",
              "      <th>Strength</th>\n",
              "      <th>Speed</th>\n",
              "      <th>Durability</th>\n",
              "      <th>Power</th>\n",
              "      <th>Combat</th>\n",
              "      <th>Full name</th>\n",
              "      <th>Alter Egos</th>\n",
              "      <th>Aliases</th>\n",
              "      <th>Place of birth</th>\n",
              "      <th>Creator</th>\n",
              "      <th>Alignment</th>\n",
              "      <th>Gender</th>\n",
              "      <th>Race</th>\n",
              "      <th>Height</th>\n",
              "      <th>Weight</th>\n",
              "      <th>Eye color</th>\n",
              "      <th>Hair color</th>\n",
              "      <th>Occupation</th>\n",
              "      <th>Base</th>\n",
              "      <th>Team Affiliation</th>\n",
              "      <th>Relatives</th>\n",
              "      <th>Total Power</th>\n",
              "    </tr>\n",
              "  </thead>\n",
              "  <tbody>\n",
              "    <tr>\n",
              "      <th>0</th>\n",
              "      <td>3-D Man</td>\n",
              "      <td>80.0</td>\n",
              "      <td>35.0</td>\n",
              "      <td>45.0</td>\n",
              "      <td>35.0</td>\n",
              "      <td>25.0</td>\n",
              "      <td>55.0</td>\n",
              "      <td>Charles Chandler</td>\n",
              "      <td>No alter egos found.</td>\n",
              "      <td>-</td>\n",
              "      <td>-</td>\n",
              "      <td>Marvel Comics</td>\n",
              "      <td>good</td>\n",
              "      <td>Male</td>\n",
              "      <td>-</td>\n",
              "      <td>6'2 // 188 cm</td>\n",
              "      <td>200 lb // 90 kg</td>\n",
              "      <td>Brown</td>\n",
              "      <td>Grey</td>\n",
              "      <td>Test pilot, adventurer</td>\n",
              "      <td>-</td>\n",
              "      <td>Agents of Atlas, Asgardians, Formerly: Avengers</td>\n",
              "      <td>Hal Chandler (brother), Peggy Clark (sister-in...</td>\n",
              "      <td>275.0</td>\n",
              "    </tr>\n",
              "    <tr>\n",
              "      <th>1</th>\n",
              "      <td>A-Bomb</td>\n",
              "      <td>75.0</td>\n",
              "      <td>100.0</td>\n",
              "      <td>20.0</td>\n",
              "      <td>80.0</td>\n",
              "      <td>25.0</td>\n",
              "      <td>65.0</td>\n",
              "      <td>Richard Milhouse Jones</td>\n",
              "      <td>No alter egos found.</td>\n",
              "      <td>Rick Jones</td>\n",
              "      <td>Scarsdale, Arizona</td>\n",
              "      <td>Marvel Comics</td>\n",
              "      <td>good</td>\n",
              "      <td>Male</td>\n",
              "      <td>Human</td>\n",
              "      <td>6'8 // 203 cm</td>\n",
              "      <td>980 lb // 441 kg</td>\n",
              "      <td>Yellow</td>\n",
              "      <td>No Hair</td>\n",
              "      <td>Musician, adventurer, author; formerly talk sh...</td>\n",
              "      <td>-</td>\n",
              "      <td>Teen Brigade (Leader), Ultimate Fantastic Four...</td>\n",
              "      <td>Marlo Chandler-Jones (wife); Polly (aunt); Mrs...</td>\n",
              "      <td>365.0</td>\n",
              "    </tr>\n",
              "    <tr>\n",
              "      <th>2</th>\n",
              "      <td>Abe Sapien</td>\n",
              "      <td>95.0</td>\n",
              "      <td>30.0</td>\n",
              "      <td>35.0</td>\n",
              "      <td>65.0</td>\n",
              "      <td>100.0</td>\n",
              "      <td>85.0</td>\n",
              "      <td>Abraham Sapien</td>\n",
              "      <td>No alter egos found.</td>\n",
              "      <td>Langdon Everett Caul, Abraham Sapien, Langdon ...</td>\n",
              "      <td>-</td>\n",
              "      <td>Dark Horse Comics</td>\n",
              "      <td>good</td>\n",
              "      <td>Male</td>\n",
              "      <td>Icthyo Sapien</td>\n",
              "      <td>6'3 // 191 cm</td>\n",
              "      <td>145 lb // 65 kg</td>\n",
              "      <td>Blue</td>\n",
              "      <td>No Hair</td>\n",
              "      <td>Paranormal Investigator</td>\n",
              "      <td>-</td>\n",
              "      <td>Bureau for Paranormal Research and Defense</td>\n",
              "      <td>Edith Howard (wife, deceased)</td>\n",
              "      <td>410.0</td>\n",
              "    </tr>\n",
              "    <tr>\n",
              "      <th>3</th>\n",
              "      <td>Abin Sur</td>\n",
              "      <td>80.0</td>\n",
              "      <td>90.0</td>\n",
              "      <td>55.0</td>\n",
              "      <td>65.0</td>\n",
              "      <td>100.0</td>\n",
              "      <td>65.0</td>\n",
              "      <td>-</td>\n",
              "      <td>No alter egos found.</td>\n",
              "      <td>Lagzia</td>\n",
              "      <td>Ungara</td>\n",
              "      <td>DC Comics</td>\n",
              "      <td>good</td>\n",
              "      <td>Male</td>\n",
              "      <td>Ungaran</td>\n",
              "      <td>6'1 // 185 cm</td>\n",
              "      <td>200 lb // 90 kg</td>\n",
              "      <td>Blue</td>\n",
              "      <td>No Hair</td>\n",
              "      <td>Green Lantern, former history professor</td>\n",
              "      <td>Oa</td>\n",
              "      <td>Legion of Super-Heroes, Formerly: Green Lanter...</td>\n",
              "      <td>Amon Sur (son), Arin Sur (sister), Thaal Sines...</td>\n",
              "      <td>455.0</td>\n",
              "    </tr>\n",
              "    <tr>\n",
              "      <th>4</th>\n",
              "      <td>Abomination</td>\n",
              "      <td>85.0</td>\n",
              "      <td>80.0</td>\n",
              "      <td>55.0</td>\n",
              "      <td>90.0</td>\n",
              "      <td>65.0</td>\n",
              "      <td>95.0</td>\n",
              "      <td>Emil Blonsky</td>\n",
              "      <td>Abomination (MCU)</td>\n",
              "      <td>Agent R-7, Ravager of Worlds</td>\n",
              "      <td>Zagreb, Yugoslavia</td>\n",
              "      <td>Marvel Comics</td>\n",
              "      <td>bad</td>\n",
              "      <td>Male</td>\n",
              "      <td>Human / Radiation</td>\n",
              "      <td>6'8 // 203 cm</td>\n",
              "      <td>980 lb // 441 kg</td>\n",
              "      <td>Green</td>\n",
              "      <td>No Hair</td>\n",
              "      <td>Ex-Spy</td>\n",
              "      <td>Mobile</td>\n",
              "      <td>Annihilators (Leader), Wrecking Crew, Masters ...</td>\n",
              "      <td>Nadia Dornova Blonsky (wife, separated)</td>\n",
              "      <td>470.0</td>\n",
              "    </tr>\n",
              "    <tr>\n",
              "      <th>...</th>\n",
              "      <td>...</td>\n",
              "      <td>...</td>\n",
              "      <td>...</td>\n",
              "      <td>...</td>\n",
              "      <td>...</td>\n",
              "      <td>...</td>\n",
              "      <td>...</td>\n",
              "      <td>...</td>\n",
              "      <td>...</td>\n",
              "      <td>...</td>\n",
              "      <td>...</td>\n",
              "      <td>...</td>\n",
              "      <td>...</td>\n",
              "      <td>...</td>\n",
              "      <td>...</td>\n",
              "      <td>...</td>\n",
              "      <td>...</td>\n",
              "      <td>...</td>\n",
              "      <td>...</td>\n",
              "      <td>...</td>\n",
              "      <td>...</td>\n",
              "      <td>...</td>\n",
              "      <td>...</td>\n",
              "      <td>...</td>\n",
              "    </tr>\n",
              "    <tr>\n",
              "      <th>738</th>\n",
              "      <td>Yellowjacket II</td>\n",
              "      <td>80.0</td>\n",
              "      <td>10.0</td>\n",
              "      <td>35.0</td>\n",
              "      <td>30.0</td>\n",
              "      <td>35.0</td>\n",
              "      <td>30.0</td>\n",
              "      <td>Rita DeMara</td>\n",
              "      <td>No alter egos found.</td>\n",
              "      <td>-</td>\n",
              "      <td>-</td>\n",
              "      <td>Marvel Comics</td>\n",
              "      <td>good</td>\n",
              "      <td>Female</td>\n",
              "      <td>Human</td>\n",
              "      <td>5'5 // 165 cm</td>\n",
              "      <td>115 lb // 52 kg</td>\n",
              "      <td>Blue</td>\n",
              "      <td>Strawberry Blond</td>\n",
              "      <td>Adventurer; former criminal, electronics engineer</td>\n",
              "      <td>New York City area</td>\n",
              "      <td>Masters of Evil</td>\n",
              "      <td>-</td>\n",
              "      <td>220.0</td>\n",
              "    </tr>\n",
              "    <tr>\n",
              "      <th>739</th>\n",
              "      <td>Ymir</td>\n",
              "      <td>80.0</td>\n",
              "      <td>100.0</td>\n",
              "      <td>30.0</td>\n",
              "      <td>100.0</td>\n",
              "      <td>100.0</td>\n",
              "      <td>30.0</td>\n",
              "      <td>Ymir</td>\n",
              "      <td>No alter egos found.</td>\n",
              "      <td>Aurgelmir</td>\n",
              "      <td>Niffleheim</td>\n",
              "      <td>Marvel Comics</td>\n",
              "      <td>good</td>\n",
              "      <td>Male</td>\n",
              "      <td>Frost Giant</td>\n",
              "      <td>1000 // 304.8 meters</td>\n",
              "      <td>- lb // 0 kg</td>\n",
              "      <td>White</td>\n",
              "      <td>No Hair</td>\n",
              "      <td>-</td>\n",
              "      <td>Niffleheim</td>\n",
              "      <td>No team connections added yet.</td>\n",
              "      <td>Utgard-Loki, Loki, and the race of Frost Giant...</td>\n",
              "      <td>440.0</td>\n",
              "    </tr>\n",
              "    <tr>\n",
              "      <th>740</th>\n",
              "      <td>Yoda</td>\n",
              "      <td>95.0</td>\n",
              "      <td>55.0</td>\n",
              "      <td>35.0</td>\n",
              "      <td>25.0</td>\n",
              "      <td>100.0</td>\n",
              "      <td>90.0</td>\n",
              "      <td>Yoda</td>\n",
              "      <td>No alter egos found.</td>\n",
              "      <td>-</td>\n",
              "      <td>-</td>\n",
              "      <td>George Lucas</td>\n",
              "      <td>good</td>\n",
              "      <td>Male</td>\n",
              "      <td>Yoda's species</td>\n",
              "      <td>2'2 // 66 cm</td>\n",
              "      <td>38 lb // 17 kg</td>\n",
              "      <td>Brown</td>\n",
              "      <td>White</td>\n",
              "      <td>-</td>\n",
              "      <td>-</td>\n",
              "      <td>Jedi Council, Formerly: Jedi Order</td>\n",
              "      <td>Master: N'Kata Del Gormo, Apprentices: Dooku, ...</td>\n",
              "      <td>400.0</td>\n",
              "    </tr>\n",
              "    <tr>\n",
              "      <th>741</th>\n",
              "      <td>Zatanna</td>\n",
              "      <td>95.0</td>\n",
              "      <td>10.0</td>\n",
              "      <td>25.0</td>\n",
              "      <td>30.0</td>\n",
              "      <td>100.0</td>\n",
              "      <td>60.0</td>\n",
              "      <td>Zatanna Zatara</td>\n",
              "      <td>Doctor Fate</td>\n",
              "      <td>-</td>\n",
              "      <td>-</td>\n",
              "      <td>DC Comics</td>\n",
              "      <td>good</td>\n",
              "      <td>Female</td>\n",
              "      <td>Human</td>\n",
              "      <td>5'7 // 170 cm</td>\n",
              "      <td>127 lb // 57 kg</td>\n",
              "      <td>Blue</td>\n",
              "      <td>Black</td>\n",
              "      <td>-</td>\n",
              "      <td>-</td>\n",
              "      <td>Seven Soldiers of Victory, Sentinels of Magic,...</td>\n",
              "      <td>Giovanni \"John\" Zatara (father, deceased), Sin...</td>\n",
              "      <td>320.0</td>\n",
              "    </tr>\n",
              "    <tr>\n",
              "      <th>742</th>\n",
              "      <td>Zoom</td>\n",
              "      <td>80.0</td>\n",
              "      <td>10.0</td>\n",
              "      <td>100.0</td>\n",
              "      <td>30.0</td>\n",
              "      <td>100.0</td>\n",
              "      <td>30.0</td>\n",
              "      <td>Hunter Zolomon</td>\n",
              "      <td>Zoom (CW)</td>\n",
              "      <td>-</td>\n",
              "      <td>-</td>\n",
              "      <td>DC Comics</td>\n",
              "      <td>bad</td>\n",
              "      <td>Male</td>\n",
              "      <td>-</td>\n",
              "      <td>6'1 // 185 cm</td>\n",
              "      <td>181 lb // 81 kg</td>\n",
              "      <td>Red</td>\n",
              "      <td>Brown</td>\n",
              "      <td>-</td>\n",
              "      <td>Keystone City, Kansas</td>\n",
              "      <td>Rogues, The Society, Flash Family, Formerly: J...</td>\n",
              "      <td>Ashley Zolomon (ex-wife)</td>\n",
              "      <td>350.0</td>\n",
              "    </tr>\n",
              "  </tbody>\n",
              "</table>\n",
              "<p>743 rows × 24 columns</p>\n",
              "</div>"
            ],
            "text/plain": [
              "                Name  ...  Total Power\n",
              "0            3-D Man  ...        275.0\n",
              "1             A-Bomb  ...        365.0\n",
              "2         Abe Sapien  ...        410.0\n",
              "3           Abin Sur  ...        455.0\n",
              "4        Abomination  ...        470.0\n",
              "..               ...  ...          ...\n",
              "738  Yellowjacket II  ...        220.0\n",
              "739             Ymir  ...        440.0\n",
              "740             Yoda  ...        400.0\n",
              "741          Zatanna  ...        320.0\n",
              "742             Zoom  ...        350.0\n",
              "\n",
              "[743 rows x 24 columns]"
            ]
          },
          "metadata": {
            "tags": []
          },
          "execution_count": 27
        }
      ]
    },
    {
      "cell_type": "markdown",
      "metadata": {
        "id": "4nAYApqCVpG3"
      },
      "source": [
        "**Step 2:** Filter by comics"
      ]
    },
    {
      "cell_type": "markdown",
      "metadata": {
        "id": "MWtEStKNXUsO"
      },
      "source": [
        "Count the number of values in Marvel Comics and DC Comics"
      ]
    },
    {
      "cell_type": "code",
      "metadata": {
        "colab": {
          "base_uri": "https://localhost:8080/"
        },
        "id": "zggN-FA-WVyH",
        "outputId": "51537782-7583-4156-9196-dc9a1732e679"
      },
      "source": [
        "superhero_clean['Creator'].value_counts()"
      ],
      "execution_count": 20,
      "outputs": [
        {
          "output_type": "execute_result",
          "data": {
            "text/plain": [
              "Marvel Comics        395\n",
              "DC Comics            219\n",
              "Dark Horse Comics     19\n",
              "NBC - Heroes          19\n",
              "George Lucas          15\n",
              "Image Comics          14\n",
              "Star Trek              6\n",
              "HarperCollins          6\n",
              "SyFy                   5\n",
              "Team Epic TV           5\n",
              "ABC Studios            4\n",
              "IDW Publishing         4\n",
              "Wildstorm              4\n",
              "Shueisha               4\n",
              "Icon Comics            4\n",
              "Sony Pictures          2\n",
              "Mattel                 2\n",
              "South Park             1\n",
              "Universal Studios      1\n",
              "Hanna-Barbera          1\n",
              "Rebellion              1\n",
              "Microsoft              1\n",
              "J. R. R. Tolkien       1\n",
              "J. K. Rowling          1\n",
              "Ian Fleming            1\n",
              "Name: Creator, dtype: int64"
            ]
          },
          "metadata": {
            "tags": []
          },
          "execution_count": 20
        }
      ]
    },
    {
      "cell_type": "markdown",
      "metadata": {
        "id": "cwobv5d3Xbyt"
      },
      "source": [
        "Marvale Comics + DC Comics = 614"
      ]
    },
    {
      "cell_type": "code",
      "metadata": {
        "colab": {
          "base_uri": "https://localhost:8080/",
          "height": 1000
        },
        "id": "ClC37u0hVyVN",
        "outputId": "9773b311-0d46-4512-ab34-282885d9ebfd"
      },
      "source": [
        "filter_sh = (superhero_clean['Creator'] == 'Marvel Comics') | (superhero_clean['Creator'] == 'DC Comics') \n",
        "superhero_clean = superhero_clean[filter_sh]\n",
        "superhero_clean"
      ],
      "execution_count": 26,
      "outputs": [
        {
          "output_type": "execute_result",
          "data": {
            "text/html": [
              "<div>\n",
              "<style scoped>\n",
              "    .dataframe tbody tr th:only-of-type {\n",
              "        vertical-align: middle;\n",
              "    }\n",
              "\n",
              "    .dataframe tbody tr th {\n",
              "        vertical-align: top;\n",
              "    }\n",
              "\n",
              "    .dataframe thead th {\n",
              "        text-align: right;\n",
              "    }\n",
              "</style>\n",
              "<table border=\"1\" class=\"dataframe\">\n",
              "  <thead>\n",
              "    <tr style=\"text-align: right;\">\n",
              "      <th></th>\n",
              "      <th>Name</th>\n",
              "      <th>Intelligence</th>\n",
              "      <th>Strength</th>\n",
              "      <th>Speed</th>\n",
              "      <th>Durability</th>\n",
              "      <th>Power</th>\n",
              "      <th>Combat</th>\n",
              "      <th>Full name</th>\n",
              "      <th>Alter Egos</th>\n",
              "      <th>Aliases</th>\n",
              "      <th>Place of birth</th>\n",
              "      <th>Creator</th>\n",
              "      <th>Alignment</th>\n",
              "      <th>Gender</th>\n",
              "      <th>Race</th>\n",
              "      <th>Height</th>\n",
              "      <th>Weight</th>\n",
              "      <th>Eye color</th>\n",
              "      <th>Hair color</th>\n",
              "      <th>Occupation</th>\n",
              "      <th>Base</th>\n",
              "      <th>Team Affiliation</th>\n",
              "      <th>Relatives</th>\n",
              "      <th>Total Power</th>\n",
              "    </tr>\n",
              "  </thead>\n",
              "  <tbody>\n",
              "    <tr>\n",
              "      <th>0</th>\n",
              "      <td>3-D Man</td>\n",
              "      <td>80.0</td>\n",
              "      <td>35.0</td>\n",
              "      <td>45.0</td>\n",
              "      <td>35.0</td>\n",
              "      <td>25.0</td>\n",
              "      <td>55.0</td>\n",
              "      <td>Charles Chandler</td>\n",
              "      <td>No alter egos found.</td>\n",
              "      <td>-</td>\n",
              "      <td>-</td>\n",
              "      <td>Marvel Comics</td>\n",
              "      <td>good</td>\n",
              "      <td>Male</td>\n",
              "      <td>-</td>\n",
              "      <td>6'2 // 188 cm</td>\n",
              "      <td>200 lb // 90 kg</td>\n",
              "      <td>Brown</td>\n",
              "      <td>Grey</td>\n",
              "      <td>Test pilot, adventurer</td>\n",
              "      <td>-</td>\n",
              "      <td>Agents of Atlas, Asgardians, Formerly: Avengers</td>\n",
              "      <td>Hal Chandler (brother), Peggy Clark (sister-in...</td>\n",
              "      <td>275.0</td>\n",
              "    </tr>\n",
              "    <tr>\n",
              "      <th>1</th>\n",
              "      <td>A-Bomb</td>\n",
              "      <td>75.0</td>\n",
              "      <td>100.0</td>\n",
              "      <td>20.0</td>\n",
              "      <td>80.0</td>\n",
              "      <td>25.0</td>\n",
              "      <td>65.0</td>\n",
              "      <td>Richard Milhouse Jones</td>\n",
              "      <td>No alter egos found.</td>\n",
              "      <td>Rick Jones</td>\n",
              "      <td>Scarsdale, Arizona</td>\n",
              "      <td>Marvel Comics</td>\n",
              "      <td>good</td>\n",
              "      <td>Male</td>\n",
              "      <td>Human</td>\n",
              "      <td>6'8 // 203 cm</td>\n",
              "      <td>980 lb // 441 kg</td>\n",
              "      <td>Yellow</td>\n",
              "      <td>No Hair</td>\n",
              "      <td>Musician, adventurer, author; formerly talk sh...</td>\n",
              "      <td>-</td>\n",
              "      <td>Teen Brigade (Leader), Ultimate Fantastic Four...</td>\n",
              "      <td>Marlo Chandler-Jones (wife); Polly (aunt); Mrs...</td>\n",
              "      <td>365.0</td>\n",
              "    </tr>\n",
              "    <tr>\n",
              "      <th>3</th>\n",
              "      <td>Abin Sur</td>\n",
              "      <td>80.0</td>\n",
              "      <td>90.0</td>\n",
              "      <td>55.0</td>\n",
              "      <td>65.0</td>\n",
              "      <td>100.0</td>\n",
              "      <td>65.0</td>\n",
              "      <td>-</td>\n",
              "      <td>No alter egos found.</td>\n",
              "      <td>Lagzia</td>\n",
              "      <td>Ungara</td>\n",
              "      <td>DC Comics</td>\n",
              "      <td>good</td>\n",
              "      <td>Male</td>\n",
              "      <td>Ungaran</td>\n",
              "      <td>6'1 // 185 cm</td>\n",
              "      <td>200 lb // 90 kg</td>\n",
              "      <td>Blue</td>\n",
              "      <td>No Hair</td>\n",
              "      <td>Green Lantern, former history professor</td>\n",
              "      <td>Oa</td>\n",
              "      <td>Legion of Super-Heroes, Formerly: Green Lanter...</td>\n",
              "      <td>Amon Sur (son), Arin Sur (sister), Thaal Sines...</td>\n",
              "      <td>455.0</td>\n",
              "    </tr>\n",
              "    <tr>\n",
              "      <th>4</th>\n",
              "      <td>Abomination</td>\n",
              "      <td>85.0</td>\n",
              "      <td>80.0</td>\n",
              "      <td>55.0</td>\n",
              "      <td>90.0</td>\n",
              "      <td>65.0</td>\n",
              "      <td>95.0</td>\n",
              "      <td>Emil Blonsky</td>\n",
              "      <td>Abomination (MCU)</td>\n",
              "      <td>Agent R-7, Ravager of Worlds</td>\n",
              "      <td>Zagreb, Yugoslavia</td>\n",
              "      <td>Marvel Comics</td>\n",
              "      <td>bad</td>\n",
              "      <td>Male</td>\n",
              "      <td>Human / Radiation</td>\n",
              "      <td>6'8 // 203 cm</td>\n",
              "      <td>980 lb // 441 kg</td>\n",
              "      <td>Green</td>\n",
              "      <td>No Hair</td>\n",
              "      <td>Ex-Spy</td>\n",
              "      <td>Mobile</td>\n",
              "      <td>Annihilators (Leader), Wrecking Crew, Masters ...</td>\n",
              "      <td>Nadia Dornova Blonsky (wife, separated)</td>\n",
              "      <td>470.0</td>\n",
              "    </tr>\n",
              "    <tr>\n",
              "      <th>5</th>\n",
              "      <td>Abraxas</td>\n",
              "      <td>100.0</td>\n",
              "      <td>100.0</td>\n",
              "      <td>85.0</td>\n",
              "      <td>100.0</td>\n",
              "      <td>100.0</td>\n",
              "      <td>55.0</td>\n",
              "      <td>Abraxas</td>\n",
              "      <td>No alter egos found.</td>\n",
              "      <td>-</td>\n",
              "      <td>Within Eternity</td>\n",
              "      <td>Marvel Comics</td>\n",
              "      <td>bad</td>\n",
              "      <td>Male</td>\n",
              "      <td>Cosmic Entity</td>\n",
              "      <td>- // 0 cm</td>\n",
              "      <td>- lb // 0 kg</td>\n",
              "      <td>Blue</td>\n",
              "      <td>Black</td>\n",
              "      <td>Dimensional destroyer</td>\n",
              "      <td>-</td>\n",
              "      <td>Cosmic Beings, Thor Corps, Gods of Esgard, Asg...</td>\n",
              "      <td>Eternity (\"Father\")</td>\n",
              "      <td>540.0</td>\n",
              "    </tr>\n",
              "    <tr>\n",
              "      <th>...</th>\n",
              "      <td>...</td>\n",
              "      <td>...</td>\n",
              "      <td>...</td>\n",
              "      <td>...</td>\n",
              "      <td>...</td>\n",
              "      <td>...</td>\n",
              "      <td>...</td>\n",
              "      <td>...</td>\n",
              "      <td>...</td>\n",
              "      <td>...</td>\n",
              "      <td>...</td>\n",
              "      <td>...</td>\n",
              "      <td>...</td>\n",
              "      <td>...</td>\n",
              "      <td>...</td>\n",
              "      <td>...</td>\n",
              "      <td>...</td>\n",
              "      <td>...</td>\n",
              "      <td>...</td>\n",
              "      <td>...</td>\n",
              "      <td>...</td>\n",
              "      <td>...</td>\n",
              "      <td>...</td>\n",
              "      <td>...</td>\n",
              "    </tr>\n",
              "    <tr>\n",
              "      <th>737</th>\n",
              "      <td>Yellowjacket</td>\n",
              "      <td>95.0</td>\n",
              "      <td>10.0</td>\n",
              "      <td>15.0</td>\n",
              "      <td>30.0</td>\n",
              "      <td>15.0</td>\n",
              "      <td>15.0</td>\n",
              "      <td>Henry Jonathan Pym</td>\n",
              "      <td>Ant-Man, Ant-Man (MCU), Giant-Man, Goliath, Ul...</td>\n",
              "      <td>Hank Pym</td>\n",
              "      <td>Elmsford, New York</td>\n",
              "      <td>Marvel Comics</td>\n",
              "      <td>good</td>\n",
              "      <td>Male</td>\n",
              "      <td>Human</td>\n",
              "      <td>6' // 183 cm</td>\n",
              "      <td>185 lb // 83 kg</td>\n",
              "      <td>Blue</td>\n",
              "      <td>Blond</td>\n",
              "      <td>Adventurer, Biochemist, former manager of Aven...</td>\n",
              "      <td>Avengers Mansion, New York City, New York, (fo...</td>\n",
              "      <td>Formerly: Illuminati</td>\n",
              "      <td>Maria Trovaya (first wife, deceased), Janet Va...</td>\n",
              "      <td>180.0</td>\n",
              "    </tr>\n",
              "    <tr>\n",
              "      <th>738</th>\n",
              "      <td>Yellowjacket II</td>\n",
              "      <td>80.0</td>\n",
              "      <td>10.0</td>\n",
              "      <td>35.0</td>\n",
              "      <td>30.0</td>\n",
              "      <td>35.0</td>\n",
              "      <td>30.0</td>\n",
              "      <td>Rita DeMara</td>\n",
              "      <td>No alter egos found.</td>\n",
              "      <td>-</td>\n",
              "      <td>-</td>\n",
              "      <td>Marvel Comics</td>\n",
              "      <td>good</td>\n",
              "      <td>Female</td>\n",
              "      <td>Human</td>\n",
              "      <td>5'5 // 165 cm</td>\n",
              "      <td>115 lb // 52 kg</td>\n",
              "      <td>Blue</td>\n",
              "      <td>Strawberry Blond</td>\n",
              "      <td>Adventurer; former criminal, electronics engineer</td>\n",
              "      <td>New York City area</td>\n",
              "      <td>Masters of Evil</td>\n",
              "      <td>-</td>\n",
              "      <td>220.0</td>\n",
              "    </tr>\n",
              "    <tr>\n",
              "      <th>739</th>\n",
              "      <td>Ymir</td>\n",
              "      <td>80.0</td>\n",
              "      <td>100.0</td>\n",
              "      <td>30.0</td>\n",
              "      <td>100.0</td>\n",
              "      <td>100.0</td>\n",
              "      <td>30.0</td>\n",
              "      <td>Ymir</td>\n",
              "      <td>No alter egos found.</td>\n",
              "      <td>Aurgelmir</td>\n",
              "      <td>Niffleheim</td>\n",
              "      <td>Marvel Comics</td>\n",
              "      <td>good</td>\n",
              "      <td>Male</td>\n",
              "      <td>Frost Giant</td>\n",
              "      <td>1000 // 304.8 meters</td>\n",
              "      <td>- lb // 0 kg</td>\n",
              "      <td>White</td>\n",
              "      <td>No Hair</td>\n",
              "      <td>-</td>\n",
              "      <td>Niffleheim</td>\n",
              "      <td>No team connections added yet.</td>\n",
              "      <td>Utgard-Loki, Loki, and the race of Frost Giant...</td>\n",
              "      <td>440.0</td>\n",
              "    </tr>\n",
              "    <tr>\n",
              "      <th>741</th>\n",
              "      <td>Zatanna</td>\n",
              "      <td>95.0</td>\n",
              "      <td>10.0</td>\n",
              "      <td>25.0</td>\n",
              "      <td>30.0</td>\n",
              "      <td>100.0</td>\n",
              "      <td>60.0</td>\n",
              "      <td>Zatanna Zatara</td>\n",
              "      <td>Doctor Fate</td>\n",
              "      <td>-</td>\n",
              "      <td>-</td>\n",
              "      <td>DC Comics</td>\n",
              "      <td>good</td>\n",
              "      <td>Female</td>\n",
              "      <td>Human</td>\n",
              "      <td>5'7 // 170 cm</td>\n",
              "      <td>127 lb // 57 kg</td>\n",
              "      <td>Blue</td>\n",
              "      <td>Black</td>\n",
              "      <td>-</td>\n",
              "      <td>-</td>\n",
              "      <td>Seven Soldiers of Victory, Sentinels of Magic,...</td>\n",
              "      <td>Giovanni \"John\" Zatara (father, deceased), Sin...</td>\n",
              "      <td>320.0</td>\n",
              "    </tr>\n",
              "    <tr>\n",
              "      <th>742</th>\n",
              "      <td>Zoom</td>\n",
              "      <td>80.0</td>\n",
              "      <td>10.0</td>\n",
              "      <td>100.0</td>\n",
              "      <td>30.0</td>\n",
              "      <td>100.0</td>\n",
              "      <td>30.0</td>\n",
              "      <td>Hunter Zolomon</td>\n",
              "      <td>Zoom (CW)</td>\n",
              "      <td>-</td>\n",
              "      <td>-</td>\n",
              "      <td>DC Comics</td>\n",
              "      <td>bad</td>\n",
              "      <td>Male</td>\n",
              "      <td>-</td>\n",
              "      <td>6'1 // 185 cm</td>\n",
              "      <td>181 lb // 81 kg</td>\n",
              "      <td>Red</td>\n",
              "      <td>Brown</td>\n",
              "      <td>-</td>\n",
              "      <td>Keystone City, Kansas</td>\n",
              "      <td>Rogues, The Society, Flash Family, Formerly: J...</td>\n",
              "      <td>Ashley Zolomon (ex-wife)</td>\n",
              "      <td>350.0</td>\n",
              "    </tr>\n",
              "  </tbody>\n",
              "</table>\n",
              "<p>614 rows × 24 columns</p>\n",
              "</div>"
            ],
            "text/plain": [
              "                Name  ...  Total Power\n",
              "0            3-D Man  ...        275.0\n",
              "1             A-Bomb  ...        365.0\n",
              "3           Abin Sur  ...        455.0\n",
              "4        Abomination  ...        470.0\n",
              "5            Abraxas  ...        540.0\n",
              "..               ...  ...          ...\n",
              "737     Yellowjacket  ...        180.0\n",
              "738  Yellowjacket II  ...        220.0\n",
              "739             Ymir  ...        440.0\n",
              "741          Zatanna  ...        320.0\n",
              "742             Zoom  ...        350.0\n",
              "\n",
              "[614 rows x 24 columns]"
            ]
          },
          "metadata": {
            "tags": []
          },
          "execution_count": 26
        }
      ]
    },
    {
      "cell_type": "markdown",
      "metadata": {
        "id": "JIwoBGy7XilU"
      },
      "source": [
        "We can see that the result is 614 rows so we do it well."
      ]
    },
    {
      "cell_type": "markdown",
      "metadata": {
        "id": "N8bYtuYKFhnh"
      },
      "source": [
        "## heroes_information.csv"
      ]
    },
    {
      "cell_type": "markdown",
      "metadata": {
        "id": "kMvy7traa1Ak"
      },
      "source": [
        "**Step 1:** Eliminate \"Unnamed: 0\"\n"
      ]
    },
    {
      "cell_type": "code",
      "metadata": {
        "colab": {
          "base_uri": "https://localhost:8080/",
          "height": 419
        },
        "id": "kRgvuTnUa3Qj",
        "outputId": "08f1136d-14d7-4b55-8c51-f0f8b4ffb5bd"
      },
      "source": [
        "heroes_information_clean = heroes_information.copy(deep = True)\n",
        "heroes_information_clean.drop(columns = ['Unnamed: 0'], inplace = True)\n",
        "heroes_information_clean"
      ],
      "execution_count": 28,
      "outputs": [
        {
          "output_type": "execute_result",
          "data": {
            "text/html": [
              "<div>\n",
              "<style scoped>\n",
              "    .dataframe tbody tr th:only-of-type {\n",
              "        vertical-align: middle;\n",
              "    }\n",
              "\n",
              "    .dataframe tbody tr th {\n",
              "        vertical-align: top;\n",
              "    }\n",
              "\n",
              "    .dataframe thead th {\n",
              "        text-align: right;\n",
              "    }\n",
              "</style>\n",
              "<table border=\"1\" class=\"dataframe\">\n",
              "  <thead>\n",
              "    <tr style=\"text-align: right;\">\n",
              "      <th></th>\n",
              "      <th>name</th>\n",
              "      <th>Gender</th>\n",
              "      <th>Eye color</th>\n",
              "      <th>Race</th>\n",
              "      <th>Hair color</th>\n",
              "      <th>Height</th>\n",
              "      <th>Publisher</th>\n",
              "      <th>Skin color</th>\n",
              "      <th>Alignment</th>\n",
              "      <th>Weight</th>\n",
              "    </tr>\n",
              "  </thead>\n",
              "  <tbody>\n",
              "    <tr>\n",
              "      <th>0</th>\n",
              "      <td>A-Bomb</td>\n",
              "      <td>Male</td>\n",
              "      <td>yellow</td>\n",
              "      <td>Human</td>\n",
              "      <td>No Hair</td>\n",
              "      <td>203.0</td>\n",
              "      <td>Marvel Comics</td>\n",
              "      <td>-</td>\n",
              "      <td>good</td>\n",
              "      <td>441.0</td>\n",
              "    </tr>\n",
              "    <tr>\n",
              "      <th>1</th>\n",
              "      <td>Abe Sapien</td>\n",
              "      <td>Male</td>\n",
              "      <td>blue</td>\n",
              "      <td>Icthyo Sapien</td>\n",
              "      <td>No Hair</td>\n",
              "      <td>191.0</td>\n",
              "      <td>Dark Horse Comics</td>\n",
              "      <td>blue</td>\n",
              "      <td>good</td>\n",
              "      <td>65.0</td>\n",
              "    </tr>\n",
              "    <tr>\n",
              "      <th>2</th>\n",
              "      <td>Abin Sur</td>\n",
              "      <td>Male</td>\n",
              "      <td>blue</td>\n",
              "      <td>Ungaran</td>\n",
              "      <td>No Hair</td>\n",
              "      <td>185.0</td>\n",
              "      <td>DC Comics</td>\n",
              "      <td>red</td>\n",
              "      <td>good</td>\n",
              "      <td>90.0</td>\n",
              "    </tr>\n",
              "    <tr>\n",
              "      <th>3</th>\n",
              "      <td>Abomination</td>\n",
              "      <td>Male</td>\n",
              "      <td>green</td>\n",
              "      <td>Human / Radiation</td>\n",
              "      <td>No Hair</td>\n",
              "      <td>203.0</td>\n",
              "      <td>Marvel Comics</td>\n",
              "      <td>-</td>\n",
              "      <td>bad</td>\n",
              "      <td>441.0</td>\n",
              "    </tr>\n",
              "    <tr>\n",
              "      <th>4</th>\n",
              "      <td>Abraxas</td>\n",
              "      <td>Male</td>\n",
              "      <td>blue</td>\n",
              "      <td>Cosmic Entity</td>\n",
              "      <td>Black</td>\n",
              "      <td>-99.0</td>\n",
              "      <td>Marvel Comics</td>\n",
              "      <td>-</td>\n",
              "      <td>bad</td>\n",
              "      <td>-99.0</td>\n",
              "    </tr>\n",
              "    <tr>\n",
              "      <th>...</th>\n",
              "      <td>...</td>\n",
              "      <td>...</td>\n",
              "      <td>...</td>\n",
              "      <td>...</td>\n",
              "      <td>...</td>\n",
              "      <td>...</td>\n",
              "      <td>...</td>\n",
              "      <td>...</td>\n",
              "      <td>...</td>\n",
              "      <td>...</td>\n",
              "    </tr>\n",
              "    <tr>\n",
              "      <th>729</th>\n",
              "      <td>Yellowjacket II</td>\n",
              "      <td>Female</td>\n",
              "      <td>blue</td>\n",
              "      <td>Human</td>\n",
              "      <td>Strawberry Blond</td>\n",
              "      <td>165.0</td>\n",
              "      <td>Marvel Comics</td>\n",
              "      <td>-</td>\n",
              "      <td>good</td>\n",
              "      <td>52.0</td>\n",
              "    </tr>\n",
              "    <tr>\n",
              "      <th>730</th>\n",
              "      <td>Ymir</td>\n",
              "      <td>Male</td>\n",
              "      <td>white</td>\n",
              "      <td>Frost Giant</td>\n",
              "      <td>No Hair</td>\n",
              "      <td>304.8</td>\n",
              "      <td>Marvel Comics</td>\n",
              "      <td>white</td>\n",
              "      <td>good</td>\n",
              "      <td>-99.0</td>\n",
              "    </tr>\n",
              "    <tr>\n",
              "      <th>731</th>\n",
              "      <td>Yoda</td>\n",
              "      <td>Male</td>\n",
              "      <td>brown</td>\n",
              "      <td>Yoda's species</td>\n",
              "      <td>White</td>\n",
              "      <td>66.0</td>\n",
              "      <td>George Lucas</td>\n",
              "      <td>green</td>\n",
              "      <td>good</td>\n",
              "      <td>17.0</td>\n",
              "    </tr>\n",
              "    <tr>\n",
              "      <th>732</th>\n",
              "      <td>Zatanna</td>\n",
              "      <td>Female</td>\n",
              "      <td>blue</td>\n",
              "      <td>Human</td>\n",
              "      <td>Black</td>\n",
              "      <td>170.0</td>\n",
              "      <td>DC Comics</td>\n",
              "      <td>-</td>\n",
              "      <td>good</td>\n",
              "      <td>57.0</td>\n",
              "    </tr>\n",
              "    <tr>\n",
              "      <th>733</th>\n",
              "      <td>Zoom</td>\n",
              "      <td>Male</td>\n",
              "      <td>red</td>\n",
              "      <td>-</td>\n",
              "      <td>Brown</td>\n",
              "      <td>185.0</td>\n",
              "      <td>DC Comics</td>\n",
              "      <td>-</td>\n",
              "      <td>bad</td>\n",
              "      <td>81.0</td>\n",
              "    </tr>\n",
              "  </tbody>\n",
              "</table>\n",
              "<p>734 rows × 10 columns</p>\n",
              "</div>"
            ],
            "text/plain": [
              "                name  Gender Eye color  ... Skin color Alignment  Weight\n",
              "0             A-Bomb    Male    yellow  ...          -      good   441.0\n",
              "1         Abe Sapien    Male      blue  ...       blue      good    65.0\n",
              "2           Abin Sur    Male      blue  ...        red      good    90.0\n",
              "3        Abomination    Male     green  ...          -       bad   441.0\n",
              "4            Abraxas    Male      blue  ...          -       bad   -99.0\n",
              "..               ...     ...       ...  ...        ...       ...     ...\n",
              "729  Yellowjacket II  Female      blue  ...          -      good    52.0\n",
              "730             Ymir    Male     white  ...      white      good   -99.0\n",
              "731             Yoda    Male     brown  ...      green      good    17.0\n",
              "732          Zatanna  Female      blue  ...          -      good    57.0\n",
              "733             Zoom    Male       red  ...          -       bad    81.0\n",
              "\n",
              "[734 rows x 10 columns]"
            ]
          },
          "metadata": {
            "tags": []
          },
          "execution_count": 28
        }
      ]
    },
    {
      "cell_type": "markdown",
      "metadata": {
        "id": "PPGbgZClb8-6"
      },
      "source": [
        "**Step 2** : Filter by comics.\n"
      ]
    },
    {
      "cell_type": "code",
      "metadata": {
        "colab": {
          "base_uri": "https://localhost:8080/",
          "height": 419
        },
        "id": "HS2AIwi-b9ob",
        "outputId": "cd687fbf-24a7-4500-c53c-f21d3938fc30"
      },
      "source": [
        "filter_hi = (heroes_information_clean['Publisher'] == 'Marvel Comics') | (heroes_information_clean['Publisher'] == 'DC Comics') \n",
        "heroes_information_clean = heroes_information_clean[filter_hi]\n",
        "heroes_information_clean"
      ],
      "execution_count": 30,
      "outputs": [
        {
          "output_type": "execute_result",
          "data": {
            "text/html": [
              "<div>\n",
              "<style scoped>\n",
              "    .dataframe tbody tr th:only-of-type {\n",
              "        vertical-align: middle;\n",
              "    }\n",
              "\n",
              "    .dataframe tbody tr th {\n",
              "        vertical-align: top;\n",
              "    }\n",
              "\n",
              "    .dataframe thead th {\n",
              "        text-align: right;\n",
              "    }\n",
              "</style>\n",
              "<table border=\"1\" class=\"dataframe\">\n",
              "  <thead>\n",
              "    <tr style=\"text-align: right;\">\n",
              "      <th></th>\n",
              "      <th>name</th>\n",
              "      <th>Gender</th>\n",
              "      <th>Eye color</th>\n",
              "      <th>Race</th>\n",
              "      <th>Hair color</th>\n",
              "      <th>Height</th>\n",
              "      <th>Publisher</th>\n",
              "      <th>Skin color</th>\n",
              "      <th>Alignment</th>\n",
              "      <th>Weight</th>\n",
              "    </tr>\n",
              "  </thead>\n",
              "  <tbody>\n",
              "    <tr>\n",
              "      <th>0</th>\n",
              "      <td>A-Bomb</td>\n",
              "      <td>Male</td>\n",
              "      <td>yellow</td>\n",
              "      <td>Human</td>\n",
              "      <td>No Hair</td>\n",
              "      <td>203.0</td>\n",
              "      <td>Marvel Comics</td>\n",
              "      <td>-</td>\n",
              "      <td>good</td>\n",
              "      <td>441.0</td>\n",
              "    </tr>\n",
              "    <tr>\n",
              "      <th>2</th>\n",
              "      <td>Abin Sur</td>\n",
              "      <td>Male</td>\n",
              "      <td>blue</td>\n",
              "      <td>Ungaran</td>\n",
              "      <td>No Hair</td>\n",
              "      <td>185.0</td>\n",
              "      <td>DC Comics</td>\n",
              "      <td>red</td>\n",
              "      <td>good</td>\n",
              "      <td>90.0</td>\n",
              "    </tr>\n",
              "    <tr>\n",
              "      <th>3</th>\n",
              "      <td>Abomination</td>\n",
              "      <td>Male</td>\n",
              "      <td>green</td>\n",
              "      <td>Human / Radiation</td>\n",
              "      <td>No Hair</td>\n",
              "      <td>203.0</td>\n",
              "      <td>Marvel Comics</td>\n",
              "      <td>-</td>\n",
              "      <td>bad</td>\n",
              "      <td>441.0</td>\n",
              "    </tr>\n",
              "    <tr>\n",
              "      <th>4</th>\n",
              "      <td>Abraxas</td>\n",
              "      <td>Male</td>\n",
              "      <td>blue</td>\n",
              "      <td>Cosmic Entity</td>\n",
              "      <td>Black</td>\n",
              "      <td>-99.0</td>\n",
              "      <td>Marvel Comics</td>\n",
              "      <td>-</td>\n",
              "      <td>bad</td>\n",
              "      <td>-99.0</td>\n",
              "    </tr>\n",
              "    <tr>\n",
              "      <th>5</th>\n",
              "      <td>Absorbing Man</td>\n",
              "      <td>Male</td>\n",
              "      <td>blue</td>\n",
              "      <td>Human</td>\n",
              "      <td>No Hair</td>\n",
              "      <td>193.0</td>\n",
              "      <td>Marvel Comics</td>\n",
              "      <td>-</td>\n",
              "      <td>bad</td>\n",
              "      <td>122.0</td>\n",
              "    </tr>\n",
              "    <tr>\n",
              "      <th>...</th>\n",
              "      <td>...</td>\n",
              "      <td>...</td>\n",
              "      <td>...</td>\n",
              "      <td>...</td>\n",
              "      <td>...</td>\n",
              "      <td>...</td>\n",
              "      <td>...</td>\n",
              "      <td>...</td>\n",
              "      <td>...</td>\n",
              "      <td>...</td>\n",
              "    </tr>\n",
              "    <tr>\n",
              "      <th>728</th>\n",
              "      <td>Yellowjacket</td>\n",
              "      <td>Male</td>\n",
              "      <td>blue</td>\n",
              "      <td>Human</td>\n",
              "      <td>Blond</td>\n",
              "      <td>183.0</td>\n",
              "      <td>Marvel Comics</td>\n",
              "      <td>-</td>\n",
              "      <td>good</td>\n",
              "      <td>83.0</td>\n",
              "    </tr>\n",
              "    <tr>\n",
              "      <th>729</th>\n",
              "      <td>Yellowjacket II</td>\n",
              "      <td>Female</td>\n",
              "      <td>blue</td>\n",
              "      <td>Human</td>\n",
              "      <td>Strawberry Blond</td>\n",
              "      <td>165.0</td>\n",
              "      <td>Marvel Comics</td>\n",
              "      <td>-</td>\n",
              "      <td>good</td>\n",
              "      <td>52.0</td>\n",
              "    </tr>\n",
              "    <tr>\n",
              "      <th>730</th>\n",
              "      <td>Ymir</td>\n",
              "      <td>Male</td>\n",
              "      <td>white</td>\n",
              "      <td>Frost Giant</td>\n",
              "      <td>No Hair</td>\n",
              "      <td>304.8</td>\n",
              "      <td>Marvel Comics</td>\n",
              "      <td>white</td>\n",
              "      <td>good</td>\n",
              "      <td>-99.0</td>\n",
              "    </tr>\n",
              "    <tr>\n",
              "      <th>732</th>\n",
              "      <td>Zatanna</td>\n",
              "      <td>Female</td>\n",
              "      <td>blue</td>\n",
              "      <td>Human</td>\n",
              "      <td>Black</td>\n",
              "      <td>170.0</td>\n",
              "      <td>DC Comics</td>\n",
              "      <td>-</td>\n",
              "      <td>good</td>\n",
              "      <td>57.0</td>\n",
              "    </tr>\n",
              "    <tr>\n",
              "      <th>733</th>\n",
              "      <td>Zoom</td>\n",
              "      <td>Male</td>\n",
              "      <td>red</td>\n",
              "      <td>-</td>\n",
              "      <td>Brown</td>\n",
              "      <td>185.0</td>\n",
              "      <td>DC Comics</td>\n",
              "      <td>-</td>\n",
              "      <td>bad</td>\n",
              "      <td>81.0</td>\n",
              "    </tr>\n",
              "  </tbody>\n",
              "</table>\n",
              "<p>603 rows × 10 columns</p>\n",
              "</div>"
            ],
            "text/plain": [
              "                name  Gender Eye color  ... Skin color Alignment  Weight\n",
              "0             A-Bomb    Male    yellow  ...          -      good   441.0\n",
              "2           Abin Sur    Male      blue  ...        red      good    90.0\n",
              "3        Abomination    Male     green  ...          -       bad   441.0\n",
              "4            Abraxas    Male      blue  ...          -       bad   -99.0\n",
              "5      Absorbing Man    Male      blue  ...          -       bad   122.0\n",
              "..               ...     ...       ...  ...        ...       ...     ...\n",
              "728     Yellowjacket    Male      blue  ...          -      good    83.0\n",
              "729  Yellowjacket II  Female      blue  ...          -      good    52.0\n",
              "730             Ymir    Male     white  ...      white      good   -99.0\n",
              "732          Zatanna  Female      blue  ...          -      good    57.0\n",
              "733             Zoom    Male       red  ...          -       bad    81.0\n",
              "\n",
              "[603 rows x 10 columns]"
            ]
          },
          "metadata": {
            "tags": []
          },
          "execution_count": 30
        }
      ]
    },
    {
      "cell_type": "markdown",
      "metadata": {
        "id": "BrjFNgO3ccvq"
      },
      "source": [
        "**Step 3:** Check the filter"
      ]
    },
    {
      "cell_type": "code",
      "metadata": {
        "colab": {
          "base_uri": "https://localhost:8080/"
        },
        "id": "i_iYXN2tcn6L",
        "outputId": "e22a0090-b701-4a40-ba1e-2a157f066dfe"
      },
      "source": [
        "heroes_information_clean['Publisher'].unique()"
      ],
      "execution_count": 32,
      "outputs": [
        {
          "output_type": "execute_result",
          "data": {
            "text/plain": [
              "array(['Marvel Comics', 'DC Comics'], dtype=object)"
            ]
          },
          "metadata": {
            "tags": []
          },
          "execution_count": 32
        }
      ]
    },
    {
      "cell_type": "markdown",
      "metadata": {
        "id": "GS9DRrEjFv8r"
      },
      "source": [
        "## super_hero_powers.csv\n",
        "\n",
        "**In this case we do not need to clean something, only transform it and then clean.**\n"
      ]
    },
    {
      "cell_type": "markdown",
      "metadata": {
        "id": "VxiPCd2MFzgY"
      },
      "source": [
        "# Data Wrangling"
      ]
    },
    {
      "cell_type": "markdown",
      "metadata": {
        "id": "mwKM27oqF2LQ"
      },
      "source": [
        "## SuperHero.csv"
      ]
    },
    {
      "cell_type": "markdown",
      "metadata": {
        "id": "oFFwfdVrF32Z"
      },
      "source": [
        "## heroes_information.csv"
      ]
    },
    {
      "cell_type": "markdown",
      "metadata": {
        "id": "O5WRbJwIF84g"
      },
      "source": [
        "## super_hero_powers.csv"
      ]
    },
    {
      "cell_type": "markdown",
      "metadata": {
        "id": "-rllXa8OGAMx"
      },
      "source": [
        "# Questions"
      ]
    },
    {
      "cell_type": "code",
      "metadata": {
        "id": "vwjAFoQPE89P"
      },
      "source": [
        ""
      ],
      "execution_count": 19,
      "outputs": []
    }
  ]
}