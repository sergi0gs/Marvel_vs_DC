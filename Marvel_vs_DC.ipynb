{
  "nbformat": 4,
  "nbformat_minor": 0,
  "metadata": {
    "colab": {
      "name": "Marvel_vs_DC.ipynb",
      "provenance": [],
      "collapsed_sections": [
        "U4BjXlYtDBkk",
        "-7ubOwPZEEz4",
        "hardSZBNEXsS",
        "Xzi8mXxEEd1Z",
        "yp_8UUXyEkDy",
        "ePTtyjPwErRy",
        "dbqj74IMEuxE",
        "5-eEIBHLE-hp",
        "l8oEiMxMFBJS",
        "uqp7VmGrFFYC",
        "uKfd-IngFnKR",
        "N8bYtuYKFhnh",
        "GS9DRrEjFv8r"
      ],
      "toc_visible": true,
      "authorship_tag": "ABX9TyN8DzWV5KMPOqV+Dd7yWuzH",
      "include_colab_link": true
    },
    "kernelspec": {
      "name": "python3",
      "display_name": "Python 3"
    },
    "language_info": {
      "name": "python"
    }
  },
  "cells": [
    {
      "cell_type": "markdown",
      "metadata": {
        "id": "view-in-github",
        "colab_type": "text"
      },
      "source": [
        "<a href=\"https://colab.research.google.com/github/sergi0gs/Marvel_vs_DC/blob/main/Marvel_vs_DC.ipynb\" target=\"_parent\"><img src=\"https://colab.research.google.com/assets/colab-badge.svg\" alt=\"Open In Colab\"/></a>"
      ]
    },
    {
      "cell_type": "markdown",
      "metadata": {
        "id": "_-ahwrefCy4J"
      },
      "source": [
        "# **Introduction**\n",
        "\n",
        "In this project we will try to analyse the information about the heroes of Marvel and DC comics learning about the different types of techniques that we have in Python to analyse, clean, transform and visualize data.\n",
        "\n",
        "The information comes from these datasets in kaggle: https://www.kaggle.com/thec03u5/complete-superhero-dataset, https://www.kaggle.com/claudiodavi/superhero-set\n",
        "\n",
        "Which was constructed using web scrapping tecniques from the next website: https://www.superherodb.com/.\n",
        "\n",
        "Alse we use as a guide the next example maked in R from: https://cosmoduende.medium.com/dc-comics-vs-marvel-comics-an%C3%A1lisis-exploratorio-y-visualizaci%C3%B3n-de-datos-con-r-b0cf565e44e2\n",
        "\n",
        "# **What do we want to know?**\n",
        "1. How many characters are there in DC Comics and Marvel Comics?\n",
        "2. What is the predominant gender in the characters of DC Comics and Marvel Comics?\n",
        "3. What is the predominant race in both comics?\n",
        "4.   Which has more Heroes or Villains?\n",
        "5.   Realize a comparative between the character abilites of both comics.\n",
        "6.   Who are the most intelligent characters?\n",
        "7.   Who are the strongest characters?\n",
        "8.   Who are the fastest characters?\n",
        "9.   Who are the characters with more power?\n",
        "10. What superpowers predominate in the characters of DC Comics and Marvel Comics?\n",
        "\n",
        "\n",
        "\n"
      ]
    },
    {
      "cell_type": "markdown",
      "metadata": {
        "id": "cy56Eu4YSMoD"
      },
      "source": [
        "# Data Exploration"
      ]
    },
    {
      "cell_type": "markdown",
      "metadata": {
        "id": "XO_awMjmN7XU"
      },
      "source": [
        "## Import libraries"
      ]
    },
    {
      "cell_type": "code",
      "metadata": {
        "id": "G9yAjNNIN6tN"
      },
      "source": [
        "import numpy as np\n",
        "import pandas as pd\n",
        "import matplotlib.pyplot as plt\n",
        "import seaborn as sns\n",
        "%matplotlib inline"
      ],
      "execution_count": 267,
      "outputs": []
    },
    {
      "cell_type": "markdown",
      "metadata": {
        "id": "jyOjnliwOIAs"
      },
      "source": [
        "## Read files"
      ]
    },
    {
      "cell_type": "code",
      "metadata": {
        "id": "JJq8smoyAiU_"
      },
      "source": [
        "superhero = pd.read_csv('https://raw.githubusercontent.com/sergi0gs/Marvel_vs_DC/main/datasets/SuperheroDataset.csv')\n",
        "heroes_information = pd.read_csv('https://raw.githubusercontent.com/sergi0gs/Marvel_vs_DC/main/datasets/heroes_information.csv')\n",
        "super_hero_powers = pd.read_csv('https://raw.githubusercontent.com/sergi0gs/Marvel_vs_DC/main/datasets/super_hero_powers.csv')"
      ],
      "execution_count": 268,
      "outputs": []
    },
    {
      "cell_type": "markdown",
      "metadata": {
        "id": "weKqhb2KQPXr"
      },
      "source": [
        "## Data Shape"
      ]
    },
    {
      "cell_type": "markdown",
      "metadata": {
        "id": "pH2B1MDYQTJc"
      },
      "source": [
        "### SuperHero.csv"
      ]
    },
    {
      "cell_type": "code",
      "metadata": {
        "colab": {
          "base_uri": "https://localhost:8080/"
        },
        "id": "pOqk7Ng7QFvk",
        "outputId": "1b69de89-334e-4f4a-da0e-18d219753345"
      },
      "source": [
        "superhero.shape"
      ],
      "execution_count": 269,
      "outputs": [
        {
          "output_type": "execute_result",
          "data": {
            "text/plain": [
              "(743, 29)"
            ]
          },
          "metadata": {
            "tags": []
          },
          "execution_count": 269
        }
      ]
    },
    {
      "cell_type": "markdown",
      "metadata": {
        "id": "NtHdKtOuRXmb"
      },
      "source": [
        "### heroes_information.csv"
      ]
    },
    {
      "cell_type": "code",
      "metadata": {
        "colab": {
          "base_uri": "https://localhost:8080/"
        },
        "id": "nDjbFhIkQcAF",
        "outputId": "c4173db2-49d4-4c65-9b46-33e1e64a3c2a"
      },
      "source": [
        "heroes_information.shape"
      ],
      "execution_count": 270,
      "outputs": [
        {
          "output_type": "execute_result",
          "data": {
            "text/plain": [
              "(734, 11)"
            ]
          },
          "metadata": {
            "tags": []
          },
          "execution_count": 270
        }
      ]
    },
    {
      "cell_type": "markdown",
      "metadata": {
        "id": "8HQxmqafRa_D"
      },
      "source": [
        "### super_hero_powers.csv\n"
      ]
    },
    {
      "cell_type": "code",
      "metadata": {
        "colab": {
          "base_uri": "https://localhost:8080/"
        },
        "id": "xQPY23YDRaVd",
        "outputId": "6d0f2844-a281-433e-c46b-d5308e535fe0"
      },
      "source": [
        "super_hero_powers.shape"
      ],
      "execution_count": 271,
      "outputs": [
        {
          "output_type": "execute_result",
          "data": {
            "text/plain": [
              "(667, 168)"
            ]
          },
          "metadata": {
            "tags": []
          },
          "execution_count": 271
        }
      ]
    },
    {
      "cell_type": "markdown",
      "metadata": {
        "id": "zBAPDIlVSH6L"
      },
      "source": [
        "## Information"
      ]
    },
    {
      "cell_type": "markdown",
      "metadata": {
        "id": "Gd7jGn4GSX0c"
      },
      "source": [
        "### SuperHero.csv"
      ]
    },
    {
      "cell_type": "code",
      "metadata": {
        "id": "H1laIapxSdHv",
        "colab": {
          "base_uri": "https://localhost:8080/"
        },
        "outputId": "29cefabc-4953-45f5-b3f3-013a69896362"
      },
      "source": [
        "superhero.info()"
      ],
      "execution_count": 272,
      "outputs": [
        {
          "output_type": "stream",
          "text": [
            "<class 'pandas.core.frame.DataFrame'>\n",
            "RangeIndex: 743 entries, 0 to 742\n",
            "Data columns (total 29 columns):\n",
            " #   Column            Non-Null Count  Dtype  \n",
            "---  ------            --------------  -----  \n",
            " 0   Unnamed: 0        743 non-null    int64  \n",
            " 1   Unnamed: 0.1      743 non-null    int64  \n",
            " 2   Name              743 non-null    object \n",
            " 3   Url               743 non-null    object \n",
            " 4   Intelligence      665 non-null    float64\n",
            " 5   Strength          665 non-null    float64\n",
            " 6   Speed             665 non-null    float64\n",
            " 7   Durability        665 non-null    float64\n",
            " 8   Power             665 non-null    float64\n",
            " 9   Combat            665 non-null    float64\n",
            " 10  Full name         743 non-null    object \n",
            " 11  Alter Egos        743 non-null    object \n",
            " 12  Aliases           743 non-null    object \n",
            " 13  Place of birth    743 non-null    object \n",
            " 14  First appearance  743 non-null    object \n",
            " 15  Creator           735 non-null    object \n",
            " 16  Alignment         743 non-null    object \n",
            " 17  Gender            743 non-null    object \n",
            " 18  Race              743 non-null    object \n",
            " 19  Height            743 non-null    object \n",
            " 20  Weight            743 non-null    object \n",
            " 21  Eye color         743 non-null    object \n",
            " 22  Hair color        743 non-null    object \n",
            " 23  Occupation        743 non-null    object \n",
            " 24  Base              743 non-null    object \n",
            " 25  Team Affiliation  743 non-null    object \n",
            " 26  Relatives         743 non-null    object \n",
            " 27  Skin color        74 non-null     object \n",
            " 28  Total Power       743 non-null    float64\n",
            "dtypes: float64(7), int64(2), object(20)\n",
            "memory usage: 168.5+ KB\n"
          ],
          "name": "stdout"
        }
      ]
    },
    {
      "cell_type": "code",
      "metadata": {
        "colab": {
          "base_uri": "https://localhost:8080/",
          "height": 598
        },
        "id": "XhDENmIVHwsK",
        "outputId": "b94109ec-c449-4c33-99b1-31ad79ea6bc2"
      },
      "source": [
        "superhero.sample(5)"
      ],
      "execution_count": 273,
      "outputs": [
        {
          "output_type": "execute_result",
          "data": {
            "text/html": [
              "<div>\n",
              "<style scoped>\n",
              "    .dataframe tbody tr th:only-of-type {\n",
              "        vertical-align: middle;\n",
              "    }\n",
              "\n",
              "    .dataframe tbody tr th {\n",
              "        vertical-align: top;\n",
              "    }\n",
              "\n",
              "    .dataframe thead th {\n",
              "        text-align: right;\n",
              "    }\n",
              "</style>\n",
              "<table border=\"1\" class=\"dataframe\">\n",
              "  <thead>\n",
              "    <tr style=\"text-align: right;\">\n",
              "      <th></th>\n",
              "      <th>Unnamed: 0</th>\n",
              "      <th>Unnamed: 0.1</th>\n",
              "      <th>Name</th>\n",
              "      <th>Url</th>\n",
              "      <th>Intelligence</th>\n",
              "      <th>Strength</th>\n",
              "      <th>Speed</th>\n",
              "      <th>Durability</th>\n",
              "      <th>Power</th>\n",
              "      <th>Combat</th>\n",
              "      <th>Full name</th>\n",
              "      <th>Alter Egos</th>\n",
              "      <th>Aliases</th>\n",
              "      <th>Place of birth</th>\n",
              "      <th>First appearance</th>\n",
              "      <th>Creator</th>\n",
              "      <th>Alignment</th>\n",
              "      <th>Gender</th>\n",
              "      <th>Race</th>\n",
              "      <th>Height</th>\n",
              "      <th>Weight</th>\n",
              "      <th>Eye color</th>\n",
              "      <th>Hair color</th>\n",
              "      <th>Occupation</th>\n",
              "      <th>Base</th>\n",
              "      <th>Team Affiliation</th>\n",
              "      <th>Relatives</th>\n",
              "      <th>Skin color</th>\n",
              "      <th>Total Power</th>\n",
              "    </tr>\n",
              "  </thead>\n",
              "  <tbody>\n",
              "    <tr>\n",
              "      <th>627</th>\n",
              "      <td>627</td>\n",
              "      <td>627</td>\n",
              "      <td>Spider-Girl</td>\n",
              "      <td>/spider-girl/10-480/</td>\n",
              "      <td>85.0</td>\n",
              "      <td>40.0</td>\n",
              "      <td>60.0</td>\n",
              "      <td>65.0</td>\n",
              "      <td>55.0</td>\n",
              "      <td>75.0</td>\n",
              "      <td>May 'Mayday' Parker</td>\n",
              "      <td>No alter egos found.</td>\n",
              "      <td>-</td>\n",
              "      <td>New York City, New York</td>\n",
              "      <td>What If? Vol 2 #105 (February, 1998)</td>\n",
              "      <td>Marvel Comics</td>\n",
              "      <td>good</td>\n",
              "      <td>Female</td>\n",
              "      <td>Human</td>\n",
              "      <td>5'7 // 170 cm</td>\n",
              "      <td>119 lb // 54 kg</td>\n",
              "      <td>Blue</td>\n",
              "      <td>Brown</td>\n",
              "      <td>-</td>\n",
              "      <td>New York City, New York</td>\n",
              "      <td>The Spider Society</td>\n",
              "      <td>-</td>\n",
              "      <td>NaN</td>\n",
              "      <td>380.0</td>\n",
              "    </tr>\n",
              "    <tr>\n",
              "      <th>459</th>\n",
              "      <td>459</td>\n",
              "      <td>459</td>\n",
              "      <td>Mister Freeze</td>\n",
              "      <td>/mister-freeze/10-742/</td>\n",
              "      <td>90.0</td>\n",
              "      <td>35.0</td>\n",
              "      <td>15.0</td>\n",
              "      <td>70.0</td>\n",
              "      <td>40.0</td>\n",
              "      <td>30.0</td>\n",
              "      <td>Victor Fries</td>\n",
              "      <td>No alter egos found.</td>\n",
              "      <td>Mister Zero, Doctor Zero, Doctor Schimmell</td>\n",
              "      <td>-</td>\n",
              "      <td>Batman #121 (Feb. 1959)</td>\n",
              "      <td>DC Comics</td>\n",
              "      <td>bad</td>\n",
              "      <td>Male</td>\n",
              "      <td>Human</td>\n",
              "      <td>6'0 // 183 cm</td>\n",
              "      <td>190 lb // 86 kg</td>\n",
              "      <td>-</td>\n",
              "      <td>-</td>\n",
              "      <td>-</td>\n",
              "      <td>-</td>\n",
              "      <td>Formerly: The Society</td>\n",
              "      <td>Nora Fries (wife, deceased, then resurrected a...</td>\n",
              "      <td>NaN</td>\n",
              "      <td>280.0</td>\n",
              "    </tr>\n",
              "    <tr>\n",
              "      <th>59</th>\n",
              "      <td>59</td>\n",
              "      <td>59</td>\n",
              "      <td>Bananaman</td>\n",
              "      <td>/bananaman/10-10557/</td>\n",
              "      <td>60.0</td>\n",
              "      <td>50.0</td>\n",
              "      <td>35.0</td>\n",
              "      <td>80.0</td>\n",
              "      <td>30.0</td>\n",
              "      <td>30.0</td>\n",
              "      <td>-</td>\n",
              "      <td>No alter egos found.</td>\n",
              "      <td>Eric Twinge</td>\n",
              "      <td>-</td>\n",
              "      <td>Nutty No.1</td>\n",
              "      <td>NaN</td>\n",
              "      <td>good</td>\n",
              "      <td>Male</td>\n",
              "      <td>Human</td>\n",
              "      <td>- // 0 cm</td>\n",
              "      <td>- lb // 0 kg</td>\n",
              "      <td>-</td>\n",
              "      <td>-</td>\n",
              "      <td>-</td>\n",
              "      <td>-</td>\n",
              "      <td>No team connections added yet.</td>\n",
              "      <td>-</td>\n",
              "      <td>NaN</td>\n",
              "      <td>285.0</td>\n",
              "    </tr>\n",
              "    <tr>\n",
              "      <th>619</th>\n",
              "      <td>619</td>\n",
              "      <td>619</td>\n",
              "      <td>Songbird</td>\n",
              "      <td>/songbird/10-131/</td>\n",
              "      <td>90.0</td>\n",
              "      <td>40.0</td>\n",
              "      <td>30.0</td>\n",
              "      <td>45.0</td>\n",
              "      <td>55.0</td>\n",
              "      <td>60.0</td>\n",
              "      <td>Melissa Joan Gold</td>\n",
              "      <td>No alter egos found.</td>\n",
              "      <td>Screaming Mimi, Mimi Schwartz, Margie Green</td>\n",
              "      <td>Shoshoni, Wyoming</td>\n",
              "      <td>-</td>\n",
              "      <td>Marvel Comics</td>\n",
              "      <td>good</td>\n",
              "      <td>Female</td>\n",
              "      <td>-</td>\n",
              "      <td>5'5 // 165 cm</td>\n",
              "      <td>145 lb // 65 kg</td>\n",
              "      <td>Green</td>\n",
              "      <td>Red / White</td>\n",
              "      <td>Adventurer; former criminal and wrestler</td>\n",
              "      <td>-</td>\n",
              "      <td>A.I.M., Thunderbolts</td>\n",
              "      <td>Mimi Gold (mother), Mr. Gold (father)</td>\n",
              "      <td>NaN</td>\n",
              "      <td>320.0</td>\n",
              "    </tr>\n",
              "    <tr>\n",
              "      <th>119</th>\n",
              "      <td>119</td>\n",
              "      <td>119</td>\n",
              "      <td>Blizzard II</td>\n",
              "      <td>/blizzard-ii/10-619/</td>\n",
              "      <td>75.0</td>\n",
              "      <td>10.0</td>\n",
              "      <td>30.0</td>\n",
              "      <td>45.0</td>\n",
              "      <td>50.0</td>\n",
              "      <td>60.0</td>\n",
              "      <td>Donald Gill</td>\n",
              "      <td>No alter egos found.</td>\n",
              "      <td>-</td>\n",
              "      <td>Newark, Delaware</td>\n",
              "      <td>Iron Man #223 (1987)</td>\n",
              "      <td>Marvel Comics</td>\n",
              "      <td>bad</td>\n",
              "      <td>Male</td>\n",
              "      <td>-</td>\n",
              "      <td>5'9 // 175 cm</td>\n",
              "      <td>170 lb // 77 kg</td>\n",
              "      <td>Brown</td>\n",
              "      <td>Brown</td>\n",
              "      <td>Adventurer; former mercenary and professional ...</td>\n",
              "      <td>-</td>\n",
              "      <td>Formerly: National Force</td>\n",
              "      <td>-</td>\n",
              "      <td>NaN</td>\n",
              "      <td>270.0</td>\n",
              "    </tr>\n",
              "  </tbody>\n",
              "</table>\n",
              "</div>"
            ],
            "text/plain": [
              "     Unnamed: 0  Unnamed: 0.1  ... Skin color Total Power\n",
              "627         627           627  ...        NaN       380.0\n",
              "459         459           459  ...        NaN       280.0\n",
              "59           59            59  ...        NaN       285.0\n",
              "619         619           619  ...        NaN       320.0\n",
              "119         119           119  ...        NaN       270.0\n",
              "\n",
              "[5 rows x 29 columns]"
            ]
          },
          "metadata": {
            "tags": []
          },
          "execution_count": 273
        }
      ]
    },
    {
      "cell_type": "markdown",
      "metadata": {
        "id": "U4BjXlYtDBkk"
      },
      "source": [
        "### heroes_information.csv"
      ]
    },
    {
      "cell_type": "code",
      "metadata": {
        "id": "OZCNZ8uQSfbj",
        "colab": {
          "base_uri": "https://localhost:8080/"
        },
        "outputId": "210e54e5-aa37-4954-8722-59db0a9eaae3"
      },
      "source": [
        "heroes_information.info()"
      ],
      "execution_count": 274,
      "outputs": [
        {
          "output_type": "stream",
          "text": [
            "<class 'pandas.core.frame.DataFrame'>\n",
            "RangeIndex: 734 entries, 0 to 733\n",
            "Data columns (total 11 columns):\n",
            " #   Column      Non-Null Count  Dtype  \n",
            "---  ------      --------------  -----  \n",
            " 0   Unnamed: 0  734 non-null    int64  \n",
            " 1   name        734 non-null    object \n",
            " 2   Gender      734 non-null    object \n",
            " 3   Eye color   734 non-null    object \n",
            " 4   Race        734 non-null    object \n",
            " 5   Hair color  734 non-null    object \n",
            " 6   Height      734 non-null    float64\n",
            " 7   Publisher   719 non-null    object \n",
            " 8   Skin color  734 non-null    object \n",
            " 9   Alignment   734 non-null    object \n",
            " 10  Weight      732 non-null    float64\n",
            "dtypes: float64(2), int64(1), object(8)\n",
            "memory usage: 63.2+ KB\n"
          ],
          "name": "stdout"
        }
      ]
    },
    {
      "cell_type": "code",
      "metadata": {
        "colab": {
          "base_uri": "https://localhost:8080/",
          "height": 0
        },
        "id": "PQc5V3zHH1Qp",
        "outputId": "fd272f68-c23e-487e-b293-44972f40ceaf"
      },
      "source": [
        "heroes_information.sample(5)"
      ],
      "execution_count": 275,
      "outputs": [
        {
          "output_type": "execute_result",
          "data": {
            "text/html": [
              "<div>\n",
              "<style scoped>\n",
              "    .dataframe tbody tr th:only-of-type {\n",
              "        vertical-align: middle;\n",
              "    }\n",
              "\n",
              "    .dataframe tbody tr th {\n",
              "        vertical-align: top;\n",
              "    }\n",
              "\n",
              "    .dataframe thead th {\n",
              "        text-align: right;\n",
              "    }\n",
              "</style>\n",
              "<table border=\"1\" class=\"dataframe\">\n",
              "  <thead>\n",
              "    <tr style=\"text-align: right;\">\n",
              "      <th></th>\n",
              "      <th>Unnamed: 0</th>\n",
              "      <th>name</th>\n",
              "      <th>Gender</th>\n",
              "      <th>Eye color</th>\n",
              "      <th>Race</th>\n",
              "      <th>Hair color</th>\n",
              "      <th>Height</th>\n",
              "      <th>Publisher</th>\n",
              "      <th>Skin color</th>\n",
              "      <th>Alignment</th>\n",
              "      <th>Weight</th>\n",
              "    </tr>\n",
              "  </thead>\n",
              "  <tbody>\n",
              "    <tr>\n",
              "      <th>224</th>\n",
              "      <td>224</td>\n",
              "      <td>Doctor Octopus</td>\n",
              "      <td>Male</td>\n",
              "      <td>brown</td>\n",
              "      <td>Human</td>\n",
              "      <td>Brown</td>\n",
              "      <td>175.0</td>\n",
              "      <td>Marvel Comics</td>\n",
              "      <td>-</td>\n",
              "      <td>bad</td>\n",
              "      <td>110.0</td>\n",
              "    </tr>\n",
              "    <tr>\n",
              "      <th>508</th>\n",
              "      <td>508</td>\n",
              "      <td>Ozymandias</td>\n",
              "      <td>Male</td>\n",
              "      <td>blue</td>\n",
              "      <td>Human</td>\n",
              "      <td>Blond</td>\n",
              "      <td>-99.0</td>\n",
              "      <td>DC Comics</td>\n",
              "      <td>-</td>\n",
              "      <td>bad</td>\n",
              "      <td>-99.0</td>\n",
              "    </tr>\n",
              "    <tr>\n",
              "      <th>75</th>\n",
              "      <td>75</td>\n",
              "      <td>Beast Boy</td>\n",
              "      <td>Male</td>\n",
              "      <td>green</td>\n",
              "      <td>Human</td>\n",
              "      <td>Green</td>\n",
              "      <td>173.0</td>\n",
              "      <td>DC Comics</td>\n",
              "      <td>green</td>\n",
              "      <td>good</td>\n",
              "      <td>68.0</td>\n",
              "    </tr>\n",
              "    <tr>\n",
              "      <th>195</th>\n",
              "      <td>195</td>\n",
              "      <td>Cyclops</td>\n",
              "      <td>Male</td>\n",
              "      <td>brown</td>\n",
              "      <td>Mutant</td>\n",
              "      <td>Brown</td>\n",
              "      <td>191.0</td>\n",
              "      <td>Marvel Comics</td>\n",
              "      <td>-</td>\n",
              "      <td>good</td>\n",
              "      <td>88.0</td>\n",
              "    </tr>\n",
              "    <tr>\n",
              "      <th>584</th>\n",
              "      <td>584</td>\n",
              "      <td>Sebastian Shaw</td>\n",
              "      <td>Male</td>\n",
              "      <td>-</td>\n",
              "      <td>Mutant</td>\n",
              "      <td>-</td>\n",
              "      <td>-99.0</td>\n",
              "      <td>Marvel Comics</td>\n",
              "      <td>-</td>\n",
              "      <td>bad</td>\n",
              "      <td>-99.0</td>\n",
              "    </tr>\n",
              "  </tbody>\n",
              "</table>\n",
              "</div>"
            ],
            "text/plain": [
              "     Unnamed: 0            name Gender  ... Skin color Alignment Weight\n",
              "224         224  Doctor Octopus   Male  ...          -       bad  110.0\n",
              "508         508      Ozymandias   Male  ...          -       bad  -99.0\n",
              "75           75       Beast Boy   Male  ...      green      good   68.0\n",
              "195         195         Cyclops   Male  ...          -      good   88.0\n",
              "584         584  Sebastian Shaw   Male  ...          -       bad  -99.0\n",
              "\n",
              "[5 rows x 11 columns]"
            ]
          },
          "metadata": {
            "tags": []
          },
          "execution_count": 275
        }
      ]
    },
    {
      "cell_type": "markdown",
      "metadata": {
        "id": "-7ubOwPZEEz4"
      },
      "source": [
        "### super_hero_powers.csv"
      ]
    },
    {
      "cell_type": "code",
      "metadata": {
        "colab": {
          "base_uri": "https://localhost:8080/"
        },
        "id": "0h_CwN1kDG-8",
        "outputId": "9043d483-fb5c-4e50-9674-d7bb7f38bcbe"
      },
      "source": [
        "super_hero_powers.info()"
      ],
      "execution_count": 276,
      "outputs": [
        {
          "output_type": "stream",
          "text": [
            "<class 'pandas.core.frame.DataFrame'>\n",
            "RangeIndex: 667 entries, 0 to 666\n",
            "Columns: 168 entries, hero_names to Omniscient\n",
            "dtypes: bool(167), object(1)\n",
            "memory usage: 114.1+ KB\n"
          ],
          "name": "stdout"
        }
      ]
    },
    {
      "cell_type": "code",
      "metadata": {
        "colab": {
          "base_uri": "https://localhost:8080/",
          "height": 0
        },
        "id": "8oC-Xo9YIDKy",
        "outputId": "17850366-6956-454b-d7e7-d6e97f66b144"
      },
      "source": [
        "super_hero_powers.sample(5)"
      ],
      "execution_count": 277,
      "outputs": [
        {
          "output_type": "execute_result",
          "data": {
            "text/html": [
              "<div>\n",
              "<style scoped>\n",
              "    .dataframe tbody tr th:only-of-type {\n",
              "        vertical-align: middle;\n",
              "    }\n",
              "\n",
              "    .dataframe tbody tr th {\n",
              "        vertical-align: top;\n",
              "    }\n",
              "\n",
              "    .dataframe thead th {\n",
              "        text-align: right;\n",
              "    }\n",
              "</style>\n",
              "<table border=\"1\" class=\"dataframe\">\n",
              "  <thead>\n",
              "    <tr style=\"text-align: right;\">\n",
              "      <th></th>\n",
              "      <th>hero_names</th>\n",
              "      <th>Agility</th>\n",
              "      <th>Accelerated Healing</th>\n",
              "      <th>Lantern Power Ring</th>\n",
              "      <th>Dimensional Awareness</th>\n",
              "      <th>Cold Resistance</th>\n",
              "      <th>Durability</th>\n",
              "      <th>Stealth</th>\n",
              "      <th>Energy Absorption</th>\n",
              "      <th>Flight</th>\n",
              "      <th>Danger Sense</th>\n",
              "      <th>Underwater breathing</th>\n",
              "      <th>Marksmanship</th>\n",
              "      <th>Weapons Master</th>\n",
              "      <th>Power Augmentation</th>\n",
              "      <th>Animal Attributes</th>\n",
              "      <th>Longevity</th>\n",
              "      <th>Intelligence</th>\n",
              "      <th>Super Strength</th>\n",
              "      <th>Cryokinesis</th>\n",
              "      <th>Telepathy</th>\n",
              "      <th>Energy Armor</th>\n",
              "      <th>Energy Blasts</th>\n",
              "      <th>Duplication</th>\n",
              "      <th>Size Changing</th>\n",
              "      <th>Density Control</th>\n",
              "      <th>Stamina</th>\n",
              "      <th>Astral Travel</th>\n",
              "      <th>Audio Control</th>\n",
              "      <th>Dexterity</th>\n",
              "      <th>Omnitrix</th>\n",
              "      <th>Super Speed</th>\n",
              "      <th>Possession</th>\n",
              "      <th>Animal Oriented Powers</th>\n",
              "      <th>Weapon-based Powers</th>\n",
              "      <th>Electrokinesis</th>\n",
              "      <th>Darkforce Manipulation</th>\n",
              "      <th>Death Touch</th>\n",
              "      <th>Teleportation</th>\n",
              "      <th>Enhanced Senses</th>\n",
              "      <th>...</th>\n",
              "      <th>Mind Control Resistance</th>\n",
              "      <th>Plant Control</th>\n",
              "      <th>Sonar</th>\n",
              "      <th>Sonic Scream</th>\n",
              "      <th>Time Manipulation</th>\n",
              "      <th>Enhanced Touch</th>\n",
              "      <th>Magic Resistance</th>\n",
              "      <th>Invisibility</th>\n",
              "      <th>Sub-Mariner</th>\n",
              "      <th>Radiation Absorption</th>\n",
              "      <th>Intuitive aptitude</th>\n",
              "      <th>Vision - Microscopic</th>\n",
              "      <th>Melting</th>\n",
              "      <th>Wind Control</th>\n",
              "      <th>Super Breath</th>\n",
              "      <th>Wallcrawling</th>\n",
              "      <th>Vision - Night</th>\n",
              "      <th>Vision - Infrared</th>\n",
              "      <th>Grim Reaping</th>\n",
              "      <th>Matter Absorption</th>\n",
              "      <th>The Force</th>\n",
              "      <th>Resurrection</th>\n",
              "      <th>Terrakinesis</th>\n",
              "      <th>Vision - Heat</th>\n",
              "      <th>Vitakinesis</th>\n",
              "      <th>Radar Sense</th>\n",
              "      <th>Qwardian Power Ring</th>\n",
              "      <th>Weather Control</th>\n",
              "      <th>Vision - X-Ray</th>\n",
              "      <th>Vision - Thermal</th>\n",
              "      <th>Web Creation</th>\n",
              "      <th>Reality Warping</th>\n",
              "      <th>Odin Force</th>\n",
              "      <th>Symbiote Costume</th>\n",
              "      <th>Speed Force</th>\n",
              "      <th>Phoenix Force</th>\n",
              "      <th>Molecular Dissipation</th>\n",
              "      <th>Vision - Cryo</th>\n",
              "      <th>Omnipresent</th>\n",
              "      <th>Omniscient</th>\n",
              "    </tr>\n",
              "  </thead>\n",
              "  <tbody>\n",
              "    <tr>\n",
              "      <th>153</th>\n",
              "      <td>Cheetah II</td>\n",
              "      <td>True</td>\n",
              "      <td>False</td>\n",
              "      <td>False</td>\n",
              "      <td>False</td>\n",
              "      <td>False</td>\n",
              "      <td>False</td>\n",
              "      <td>False</td>\n",
              "      <td>False</td>\n",
              "      <td>False</td>\n",
              "      <td>False</td>\n",
              "      <td>False</td>\n",
              "      <td>False</td>\n",
              "      <td>False</td>\n",
              "      <td>False</td>\n",
              "      <td>False</td>\n",
              "      <td>False</td>\n",
              "      <td>False</td>\n",
              "      <td>True</td>\n",
              "      <td>False</td>\n",
              "      <td>False</td>\n",
              "      <td>False</td>\n",
              "      <td>False</td>\n",
              "      <td>False</td>\n",
              "      <td>False</td>\n",
              "      <td>False</td>\n",
              "      <td>True</td>\n",
              "      <td>False</td>\n",
              "      <td>False</td>\n",
              "      <td>False</td>\n",
              "      <td>False</td>\n",
              "      <td>True</td>\n",
              "      <td>False</td>\n",
              "      <td>True</td>\n",
              "      <td>False</td>\n",
              "      <td>False</td>\n",
              "      <td>False</td>\n",
              "      <td>False</td>\n",
              "      <td>False</td>\n",
              "      <td>False</td>\n",
              "      <td>...</td>\n",
              "      <td>False</td>\n",
              "      <td>False</td>\n",
              "      <td>False</td>\n",
              "      <td>False</td>\n",
              "      <td>False</td>\n",
              "      <td>False</td>\n",
              "      <td>False</td>\n",
              "      <td>False</td>\n",
              "      <td>False</td>\n",
              "      <td>False</td>\n",
              "      <td>False</td>\n",
              "      <td>False</td>\n",
              "      <td>False</td>\n",
              "      <td>False</td>\n",
              "      <td>False</td>\n",
              "      <td>False</td>\n",
              "      <td>False</td>\n",
              "      <td>False</td>\n",
              "      <td>False</td>\n",
              "      <td>False</td>\n",
              "      <td>False</td>\n",
              "      <td>False</td>\n",
              "      <td>False</td>\n",
              "      <td>False</td>\n",
              "      <td>False</td>\n",
              "      <td>False</td>\n",
              "      <td>False</td>\n",
              "      <td>False</td>\n",
              "      <td>False</td>\n",
              "      <td>False</td>\n",
              "      <td>False</td>\n",
              "      <td>False</td>\n",
              "      <td>False</td>\n",
              "      <td>False</td>\n",
              "      <td>False</td>\n",
              "      <td>False</td>\n",
              "      <td>False</td>\n",
              "      <td>False</td>\n",
              "      <td>False</td>\n",
              "      <td>False</td>\n",
              "    </tr>\n",
              "    <tr>\n",
              "      <th>648</th>\n",
              "      <td>Wasp</td>\n",
              "      <td>True</td>\n",
              "      <td>False</td>\n",
              "      <td>False</td>\n",
              "      <td>False</td>\n",
              "      <td>False</td>\n",
              "      <td>False</td>\n",
              "      <td>True</td>\n",
              "      <td>False</td>\n",
              "      <td>True</td>\n",
              "      <td>False</td>\n",
              "      <td>False</td>\n",
              "      <td>False</td>\n",
              "      <td>False</td>\n",
              "      <td>False</td>\n",
              "      <td>False</td>\n",
              "      <td>False</td>\n",
              "      <td>True</td>\n",
              "      <td>True</td>\n",
              "      <td>False</td>\n",
              "      <td>False</td>\n",
              "      <td>False</td>\n",
              "      <td>True</td>\n",
              "      <td>False</td>\n",
              "      <td>True</td>\n",
              "      <td>False</td>\n",
              "      <td>False</td>\n",
              "      <td>False</td>\n",
              "      <td>False</td>\n",
              "      <td>False</td>\n",
              "      <td>False</td>\n",
              "      <td>False</td>\n",
              "      <td>False</td>\n",
              "      <td>True</td>\n",
              "      <td>True</td>\n",
              "      <td>False</td>\n",
              "      <td>False</td>\n",
              "      <td>False</td>\n",
              "      <td>False</td>\n",
              "      <td>False</td>\n",
              "      <td>...</td>\n",
              "      <td>False</td>\n",
              "      <td>False</td>\n",
              "      <td>False</td>\n",
              "      <td>False</td>\n",
              "      <td>False</td>\n",
              "      <td>False</td>\n",
              "      <td>False</td>\n",
              "      <td>False</td>\n",
              "      <td>False</td>\n",
              "      <td>False</td>\n",
              "      <td>False</td>\n",
              "      <td>False</td>\n",
              "      <td>False</td>\n",
              "      <td>False</td>\n",
              "      <td>False</td>\n",
              "      <td>False</td>\n",
              "      <td>False</td>\n",
              "      <td>False</td>\n",
              "      <td>False</td>\n",
              "      <td>False</td>\n",
              "      <td>False</td>\n",
              "      <td>False</td>\n",
              "      <td>False</td>\n",
              "      <td>False</td>\n",
              "      <td>False</td>\n",
              "      <td>False</td>\n",
              "      <td>False</td>\n",
              "      <td>False</td>\n",
              "      <td>False</td>\n",
              "      <td>False</td>\n",
              "      <td>False</td>\n",
              "      <td>False</td>\n",
              "      <td>False</td>\n",
              "      <td>False</td>\n",
              "      <td>False</td>\n",
              "      <td>False</td>\n",
              "      <td>False</td>\n",
              "      <td>False</td>\n",
              "      <td>False</td>\n",
              "      <td>False</td>\n",
              "    </tr>\n",
              "    <tr>\n",
              "      <th>657</th>\n",
              "      <td>Wonder Man</td>\n",
              "      <td>False</td>\n",
              "      <td>False</td>\n",
              "      <td>False</td>\n",
              "      <td>False</td>\n",
              "      <td>False</td>\n",
              "      <td>True</td>\n",
              "      <td>False</td>\n",
              "      <td>False</td>\n",
              "      <td>True</td>\n",
              "      <td>False</td>\n",
              "      <td>False</td>\n",
              "      <td>False</td>\n",
              "      <td>False</td>\n",
              "      <td>False</td>\n",
              "      <td>False</td>\n",
              "      <td>True</td>\n",
              "      <td>False</td>\n",
              "      <td>True</td>\n",
              "      <td>False</td>\n",
              "      <td>False</td>\n",
              "      <td>False</td>\n",
              "      <td>True</td>\n",
              "      <td>False</td>\n",
              "      <td>True</td>\n",
              "      <td>False</td>\n",
              "      <td>True</td>\n",
              "      <td>False</td>\n",
              "      <td>False</td>\n",
              "      <td>False</td>\n",
              "      <td>False</td>\n",
              "      <td>True</td>\n",
              "      <td>False</td>\n",
              "      <td>False</td>\n",
              "      <td>False</td>\n",
              "      <td>False</td>\n",
              "      <td>False</td>\n",
              "      <td>False</td>\n",
              "      <td>False</td>\n",
              "      <td>False</td>\n",
              "      <td>...</td>\n",
              "      <td>False</td>\n",
              "      <td>False</td>\n",
              "      <td>False</td>\n",
              "      <td>False</td>\n",
              "      <td>False</td>\n",
              "      <td>False</td>\n",
              "      <td>False</td>\n",
              "      <td>False</td>\n",
              "      <td>False</td>\n",
              "      <td>False</td>\n",
              "      <td>False</td>\n",
              "      <td>False</td>\n",
              "      <td>False</td>\n",
              "      <td>False</td>\n",
              "      <td>False</td>\n",
              "      <td>False</td>\n",
              "      <td>False</td>\n",
              "      <td>False</td>\n",
              "      <td>False</td>\n",
              "      <td>False</td>\n",
              "      <td>False</td>\n",
              "      <td>False</td>\n",
              "      <td>False</td>\n",
              "      <td>False</td>\n",
              "      <td>False</td>\n",
              "      <td>False</td>\n",
              "      <td>False</td>\n",
              "      <td>False</td>\n",
              "      <td>False</td>\n",
              "      <td>False</td>\n",
              "      <td>False</td>\n",
              "      <td>False</td>\n",
              "      <td>False</td>\n",
              "      <td>False</td>\n",
              "      <td>False</td>\n",
              "      <td>False</td>\n",
              "      <td>False</td>\n",
              "      <td>False</td>\n",
              "      <td>False</td>\n",
              "      <td>False</td>\n",
              "    </tr>\n",
              "    <tr>\n",
              "      <th>224</th>\n",
              "      <td>Exodus</td>\n",
              "      <td>False</td>\n",
              "      <td>True</td>\n",
              "      <td>False</td>\n",
              "      <td>False</td>\n",
              "      <td>False</td>\n",
              "      <td>False</td>\n",
              "      <td>False</td>\n",
              "      <td>False</td>\n",
              "      <td>True</td>\n",
              "      <td>False</td>\n",
              "      <td>False</td>\n",
              "      <td>False</td>\n",
              "      <td>False</td>\n",
              "      <td>False</td>\n",
              "      <td>False</td>\n",
              "      <td>False</td>\n",
              "      <td>False</td>\n",
              "      <td>False</td>\n",
              "      <td>False</td>\n",
              "      <td>True</td>\n",
              "      <td>False</td>\n",
              "      <td>True</td>\n",
              "      <td>False</td>\n",
              "      <td>False</td>\n",
              "      <td>False</td>\n",
              "      <td>False</td>\n",
              "      <td>False</td>\n",
              "      <td>False</td>\n",
              "      <td>False</td>\n",
              "      <td>False</td>\n",
              "      <td>False</td>\n",
              "      <td>False</td>\n",
              "      <td>False</td>\n",
              "      <td>False</td>\n",
              "      <td>False</td>\n",
              "      <td>False</td>\n",
              "      <td>False</td>\n",
              "      <td>True</td>\n",
              "      <td>False</td>\n",
              "      <td>...</td>\n",
              "      <td>False</td>\n",
              "      <td>False</td>\n",
              "      <td>False</td>\n",
              "      <td>False</td>\n",
              "      <td>False</td>\n",
              "      <td>False</td>\n",
              "      <td>False</td>\n",
              "      <td>False</td>\n",
              "      <td>False</td>\n",
              "      <td>False</td>\n",
              "      <td>False</td>\n",
              "      <td>False</td>\n",
              "      <td>False</td>\n",
              "      <td>False</td>\n",
              "      <td>False</td>\n",
              "      <td>False</td>\n",
              "      <td>False</td>\n",
              "      <td>False</td>\n",
              "      <td>False</td>\n",
              "      <td>False</td>\n",
              "      <td>False</td>\n",
              "      <td>True</td>\n",
              "      <td>False</td>\n",
              "      <td>False</td>\n",
              "      <td>False</td>\n",
              "      <td>False</td>\n",
              "      <td>False</td>\n",
              "      <td>False</td>\n",
              "      <td>False</td>\n",
              "      <td>False</td>\n",
              "      <td>False</td>\n",
              "      <td>False</td>\n",
              "      <td>False</td>\n",
              "      <td>False</td>\n",
              "      <td>False</td>\n",
              "      <td>False</td>\n",
              "      <td>False</td>\n",
              "      <td>False</td>\n",
              "      <td>False</td>\n",
              "      <td>False</td>\n",
              "    </tr>\n",
              "    <tr>\n",
              "      <th>2</th>\n",
              "      <td>Abe Sapien</td>\n",
              "      <td>True</td>\n",
              "      <td>True</td>\n",
              "      <td>False</td>\n",
              "      <td>False</td>\n",
              "      <td>True</td>\n",
              "      <td>True</td>\n",
              "      <td>False</td>\n",
              "      <td>False</td>\n",
              "      <td>False</td>\n",
              "      <td>False</td>\n",
              "      <td>True</td>\n",
              "      <td>True</td>\n",
              "      <td>True</td>\n",
              "      <td>False</td>\n",
              "      <td>False</td>\n",
              "      <td>True</td>\n",
              "      <td>True</td>\n",
              "      <td>True</td>\n",
              "      <td>False</td>\n",
              "      <td>True</td>\n",
              "      <td>False</td>\n",
              "      <td>False</td>\n",
              "      <td>False</td>\n",
              "      <td>False</td>\n",
              "      <td>False</td>\n",
              "      <td>True</td>\n",
              "      <td>False</td>\n",
              "      <td>False</td>\n",
              "      <td>False</td>\n",
              "      <td>False</td>\n",
              "      <td>False</td>\n",
              "      <td>False</td>\n",
              "      <td>False</td>\n",
              "      <td>False</td>\n",
              "      <td>False</td>\n",
              "      <td>False</td>\n",
              "      <td>False</td>\n",
              "      <td>False</td>\n",
              "      <td>False</td>\n",
              "      <td>...</td>\n",
              "      <td>False</td>\n",
              "      <td>False</td>\n",
              "      <td>False</td>\n",
              "      <td>False</td>\n",
              "      <td>False</td>\n",
              "      <td>False</td>\n",
              "      <td>False</td>\n",
              "      <td>False</td>\n",
              "      <td>True</td>\n",
              "      <td>False</td>\n",
              "      <td>False</td>\n",
              "      <td>False</td>\n",
              "      <td>False</td>\n",
              "      <td>False</td>\n",
              "      <td>False</td>\n",
              "      <td>False</td>\n",
              "      <td>False</td>\n",
              "      <td>False</td>\n",
              "      <td>False</td>\n",
              "      <td>False</td>\n",
              "      <td>False</td>\n",
              "      <td>False</td>\n",
              "      <td>False</td>\n",
              "      <td>False</td>\n",
              "      <td>False</td>\n",
              "      <td>False</td>\n",
              "      <td>False</td>\n",
              "      <td>False</td>\n",
              "      <td>False</td>\n",
              "      <td>False</td>\n",
              "      <td>False</td>\n",
              "      <td>False</td>\n",
              "      <td>False</td>\n",
              "      <td>False</td>\n",
              "      <td>False</td>\n",
              "      <td>False</td>\n",
              "      <td>False</td>\n",
              "      <td>False</td>\n",
              "      <td>False</td>\n",
              "      <td>False</td>\n",
              "    </tr>\n",
              "  </tbody>\n",
              "</table>\n",
              "<p>5 rows × 168 columns</p>\n",
              "</div>"
            ],
            "text/plain": [
              "     hero_names  Agility  ...  Omnipresent  Omniscient\n",
              "153  Cheetah II     True  ...        False       False\n",
              "648        Wasp     True  ...        False       False\n",
              "657  Wonder Man    False  ...        False       False\n",
              "224      Exodus    False  ...        False       False\n",
              "2    Abe Sapien     True  ...        False       False\n",
              "\n",
              "[5 rows x 168 columns]"
            ]
          },
          "metadata": {
            "tags": []
          },
          "execution_count": 277
        }
      ]
    },
    {
      "cell_type": "markdown",
      "metadata": {
        "id": "hardSZBNEXsS"
      },
      "source": [
        "## Null Values"
      ]
    },
    {
      "cell_type": "markdown",
      "metadata": {
        "id": "Xzi8mXxEEd1Z"
      },
      "source": [
        "### SuperHero.csv"
      ]
    },
    {
      "cell_type": "code",
      "metadata": {
        "colab": {
          "base_uri": "https://localhost:8080/"
        },
        "id": "iLAY4y-tIRjr",
        "outputId": "895124c2-0025-4254-9d75-bda082cdf350"
      },
      "source": [
        "superhero.isnull().sum()"
      ],
      "execution_count": 278,
      "outputs": [
        {
          "output_type": "execute_result",
          "data": {
            "text/plain": [
              "Unnamed: 0            0\n",
              "Unnamed: 0.1          0\n",
              "Name                  0\n",
              "Url                   0\n",
              "Intelligence         78\n",
              "Strength             78\n",
              "Speed                78\n",
              "Durability           78\n",
              "Power                78\n",
              "Combat               78\n",
              "Full name             0\n",
              "Alter Egos            0\n",
              "Aliases               0\n",
              "Place of birth        0\n",
              "First appearance      0\n",
              "Creator               8\n",
              "Alignment             0\n",
              "Gender                0\n",
              "Race                  0\n",
              "Height                0\n",
              "Weight                0\n",
              "Eye color             0\n",
              "Hair color            0\n",
              "Occupation            0\n",
              "Base                  0\n",
              "Team Affiliation      0\n",
              "Relatives             0\n",
              "Skin color          669\n",
              "Total Power           0\n",
              "dtype: int64"
            ]
          },
          "metadata": {
            "tags": []
          },
          "execution_count": 278
        }
      ]
    },
    {
      "cell_type": "markdown",
      "metadata": {
        "id": "yp_8UUXyEkDy"
      },
      "source": [
        "### heroes_information.csv"
      ]
    },
    {
      "cell_type": "code",
      "metadata": {
        "colab": {
          "base_uri": "https://localhost:8080/"
        },
        "id": "b1HihQb8Ir_7",
        "outputId": "f09aed79-a0b1-4dc1-e1d5-1adbb03123dc"
      },
      "source": [
        "heroes_information.isnull().sum()\n"
      ],
      "execution_count": 279,
      "outputs": [
        {
          "output_type": "execute_result",
          "data": {
            "text/plain": [
              "Unnamed: 0     0\n",
              "name           0\n",
              "Gender         0\n",
              "Eye color      0\n",
              "Race           0\n",
              "Hair color     0\n",
              "Height         0\n",
              "Publisher     15\n",
              "Skin color     0\n",
              "Alignment      0\n",
              "Weight         2\n",
              "dtype: int64"
            ]
          },
          "metadata": {
            "tags": []
          },
          "execution_count": 279
        }
      ]
    },
    {
      "cell_type": "markdown",
      "metadata": {
        "id": "ePTtyjPwErRy"
      },
      "source": [
        "### super_hero_powers.csv"
      ]
    },
    {
      "cell_type": "code",
      "metadata": {
        "colab": {
          "base_uri": "https://localhost:8080/"
        },
        "id": "aVKgQXyFIww5",
        "outputId": "ea8d49d1-de1a-4e49-b43b-47f1932f1149"
      },
      "source": [
        "super_hero_powers.isnull().sum()"
      ],
      "execution_count": 280,
      "outputs": [
        {
          "output_type": "execute_result",
          "data": {
            "text/plain": [
              "hero_names               0\n",
              "Agility                  0\n",
              "Accelerated Healing      0\n",
              "Lantern Power Ring       0\n",
              "Dimensional Awareness    0\n",
              "                        ..\n",
              "Phoenix Force            0\n",
              "Molecular Dissipation    0\n",
              "Vision - Cryo            0\n",
              "Omnipresent              0\n",
              "Omniscient               0\n",
              "Length: 168, dtype: int64"
            ]
          },
          "metadata": {
            "tags": []
          },
          "execution_count": 280
        }
      ]
    },
    {
      "cell_type": "code",
      "metadata": {
        "colab": {
          "base_uri": "https://localhost:8080/"
        },
        "id": "6xO8uhtsI1dT",
        "outputId": "cc329436-a7a2-4e2b-81d6-c6f07b64e148"
      },
      "source": [
        "super_hero_powers.isnull().sum().sum()"
      ],
      "execution_count": 281,
      "outputs": [
        {
          "output_type": "execute_result",
          "data": {
            "text/plain": [
              "0"
            ]
          },
          "metadata": {
            "tags": []
          },
          "execution_count": 281
        }
      ]
    },
    {
      "cell_type": "markdown",
      "metadata": {
        "id": "dbqj74IMEuxE"
      },
      "source": [
        "## Duplicates"
      ]
    },
    {
      "cell_type": "markdown",
      "metadata": {
        "id": "5-eEIBHLE-hp"
      },
      "source": [
        "### SuperHero.csv"
      ]
    },
    {
      "cell_type": "code",
      "metadata": {
        "colab": {
          "base_uri": "https://localhost:8080/"
        },
        "id": "9mj0oBWAI8nR",
        "outputId": "cae9c5a7-ed3d-4167-bf62-6412dc26ed0c"
      },
      "source": [
        "superhero.duplicated().sum()"
      ],
      "execution_count": 282,
      "outputs": [
        {
          "output_type": "execute_result",
          "data": {
            "text/plain": [
              "0"
            ]
          },
          "metadata": {
            "tags": []
          },
          "execution_count": 282
        }
      ]
    },
    {
      "cell_type": "markdown",
      "metadata": {
        "id": "l8oEiMxMFBJS"
      },
      "source": [
        "### heroes_information.csv"
      ]
    },
    {
      "cell_type": "code",
      "metadata": {
        "colab": {
          "base_uri": "https://localhost:8080/"
        },
        "id": "7vth1ZnkLaQQ",
        "outputId": "938a480d-d430-4ffe-f624-f79d948f3667"
      },
      "source": [
        "heroes_information.duplicated().sum()\n"
      ],
      "execution_count": 283,
      "outputs": [
        {
          "output_type": "execute_result",
          "data": {
            "text/plain": [
              "0"
            ]
          },
          "metadata": {
            "tags": []
          },
          "execution_count": 283
        }
      ]
    },
    {
      "cell_type": "markdown",
      "metadata": {
        "id": "uqp7VmGrFFYC"
      },
      "source": [
        "### super_hero_powers.csv"
      ]
    },
    {
      "cell_type": "code",
      "metadata": {
        "colab": {
          "base_uri": "https://localhost:8080/"
        },
        "id": "DFYDLkDuLyNh",
        "outputId": "c5463299-fcfc-4c30-d61e-7b3c608a8ca4"
      },
      "source": [
        "super_hero_powers.duplicated().sum()"
      ],
      "execution_count": 284,
      "outputs": [
        {
          "output_type": "execute_result",
          "data": {
            "text/plain": [
              "0"
            ]
          },
          "metadata": {
            "tags": []
          },
          "execution_count": 284
        }
      ]
    },
    {
      "cell_type": "markdown",
      "metadata": {
        "id": "YL5UQT-oFhox"
      },
      "source": [
        "# Data Cleaning"
      ]
    },
    {
      "cell_type": "markdown",
      "metadata": {
        "id": "uKfd-IngFnKR"
      },
      "source": [
        "## SuperHero.csv"
      ]
    },
    {
      "cell_type": "markdown",
      "metadata": {
        "id": "X-7pgE0nVmRt"
      },
      "source": [
        "**Step 1:** Eliminate unnecessary columns like: \"Skin color\",\"Unnamed: 0\", \"Unnamed: 0.1\",'Url','Full name,'Alter Egos','Aliases','Place of birth','Eye color','Hair color','Occupation','Base','Team Affiliation','Relatives'\n"
      ]
    },
    {
      "cell_type": "code",
      "metadata": {
        "id": "0eeSYV0RL7XB",
        "colab": {
          "base_uri": "https://localhost:8080/",
          "height": 0
        },
        "outputId": "51b71184-5fa3-488a-d903-0f6f289fba30"
      },
      "source": [
        "superhero_clean = superhero.copy(deep = True)\n",
        "superhero_clean.drop(columns = ['Skin color','Unnamed: 0', 'Unnamed: 0.1','Url','Full name','Alter Egos','Aliases',\n",
        "                                'Place of birth','Height','Weight','Eye color','Hair color','Occupation','Base','Team Affiliation','Relatives','First appearance'], inplace=True)\n",
        "superhero_clean"
      ],
      "execution_count": 285,
      "outputs": [
        {
          "output_type": "execute_result",
          "data": {
            "text/html": [
              "<div>\n",
              "<style scoped>\n",
              "    .dataframe tbody tr th:only-of-type {\n",
              "        vertical-align: middle;\n",
              "    }\n",
              "\n",
              "    .dataframe tbody tr th {\n",
              "        vertical-align: top;\n",
              "    }\n",
              "\n",
              "    .dataframe thead th {\n",
              "        text-align: right;\n",
              "    }\n",
              "</style>\n",
              "<table border=\"1\" class=\"dataframe\">\n",
              "  <thead>\n",
              "    <tr style=\"text-align: right;\">\n",
              "      <th></th>\n",
              "      <th>Name</th>\n",
              "      <th>Intelligence</th>\n",
              "      <th>Strength</th>\n",
              "      <th>Speed</th>\n",
              "      <th>Durability</th>\n",
              "      <th>Power</th>\n",
              "      <th>Combat</th>\n",
              "      <th>Creator</th>\n",
              "      <th>Alignment</th>\n",
              "      <th>Gender</th>\n",
              "      <th>Race</th>\n",
              "      <th>Total Power</th>\n",
              "    </tr>\n",
              "  </thead>\n",
              "  <tbody>\n",
              "    <tr>\n",
              "      <th>0</th>\n",
              "      <td>3-D Man</td>\n",
              "      <td>80.0</td>\n",
              "      <td>35.0</td>\n",
              "      <td>45.0</td>\n",
              "      <td>35.0</td>\n",
              "      <td>25.0</td>\n",
              "      <td>55.0</td>\n",
              "      <td>Marvel Comics</td>\n",
              "      <td>good</td>\n",
              "      <td>Male</td>\n",
              "      <td>-</td>\n",
              "      <td>275.0</td>\n",
              "    </tr>\n",
              "    <tr>\n",
              "      <th>1</th>\n",
              "      <td>A-Bomb</td>\n",
              "      <td>75.0</td>\n",
              "      <td>100.0</td>\n",
              "      <td>20.0</td>\n",
              "      <td>80.0</td>\n",
              "      <td>25.0</td>\n",
              "      <td>65.0</td>\n",
              "      <td>Marvel Comics</td>\n",
              "      <td>good</td>\n",
              "      <td>Male</td>\n",
              "      <td>Human</td>\n",
              "      <td>365.0</td>\n",
              "    </tr>\n",
              "    <tr>\n",
              "      <th>2</th>\n",
              "      <td>Abe Sapien</td>\n",
              "      <td>95.0</td>\n",
              "      <td>30.0</td>\n",
              "      <td>35.0</td>\n",
              "      <td>65.0</td>\n",
              "      <td>100.0</td>\n",
              "      <td>85.0</td>\n",
              "      <td>Dark Horse Comics</td>\n",
              "      <td>good</td>\n",
              "      <td>Male</td>\n",
              "      <td>Icthyo Sapien</td>\n",
              "      <td>410.0</td>\n",
              "    </tr>\n",
              "    <tr>\n",
              "      <th>3</th>\n",
              "      <td>Abin Sur</td>\n",
              "      <td>80.0</td>\n",
              "      <td>90.0</td>\n",
              "      <td>55.0</td>\n",
              "      <td>65.0</td>\n",
              "      <td>100.0</td>\n",
              "      <td>65.0</td>\n",
              "      <td>DC Comics</td>\n",
              "      <td>good</td>\n",
              "      <td>Male</td>\n",
              "      <td>Ungaran</td>\n",
              "      <td>455.0</td>\n",
              "    </tr>\n",
              "    <tr>\n",
              "      <th>4</th>\n",
              "      <td>Abomination</td>\n",
              "      <td>85.0</td>\n",
              "      <td>80.0</td>\n",
              "      <td>55.0</td>\n",
              "      <td>90.0</td>\n",
              "      <td>65.0</td>\n",
              "      <td>95.0</td>\n",
              "      <td>Marvel Comics</td>\n",
              "      <td>bad</td>\n",
              "      <td>Male</td>\n",
              "      <td>Human / Radiation</td>\n",
              "      <td>470.0</td>\n",
              "    </tr>\n",
              "    <tr>\n",
              "      <th>...</th>\n",
              "      <td>...</td>\n",
              "      <td>...</td>\n",
              "      <td>...</td>\n",
              "      <td>...</td>\n",
              "      <td>...</td>\n",
              "      <td>...</td>\n",
              "      <td>...</td>\n",
              "      <td>...</td>\n",
              "      <td>...</td>\n",
              "      <td>...</td>\n",
              "      <td>...</td>\n",
              "      <td>...</td>\n",
              "    </tr>\n",
              "    <tr>\n",
              "      <th>738</th>\n",
              "      <td>Yellowjacket II</td>\n",
              "      <td>80.0</td>\n",
              "      <td>10.0</td>\n",
              "      <td>35.0</td>\n",
              "      <td>30.0</td>\n",
              "      <td>35.0</td>\n",
              "      <td>30.0</td>\n",
              "      <td>Marvel Comics</td>\n",
              "      <td>good</td>\n",
              "      <td>Female</td>\n",
              "      <td>Human</td>\n",
              "      <td>220.0</td>\n",
              "    </tr>\n",
              "    <tr>\n",
              "      <th>739</th>\n",
              "      <td>Ymir</td>\n",
              "      <td>80.0</td>\n",
              "      <td>100.0</td>\n",
              "      <td>30.0</td>\n",
              "      <td>100.0</td>\n",
              "      <td>100.0</td>\n",
              "      <td>30.0</td>\n",
              "      <td>Marvel Comics</td>\n",
              "      <td>good</td>\n",
              "      <td>Male</td>\n",
              "      <td>Frost Giant</td>\n",
              "      <td>440.0</td>\n",
              "    </tr>\n",
              "    <tr>\n",
              "      <th>740</th>\n",
              "      <td>Yoda</td>\n",
              "      <td>95.0</td>\n",
              "      <td>55.0</td>\n",
              "      <td>35.0</td>\n",
              "      <td>25.0</td>\n",
              "      <td>100.0</td>\n",
              "      <td>90.0</td>\n",
              "      <td>George Lucas</td>\n",
              "      <td>good</td>\n",
              "      <td>Male</td>\n",
              "      <td>Yoda's species</td>\n",
              "      <td>400.0</td>\n",
              "    </tr>\n",
              "    <tr>\n",
              "      <th>741</th>\n",
              "      <td>Zatanna</td>\n",
              "      <td>95.0</td>\n",
              "      <td>10.0</td>\n",
              "      <td>25.0</td>\n",
              "      <td>30.0</td>\n",
              "      <td>100.0</td>\n",
              "      <td>60.0</td>\n",
              "      <td>DC Comics</td>\n",
              "      <td>good</td>\n",
              "      <td>Female</td>\n",
              "      <td>Human</td>\n",
              "      <td>320.0</td>\n",
              "    </tr>\n",
              "    <tr>\n",
              "      <th>742</th>\n",
              "      <td>Zoom</td>\n",
              "      <td>80.0</td>\n",
              "      <td>10.0</td>\n",
              "      <td>100.0</td>\n",
              "      <td>30.0</td>\n",
              "      <td>100.0</td>\n",
              "      <td>30.0</td>\n",
              "      <td>DC Comics</td>\n",
              "      <td>bad</td>\n",
              "      <td>Male</td>\n",
              "      <td>-</td>\n",
              "      <td>350.0</td>\n",
              "    </tr>\n",
              "  </tbody>\n",
              "</table>\n",
              "<p>743 rows × 12 columns</p>\n",
              "</div>"
            ],
            "text/plain": [
              "                Name  Intelligence  ...               Race  Total Power\n",
              "0            3-D Man          80.0  ...                  -        275.0\n",
              "1             A-Bomb          75.0  ...              Human        365.0\n",
              "2         Abe Sapien          95.0  ...      Icthyo Sapien        410.0\n",
              "3           Abin Sur          80.0  ...            Ungaran        455.0\n",
              "4        Abomination          85.0  ...  Human / Radiation        470.0\n",
              "..               ...           ...  ...                ...          ...\n",
              "738  Yellowjacket II          80.0  ...              Human        220.0\n",
              "739             Ymir          80.0  ...        Frost Giant        440.0\n",
              "740             Yoda          95.0  ...     Yoda's species        400.0\n",
              "741          Zatanna          95.0  ...              Human        320.0\n",
              "742             Zoom          80.0  ...                  -        350.0\n",
              "\n",
              "[743 rows x 12 columns]"
            ]
          },
          "metadata": {
            "tags": []
          },
          "execution_count": 285
        }
      ]
    },
    {
      "cell_type": "markdown",
      "metadata": {
        "id": "4nAYApqCVpG3"
      },
      "source": [
        "**Step 2:** Filter by comics"
      ]
    },
    {
      "cell_type": "markdown",
      "metadata": {
        "id": "MWtEStKNXUsO"
      },
      "source": [
        "Count the number of values in Marvel Comics and DC Comics"
      ]
    },
    {
      "cell_type": "code",
      "metadata": {
        "colab": {
          "base_uri": "https://localhost:8080/"
        },
        "id": "zggN-FA-WVyH",
        "outputId": "c55a69f4-3f5b-4a50-963e-821f8106cc8e"
      },
      "source": [
        "superhero_clean['Creator'].value_counts()"
      ],
      "execution_count": 286,
      "outputs": [
        {
          "output_type": "execute_result",
          "data": {
            "text/plain": [
              "Marvel Comics        395\n",
              "DC Comics            219\n",
              "NBC - Heroes          19\n",
              "Dark Horse Comics     19\n",
              "George Lucas          15\n",
              "Image Comics          14\n",
              "HarperCollins          6\n",
              "Star Trek              6\n",
              "Team Epic TV           5\n",
              "SyFy                   5\n",
              "ABC Studios            4\n",
              "Shueisha               4\n",
              "Icon Comics            4\n",
              "IDW Publishing         4\n",
              "Wildstorm              4\n",
              "Mattel                 2\n",
              "Sony Pictures          2\n",
              "Microsoft              1\n",
              "J. R. R. Tolkien       1\n",
              "J. K. Rowling          1\n",
              "South Park             1\n",
              "Rebellion              1\n",
              "Universal Studios      1\n",
              "Hanna-Barbera          1\n",
              "Ian Fleming            1\n",
              "Name: Creator, dtype: int64"
            ]
          },
          "metadata": {
            "tags": []
          },
          "execution_count": 286
        }
      ]
    },
    {
      "cell_type": "markdown",
      "metadata": {
        "id": "cwobv5d3Xbyt"
      },
      "source": [
        "Marvale Comics + DC Comics = 614"
      ]
    },
    {
      "cell_type": "code",
      "metadata": {
        "colab": {
          "base_uri": "https://localhost:8080/",
          "height": 0
        },
        "id": "ClC37u0hVyVN",
        "outputId": "c85fe24b-105b-4bc6-be4d-2fb9088bbad1"
      },
      "source": [
        "filter_sh = (superhero_clean['Creator'] == 'Marvel Comics') | (superhero_clean['Creator'] == 'DC Comics') \n",
        "superhero_clean = superhero_clean[filter_sh]\n",
        "superhero_clean"
      ],
      "execution_count": 287,
      "outputs": [
        {
          "output_type": "execute_result",
          "data": {
            "text/html": [
              "<div>\n",
              "<style scoped>\n",
              "    .dataframe tbody tr th:only-of-type {\n",
              "        vertical-align: middle;\n",
              "    }\n",
              "\n",
              "    .dataframe tbody tr th {\n",
              "        vertical-align: top;\n",
              "    }\n",
              "\n",
              "    .dataframe thead th {\n",
              "        text-align: right;\n",
              "    }\n",
              "</style>\n",
              "<table border=\"1\" class=\"dataframe\">\n",
              "  <thead>\n",
              "    <tr style=\"text-align: right;\">\n",
              "      <th></th>\n",
              "      <th>Name</th>\n",
              "      <th>Intelligence</th>\n",
              "      <th>Strength</th>\n",
              "      <th>Speed</th>\n",
              "      <th>Durability</th>\n",
              "      <th>Power</th>\n",
              "      <th>Combat</th>\n",
              "      <th>Creator</th>\n",
              "      <th>Alignment</th>\n",
              "      <th>Gender</th>\n",
              "      <th>Race</th>\n",
              "      <th>Total Power</th>\n",
              "    </tr>\n",
              "  </thead>\n",
              "  <tbody>\n",
              "    <tr>\n",
              "      <th>0</th>\n",
              "      <td>3-D Man</td>\n",
              "      <td>80.0</td>\n",
              "      <td>35.0</td>\n",
              "      <td>45.0</td>\n",
              "      <td>35.0</td>\n",
              "      <td>25.0</td>\n",
              "      <td>55.0</td>\n",
              "      <td>Marvel Comics</td>\n",
              "      <td>good</td>\n",
              "      <td>Male</td>\n",
              "      <td>-</td>\n",
              "      <td>275.0</td>\n",
              "    </tr>\n",
              "    <tr>\n",
              "      <th>1</th>\n",
              "      <td>A-Bomb</td>\n",
              "      <td>75.0</td>\n",
              "      <td>100.0</td>\n",
              "      <td>20.0</td>\n",
              "      <td>80.0</td>\n",
              "      <td>25.0</td>\n",
              "      <td>65.0</td>\n",
              "      <td>Marvel Comics</td>\n",
              "      <td>good</td>\n",
              "      <td>Male</td>\n",
              "      <td>Human</td>\n",
              "      <td>365.0</td>\n",
              "    </tr>\n",
              "    <tr>\n",
              "      <th>3</th>\n",
              "      <td>Abin Sur</td>\n",
              "      <td>80.0</td>\n",
              "      <td>90.0</td>\n",
              "      <td>55.0</td>\n",
              "      <td>65.0</td>\n",
              "      <td>100.0</td>\n",
              "      <td>65.0</td>\n",
              "      <td>DC Comics</td>\n",
              "      <td>good</td>\n",
              "      <td>Male</td>\n",
              "      <td>Ungaran</td>\n",
              "      <td>455.0</td>\n",
              "    </tr>\n",
              "    <tr>\n",
              "      <th>4</th>\n",
              "      <td>Abomination</td>\n",
              "      <td>85.0</td>\n",
              "      <td>80.0</td>\n",
              "      <td>55.0</td>\n",
              "      <td>90.0</td>\n",
              "      <td>65.0</td>\n",
              "      <td>95.0</td>\n",
              "      <td>Marvel Comics</td>\n",
              "      <td>bad</td>\n",
              "      <td>Male</td>\n",
              "      <td>Human / Radiation</td>\n",
              "      <td>470.0</td>\n",
              "    </tr>\n",
              "    <tr>\n",
              "      <th>5</th>\n",
              "      <td>Abraxas</td>\n",
              "      <td>100.0</td>\n",
              "      <td>100.0</td>\n",
              "      <td>85.0</td>\n",
              "      <td>100.0</td>\n",
              "      <td>100.0</td>\n",
              "      <td>55.0</td>\n",
              "      <td>Marvel Comics</td>\n",
              "      <td>bad</td>\n",
              "      <td>Male</td>\n",
              "      <td>Cosmic Entity</td>\n",
              "      <td>540.0</td>\n",
              "    </tr>\n",
              "    <tr>\n",
              "      <th>...</th>\n",
              "      <td>...</td>\n",
              "      <td>...</td>\n",
              "      <td>...</td>\n",
              "      <td>...</td>\n",
              "      <td>...</td>\n",
              "      <td>...</td>\n",
              "      <td>...</td>\n",
              "      <td>...</td>\n",
              "      <td>...</td>\n",
              "      <td>...</td>\n",
              "      <td>...</td>\n",
              "      <td>...</td>\n",
              "    </tr>\n",
              "    <tr>\n",
              "      <th>737</th>\n",
              "      <td>Yellowjacket</td>\n",
              "      <td>95.0</td>\n",
              "      <td>10.0</td>\n",
              "      <td>15.0</td>\n",
              "      <td>30.0</td>\n",
              "      <td>15.0</td>\n",
              "      <td>15.0</td>\n",
              "      <td>Marvel Comics</td>\n",
              "      <td>good</td>\n",
              "      <td>Male</td>\n",
              "      <td>Human</td>\n",
              "      <td>180.0</td>\n",
              "    </tr>\n",
              "    <tr>\n",
              "      <th>738</th>\n",
              "      <td>Yellowjacket II</td>\n",
              "      <td>80.0</td>\n",
              "      <td>10.0</td>\n",
              "      <td>35.0</td>\n",
              "      <td>30.0</td>\n",
              "      <td>35.0</td>\n",
              "      <td>30.0</td>\n",
              "      <td>Marvel Comics</td>\n",
              "      <td>good</td>\n",
              "      <td>Female</td>\n",
              "      <td>Human</td>\n",
              "      <td>220.0</td>\n",
              "    </tr>\n",
              "    <tr>\n",
              "      <th>739</th>\n",
              "      <td>Ymir</td>\n",
              "      <td>80.0</td>\n",
              "      <td>100.0</td>\n",
              "      <td>30.0</td>\n",
              "      <td>100.0</td>\n",
              "      <td>100.0</td>\n",
              "      <td>30.0</td>\n",
              "      <td>Marvel Comics</td>\n",
              "      <td>good</td>\n",
              "      <td>Male</td>\n",
              "      <td>Frost Giant</td>\n",
              "      <td>440.0</td>\n",
              "    </tr>\n",
              "    <tr>\n",
              "      <th>741</th>\n",
              "      <td>Zatanna</td>\n",
              "      <td>95.0</td>\n",
              "      <td>10.0</td>\n",
              "      <td>25.0</td>\n",
              "      <td>30.0</td>\n",
              "      <td>100.0</td>\n",
              "      <td>60.0</td>\n",
              "      <td>DC Comics</td>\n",
              "      <td>good</td>\n",
              "      <td>Female</td>\n",
              "      <td>Human</td>\n",
              "      <td>320.0</td>\n",
              "    </tr>\n",
              "    <tr>\n",
              "      <th>742</th>\n",
              "      <td>Zoom</td>\n",
              "      <td>80.0</td>\n",
              "      <td>10.0</td>\n",
              "      <td>100.0</td>\n",
              "      <td>30.0</td>\n",
              "      <td>100.0</td>\n",
              "      <td>30.0</td>\n",
              "      <td>DC Comics</td>\n",
              "      <td>bad</td>\n",
              "      <td>Male</td>\n",
              "      <td>-</td>\n",
              "      <td>350.0</td>\n",
              "    </tr>\n",
              "  </tbody>\n",
              "</table>\n",
              "<p>614 rows × 12 columns</p>\n",
              "</div>"
            ],
            "text/plain": [
              "                Name  Intelligence  ...               Race  Total Power\n",
              "0            3-D Man          80.0  ...                  -        275.0\n",
              "1             A-Bomb          75.0  ...              Human        365.0\n",
              "3           Abin Sur          80.0  ...            Ungaran        455.0\n",
              "4        Abomination          85.0  ...  Human / Radiation        470.0\n",
              "5            Abraxas         100.0  ...      Cosmic Entity        540.0\n",
              "..               ...           ...  ...                ...          ...\n",
              "737     Yellowjacket          95.0  ...              Human        180.0\n",
              "738  Yellowjacket II          80.0  ...              Human        220.0\n",
              "739             Ymir          80.0  ...        Frost Giant        440.0\n",
              "741          Zatanna          95.0  ...              Human        320.0\n",
              "742             Zoom          80.0  ...                  -        350.0\n",
              "\n",
              "[614 rows x 12 columns]"
            ]
          },
          "metadata": {
            "tags": []
          },
          "execution_count": 287
        }
      ]
    },
    {
      "cell_type": "markdown",
      "metadata": {
        "id": "JIwoBGy7XilU"
      },
      "source": [
        "We can see that the result is 614 rows so we do it well."
      ]
    },
    {
      "cell_type": "markdown",
      "metadata": {
        "id": "N8bYtuYKFhnh"
      },
      "source": [
        "## heroes_information.csv"
      ]
    },
    {
      "cell_type": "markdown",
      "metadata": {
        "id": "kMvy7traa1Ak"
      },
      "source": [
        "**Step 1:** Eliminate 'Unnamed: 0','Hair color','Height','Skin color','Height','Weight'\n"
      ]
    },
    {
      "cell_type": "code",
      "metadata": {
        "colab": {
          "base_uri": "https://localhost:8080/",
          "height": 0
        },
        "id": "kRgvuTnUa3Qj",
        "outputId": "e1b53ddd-7827-4db6-bfaa-c6aa4ef4e824"
      },
      "source": [
        "heroes_information_clean = heroes_information.copy(deep = True)\n",
        "heroes_information_clean.drop(columns = ['Unnamed: 0','Eye color','Hair color','Height','Skin color','Height','Weight'], inplace = True)\n",
        "heroes_information_clean"
      ],
      "execution_count": 288,
      "outputs": [
        {
          "output_type": "execute_result",
          "data": {
            "text/html": [
              "<div>\n",
              "<style scoped>\n",
              "    .dataframe tbody tr th:only-of-type {\n",
              "        vertical-align: middle;\n",
              "    }\n",
              "\n",
              "    .dataframe tbody tr th {\n",
              "        vertical-align: top;\n",
              "    }\n",
              "\n",
              "    .dataframe thead th {\n",
              "        text-align: right;\n",
              "    }\n",
              "</style>\n",
              "<table border=\"1\" class=\"dataframe\">\n",
              "  <thead>\n",
              "    <tr style=\"text-align: right;\">\n",
              "      <th></th>\n",
              "      <th>name</th>\n",
              "      <th>Gender</th>\n",
              "      <th>Race</th>\n",
              "      <th>Publisher</th>\n",
              "      <th>Alignment</th>\n",
              "    </tr>\n",
              "  </thead>\n",
              "  <tbody>\n",
              "    <tr>\n",
              "      <th>0</th>\n",
              "      <td>A-Bomb</td>\n",
              "      <td>Male</td>\n",
              "      <td>Human</td>\n",
              "      <td>Marvel Comics</td>\n",
              "      <td>good</td>\n",
              "    </tr>\n",
              "    <tr>\n",
              "      <th>1</th>\n",
              "      <td>Abe Sapien</td>\n",
              "      <td>Male</td>\n",
              "      <td>Icthyo Sapien</td>\n",
              "      <td>Dark Horse Comics</td>\n",
              "      <td>good</td>\n",
              "    </tr>\n",
              "    <tr>\n",
              "      <th>2</th>\n",
              "      <td>Abin Sur</td>\n",
              "      <td>Male</td>\n",
              "      <td>Ungaran</td>\n",
              "      <td>DC Comics</td>\n",
              "      <td>good</td>\n",
              "    </tr>\n",
              "    <tr>\n",
              "      <th>3</th>\n",
              "      <td>Abomination</td>\n",
              "      <td>Male</td>\n",
              "      <td>Human / Radiation</td>\n",
              "      <td>Marvel Comics</td>\n",
              "      <td>bad</td>\n",
              "    </tr>\n",
              "    <tr>\n",
              "      <th>4</th>\n",
              "      <td>Abraxas</td>\n",
              "      <td>Male</td>\n",
              "      <td>Cosmic Entity</td>\n",
              "      <td>Marvel Comics</td>\n",
              "      <td>bad</td>\n",
              "    </tr>\n",
              "    <tr>\n",
              "      <th>...</th>\n",
              "      <td>...</td>\n",
              "      <td>...</td>\n",
              "      <td>...</td>\n",
              "      <td>...</td>\n",
              "      <td>...</td>\n",
              "    </tr>\n",
              "    <tr>\n",
              "      <th>729</th>\n",
              "      <td>Yellowjacket II</td>\n",
              "      <td>Female</td>\n",
              "      <td>Human</td>\n",
              "      <td>Marvel Comics</td>\n",
              "      <td>good</td>\n",
              "    </tr>\n",
              "    <tr>\n",
              "      <th>730</th>\n",
              "      <td>Ymir</td>\n",
              "      <td>Male</td>\n",
              "      <td>Frost Giant</td>\n",
              "      <td>Marvel Comics</td>\n",
              "      <td>good</td>\n",
              "    </tr>\n",
              "    <tr>\n",
              "      <th>731</th>\n",
              "      <td>Yoda</td>\n",
              "      <td>Male</td>\n",
              "      <td>Yoda's species</td>\n",
              "      <td>George Lucas</td>\n",
              "      <td>good</td>\n",
              "    </tr>\n",
              "    <tr>\n",
              "      <th>732</th>\n",
              "      <td>Zatanna</td>\n",
              "      <td>Female</td>\n",
              "      <td>Human</td>\n",
              "      <td>DC Comics</td>\n",
              "      <td>good</td>\n",
              "    </tr>\n",
              "    <tr>\n",
              "      <th>733</th>\n",
              "      <td>Zoom</td>\n",
              "      <td>Male</td>\n",
              "      <td>-</td>\n",
              "      <td>DC Comics</td>\n",
              "      <td>bad</td>\n",
              "    </tr>\n",
              "  </tbody>\n",
              "</table>\n",
              "<p>734 rows × 5 columns</p>\n",
              "</div>"
            ],
            "text/plain": [
              "                name  Gender               Race          Publisher Alignment\n",
              "0             A-Bomb    Male              Human      Marvel Comics      good\n",
              "1         Abe Sapien    Male      Icthyo Sapien  Dark Horse Comics      good\n",
              "2           Abin Sur    Male            Ungaran          DC Comics      good\n",
              "3        Abomination    Male  Human / Radiation      Marvel Comics       bad\n",
              "4            Abraxas    Male      Cosmic Entity      Marvel Comics       bad\n",
              "..               ...     ...                ...                ...       ...\n",
              "729  Yellowjacket II  Female              Human      Marvel Comics      good\n",
              "730             Ymir    Male        Frost Giant      Marvel Comics      good\n",
              "731             Yoda    Male     Yoda's species       George Lucas      good\n",
              "732          Zatanna  Female              Human          DC Comics      good\n",
              "733             Zoom    Male                  -          DC Comics       bad\n",
              "\n",
              "[734 rows x 5 columns]"
            ]
          },
          "metadata": {
            "tags": []
          },
          "execution_count": 288
        }
      ]
    },
    {
      "cell_type": "markdown",
      "metadata": {
        "id": "PPGbgZClb8-6"
      },
      "source": [
        "**Step 2** : Filter by comics.\n"
      ]
    },
    {
      "cell_type": "code",
      "metadata": {
        "colab": {
          "base_uri": "https://localhost:8080/",
          "height": 0
        },
        "id": "HS2AIwi-b9ob",
        "outputId": "f9aefb84-cebb-4e31-94a7-ea401d3f5056"
      },
      "source": [
        "filter_hi = (heroes_information_clean['Publisher'] == 'Marvel Comics') | (heroes_information_clean['Publisher'] == 'DC Comics') \n",
        "heroes_information_clean = heroes_information_clean[filter_hi]\n",
        "heroes_information_clean"
      ],
      "execution_count": 289,
      "outputs": [
        {
          "output_type": "execute_result",
          "data": {
            "text/html": [
              "<div>\n",
              "<style scoped>\n",
              "    .dataframe tbody tr th:only-of-type {\n",
              "        vertical-align: middle;\n",
              "    }\n",
              "\n",
              "    .dataframe tbody tr th {\n",
              "        vertical-align: top;\n",
              "    }\n",
              "\n",
              "    .dataframe thead th {\n",
              "        text-align: right;\n",
              "    }\n",
              "</style>\n",
              "<table border=\"1\" class=\"dataframe\">\n",
              "  <thead>\n",
              "    <tr style=\"text-align: right;\">\n",
              "      <th></th>\n",
              "      <th>name</th>\n",
              "      <th>Gender</th>\n",
              "      <th>Race</th>\n",
              "      <th>Publisher</th>\n",
              "      <th>Alignment</th>\n",
              "    </tr>\n",
              "  </thead>\n",
              "  <tbody>\n",
              "    <tr>\n",
              "      <th>0</th>\n",
              "      <td>A-Bomb</td>\n",
              "      <td>Male</td>\n",
              "      <td>Human</td>\n",
              "      <td>Marvel Comics</td>\n",
              "      <td>good</td>\n",
              "    </tr>\n",
              "    <tr>\n",
              "      <th>2</th>\n",
              "      <td>Abin Sur</td>\n",
              "      <td>Male</td>\n",
              "      <td>Ungaran</td>\n",
              "      <td>DC Comics</td>\n",
              "      <td>good</td>\n",
              "    </tr>\n",
              "    <tr>\n",
              "      <th>3</th>\n",
              "      <td>Abomination</td>\n",
              "      <td>Male</td>\n",
              "      <td>Human / Radiation</td>\n",
              "      <td>Marvel Comics</td>\n",
              "      <td>bad</td>\n",
              "    </tr>\n",
              "    <tr>\n",
              "      <th>4</th>\n",
              "      <td>Abraxas</td>\n",
              "      <td>Male</td>\n",
              "      <td>Cosmic Entity</td>\n",
              "      <td>Marvel Comics</td>\n",
              "      <td>bad</td>\n",
              "    </tr>\n",
              "    <tr>\n",
              "      <th>5</th>\n",
              "      <td>Absorbing Man</td>\n",
              "      <td>Male</td>\n",
              "      <td>Human</td>\n",
              "      <td>Marvel Comics</td>\n",
              "      <td>bad</td>\n",
              "    </tr>\n",
              "    <tr>\n",
              "      <th>...</th>\n",
              "      <td>...</td>\n",
              "      <td>...</td>\n",
              "      <td>...</td>\n",
              "      <td>...</td>\n",
              "      <td>...</td>\n",
              "    </tr>\n",
              "    <tr>\n",
              "      <th>728</th>\n",
              "      <td>Yellowjacket</td>\n",
              "      <td>Male</td>\n",
              "      <td>Human</td>\n",
              "      <td>Marvel Comics</td>\n",
              "      <td>good</td>\n",
              "    </tr>\n",
              "    <tr>\n",
              "      <th>729</th>\n",
              "      <td>Yellowjacket II</td>\n",
              "      <td>Female</td>\n",
              "      <td>Human</td>\n",
              "      <td>Marvel Comics</td>\n",
              "      <td>good</td>\n",
              "    </tr>\n",
              "    <tr>\n",
              "      <th>730</th>\n",
              "      <td>Ymir</td>\n",
              "      <td>Male</td>\n",
              "      <td>Frost Giant</td>\n",
              "      <td>Marvel Comics</td>\n",
              "      <td>good</td>\n",
              "    </tr>\n",
              "    <tr>\n",
              "      <th>732</th>\n",
              "      <td>Zatanna</td>\n",
              "      <td>Female</td>\n",
              "      <td>Human</td>\n",
              "      <td>DC Comics</td>\n",
              "      <td>good</td>\n",
              "    </tr>\n",
              "    <tr>\n",
              "      <th>733</th>\n",
              "      <td>Zoom</td>\n",
              "      <td>Male</td>\n",
              "      <td>-</td>\n",
              "      <td>DC Comics</td>\n",
              "      <td>bad</td>\n",
              "    </tr>\n",
              "  </tbody>\n",
              "</table>\n",
              "<p>603 rows × 5 columns</p>\n",
              "</div>"
            ],
            "text/plain": [
              "                name  Gender               Race      Publisher Alignment\n",
              "0             A-Bomb    Male              Human  Marvel Comics      good\n",
              "2           Abin Sur    Male            Ungaran      DC Comics      good\n",
              "3        Abomination    Male  Human / Radiation  Marvel Comics       bad\n",
              "4            Abraxas    Male      Cosmic Entity  Marvel Comics       bad\n",
              "5      Absorbing Man    Male              Human  Marvel Comics       bad\n",
              "..               ...     ...                ...            ...       ...\n",
              "728     Yellowjacket    Male              Human  Marvel Comics      good\n",
              "729  Yellowjacket II  Female              Human  Marvel Comics      good\n",
              "730             Ymir    Male        Frost Giant  Marvel Comics      good\n",
              "732          Zatanna  Female              Human      DC Comics      good\n",
              "733             Zoom    Male                  -      DC Comics       bad\n",
              "\n",
              "[603 rows x 5 columns]"
            ]
          },
          "metadata": {
            "tags": []
          },
          "execution_count": 289
        }
      ]
    },
    {
      "cell_type": "markdown",
      "metadata": {
        "id": "BrjFNgO3ccvq"
      },
      "source": [
        "**Step 3:** Check the filter"
      ]
    },
    {
      "cell_type": "code",
      "metadata": {
        "colab": {
          "base_uri": "https://localhost:8080/"
        },
        "id": "i_iYXN2tcn6L",
        "outputId": "0239e504-5b20-4c21-f11e-157970b44726"
      },
      "source": [
        "heroes_information_clean['Publisher'].unique()"
      ],
      "execution_count": 290,
      "outputs": [
        {
          "output_type": "execute_result",
          "data": {
            "text/plain": [
              "array(['Marvel Comics', 'DC Comics'], dtype=object)"
            ]
          },
          "metadata": {
            "tags": []
          },
          "execution_count": 290
        }
      ]
    },
    {
      "cell_type": "markdown",
      "metadata": {
        "id": "GS9DRrEjFv8r"
      },
      "source": [
        "## super_hero_powers.csv\n",
        "\n"
      ]
    },
    {
      "cell_type": "markdown",
      "metadata": {
        "id": "ZKeyIs1Pj3NA"
      },
      "source": [
        "We need to transform the data in a long format to visualize it better.\n",
        "\n",
        "**Step 1:** Obtain all the columns as a list"
      ]
    },
    {
      "cell_type": "code",
      "metadata": {
        "id": "W0wADveJU_tk",
        "colab": {
          "base_uri": "https://localhost:8080/"
        },
        "outputId": "87a194f6-684d-4eab-8d8e-d91243df040a"
      },
      "source": [
        "super_hero_powers_clean = super_hero_powers.copy(deep = True)\n",
        "shpc_columns = list(super_hero_powers_clean.columns)\n",
        "shpc_columns"
      ],
      "execution_count": 291,
      "outputs": [
        {
          "output_type": "execute_result",
          "data": {
            "text/plain": [
              "['hero_names',\n",
              " 'Agility',\n",
              " 'Accelerated Healing',\n",
              " 'Lantern Power Ring',\n",
              " 'Dimensional Awareness',\n",
              " 'Cold Resistance',\n",
              " 'Durability',\n",
              " 'Stealth',\n",
              " 'Energy Absorption',\n",
              " 'Flight',\n",
              " 'Danger Sense',\n",
              " 'Underwater breathing',\n",
              " 'Marksmanship',\n",
              " 'Weapons Master',\n",
              " 'Power Augmentation',\n",
              " 'Animal Attributes',\n",
              " 'Longevity',\n",
              " 'Intelligence',\n",
              " 'Super Strength',\n",
              " 'Cryokinesis',\n",
              " 'Telepathy',\n",
              " 'Energy Armor',\n",
              " 'Energy Blasts',\n",
              " 'Duplication',\n",
              " 'Size Changing',\n",
              " 'Density Control',\n",
              " 'Stamina',\n",
              " 'Astral Travel',\n",
              " 'Audio Control',\n",
              " 'Dexterity',\n",
              " 'Omnitrix',\n",
              " 'Super Speed',\n",
              " 'Possession',\n",
              " 'Animal Oriented Powers',\n",
              " 'Weapon-based Powers',\n",
              " 'Electrokinesis',\n",
              " 'Darkforce Manipulation',\n",
              " 'Death Touch',\n",
              " 'Teleportation',\n",
              " 'Enhanced Senses',\n",
              " 'Telekinesis',\n",
              " 'Energy Beams',\n",
              " 'Magic',\n",
              " 'Hyperkinesis',\n",
              " 'Jump',\n",
              " 'Clairvoyance',\n",
              " 'Dimensional Travel',\n",
              " 'Power Sense',\n",
              " 'Shapeshifting',\n",
              " 'Peak Human Condition',\n",
              " 'Immortality',\n",
              " 'Camouflage',\n",
              " 'Element Control',\n",
              " 'Phasing',\n",
              " 'Astral Projection',\n",
              " 'Electrical Transport',\n",
              " 'Fire Control',\n",
              " 'Projection',\n",
              " 'Summoning',\n",
              " 'Enhanced Memory',\n",
              " 'Reflexes',\n",
              " 'Invulnerability',\n",
              " 'Energy Constructs',\n",
              " 'Force Fields',\n",
              " 'Self-Sustenance',\n",
              " 'Anti-Gravity',\n",
              " 'Empathy',\n",
              " 'Power Nullifier',\n",
              " 'Radiation Control',\n",
              " 'Psionic Powers',\n",
              " 'Elasticity',\n",
              " 'Substance Secretion',\n",
              " 'Elemental Transmogrification',\n",
              " 'Technopath/Cyberpath',\n",
              " 'Photographic Reflexes',\n",
              " 'Seismic Power',\n",
              " 'Animation',\n",
              " 'Precognition',\n",
              " 'Mind Control',\n",
              " 'Fire Resistance',\n",
              " 'Power Absorption',\n",
              " 'Enhanced Hearing',\n",
              " 'Nova Force',\n",
              " 'Insanity',\n",
              " 'Hypnokinesis',\n",
              " 'Animal Control',\n",
              " 'Natural Armor',\n",
              " 'Intangibility',\n",
              " 'Enhanced Sight',\n",
              " 'Molecular Manipulation',\n",
              " 'Heat Generation',\n",
              " 'Adaptation',\n",
              " 'Gliding',\n",
              " 'Power Suit',\n",
              " 'Mind Blast',\n",
              " 'Probability Manipulation',\n",
              " 'Gravity Control',\n",
              " 'Regeneration',\n",
              " 'Light Control',\n",
              " 'Echolocation',\n",
              " 'Levitation',\n",
              " 'Toxin and Disease Control',\n",
              " 'Banish',\n",
              " 'Energy Manipulation',\n",
              " 'Heat Resistance',\n",
              " 'Natural Weapons',\n",
              " 'Time Travel',\n",
              " 'Enhanced Smell',\n",
              " 'Illusions',\n",
              " 'Thirstokinesis',\n",
              " 'Hair Manipulation',\n",
              " 'Illumination',\n",
              " 'Omnipotent',\n",
              " 'Cloaking',\n",
              " 'Changing Armor',\n",
              " 'Power Cosmic',\n",
              " 'Biokinesis',\n",
              " 'Water Control',\n",
              " 'Radiation Immunity',\n",
              " 'Vision - Telescopic',\n",
              " 'Toxin and Disease Resistance',\n",
              " 'Spatial Awareness',\n",
              " 'Energy Resistance',\n",
              " 'Telepathy Resistance',\n",
              " 'Molecular Combustion',\n",
              " 'Omnilingualism',\n",
              " 'Portal Creation',\n",
              " 'Magnetism',\n",
              " 'Mind Control Resistance',\n",
              " 'Plant Control',\n",
              " 'Sonar',\n",
              " 'Sonic Scream',\n",
              " 'Time Manipulation',\n",
              " 'Enhanced Touch',\n",
              " 'Magic Resistance',\n",
              " 'Invisibility',\n",
              " 'Sub-Mariner',\n",
              " 'Radiation Absorption',\n",
              " 'Intuitive aptitude',\n",
              " 'Vision - Microscopic',\n",
              " 'Melting',\n",
              " 'Wind Control',\n",
              " 'Super Breath',\n",
              " 'Wallcrawling',\n",
              " 'Vision - Night',\n",
              " 'Vision - Infrared',\n",
              " 'Grim Reaping',\n",
              " 'Matter Absorption',\n",
              " 'The Force',\n",
              " 'Resurrection',\n",
              " 'Terrakinesis',\n",
              " 'Vision - Heat',\n",
              " 'Vitakinesis',\n",
              " 'Radar Sense',\n",
              " 'Qwardian Power Ring',\n",
              " 'Weather Control',\n",
              " 'Vision - X-Ray',\n",
              " 'Vision - Thermal',\n",
              " 'Web Creation',\n",
              " 'Reality Warping',\n",
              " 'Odin Force',\n",
              " 'Symbiote Costume',\n",
              " 'Speed Force',\n",
              " 'Phoenix Force',\n",
              " 'Molecular Dissipation',\n",
              " 'Vision - Cryo',\n",
              " 'Omnipresent',\n",
              " 'Omniscient']"
            ]
          },
          "metadata": {
            "tags": []
          },
          "execution_count": 291
        }
      ]
    },
    {
      "cell_type": "markdown",
      "metadata": {
        "id": "2A3fZH5uWWSk"
      },
      "source": [
        "**Step 2:** Eliminate the first value"
      ]
    },
    {
      "cell_type": "code",
      "metadata": {
        "id": "hLr5uo1WWg_V",
        "colab": {
          "base_uri": "https://localhost:8080/"
        },
        "outputId": "b84da002-f37d-4b32-a26b-d1d314966412"
      },
      "source": [
        "shpc_columns.remove('hero_names')\n",
        "shpc_columns\n"
      ],
      "execution_count": 292,
      "outputs": [
        {
          "output_type": "execute_result",
          "data": {
            "text/plain": [
              "['Agility',\n",
              " 'Accelerated Healing',\n",
              " 'Lantern Power Ring',\n",
              " 'Dimensional Awareness',\n",
              " 'Cold Resistance',\n",
              " 'Durability',\n",
              " 'Stealth',\n",
              " 'Energy Absorption',\n",
              " 'Flight',\n",
              " 'Danger Sense',\n",
              " 'Underwater breathing',\n",
              " 'Marksmanship',\n",
              " 'Weapons Master',\n",
              " 'Power Augmentation',\n",
              " 'Animal Attributes',\n",
              " 'Longevity',\n",
              " 'Intelligence',\n",
              " 'Super Strength',\n",
              " 'Cryokinesis',\n",
              " 'Telepathy',\n",
              " 'Energy Armor',\n",
              " 'Energy Blasts',\n",
              " 'Duplication',\n",
              " 'Size Changing',\n",
              " 'Density Control',\n",
              " 'Stamina',\n",
              " 'Astral Travel',\n",
              " 'Audio Control',\n",
              " 'Dexterity',\n",
              " 'Omnitrix',\n",
              " 'Super Speed',\n",
              " 'Possession',\n",
              " 'Animal Oriented Powers',\n",
              " 'Weapon-based Powers',\n",
              " 'Electrokinesis',\n",
              " 'Darkforce Manipulation',\n",
              " 'Death Touch',\n",
              " 'Teleportation',\n",
              " 'Enhanced Senses',\n",
              " 'Telekinesis',\n",
              " 'Energy Beams',\n",
              " 'Magic',\n",
              " 'Hyperkinesis',\n",
              " 'Jump',\n",
              " 'Clairvoyance',\n",
              " 'Dimensional Travel',\n",
              " 'Power Sense',\n",
              " 'Shapeshifting',\n",
              " 'Peak Human Condition',\n",
              " 'Immortality',\n",
              " 'Camouflage',\n",
              " 'Element Control',\n",
              " 'Phasing',\n",
              " 'Astral Projection',\n",
              " 'Electrical Transport',\n",
              " 'Fire Control',\n",
              " 'Projection',\n",
              " 'Summoning',\n",
              " 'Enhanced Memory',\n",
              " 'Reflexes',\n",
              " 'Invulnerability',\n",
              " 'Energy Constructs',\n",
              " 'Force Fields',\n",
              " 'Self-Sustenance',\n",
              " 'Anti-Gravity',\n",
              " 'Empathy',\n",
              " 'Power Nullifier',\n",
              " 'Radiation Control',\n",
              " 'Psionic Powers',\n",
              " 'Elasticity',\n",
              " 'Substance Secretion',\n",
              " 'Elemental Transmogrification',\n",
              " 'Technopath/Cyberpath',\n",
              " 'Photographic Reflexes',\n",
              " 'Seismic Power',\n",
              " 'Animation',\n",
              " 'Precognition',\n",
              " 'Mind Control',\n",
              " 'Fire Resistance',\n",
              " 'Power Absorption',\n",
              " 'Enhanced Hearing',\n",
              " 'Nova Force',\n",
              " 'Insanity',\n",
              " 'Hypnokinesis',\n",
              " 'Animal Control',\n",
              " 'Natural Armor',\n",
              " 'Intangibility',\n",
              " 'Enhanced Sight',\n",
              " 'Molecular Manipulation',\n",
              " 'Heat Generation',\n",
              " 'Adaptation',\n",
              " 'Gliding',\n",
              " 'Power Suit',\n",
              " 'Mind Blast',\n",
              " 'Probability Manipulation',\n",
              " 'Gravity Control',\n",
              " 'Regeneration',\n",
              " 'Light Control',\n",
              " 'Echolocation',\n",
              " 'Levitation',\n",
              " 'Toxin and Disease Control',\n",
              " 'Banish',\n",
              " 'Energy Manipulation',\n",
              " 'Heat Resistance',\n",
              " 'Natural Weapons',\n",
              " 'Time Travel',\n",
              " 'Enhanced Smell',\n",
              " 'Illusions',\n",
              " 'Thirstokinesis',\n",
              " 'Hair Manipulation',\n",
              " 'Illumination',\n",
              " 'Omnipotent',\n",
              " 'Cloaking',\n",
              " 'Changing Armor',\n",
              " 'Power Cosmic',\n",
              " 'Biokinesis',\n",
              " 'Water Control',\n",
              " 'Radiation Immunity',\n",
              " 'Vision - Telescopic',\n",
              " 'Toxin and Disease Resistance',\n",
              " 'Spatial Awareness',\n",
              " 'Energy Resistance',\n",
              " 'Telepathy Resistance',\n",
              " 'Molecular Combustion',\n",
              " 'Omnilingualism',\n",
              " 'Portal Creation',\n",
              " 'Magnetism',\n",
              " 'Mind Control Resistance',\n",
              " 'Plant Control',\n",
              " 'Sonar',\n",
              " 'Sonic Scream',\n",
              " 'Time Manipulation',\n",
              " 'Enhanced Touch',\n",
              " 'Magic Resistance',\n",
              " 'Invisibility',\n",
              " 'Sub-Mariner',\n",
              " 'Radiation Absorption',\n",
              " 'Intuitive aptitude',\n",
              " 'Vision - Microscopic',\n",
              " 'Melting',\n",
              " 'Wind Control',\n",
              " 'Super Breath',\n",
              " 'Wallcrawling',\n",
              " 'Vision - Night',\n",
              " 'Vision - Infrared',\n",
              " 'Grim Reaping',\n",
              " 'Matter Absorption',\n",
              " 'The Force',\n",
              " 'Resurrection',\n",
              " 'Terrakinesis',\n",
              " 'Vision - Heat',\n",
              " 'Vitakinesis',\n",
              " 'Radar Sense',\n",
              " 'Qwardian Power Ring',\n",
              " 'Weather Control',\n",
              " 'Vision - X-Ray',\n",
              " 'Vision - Thermal',\n",
              " 'Web Creation',\n",
              " 'Reality Warping',\n",
              " 'Odin Force',\n",
              " 'Symbiote Costume',\n",
              " 'Speed Force',\n",
              " 'Phoenix Force',\n",
              " 'Molecular Dissipation',\n",
              " 'Vision - Cryo',\n",
              " 'Omnipresent',\n",
              " 'Omniscient']"
            ]
          },
          "metadata": {
            "tags": []
          },
          "execution_count": 292
        }
      ]
    },
    {
      "cell_type": "markdown",
      "metadata": {
        "id": "aoP8x7RaXvi7"
      },
      "source": [
        "**Step 3:** Melt the data to transform it to a long format"
      ]
    },
    {
      "cell_type": "code",
      "metadata": {
        "colab": {
          "base_uri": "https://localhost:8080/",
          "height": 0
        },
        "id": "4fd_JwqLWt31",
        "outputId": "727ee80a-54b1-420b-941b-f480a8e2f503"
      },
      "source": [
        "sphc_melt = pd.melt(super_hero_powers_clean, id_vars='hero_names',value_vars = shpc_columns)\n",
        "sphc_melt"
      ],
      "execution_count": 293,
      "outputs": [
        {
          "output_type": "execute_result",
          "data": {
            "text/html": [
              "<div>\n",
              "<style scoped>\n",
              "    .dataframe tbody tr th:only-of-type {\n",
              "        vertical-align: middle;\n",
              "    }\n",
              "\n",
              "    .dataframe tbody tr th {\n",
              "        vertical-align: top;\n",
              "    }\n",
              "\n",
              "    .dataframe thead th {\n",
              "        text-align: right;\n",
              "    }\n",
              "</style>\n",
              "<table border=\"1\" class=\"dataframe\">\n",
              "  <thead>\n",
              "    <tr style=\"text-align: right;\">\n",
              "      <th></th>\n",
              "      <th>hero_names</th>\n",
              "      <th>variable</th>\n",
              "      <th>value</th>\n",
              "    </tr>\n",
              "  </thead>\n",
              "  <tbody>\n",
              "    <tr>\n",
              "      <th>0</th>\n",
              "      <td>3-D Man</td>\n",
              "      <td>Agility</td>\n",
              "      <td>True</td>\n",
              "    </tr>\n",
              "    <tr>\n",
              "      <th>1</th>\n",
              "      <td>A-Bomb</td>\n",
              "      <td>Agility</td>\n",
              "      <td>False</td>\n",
              "    </tr>\n",
              "    <tr>\n",
              "      <th>2</th>\n",
              "      <td>Abe Sapien</td>\n",
              "      <td>Agility</td>\n",
              "      <td>True</td>\n",
              "    </tr>\n",
              "    <tr>\n",
              "      <th>3</th>\n",
              "      <td>Abin Sur</td>\n",
              "      <td>Agility</td>\n",
              "      <td>False</td>\n",
              "    </tr>\n",
              "    <tr>\n",
              "      <th>4</th>\n",
              "      <td>Abomination</td>\n",
              "      <td>Agility</td>\n",
              "      <td>False</td>\n",
              "    </tr>\n",
              "    <tr>\n",
              "      <th>...</th>\n",
              "      <td>...</td>\n",
              "      <td>...</td>\n",
              "      <td>...</td>\n",
              "    </tr>\n",
              "    <tr>\n",
              "      <th>111384</th>\n",
              "      <td>Yellowjacket II</td>\n",
              "      <td>Omniscient</td>\n",
              "      <td>False</td>\n",
              "    </tr>\n",
              "    <tr>\n",
              "      <th>111385</th>\n",
              "      <td>Ymir</td>\n",
              "      <td>Omniscient</td>\n",
              "      <td>False</td>\n",
              "    </tr>\n",
              "    <tr>\n",
              "      <th>111386</th>\n",
              "      <td>Yoda</td>\n",
              "      <td>Omniscient</td>\n",
              "      <td>False</td>\n",
              "    </tr>\n",
              "    <tr>\n",
              "      <th>111387</th>\n",
              "      <td>Zatanna</td>\n",
              "      <td>Omniscient</td>\n",
              "      <td>False</td>\n",
              "    </tr>\n",
              "    <tr>\n",
              "      <th>111388</th>\n",
              "      <td>Zoom</td>\n",
              "      <td>Omniscient</td>\n",
              "      <td>False</td>\n",
              "    </tr>\n",
              "  </tbody>\n",
              "</table>\n",
              "<p>111389 rows × 3 columns</p>\n",
              "</div>"
            ],
            "text/plain": [
              "             hero_names    variable  value\n",
              "0               3-D Man     Agility   True\n",
              "1                A-Bomb     Agility  False\n",
              "2            Abe Sapien     Agility   True\n",
              "3              Abin Sur     Agility  False\n",
              "4           Abomination     Agility  False\n",
              "...                 ...         ...    ...\n",
              "111384  Yellowjacket II  Omniscient  False\n",
              "111385             Ymir  Omniscient  False\n",
              "111386             Yoda  Omniscient  False\n",
              "111387          Zatanna  Omniscient  False\n",
              "111388             Zoom  Omniscient  False\n",
              "\n",
              "[111389 rows x 3 columns]"
            ]
          },
          "metadata": {
            "tags": []
          },
          "execution_count": 293
        }
      ]
    },
    {
      "cell_type": "markdown",
      "metadata": {
        "id": "QSrTqavoYOXD"
      },
      "source": [
        "**Step 4:** Filter with True Value"
      ]
    },
    {
      "cell_type": "code",
      "metadata": {
        "colab": {
          "base_uri": "https://localhost:8080/",
          "height": 0
        },
        "id": "w-ZCCCIEYLcE",
        "outputId": "72674267-ec3a-4b57-c221-1000145122e4"
      },
      "source": [
        "filter_sphc = sphc_melt['value'] == True\n",
        "sphc_melt = sphc_melt[filter_sphc]\n",
        "sphc_melt"
      ],
      "execution_count": 294,
      "outputs": [
        {
          "output_type": "execute_result",
          "data": {
            "text/html": [
              "<div>\n",
              "<style scoped>\n",
              "    .dataframe tbody tr th:only-of-type {\n",
              "        vertical-align: middle;\n",
              "    }\n",
              "\n",
              "    .dataframe tbody tr th {\n",
              "        vertical-align: top;\n",
              "    }\n",
              "\n",
              "    .dataframe thead th {\n",
              "        text-align: right;\n",
              "    }\n",
              "</style>\n",
              "<table border=\"1\" class=\"dataframe\">\n",
              "  <thead>\n",
              "    <tr style=\"text-align: right;\">\n",
              "      <th></th>\n",
              "      <th>hero_names</th>\n",
              "      <th>variable</th>\n",
              "      <th>value</th>\n",
              "    </tr>\n",
              "  </thead>\n",
              "  <tbody>\n",
              "    <tr>\n",
              "      <th>0</th>\n",
              "      <td>3-D Man</td>\n",
              "      <td>Agility</td>\n",
              "      <td>True</td>\n",
              "    </tr>\n",
              "    <tr>\n",
              "      <th>2</th>\n",
              "      <td>Abe Sapien</td>\n",
              "      <td>Agility</td>\n",
              "      <td>True</td>\n",
              "    </tr>\n",
              "    <tr>\n",
              "      <th>12</th>\n",
              "      <td>Ajax</td>\n",
              "      <td>Agility</td>\n",
              "      <td>True</td>\n",
              "    </tr>\n",
              "    <tr>\n",
              "      <th>14</th>\n",
              "      <td>Alex Mercer</td>\n",
              "      <td>Agility</td>\n",
              "      <td>True</td>\n",
              "    </tr>\n",
              "    <tr>\n",
              "      <th>16</th>\n",
              "      <td>Alien</td>\n",
              "      <td>Agility</td>\n",
              "      <td>True</td>\n",
              "    </tr>\n",
              "    <tr>\n",
              "      <th>...</th>\n",
              "      <td>...</td>\n",
              "      <td>...</td>\n",
              "      <td>...</td>\n",
              "    </tr>\n",
              "    <tr>\n",
              "      <th>109472</th>\n",
              "      <td>Bizarro-Girl</td>\n",
              "      <td>Vision - Cryo</td>\n",
              "      <td>True</td>\n",
              "    </tr>\n",
              "    <tr>\n",
              "      <th>110443</th>\n",
              "      <td>Man of Miracles</td>\n",
              "      <td>Omnipresent</td>\n",
              "      <td>True</td>\n",
              "    </tr>\n",
              "    <tr>\n",
              "      <th>110510</th>\n",
              "      <td>One-Above-All</td>\n",
              "      <td>Omnipresent</td>\n",
              "      <td>True</td>\n",
              "    </tr>\n",
              "    <tr>\n",
              "      <th>111110</th>\n",
              "      <td>Man of Miracles</td>\n",
              "      <td>Omniscient</td>\n",
              "      <td>True</td>\n",
              "    </tr>\n",
              "    <tr>\n",
              "      <th>111177</th>\n",
              "      <td>One-Above-All</td>\n",
              "      <td>Omniscient</td>\n",
              "      <td>True</td>\n",
              "    </tr>\n",
              "  </tbody>\n",
              "</table>\n",
              "<p>5874 rows × 3 columns</p>\n",
              "</div>"
            ],
            "text/plain": [
              "             hero_names       variable  value\n",
              "0               3-D Man        Agility   True\n",
              "2            Abe Sapien        Agility   True\n",
              "12                 Ajax        Agility   True\n",
              "14          Alex Mercer        Agility   True\n",
              "16                Alien        Agility   True\n",
              "...                 ...            ...    ...\n",
              "109472     Bizarro-Girl  Vision - Cryo   True\n",
              "110443  Man of Miracles    Omnipresent   True\n",
              "110510    One-Above-All    Omnipresent   True\n",
              "111110  Man of Miracles     Omniscient   True\n",
              "111177    One-Above-All     Omniscient   True\n",
              "\n",
              "[5874 rows x 3 columns]"
            ]
          },
          "metadata": {
            "tags": []
          },
          "execution_count": 294
        }
      ]
    },
    {
      "cell_type": "markdown",
      "metadata": {
        "id": "XROGmyYtbsmy"
      },
      "source": [
        "**Step 5:** Group by \"hero_names\""
      ]
    },
    {
      "cell_type": "code",
      "metadata": {
        "colab": {
          "base_uri": "https://localhost:8080/"
        },
        "id": "V2vYqeA8yle4",
        "outputId": "b9a50ce0-684c-497a-f771-01c0a76c4eab"
      },
      "source": [
        "sphc_melt.groupby('hero_names')['variable']"
      ],
      "execution_count": 295,
      "outputs": [
        {
          "output_type": "execute_result",
          "data": {
            "text/plain": [
              "<pandas.core.groupby.generic.SeriesGroupBy object at 0x7f57cf488c10>"
            ]
          },
          "metadata": {
            "tags": []
          },
          "execution_count": 295
        }
      ]
    },
    {
      "cell_type": "code",
      "metadata": {
        "colab": {
          "base_uri": "https://localhost:8080/",
          "height": 0
        },
        "id": "2znv2wKNaLgj",
        "outputId": "007ed8b7-59b4-41ce-d2e8-d9b5b083a28d"
      },
      "source": [
        "sphc_melt = sphc_melt.groupby('hero_names')['variable'].apply(list).reset_index()\n",
        "sphc_melt"
      ],
      "execution_count": 296,
      "outputs": [
        {
          "output_type": "execute_result",
          "data": {
            "text/html": [
              "<div>\n",
              "<style scoped>\n",
              "    .dataframe tbody tr th:only-of-type {\n",
              "        vertical-align: middle;\n",
              "    }\n",
              "\n",
              "    .dataframe tbody tr th {\n",
              "        vertical-align: top;\n",
              "    }\n",
              "\n",
              "    .dataframe thead th {\n",
              "        text-align: right;\n",
              "    }\n",
              "</style>\n",
              "<table border=\"1\" class=\"dataframe\">\n",
              "  <thead>\n",
              "    <tr style=\"text-align: right;\">\n",
              "      <th></th>\n",
              "      <th>hero_names</th>\n",
              "      <th>variable</th>\n",
              "    </tr>\n",
              "  </thead>\n",
              "  <tbody>\n",
              "    <tr>\n",
              "      <th>0</th>\n",
              "      <td>3-D Man</td>\n",
              "      <td>[Agility, Super Strength, Stamina, Super Speed]</td>\n",
              "    </tr>\n",
              "    <tr>\n",
              "      <th>1</th>\n",
              "      <td>A-Bomb</td>\n",
              "      <td>[Accelerated Healing, Durability, Longevity, S...</td>\n",
              "    </tr>\n",
              "    <tr>\n",
              "      <th>2</th>\n",
              "      <td>Abe Sapien</td>\n",
              "      <td>[Agility, Accelerated Healing, Cold Resistance...</td>\n",
              "    </tr>\n",
              "    <tr>\n",
              "      <th>3</th>\n",
              "      <td>Abin Sur</td>\n",
              "      <td>[Lantern Power Ring]</td>\n",
              "    </tr>\n",
              "    <tr>\n",
              "      <th>4</th>\n",
              "      <td>Abomination</td>\n",
              "      <td>[Accelerated Healing, Intelligence, Super Stre...</td>\n",
              "    </tr>\n",
              "    <tr>\n",
              "      <th>...</th>\n",
              "      <td>...</td>\n",
              "      <td>...</td>\n",
              "    </tr>\n",
              "    <tr>\n",
              "      <th>662</th>\n",
              "      <td>Yellowjacket II</td>\n",
              "      <td>[Flight, Energy Blasts, Size Changing]</td>\n",
              "    </tr>\n",
              "    <tr>\n",
              "      <th>663</th>\n",
              "      <td>Ymir</td>\n",
              "      <td>[Cold Resistance, Durability, Longevity, Super...</td>\n",
              "    </tr>\n",
              "    <tr>\n",
              "      <th>664</th>\n",
              "      <td>Yoda</td>\n",
              "      <td>[Agility, Stealth, Danger Sense, Marksmanship,...</td>\n",
              "    </tr>\n",
              "    <tr>\n",
              "      <th>665</th>\n",
              "      <td>Zatanna</td>\n",
              "      <td>[Cryokinesis, Telepathy, Magic, Fire Control, ...</td>\n",
              "    </tr>\n",
              "    <tr>\n",
              "      <th>666</th>\n",
              "      <td>Zoom</td>\n",
              "      <td>[Super Speed, Intangibility, Time Travel, Time...</td>\n",
              "    </tr>\n",
              "  </tbody>\n",
              "</table>\n",
              "<p>667 rows × 2 columns</p>\n",
              "</div>"
            ],
            "text/plain": [
              "          hero_names                                           variable\n",
              "0            3-D Man    [Agility, Super Strength, Stamina, Super Speed]\n",
              "1             A-Bomb  [Accelerated Healing, Durability, Longevity, S...\n",
              "2         Abe Sapien  [Agility, Accelerated Healing, Cold Resistance...\n",
              "3           Abin Sur                               [Lantern Power Ring]\n",
              "4        Abomination  [Accelerated Healing, Intelligence, Super Stre...\n",
              "..               ...                                                ...\n",
              "662  Yellowjacket II             [Flight, Energy Blasts, Size Changing]\n",
              "663             Ymir  [Cold Resistance, Durability, Longevity, Super...\n",
              "664             Yoda  [Agility, Stealth, Danger Sense, Marksmanship,...\n",
              "665          Zatanna  [Cryokinesis, Telepathy, Magic, Fire Control, ...\n",
              "666             Zoom  [Super Speed, Intangibility, Time Travel, Time...\n",
              "\n",
              "[667 rows x 2 columns]"
            ]
          },
          "metadata": {
            "tags": []
          },
          "execution_count": 296
        }
      ]
    },
    {
      "cell_type": "markdown",
      "metadata": {
        "id": "ZLBdcqWWioYJ"
      },
      "source": [
        "**Step 6:** Change name columns \"variable\" to \"super_power\"\n",
        "\n"
      ]
    },
    {
      "cell_type": "code",
      "metadata": {
        "id": "RYWiJzmRi6Xt",
        "colab": {
          "base_uri": "https://localhost:8080/",
          "height": 0
        },
        "outputId": "c12e4fc2-c707-47de-a13e-92ddce65ddfc"
      },
      "source": [
        "sphc_melt.rename(columns={'variable':'super_powers'},inplace=True)\n",
        "sphc_melt"
      ],
      "execution_count": 297,
      "outputs": [
        {
          "output_type": "execute_result",
          "data": {
            "text/html": [
              "<div>\n",
              "<style scoped>\n",
              "    .dataframe tbody tr th:only-of-type {\n",
              "        vertical-align: middle;\n",
              "    }\n",
              "\n",
              "    .dataframe tbody tr th {\n",
              "        vertical-align: top;\n",
              "    }\n",
              "\n",
              "    .dataframe thead th {\n",
              "        text-align: right;\n",
              "    }\n",
              "</style>\n",
              "<table border=\"1\" class=\"dataframe\">\n",
              "  <thead>\n",
              "    <tr style=\"text-align: right;\">\n",
              "      <th></th>\n",
              "      <th>hero_names</th>\n",
              "      <th>super_powers</th>\n",
              "    </tr>\n",
              "  </thead>\n",
              "  <tbody>\n",
              "    <tr>\n",
              "      <th>0</th>\n",
              "      <td>3-D Man</td>\n",
              "      <td>[Agility, Super Strength, Stamina, Super Speed]</td>\n",
              "    </tr>\n",
              "    <tr>\n",
              "      <th>1</th>\n",
              "      <td>A-Bomb</td>\n",
              "      <td>[Accelerated Healing, Durability, Longevity, S...</td>\n",
              "    </tr>\n",
              "    <tr>\n",
              "      <th>2</th>\n",
              "      <td>Abe Sapien</td>\n",
              "      <td>[Agility, Accelerated Healing, Cold Resistance...</td>\n",
              "    </tr>\n",
              "    <tr>\n",
              "      <th>3</th>\n",
              "      <td>Abin Sur</td>\n",
              "      <td>[Lantern Power Ring]</td>\n",
              "    </tr>\n",
              "    <tr>\n",
              "      <th>4</th>\n",
              "      <td>Abomination</td>\n",
              "      <td>[Accelerated Healing, Intelligence, Super Stre...</td>\n",
              "    </tr>\n",
              "    <tr>\n",
              "      <th>...</th>\n",
              "      <td>...</td>\n",
              "      <td>...</td>\n",
              "    </tr>\n",
              "    <tr>\n",
              "      <th>662</th>\n",
              "      <td>Yellowjacket II</td>\n",
              "      <td>[Flight, Energy Blasts, Size Changing]</td>\n",
              "    </tr>\n",
              "    <tr>\n",
              "      <th>663</th>\n",
              "      <td>Ymir</td>\n",
              "      <td>[Cold Resistance, Durability, Longevity, Super...</td>\n",
              "    </tr>\n",
              "    <tr>\n",
              "      <th>664</th>\n",
              "      <td>Yoda</td>\n",
              "      <td>[Agility, Stealth, Danger Sense, Marksmanship,...</td>\n",
              "    </tr>\n",
              "    <tr>\n",
              "      <th>665</th>\n",
              "      <td>Zatanna</td>\n",
              "      <td>[Cryokinesis, Telepathy, Magic, Fire Control, ...</td>\n",
              "    </tr>\n",
              "    <tr>\n",
              "      <th>666</th>\n",
              "      <td>Zoom</td>\n",
              "      <td>[Super Speed, Intangibility, Time Travel, Time...</td>\n",
              "    </tr>\n",
              "  </tbody>\n",
              "</table>\n",
              "<p>667 rows × 2 columns</p>\n",
              "</div>"
            ],
            "text/plain": [
              "          hero_names                                       super_powers\n",
              "0            3-D Man    [Agility, Super Strength, Stamina, Super Speed]\n",
              "1             A-Bomb  [Accelerated Healing, Durability, Longevity, S...\n",
              "2         Abe Sapien  [Agility, Accelerated Healing, Cold Resistance...\n",
              "3           Abin Sur                               [Lantern Power Ring]\n",
              "4        Abomination  [Accelerated Healing, Intelligence, Super Stre...\n",
              "..               ...                                                ...\n",
              "662  Yellowjacket II             [Flight, Energy Blasts, Size Changing]\n",
              "663             Ymir  [Cold Resistance, Durability, Longevity, Super...\n",
              "664             Yoda  [Agility, Stealth, Danger Sense, Marksmanship,...\n",
              "665          Zatanna  [Cryokinesis, Telepathy, Magic, Fire Control, ...\n",
              "666             Zoom  [Super Speed, Intangibility, Time Travel, Time...\n",
              "\n",
              "[667 rows x 2 columns]"
            ]
          },
          "metadata": {
            "tags": []
          },
          "execution_count": 297
        }
      ]
    },
    {
      "cell_type": "markdown",
      "metadata": {
        "id": "mEe7RtRlgeKD"
      },
      "source": [
        "## Cross the dataframes in only one"
      ]
    },
    {
      "cell_type": "markdown",
      "metadata": {
        "id": "fmsmstTdgoKe"
      },
      "source": [
        "### Join SuperHero and Heroes information"
      ]
    },
    {
      "cell_type": "markdown",
      "metadata": {
        "id": "CdL3Dj_EkSR4"
      },
      "source": [
        "Left: SuperHero (614 rows)\n",
        "\n",
        "Right: heroes_information (603 rows)\n",
        "\n",
        "Use Left Join because superhero_clean have more rows"
      ]
    },
    {
      "cell_type": "code",
      "metadata": {
        "colab": {
          "base_uri": "https://localhost:8080/",
          "height": 617
        },
        "id": "_Yl5TwoBgTlb",
        "outputId": "e4cffa08-2314-403e-e4c9-eff027b788ba"
      },
      "source": [
        "data_join = pd.merge(superhero_clean, heroes_information_clean, how = 'left', left_on= 'Name', right_on= 'name')\n",
        "data_join"
      ],
      "execution_count": 298,
      "outputs": [
        {
          "output_type": "execute_result",
          "data": {
            "text/html": [
              "<div>\n",
              "<style scoped>\n",
              "    .dataframe tbody tr th:only-of-type {\n",
              "        vertical-align: middle;\n",
              "    }\n",
              "\n",
              "    .dataframe tbody tr th {\n",
              "        vertical-align: top;\n",
              "    }\n",
              "\n",
              "    .dataframe thead th {\n",
              "        text-align: right;\n",
              "    }\n",
              "</style>\n",
              "<table border=\"1\" class=\"dataframe\">\n",
              "  <thead>\n",
              "    <tr style=\"text-align: right;\">\n",
              "      <th></th>\n",
              "      <th>Name</th>\n",
              "      <th>Intelligence</th>\n",
              "      <th>Strength</th>\n",
              "      <th>Speed</th>\n",
              "      <th>Durability</th>\n",
              "      <th>Power</th>\n",
              "      <th>Combat</th>\n",
              "      <th>Creator</th>\n",
              "      <th>Alignment_x</th>\n",
              "      <th>Gender_x</th>\n",
              "      <th>Race_x</th>\n",
              "      <th>Total Power</th>\n",
              "      <th>name</th>\n",
              "      <th>Gender_y</th>\n",
              "      <th>Race_y</th>\n",
              "      <th>Publisher</th>\n",
              "      <th>Alignment_y</th>\n",
              "    </tr>\n",
              "  </thead>\n",
              "  <tbody>\n",
              "    <tr>\n",
              "      <th>0</th>\n",
              "      <td>3-D Man</td>\n",
              "      <td>80.0</td>\n",
              "      <td>35.0</td>\n",
              "      <td>45.0</td>\n",
              "      <td>35.0</td>\n",
              "      <td>25.0</td>\n",
              "      <td>55.0</td>\n",
              "      <td>Marvel Comics</td>\n",
              "      <td>good</td>\n",
              "      <td>Male</td>\n",
              "      <td>-</td>\n",
              "      <td>275.0</td>\n",
              "      <td>NaN</td>\n",
              "      <td>NaN</td>\n",
              "      <td>NaN</td>\n",
              "      <td>NaN</td>\n",
              "      <td>NaN</td>\n",
              "    </tr>\n",
              "    <tr>\n",
              "      <th>1</th>\n",
              "      <td>A-Bomb</td>\n",
              "      <td>75.0</td>\n",
              "      <td>100.0</td>\n",
              "      <td>20.0</td>\n",
              "      <td>80.0</td>\n",
              "      <td>25.0</td>\n",
              "      <td>65.0</td>\n",
              "      <td>Marvel Comics</td>\n",
              "      <td>good</td>\n",
              "      <td>Male</td>\n",
              "      <td>Human</td>\n",
              "      <td>365.0</td>\n",
              "      <td>A-Bomb</td>\n",
              "      <td>Male</td>\n",
              "      <td>Human</td>\n",
              "      <td>Marvel Comics</td>\n",
              "      <td>good</td>\n",
              "    </tr>\n",
              "    <tr>\n",
              "      <th>2</th>\n",
              "      <td>Abin Sur</td>\n",
              "      <td>80.0</td>\n",
              "      <td>90.0</td>\n",
              "      <td>55.0</td>\n",
              "      <td>65.0</td>\n",
              "      <td>100.0</td>\n",
              "      <td>65.0</td>\n",
              "      <td>DC Comics</td>\n",
              "      <td>good</td>\n",
              "      <td>Male</td>\n",
              "      <td>Ungaran</td>\n",
              "      <td>455.0</td>\n",
              "      <td>Abin Sur</td>\n",
              "      <td>Male</td>\n",
              "      <td>Ungaran</td>\n",
              "      <td>DC Comics</td>\n",
              "      <td>good</td>\n",
              "    </tr>\n",
              "    <tr>\n",
              "      <th>3</th>\n",
              "      <td>Abomination</td>\n",
              "      <td>85.0</td>\n",
              "      <td>80.0</td>\n",
              "      <td>55.0</td>\n",
              "      <td>90.0</td>\n",
              "      <td>65.0</td>\n",
              "      <td>95.0</td>\n",
              "      <td>Marvel Comics</td>\n",
              "      <td>bad</td>\n",
              "      <td>Male</td>\n",
              "      <td>Human / Radiation</td>\n",
              "      <td>470.0</td>\n",
              "      <td>Abomination</td>\n",
              "      <td>Male</td>\n",
              "      <td>Human / Radiation</td>\n",
              "      <td>Marvel Comics</td>\n",
              "      <td>bad</td>\n",
              "    </tr>\n",
              "    <tr>\n",
              "      <th>4</th>\n",
              "      <td>Abraxas</td>\n",
              "      <td>100.0</td>\n",
              "      <td>100.0</td>\n",
              "      <td>85.0</td>\n",
              "      <td>100.0</td>\n",
              "      <td>100.0</td>\n",
              "      <td>55.0</td>\n",
              "      <td>Marvel Comics</td>\n",
              "      <td>bad</td>\n",
              "      <td>Male</td>\n",
              "      <td>Cosmic Entity</td>\n",
              "      <td>540.0</td>\n",
              "      <td>Abraxas</td>\n",
              "      <td>Male</td>\n",
              "      <td>Cosmic Entity</td>\n",
              "      <td>Marvel Comics</td>\n",
              "      <td>bad</td>\n",
              "    </tr>\n",
              "    <tr>\n",
              "      <th>...</th>\n",
              "      <td>...</td>\n",
              "      <td>...</td>\n",
              "      <td>...</td>\n",
              "      <td>...</td>\n",
              "      <td>...</td>\n",
              "      <td>...</td>\n",
              "      <td>...</td>\n",
              "      <td>...</td>\n",
              "      <td>...</td>\n",
              "      <td>...</td>\n",
              "      <td>...</td>\n",
              "      <td>...</td>\n",
              "      <td>...</td>\n",
              "      <td>...</td>\n",
              "      <td>...</td>\n",
              "      <td>...</td>\n",
              "      <td>...</td>\n",
              "    </tr>\n",
              "    <tr>\n",
              "      <th>648</th>\n",
              "      <td>Yellowjacket</td>\n",
              "      <td>95.0</td>\n",
              "      <td>10.0</td>\n",
              "      <td>15.0</td>\n",
              "      <td>30.0</td>\n",
              "      <td>15.0</td>\n",
              "      <td>15.0</td>\n",
              "      <td>Marvel Comics</td>\n",
              "      <td>good</td>\n",
              "      <td>Male</td>\n",
              "      <td>Human</td>\n",
              "      <td>180.0</td>\n",
              "      <td>Yellowjacket</td>\n",
              "      <td>Male</td>\n",
              "      <td>Human</td>\n",
              "      <td>Marvel Comics</td>\n",
              "      <td>good</td>\n",
              "    </tr>\n",
              "    <tr>\n",
              "      <th>649</th>\n",
              "      <td>Yellowjacket II</td>\n",
              "      <td>80.0</td>\n",
              "      <td>10.0</td>\n",
              "      <td>35.0</td>\n",
              "      <td>30.0</td>\n",
              "      <td>35.0</td>\n",
              "      <td>30.0</td>\n",
              "      <td>Marvel Comics</td>\n",
              "      <td>good</td>\n",
              "      <td>Female</td>\n",
              "      <td>Human</td>\n",
              "      <td>220.0</td>\n",
              "      <td>Yellowjacket II</td>\n",
              "      <td>Female</td>\n",
              "      <td>Human</td>\n",
              "      <td>Marvel Comics</td>\n",
              "      <td>good</td>\n",
              "    </tr>\n",
              "    <tr>\n",
              "      <th>650</th>\n",
              "      <td>Ymir</td>\n",
              "      <td>80.0</td>\n",
              "      <td>100.0</td>\n",
              "      <td>30.0</td>\n",
              "      <td>100.0</td>\n",
              "      <td>100.0</td>\n",
              "      <td>30.0</td>\n",
              "      <td>Marvel Comics</td>\n",
              "      <td>good</td>\n",
              "      <td>Male</td>\n",
              "      <td>Frost Giant</td>\n",
              "      <td>440.0</td>\n",
              "      <td>Ymir</td>\n",
              "      <td>Male</td>\n",
              "      <td>Frost Giant</td>\n",
              "      <td>Marvel Comics</td>\n",
              "      <td>good</td>\n",
              "    </tr>\n",
              "    <tr>\n",
              "      <th>651</th>\n",
              "      <td>Zatanna</td>\n",
              "      <td>95.0</td>\n",
              "      <td>10.0</td>\n",
              "      <td>25.0</td>\n",
              "      <td>30.0</td>\n",
              "      <td>100.0</td>\n",
              "      <td>60.0</td>\n",
              "      <td>DC Comics</td>\n",
              "      <td>good</td>\n",
              "      <td>Female</td>\n",
              "      <td>Human</td>\n",
              "      <td>320.0</td>\n",
              "      <td>Zatanna</td>\n",
              "      <td>Female</td>\n",
              "      <td>Human</td>\n",
              "      <td>DC Comics</td>\n",
              "      <td>good</td>\n",
              "    </tr>\n",
              "    <tr>\n",
              "      <th>652</th>\n",
              "      <td>Zoom</td>\n",
              "      <td>80.0</td>\n",
              "      <td>10.0</td>\n",
              "      <td>100.0</td>\n",
              "      <td>30.0</td>\n",
              "      <td>100.0</td>\n",
              "      <td>30.0</td>\n",
              "      <td>DC Comics</td>\n",
              "      <td>bad</td>\n",
              "      <td>Male</td>\n",
              "      <td>-</td>\n",
              "      <td>350.0</td>\n",
              "      <td>Zoom</td>\n",
              "      <td>Male</td>\n",
              "      <td>-</td>\n",
              "      <td>DC Comics</td>\n",
              "      <td>bad</td>\n",
              "    </tr>\n",
              "  </tbody>\n",
              "</table>\n",
              "<p>653 rows × 17 columns</p>\n",
              "</div>"
            ],
            "text/plain": [
              "                Name  Intelligence  ...      Publisher  Alignment_y\n",
              "0            3-D Man          80.0  ...            NaN          NaN\n",
              "1             A-Bomb          75.0  ...  Marvel Comics         good\n",
              "2           Abin Sur          80.0  ...      DC Comics         good\n",
              "3        Abomination          85.0  ...  Marvel Comics          bad\n",
              "4            Abraxas         100.0  ...  Marvel Comics          bad\n",
              "..               ...           ...  ...            ...          ...\n",
              "648     Yellowjacket          95.0  ...  Marvel Comics         good\n",
              "649  Yellowjacket II          80.0  ...  Marvel Comics         good\n",
              "650             Ymir          80.0  ...  Marvel Comics         good\n",
              "651          Zatanna          95.0  ...      DC Comics         good\n",
              "652             Zoom          80.0  ...      DC Comics          bad\n",
              "\n",
              "[653 rows x 17 columns]"
            ]
          },
          "metadata": {
            "tags": []
          },
          "execution_count": 298
        }
      ]
    },
    {
      "cell_type": "markdown",
      "metadata": {
        "id": "xnbReaurmuTT"
      },
      "source": [
        "#### Check null values and drop unnecessary columns"
      ]
    },
    {
      "cell_type": "code",
      "metadata": {
        "colab": {
          "base_uri": "https://localhost:8080/"
        },
        "id": "opS2QjBolb15",
        "outputId": "81ab7870-eba5-4131-c2f4-6c9b4c10e9b4"
      },
      "source": [
        "data_join.isnull().sum()"
      ],
      "execution_count": 299,
      "outputs": [
        {
          "output_type": "execute_result",
          "data": {
            "text/plain": [
              "Name             0\n",
              "Intelligence    66\n",
              "Strength        66\n",
              "Speed           66\n",
              "Durability      66\n",
              "Power           66\n",
              "Combat          66\n",
              "Creator          0\n",
              "Alignment_x      0\n",
              "Gender_x         0\n",
              "Race_x           0\n",
              "Total Power      0\n",
              "name            18\n",
              "Gender_y        18\n",
              "Race_y          18\n",
              "Publisher       18\n",
              "Alignment_y     18\n",
              "dtype: int64"
            ]
          },
          "metadata": {
            "tags": []
          },
          "execution_count": 299
        }
      ]
    },
    {
      "cell_type": "markdown",
      "metadata": {
        "id": "YHTnk1UDr7RE"
      },
      "source": [
        "Drop: 'name','Gender_y','Race_y','Publisher','Alignment_y'\n",
        "\n",
        "\n",
        "\n"
      ]
    },
    {
      "cell_type": "code",
      "metadata": {
        "colab": {
          "base_uri": "https://localhost:8080/",
          "height": 617
        },
        "id": "t6le7mejsGsS",
        "outputId": "1fa2f703-a645-462c-a6ef-eeef1f19c537"
      },
      "source": [
        "data_join.drop(columns=['name','Gender_y','Race_y','Publisher','Alignment_y'], inplace=True)\n",
        "data_join"
      ],
      "execution_count": 300,
      "outputs": [
        {
          "output_type": "execute_result",
          "data": {
            "text/html": [
              "<div>\n",
              "<style scoped>\n",
              "    .dataframe tbody tr th:only-of-type {\n",
              "        vertical-align: middle;\n",
              "    }\n",
              "\n",
              "    .dataframe tbody tr th {\n",
              "        vertical-align: top;\n",
              "    }\n",
              "\n",
              "    .dataframe thead th {\n",
              "        text-align: right;\n",
              "    }\n",
              "</style>\n",
              "<table border=\"1\" class=\"dataframe\">\n",
              "  <thead>\n",
              "    <tr style=\"text-align: right;\">\n",
              "      <th></th>\n",
              "      <th>Name</th>\n",
              "      <th>Intelligence</th>\n",
              "      <th>Strength</th>\n",
              "      <th>Speed</th>\n",
              "      <th>Durability</th>\n",
              "      <th>Power</th>\n",
              "      <th>Combat</th>\n",
              "      <th>Creator</th>\n",
              "      <th>Alignment_x</th>\n",
              "      <th>Gender_x</th>\n",
              "      <th>Race_x</th>\n",
              "      <th>Total Power</th>\n",
              "    </tr>\n",
              "  </thead>\n",
              "  <tbody>\n",
              "    <tr>\n",
              "      <th>0</th>\n",
              "      <td>3-D Man</td>\n",
              "      <td>80.0</td>\n",
              "      <td>35.0</td>\n",
              "      <td>45.0</td>\n",
              "      <td>35.0</td>\n",
              "      <td>25.0</td>\n",
              "      <td>55.0</td>\n",
              "      <td>Marvel Comics</td>\n",
              "      <td>good</td>\n",
              "      <td>Male</td>\n",
              "      <td>-</td>\n",
              "      <td>275.0</td>\n",
              "    </tr>\n",
              "    <tr>\n",
              "      <th>1</th>\n",
              "      <td>A-Bomb</td>\n",
              "      <td>75.0</td>\n",
              "      <td>100.0</td>\n",
              "      <td>20.0</td>\n",
              "      <td>80.0</td>\n",
              "      <td>25.0</td>\n",
              "      <td>65.0</td>\n",
              "      <td>Marvel Comics</td>\n",
              "      <td>good</td>\n",
              "      <td>Male</td>\n",
              "      <td>Human</td>\n",
              "      <td>365.0</td>\n",
              "    </tr>\n",
              "    <tr>\n",
              "      <th>2</th>\n",
              "      <td>Abin Sur</td>\n",
              "      <td>80.0</td>\n",
              "      <td>90.0</td>\n",
              "      <td>55.0</td>\n",
              "      <td>65.0</td>\n",
              "      <td>100.0</td>\n",
              "      <td>65.0</td>\n",
              "      <td>DC Comics</td>\n",
              "      <td>good</td>\n",
              "      <td>Male</td>\n",
              "      <td>Ungaran</td>\n",
              "      <td>455.0</td>\n",
              "    </tr>\n",
              "    <tr>\n",
              "      <th>3</th>\n",
              "      <td>Abomination</td>\n",
              "      <td>85.0</td>\n",
              "      <td>80.0</td>\n",
              "      <td>55.0</td>\n",
              "      <td>90.0</td>\n",
              "      <td>65.0</td>\n",
              "      <td>95.0</td>\n",
              "      <td>Marvel Comics</td>\n",
              "      <td>bad</td>\n",
              "      <td>Male</td>\n",
              "      <td>Human / Radiation</td>\n",
              "      <td>470.0</td>\n",
              "    </tr>\n",
              "    <tr>\n",
              "      <th>4</th>\n",
              "      <td>Abraxas</td>\n",
              "      <td>100.0</td>\n",
              "      <td>100.0</td>\n",
              "      <td>85.0</td>\n",
              "      <td>100.0</td>\n",
              "      <td>100.0</td>\n",
              "      <td>55.0</td>\n",
              "      <td>Marvel Comics</td>\n",
              "      <td>bad</td>\n",
              "      <td>Male</td>\n",
              "      <td>Cosmic Entity</td>\n",
              "      <td>540.0</td>\n",
              "    </tr>\n",
              "    <tr>\n",
              "      <th>...</th>\n",
              "      <td>...</td>\n",
              "      <td>...</td>\n",
              "      <td>...</td>\n",
              "      <td>...</td>\n",
              "      <td>...</td>\n",
              "      <td>...</td>\n",
              "      <td>...</td>\n",
              "      <td>...</td>\n",
              "      <td>...</td>\n",
              "      <td>...</td>\n",
              "      <td>...</td>\n",
              "      <td>...</td>\n",
              "    </tr>\n",
              "    <tr>\n",
              "      <th>648</th>\n",
              "      <td>Yellowjacket</td>\n",
              "      <td>95.0</td>\n",
              "      <td>10.0</td>\n",
              "      <td>15.0</td>\n",
              "      <td>30.0</td>\n",
              "      <td>15.0</td>\n",
              "      <td>15.0</td>\n",
              "      <td>Marvel Comics</td>\n",
              "      <td>good</td>\n",
              "      <td>Male</td>\n",
              "      <td>Human</td>\n",
              "      <td>180.0</td>\n",
              "    </tr>\n",
              "    <tr>\n",
              "      <th>649</th>\n",
              "      <td>Yellowjacket II</td>\n",
              "      <td>80.0</td>\n",
              "      <td>10.0</td>\n",
              "      <td>35.0</td>\n",
              "      <td>30.0</td>\n",
              "      <td>35.0</td>\n",
              "      <td>30.0</td>\n",
              "      <td>Marvel Comics</td>\n",
              "      <td>good</td>\n",
              "      <td>Female</td>\n",
              "      <td>Human</td>\n",
              "      <td>220.0</td>\n",
              "    </tr>\n",
              "    <tr>\n",
              "      <th>650</th>\n",
              "      <td>Ymir</td>\n",
              "      <td>80.0</td>\n",
              "      <td>100.0</td>\n",
              "      <td>30.0</td>\n",
              "      <td>100.0</td>\n",
              "      <td>100.0</td>\n",
              "      <td>30.0</td>\n",
              "      <td>Marvel Comics</td>\n",
              "      <td>good</td>\n",
              "      <td>Male</td>\n",
              "      <td>Frost Giant</td>\n",
              "      <td>440.0</td>\n",
              "    </tr>\n",
              "    <tr>\n",
              "      <th>651</th>\n",
              "      <td>Zatanna</td>\n",
              "      <td>95.0</td>\n",
              "      <td>10.0</td>\n",
              "      <td>25.0</td>\n",
              "      <td>30.0</td>\n",
              "      <td>100.0</td>\n",
              "      <td>60.0</td>\n",
              "      <td>DC Comics</td>\n",
              "      <td>good</td>\n",
              "      <td>Female</td>\n",
              "      <td>Human</td>\n",
              "      <td>320.0</td>\n",
              "    </tr>\n",
              "    <tr>\n",
              "      <th>652</th>\n",
              "      <td>Zoom</td>\n",
              "      <td>80.0</td>\n",
              "      <td>10.0</td>\n",
              "      <td>100.0</td>\n",
              "      <td>30.0</td>\n",
              "      <td>100.0</td>\n",
              "      <td>30.0</td>\n",
              "      <td>DC Comics</td>\n",
              "      <td>bad</td>\n",
              "      <td>Male</td>\n",
              "      <td>-</td>\n",
              "      <td>350.0</td>\n",
              "    </tr>\n",
              "  </tbody>\n",
              "</table>\n",
              "<p>653 rows × 12 columns</p>\n",
              "</div>"
            ],
            "text/plain": [
              "                Name  Intelligence  ...             Race_x  Total Power\n",
              "0            3-D Man          80.0  ...                  -        275.0\n",
              "1             A-Bomb          75.0  ...              Human        365.0\n",
              "2           Abin Sur          80.0  ...            Ungaran        455.0\n",
              "3        Abomination          85.0  ...  Human / Radiation        470.0\n",
              "4            Abraxas         100.0  ...      Cosmic Entity        540.0\n",
              "..               ...           ...  ...                ...          ...\n",
              "648     Yellowjacket          95.0  ...              Human        180.0\n",
              "649  Yellowjacket II          80.0  ...              Human        220.0\n",
              "650             Ymir          80.0  ...        Frost Giant        440.0\n",
              "651          Zatanna          95.0  ...              Human        320.0\n",
              "652             Zoom          80.0  ...                  -        350.0\n",
              "\n",
              "[653 rows x 12 columns]"
            ]
          },
          "metadata": {
            "tags": []
          },
          "execution_count": 300
        }
      ]
    },
    {
      "cell_type": "markdown",
      "metadata": {
        "id": "PFN-N5dBsXvp"
      },
      "source": [
        "Change the name of columns with \"_x\" in its names."
      ]
    },
    {
      "cell_type": "code",
      "metadata": {
        "colab": {
          "base_uri": "https://localhost:8080/",
          "height": 617
        },
        "id": "gbAyhvoNsXKS",
        "outputId": "80fde1b8-702a-40ae-9196-820a5d48c98b"
      },
      "source": [
        "data_join.rename(columns={'Alignment_x':'Alignment','Gender_x':'Gender','Race_x':'Race'}, inplace= True)\n",
        "data_join"
      ],
      "execution_count": 301,
      "outputs": [
        {
          "output_type": "execute_result",
          "data": {
            "text/html": [
              "<div>\n",
              "<style scoped>\n",
              "    .dataframe tbody tr th:only-of-type {\n",
              "        vertical-align: middle;\n",
              "    }\n",
              "\n",
              "    .dataframe tbody tr th {\n",
              "        vertical-align: top;\n",
              "    }\n",
              "\n",
              "    .dataframe thead th {\n",
              "        text-align: right;\n",
              "    }\n",
              "</style>\n",
              "<table border=\"1\" class=\"dataframe\">\n",
              "  <thead>\n",
              "    <tr style=\"text-align: right;\">\n",
              "      <th></th>\n",
              "      <th>Name</th>\n",
              "      <th>Intelligence</th>\n",
              "      <th>Strength</th>\n",
              "      <th>Speed</th>\n",
              "      <th>Durability</th>\n",
              "      <th>Power</th>\n",
              "      <th>Combat</th>\n",
              "      <th>Creator</th>\n",
              "      <th>Alignment</th>\n",
              "      <th>Gender</th>\n",
              "      <th>Race</th>\n",
              "      <th>Total Power</th>\n",
              "    </tr>\n",
              "  </thead>\n",
              "  <tbody>\n",
              "    <tr>\n",
              "      <th>0</th>\n",
              "      <td>3-D Man</td>\n",
              "      <td>80.0</td>\n",
              "      <td>35.0</td>\n",
              "      <td>45.0</td>\n",
              "      <td>35.0</td>\n",
              "      <td>25.0</td>\n",
              "      <td>55.0</td>\n",
              "      <td>Marvel Comics</td>\n",
              "      <td>good</td>\n",
              "      <td>Male</td>\n",
              "      <td>-</td>\n",
              "      <td>275.0</td>\n",
              "    </tr>\n",
              "    <tr>\n",
              "      <th>1</th>\n",
              "      <td>A-Bomb</td>\n",
              "      <td>75.0</td>\n",
              "      <td>100.0</td>\n",
              "      <td>20.0</td>\n",
              "      <td>80.0</td>\n",
              "      <td>25.0</td>\n",
              "      <td>65.0</td>\n",
              "      <td>Marvel Comics</td>\n",
              "      <td>good</td>\n",
              "      <td>Male</td>\n",
              "      <td>Human</td>\n",
              "      <td>365.0</td>\n",
              "    </tr>\n",
              "    <tr>\n",
              "      <th>2</th>\n",
              "      <td>Abin Sur</td>\n",
              "      <td>80.0</td>\n",
              "      <td>90.0</td>\n",
              "      <td>55.0</td>\n",
              "      <td>65.0</td>\n",
              "      <td>100.0</td>\n",
              "      <td>65.0</td>\n",
              "      <td>DC Comics</td>\n",
              "      <td>good</td>\n",
              "      <td>Male</td>\n",
              "      <td>Ungaran</td>\n",
              "      <td>455.0</td>\n",
              "    </tr>\n",
              "    <tr>\n",
              "      <th>3</th>\n",
              "      <td>Abomination</td>\n",
              "      <td>85.0</td>\n",
              "      <td>80.0</td>\n",
              "      <td>55.0</td>\n",
              "      <td>90.0</td>\n",
              "      <td>65.0</td>\n",
              "      <td>95.0</td>\n",
              "      <td>Marvel Comics</td>\n",
              "      <td>bad</td>\n",
              "      <td>Male</td>\n",
              "      <td>Human / Radiation</td>\n",
              "      <td>470.0</td>\n",
              "    </tr>\n",
              "    <tr>\n",
              "      <th>4</th>\n",
              "      <td>Abraxas</td>\n",
              "      <td>100.0</td>\n",
              "      <td>100.0</td>\n",
              "      <td>85.0</td>\n",
              "      <td>100.0</td>\n",
              "      <td>100.0</td>\n",
              "      <td>55.0</td>\n",
              "      <td>Marvel Comics</td>\n",
              "      <td>bad</td>\n",
              "      <td>Male</td>\n",
              "      <td>Cosmic Entity</td>\n",
              "      <td>540.0</td>\n",
              "    </tr>\n",
              "    <tr>\n",
              "      <th>...</th>\n",
              "      <td>...</td>\n",
              "      <td>...</td>\n",
              "      <td>...</td>\n",
              "      <td>...</td>\n",
              "      <td>...</td>\n",
              "      <td>...</td>\n",
              "      <td>...</td>\n",
              "      <td>...</td>\n",
              "      <td>...</td>\n",
              "      <td>...</td>\n",
              "      <td>...</td>\n",
              "      <td>...</td>\n",
              "    </tr>\n",
              "    <tr>\n",
              "      <th>648</th>\n",
              "      <td>Yellowjacket</td>\n",
              "      <td>95.0</td>\n",
              "      <td>10.0</td>\n",
              "      <td>15.0</td>\n",
              "      <td>30.0</td>\n",
              "      <td>15.0</td>\n",
              "      <td>15.0</td>\n",
              "      <td>Marvel Comics</td>\n",
              "      <td>good</td>\n",
              "      <td>Male</td>\n",
              "      <td>Human</td>\n",
              "      <td>180.0</td>\n",
              "    </tr>\n",
              "    <tr>\n",
              "      <th>649</th>\n",
              "      <td>Yellowjacket II</td>\n",
              "      <td>80.0</td>\n",
              "      <td>10.0</td>\n",
              "      <td>35.0</td>\n",
              "      <td>30.0</td>\n",
              "      <td>35.0</td>\n",
              "      <td>30.0</td>\n",
              "      <td>Marvel Comics</td>\n",
              "      <td>good</td>\n",
              "      <td>Female</td>\n",
              "      <td>Human</td>\n",
              "      <td>220.0</td>\n",
              "    </tr>\n",
              "    <tr>\n",
              "      <th>650</th>\n",
              "      <td>Ymir</td>\n",
              "      <td>80.0</td>\n",
              "      <td>100.0</td>\n",
              "      <td>30.0</td>\n",
              "      <td>100.0</td>\n",
              "      <td>100.0</td>\n",
              "      <td>30.0</td>\n",
              "      <td>Marvel Comics</td>\n",
              "      <td>good</td>\n",
              "      <td>Male</td>\n",
              "      <td>Frost Giant</td>\n",
              "      <td>440.0</td>\n",
              "    </tr>\n",
              "    <tr>\n",
              "      <th>651</th>\n",
              "      <td>Zatanna</td>\n",
              "      <td>95.0</td>\n",
              "      <td>10.0</td>\n",
              "      <td>25.0</td>\n",
              "      <td>30.0</td>\n",
              "      <td>100.0</td>\n",
              "      <td>60.0</td>\n",
              "      <td>DC Comics</td>\n",
              "      <td>good</td>\n",
              "      <td>Female</td>\n",
              "      <td>Human</td>\n",
              "      <td>320.0</td>\n",
              "    </tr>\n",
              "    <tr>\n",
              "      <th>652</th>\n",
              "      <td>Zoom</td>\n",
              "      <td>80.0</td>\n",
              "      <td>10.0</td>\n",
              "      <td>100.0</td>\n",
              "      <td>30.0</td>\n",
              "      <td>100.0</td>\n",
              "      <td>30.0</td>\n",
              "      <td>DC Comics</td>\n",
              "      <td>bad</td>\n",
              "      <td>Male</td>\n",
              "      <td>-</td>\n",
              "      <td>350.0</td>\n",
              "    </tr>\n",
              "  </tbody>\n",
              "</table>\n",
              "<p>653 rows × 12 columns</p>\n",
              "</div>"
            ],
            "text/plain": [
              "                Name  Intelligence  ...               Race  Total Power\n",
              "0            3-D Man          80.0  ...                  -        275.0\n",
              "1             A-Bomb          75.0  ...              Human        365.0\n",
              "2           Abin Sur          80.0  ...            Ungaran        455.0\n",
              "3        Abomination          85.0  ...  Human / Radiation        470.0\n",
              "4            Abraxas         100.0  ...      Cosmic Entity        540.0\n",
              "..               ...           ...  ...                ...          ...\n",
              "648     Yellowjacket          95.0  ...              Human        180.0\n",
              "649  Yellowjacket II          80.0  ...              Human        220.0\n",
              "650             Ymir          80.0  ...        Frost Giant        440.0\n",
              "651          Zatanna          95.0  ...              Human        320.0\n",
              "652             Zoom          80.0  ...                  -        350.0\n",
              "\n",
              "[653 rows x 12 columns]"
            ]
          },
          "metadata": {
            "tags": []
          },
          "execution_count": 301
        }
      ]
    },
    {
      "cell_type": "markdown",
      "metadata": {
        "id": "N7_CzTGRk6VR"
      },
      "source": [
        "### Left join between \"data_join\" and \"super_hero_powers_clean\"\n",
        "\n",
        "Left: data_join (653 rows)\n",
        "\n",
        "Right: shpc_melt (667 rows)"
      ]
    },
    {
      "cell_type": "code",
      "metadata": {
        "colab": {
          "base_uri": "https://localhost:8080/",
          "height": 945
        },
        "id": "LkvRatorh_Ji",
        "outputId": "d6ed0b46-b8e3-4151-de64-ba99de2a7733"
      },
      "source": [
        "data_join_2 = pd.merge(data_join,sphc_melt,how='left',left_on='Name',right_on='hero_names')\n",
        "data_join_2"
      ],
      "execution_count": 302,
      "outputs": [
        {
          "output_type": "execute_result",
          "data": {
            "text/html": [
              "<div>\n",
              "<style scoped>\n",
              "    .dataframe tbody tr th:only-of-type {\n",
              "        vertical-align: middle;\n",
              "    }\n",
              "\n",
              "    .dataframe tbody tr th {\n",
              "        vertical-align: top;\n",
              "    }\n",
              "\n",
              "    .dataframe thead th {\n",
              "        text-align: right;\n",
              "    }\n",
              "</style>\n",
              "<table border=\"1\" class=\"dataframe\">\n",
              "  <thead>\n",
              "    <tr style=\"text-align: right;\">\n",
              "      <th></th>\n",
              "      <th>Name</th>\n",
              "      <th>Intelligence</th>\n",
              "      <th>Strength</th>\n",
              "      <th>Speed</th>\n",
              "      <th>Durability</th>\n",
              "      <th>Power</th>\n",
              "      <th>Combat</th>\n",
              "      <th>Creator</th>\n",
              "      <th>Alignment</th>\n",
              "      <th>Gender</th>\n",
              "      <th>Race</th>\n",
              "      <th>Total Power</th>\n",
              "      <th>hero_names</th>\n",
              "      <th>super_powers</th>\n",
              "    </tr>\n",
              "  </thead>\n",
              "  <tbody>\n",
              "    <tr>\n",
              "      <th>0</th>\n",
              "      <td>3-D Man</td>\n",
              "      <td>80.0</td>\n",
              "      <td>35.0</td>\n",
              "      <td>45.0</td>\n",
              "      <td>35.0</td>\n",
              "      <td>25.0</td>\n",
              "      <td>55.0</td>\n",
              "      <td>Marvel Comics</td>\n",
              "      <td>good</td>\n",
              "      <td>Male</td>\n",
              "      <td>-</td>\n",
              "      <td>275.0</td>\n",
              "      <td>3-D Man</td>\n",
              "      <td>[Agility, Super Strength, Stamina, Super Speed]</td>\n",
              "    </tr>\n",
              "    <tr>\n",
              "      <th>1</th>\n",
              "      <td>A-Bomb</td>\n",
              "      <td>75.0</td>\n",
              "      <td>100.0</td>\n",
              "      <td>20.0</td>\n",
              "      <td>80.0</td>\n",
              "      <td>25.0</td>\n",
              "      <td>65.0</td>\n",
              "      <td>Marvel Comics</td>\n",
              "      <td>good</td>\n",
              "      <td>Male</td>\n",
              "      <td>Human</td>\n",
              "      <td>365.0</td>\n",
              "      <td>A-Bomb</td>\n",
              "      <td>[Accelerated Healing, Durability, Longevity, S...</td>\n",
              "    </tr>\n",
              "    <tr>\n",
              "      <th>2</th>\n",
              "      <td>Abin Sur</td>\n",
              "      <td>80.0</td>\n",
              "      <td>90.0</td>\n",
              "      <td>55.0</td>\n",
              "      <td>65.0</td>\n",
              "      <td>100.0</td>\n",
              "      <td>65.0</td>\n",
              "      <td>DC Comics</td>\n",
              "      <td>good</td>\n",
              "      <td>Male</td>\n",
              "      <td>Ungaran</td>\n",
              "      <td>455.0</td>\n",
              "      <td>Abin Sur</td>\n",
              "      <td>[Lantern Power Ring]</td>\n",
              "    </tr>\n",
              "    <tr>\n",
              "      <th>3</th>\n",
              "      <td>Abomination</td>\n",
              "      <td>85.0</td>\n",
              "      <td>80.0</td>\n",
              "      <td>55.0</td>\n",
              "      <td>90.0</td>\n",
              "      <td>65.0</td>\n",
              "      <td>95.0</td>\n",
              "      <td>Marvel Comics</td>\n",
              "      <td>bad</td>\n",
              "      <td>Male</td>\n",
              "      <td>Human / Radiation</td>\n",
              "      <td>470.0</td>\n",
              "      <td>Abomination</td>\n",
              "      <td>[Accelerated Healing, Intelligence, Super Stre...</td>\n",
              "    </tr>\n",
              "    <tr>\n",
              "      <th>4</th>\n",
              "      <td>Abraxas</td>\n",
              "      <td>100.0</td>\n",
              "      <td>100.0</td>\n",
              "      <td>85.0</td>\n",
              "      <td>100.0</td>\n",
              "      <td>100.0</td>\n",
              "      <td>55.0</td>\n",
              "      <td>Marvel Comics</td>\n",
              "      <td>bad</td>\n",
              "      <td>Male</td>\n",
              "      <td>Cosmic Entity</td>\n",
              "      <td>540.0</td>\n",
              "      <td>Abraxas</td>\n",
              "      <td>[Dimensional Awareness, Flight, Intelligence, ...</td>\n",
              "    </tr>\n",
              "    <tr>\n",
              "      <th>...</th>\n",
              "      <td>...</td>\n",
              "      <td>...</td>\n",
              "      <td>...</td>\n",
              "      <td>...</td>\n",
              "      <td>...</td>\n",
              "      <td>...</td>\n",
              "      <td>...</td>\n",
              "      <td>...</td>\n",
              "      <td>...</td>\n",
              "      <td>...</td>\n",
              "      <td>...</td>\n",
              "      <td>...</td>\n",
              "      <td>...</td>\n",
              "      <td>...</td>\n",
              "    </tr>\n",
              "    <tr>\n",
              "      <th>648</th>\n",
              "      <td>Yellowjacket</td>\n",
              "      <td>95.0</td>\n",
              "      <td>10.0</td>\n",
              "      <td>15.0</td>\n",
              "      <td>30.0</td>\n",
              "      <td>15.0</td>\n",
              "      <td>15.0</td>\n",
              "      <td>Marvel Comics</td>\n",
              "      <td>good</td>\n",
              "      <td>Male</td>\n",
              "      <td>Human</td>\n",
              "      <td>180.0</td>\n",
              "      <td>Yellowjacket</td>\n",
              "      <td>[Size Changing, Animal Oriented Powers]</td>\n",
              "    </tr>\n",
              "    <tr>\n",
              "      <th>649</th>\n",
              "      <td>Yellowjacket II</td>\n",
              "      <td>80.0</td>\n",
              "      <td>10.0</td>\n",
              "      <td>35.0</td>\n",
              "      <td>30.0</td>\n",
              "      <td>35.0</td>\n",
              "      <td>30.0</td>\n",
              "      <td>Marvel Comics</td>\n",
              "      <td>good</td>\n",
              "      <td>Female</td>\n",
              "      <td>Human</td>\n",
              "      <td>220.0</td>\n",
              "      <td>Yellowjacket II</td>\n",
              "      <td>[Flight, Energy Blasts, Size Changing]</td>\n",
              "    </tr>\n",
              "    <tr>\n",
              "      <th>650</th>\n",
              "      <td>Ymir</td>\n",
              "      <td>80.0</td>\n",
              "      <td>100.0</td>\n",
              "      <td>30.0</td>\n",
              "      <td>100.0</td>\n",
              "      <td>100.0</td>\n",
              "      <td>30.0</td>\n",
              "      <td>Marvel Comics</td>\n",
              "      <td>good</td>\n",
              "      <td>Male</td>\n",
              "      <td>Frost Giant</td>\n",
              "      <td>440.0</td>\n",
              "      <td>Ymir</td>\n",
              "      <td>[Cold Resistance, Durability, Longevity, Super...</td>\n",
              "    </tr>\n",
              "    <tr>\n",
              "      <th>651</th>\n",
              "      <td>Zatanna</td>\n",
              "      <td>95.0</td>\n",
              "      <td>10.0</td>\n",
              "      <td>25.0</td>\n",
              "      <td>30.0</td>\n",
              "      <td>100.0</td>\n",
              "      <td>60.0</td>\n",
              "      <td>DC Comics</td>\n",
              "      <td>good</td>\n",
              "      <td>Female</td>\n",
              "      <td>Human</td>\n",
              "      <td>320.0</td>\n",
              "      <td>Zatanna</td>\n",
              "      <td>[Cryokinesis, Telepathy, Magic, Fire Control, ...</td>\n",
              "    </tr>\n",
              "    <tr>\n",
              "      <th>652</th>\n",
              "      <td>Zoom</td>\n",
              "      <td>80.0</td>\n",
              "      <td>10.0</td>\n",
              "      <td>100.0</td>\n",
              "      <td>30.0</td>\n",
              "      <td>100.0</td>\n",
              "      <td>30.0</td>\n",
              "      <td>DC Comics</td>\n",
              "      <td>bad</td>\n",
              "      <td>Male</td>\n",
              "      <td>-</td>\n",
              "      <td>350.0</td>\n",
              "      <td>Zoom</td>\n",
              "      <td>[Super Speed, Intangibility, Time Travel, Time...</td>\n",
              "    </tr>\n",
              "  </tbody>\n",
              "</table>\n",
              "<p>653 rows × 14 columns</p>\n",
              "</div>"
            ],
            "text/plain": [
              "                Name  ...                                       super_powers\n",
              "0            3-D Man  ...    [Agility, Super Strength, Stamina, Super Speed]\n",
              "1             A-Bomb  ...  [Accelerated Healing, Durability, Longevity, S...\n",
              "2           Abin Sur  ...                               [Lantern Power Ring]\n",
              "3        Abomination  ...  [Accelerated Healing, Intelligence, Super Stre...\n",
              "4            Abraxas  ...  [Dimensional Awareness, Flight, Intelligence, ...\n",
              "..               ...  ...                                                ...\n",
              "648     Yellowjacket  ...            [Size Changing, Animal Oriented Powers]\n",
              "649  Yellowjacket II  ...             [Flight, Energy Blasts, Size Changing]\n",
              "650             Ymir  ...  [Cold Resistance, Durability, Longevity, Super...\n",
              "651          Zatanna  ...  [Cryokinesis, Telepathy, Magic, Fire Control, ...\n",
              "652             Zoom  ...  [Super Speed, Intangibility, Time Travel, Time...\n",
              "\n",
              "[653 rows x 14 columns]"
            ]
          },
          "metadata": {
            "tags": []
          },
          "execution_count": 302
        }
      ]
    },
    {
      "cell_type": "markdown",
      "metadata": {
        "id": "oUNWpvc1tU-R"
      },
      "source": [
        "#### Check null values and drop unnecessary columns"
      ]
    },
    {
      "cell_type": "code",
      "metadata": {
        "colab": {
          "base_uri": "https://localhost:8080/"
        },
        "id": "V5-sMoNGtHba",
        "outputId": "95e68881-1dfa-49c2-b1e7-4561680ce937"
      },
      "source": [
        "data_join_2.isnull().sum()"
      ],
      "execution_count": 303,
      "outputs": [
        {
          "output_type": "execute_result",
          "data": {
            "text/plain": [
              "Name             0\n",
              "Intelligence    66\n",
              "Strength        66\n",
              "Speed           66\n",
              "Durability      66\n",
              "Power           66\n",
              "Combat          66\n",
              "Creator          0\n",
              "Alignment        0\n",
              "Gender           0\n",
              "Race             0\n",
              "Total Power      0\n",
              "hero_names      89\n",
              "super_powers    89\n",
              "dtype: int64"
            ]
          },
          "metadata": {
            "tags": []
          },
          "execution_count": 303
        }
      ]
    },
    {
      "cell_type": "markdown",
      "metadata": {
        "id": "MlSYkoJax4f5"
      },
      "source": [
        "Compare between Name and null values of hero_names"
      ]
    },
    {
      "cell_type": "code",
      "metadata": {
        "colab": {
          "base_uri": "https://localhost:8080/",
          "height": 617
        },
        "id": "tbtd67JJx4O7",
        "outputId": "f70ad0dc-8f9e-4696-9063-d8534772b115"
      },
      "source": [
        "data_join_2[data_join_2['hero_names'].isnull()]"
      ],
      "execution_count": 304,
      "outputs": [
        {
          "output_type": "execute_result",
          "data": {
            "text/html": [
              "<div>\n",
              "<style scoped>\n",
              "    .dataframe tbody tr th:only-of-type {\n",
              "        vertical-align: middle;\n",
              "    }\n",
              "\n",
              "    .dataframe tbody tr th {\n",
              "        vertical-align: top;\n",
              "    }\n",
              "\n",
              "    .dataframe thead th {\n",
              "        text-align: right;\n",
              "    }\n",
              "</style>\n",
              "<table border=\"1\" class=\"dataframe\">\n",
              "  <thead>\n",
              "    <tr style=\"text-align: right;\">\n",
              "      <th></th>\n",
              "      <th>Name</th>\n",
              "      <th>Intelligence</th>\n",
              "      <th>Strength</th>\n",
              "      <th>Speed</th>\n",
              "      <th>Durability</th>\n",
              "      <th>Power</th>\n",
              "      <th>Combat</th>\n",
              "      <th>Creator</th>\n",
              "      <th>Alignment</th>\n",
              "      <th>Gender</th>\n",
              "      <th>Race</th>\n",
              "      <th>Total Power</th>\n",
              "      <th>hero_names</th>\n",
              "      <th>super_powers</th>\n",
              "    </tr>\n",
              "  </thead>\n",
              "  <tbody>\n",
              "    <tr>\n",
              "      <th>7</th>\n",
              "      <td>Agent 13</td>\n",
              "      <td>80.0</td>\n",
              "      <td>40.0</td>\n",
              "      <td>45.0</td>\n",
              "      <td>50.0</td>\n",
              "      <td>45.0</td>\n",
              "      <td>85.0</td>\n",
              "      <td>Marvel Comics</td>\n",
              "      <td>good</td>\n",
              "      <td>Female</td>\n",
              "      <td>-</td>\n",
              "      <td>345.0</td>\n",
              "      <td>NaN</td>\n",
              "      <td>NaN</td>\n",
              "    </tr>\n",
              "    <tr>\n",
              "      <th>12</th>\n",
              "      <td>Alfred Pennyworth</td>\n",
              "      <td>85.0</td>\n",
              "      <td>10.0</td>\n",
              "      <td>20.0</td>\n",
              "      <td>10.0</td>\n",
              "      <td>10.0</td>\n",
              "      <td>55.0</td>\n",
              "      <td>DC Comics</td>\n",
              "      <td>good</td>\n",
              "      <td>Male</td>\n",
              "      <td>Human</td>\n",
              "      <td>190.0</td>\n",
              "      <td>NaN</td>\n",
              "      <td>NaN</td>\n",
              "    </tr>\n",
              "    <tr>\n",
              "      <th>36</th>\n",
              "      <td>Arsenal</td>\n",
              "      <td>80.0</td>\n",
              "      <td>55.0</td>\n",
              "      <td>60.0</td>\n",
              "      <td>60.0</td>\n",
              "      <td>65.0</td>\n",
              "      <td>85.0</td>\n",
              "      <td>DC Comics</td>\n",
              "      <td>good</td>\n",
              "      <td>Male</td>\n",
              "      <td>Human</td>\n",
              "      <td>405.0</td>\n",
              "      <td>NaN</td>\n",
              "      <td>NaN</td>\n",
              "    </tr>\n",
              "    <tr>\n",
              "      <th>60</th>\n",
              "      <td>Batgirl III</td>\n",
              "      <td>80.0</td>\n",
              "      <td>65.0</td>\n",
              "      <td>70.0</td>\n",
              "      <td>70.0</td>\n",
              "      <td>65.0</td>\n",
              "      <td>90.0</td>\n",
              "      <td>DC Comics</td>\n",
              "      <td>good</td>\n",
              "      <td>Female</td>\n",
              "      <td>-</td>\n",
              "      <td>440.0</td>\n",
              "      <td>NaN</td>\n",
              "      <td>NaN</td>\n",
              "    </tr>\n",
              "    <tr>\n",
              "      <th>62</th>\n",
              "      <td>Batgirl V</td>\n",
              "      <td>NaN</td>\n",
              "      <td>NaN</td>\n",
              "      <td>NaN</td>\n",
              "      <td>NaN</td>\n",
              "      <td>NaN</td>\n",
              "      <td>NaN</td>\n",
              "      <td>DC Comics</td>\n",
              "      <td>good</td>\n",
              "      <td>Female</td>\n",
              "      <td>-</td>\n",
              "      <td>0.0</td>\n",
              "      <td>NaN</td>\n",
              "      <td>NaN</td>\n",
              "    </tr>\n",
              "    <tr>\n",
              "      <th>...</th>\n",
              "      <td>...</td>\n",
              "      <td>...</td>\n",
              "      <td>...</td>\n",
              "      <td>...</td>\n",
              "      <td>...</td>\n",
              "      <td>...</td>\n",
              "      <td>...</td>\n",
              "      <td>...</td>\n",
              "      <td>...</td>\n",
              "      <td>...</td>\n",
              "      <td>...</td>\n",
              "      <td>...</td>\n",
              "      <td>...</td>\n",
              "      <td>...</td>\n",
              "    </tr>\n",
              "    <tr>\n",
              "      <th>634</th>\n",
              "      <td>White Queen</td>\n",
              "      <td>80.0</td>\n",
              "      <td>45.0</td>\n",
              "      <td>45.0</td>\n",
              "      <td>70.0</td>\n",
              "      <td>65.0</td>\n",
              "      <td>45.0</td>\n",
              "      <td>Marvel Comics</td>\n",
              "      <td>good</td>\n",
              "      <td>Female</td>\n",
              "      <td>-</td>\n",
              "      <td>350.0</td>\n",
              "      <td>NaN</td>\n",
              "      <td>NaN</td>\n",
              "    </tr>\n",
              "    <tr>\n",
              "      <th>637</th>\n",
              "      <td>Wiz Kid</td>\n",
              "      <td>NaN</td>\n",
              "      <td>NaN</td>\n",
              "      <td>NaN</td>\n",
              "      <td>NaN</td>\n",
              "      <td>NaN</td>\n",
              "      <td>NaN</td>\n",
              "      <td>Marvel Comics</td>\n",
              "      <td>good</td>\n",
              "      <td>-</td>\n",
              "      <td>-</td>\n",
              "      <td>0.0</td>\n",
              "      <td>NaN</td>\n",
              "      <td>NaN</td>\n",
              "    </tr>\n",
              "    <tr>\n",
              "      <th>643</th>\n",
              "      <td>Wondra</td>\n",
              "      <td>NaN</td>\n",
              "      <td>NaN</td>\n",
              "      <td>NaN</td>\n",
              "      <td>NaN</td>\n",
              "      <td>NaN</td>\n",
              "      <td>NaN</td>\n",
              "      <td>Marvel Comics</td>\n",
              "      <td>good</td>\n",
              "      <td>Female</td>\n",
              "      <td>-</td>\n",
              "      <td>0.0</td>\n",
              "      <td>NaN</td>\n",
              "      <td>NaN</td>\n",
              "    </tr>\n",
              "    <tr>\n",
              "      <th>644</th>\n",
              "      <td>Wyatt Wingfoot</td>\n",
              "      <td>60.0</td>\n",
              "      <td>10.0</td>\n",
              "      <td>15.0</td>\n",
              "      <td>5.0</td>\n",
              "      <td>5.0</td>\n",
              "      <td>60.0</td>\n",
              "      <td>Marvel Comics</td>\n",
              "      <td>good</td>\n",
              "      <td>Male</td>\n",
              "      <td>-</td>\n",
              "      <td>155.0</td>\n",
              "      <td>NaN</td>\n",
              "      <td>NaN</td>\n",
              "    </tr>\n",
              "    <tr>\n",
              "      <th>647</th>\n",
              "      <td>Yellow Claw</td>\n",
              "      <td>NaN</td>\n",
              "      <td>NaN</td>\n",
              "      <td>NaN</td>\n",
              "      <td>NaN</td>\n",
              "      <td>NaN</td>\n",
              "      <td>NaN</td>\n",
              "      <td>Marvel Comics</td>\n",
              "      <td>bad</td>\n",
              "      <td>Male</td>\n",
              "      <td>-</td>\n",
              "      <td>0.0</td>\n",
              "      <td>NaN</td>\n",
              "      <td>NaN</td>\n",
              "    </tr>\n",
              "  </tbody>\n",
              "</table>\n",
              "<p>89 rows × 14 columns</p>\n",
              "</div>"
            ],
            "text/plain": [
              "                  Name  Intelligence  ...  hero_names  super_powers\n",
              "7             Agent 13          80.0  ...         NaN           NaN\n",
              "12   Alfred Pennyworth          85.0  ...         NaN           NaN\n",
              "36             Arsenal          80.0  ...         NaN           NaN\n",
              "60         Batgirl III          80.0  ...         NaN           NaN\n",
              "62           Batgirl V           NaN  ...         NaN           NaN\n",
              "..                 ...           ...  ...         ...           ...\n",
              "634        White Queen          80.0  ...         NaN           NaN\n",
              "637            Wiz Kid           NaN  ...         NaN           NaN\n",
              "643             Wondra           NaN  ...         NaN           NaN\n",
              "644     Wyatt Wingfoot          60.0  ...         NaN           NaN\n",
              "647        Yellow Claw           NaN  ...         NaN           NaN\n",
              "\n",
              "[89 rows x 14 columns]"
            ]
          },
          "metadata": {
            "tags": []
          },
          "execution_count": 304
        }
      ]
    },
    {
      "cell_type": "markdown",
      "metadata": {
        "id": "zbfj3NPZy-cR"
      },
      "source": [
        "Drop \"hero_names\"\n"
      ]
    },
    {
      "cell_type": "code",
      "metadata": {
        "colab": {
          "base_uri": "https://localhost:8080/",
          "height": 945
        },
        "id": "Xfd9tf0ozBTf",
        "outputId": "819fec12-6bd9-400b-8af7-6931a0ce5291"
      },
      "source": [
        "data_join_2.drop(columns=['hero_names'], inplace = True)\n",
        "data_join_2"
      ],
      "execution_count": 305,
      "outputs": [
        {
          "output_type": "execute_result",
          "data": {
            "text/html": [
              "<div>\n",
              "<style scoped>\n",
              "    .dataframe tbody tr th:only-of-type {\n",
              "        vertical-align: middle;\n",
              "    }\n",
              "\n",
              "    .dataframe tbody tr th {\n",
              "        vertical-align: top;\n",
              "    }\n",
              "\n",
              "    .dataframe thead th {\n",
              "        text-align: right;\n",
              "    }\n",
              "</style>\n",
              "<table border=\"1\" class=\"dataframe\">\n",
              "  <thead>\n",
              "    <tr style=\"text-align: right;\">\n",
              "      <th></th>\n",
              "      <th>Name</th>\n",
              "      <th>Intelligence</th>\n",
              "      <th>Strength</th>\n",
              "      <th>Speed</th>\n",
              "      <th>Durability</th>\n",
              "      <th>Power</th>\n",
              "      <th>Combat</th>\n",
              "      <th>Creator</th>\n",
              "      <th>Alignment</th>\n",
              "      <th>Gender</th>\n",
              "      <th>Race</th>\n",
              "      <th>Total Power</th>\n",
              "      <th>super_powers</th>\n",
              "    </tr>\n",
              "  </thead>\n",
              "  <tbody>\n",
              "    <tr>\n",
              "      <th>0</th>\n",
              "      <td>3-D Man</td>\n",
              "      <td>80.0</td>\n",
              "      <td>35.0</td>\n",
              "      <td>45.0</td>\n",
              "      <td>35.0</td>\n",
              "      <td>25.0</td>\n",
              "      <td>55.0</td>\n",
              "      <td>Marvel Comics</td>\n",
              "      <td>good</td>\n",
              "      <td>Male</td>\n",
              "      <td>-</td>\n",
              "      <td>275.0</td>\n",
              "      <td>[Agility, Super Strength, Stamina, Super Speed]</td>\n",
              "    </tr>\n",
              "    <tr>\n",
              "      <th>1</th>\n",
              "      <td>A-Bomb</td>\n",
              "      <td>75.0</td>\n",
              "      <td>100.0</td>\n",
              "      <td>20.0</td>\n",
              "      <td>80.0</td>\n",
              "      <td>25.0</td>\n",
              "      <td>65.0</td>\n",
              "      <td>Marvel Comics</td>\n",
              "      <td>good</td>\n",
              "      <td>Male</td>\n",
              "      <td>Human</td>\n",
              "      <td>365.0</td>\n",
              "      <td>[Accelerated Healing, Durability, Longevity, S...</td>\n",
              "    </tr>\n",
              "    <tr>\n",
              "      <th>2</th>\n",
              "      <td>Abin Sur</td>\n",
              "      <td>80.0</td>\n",
              "      <td>90.0</td>\n",
              "      <td>55.0</td>\n",
              "      <td>65.0</td>\n",
              "      <td>100.0</td>\n",
              "      <td>65.0</td>\n",
              "      <td>DC Comics</td>\n",
              "      <td>good</td>\n",
              "      <td>Male</td>\n",
              "      <td>Ungaran</td>\n",
              "      <td>455.0</td>\n",
              "      <td>[Lantern Power Ring]</td>\n",
              "    </tr>\n",
              "    <tr>\n",
              "      <th>3</th>\n",
              "      <td>Abomination</td>\n",
              "      <td>85.0</td>\n",
              "      <td>80.0</td>\n",
              "      <td>55.0</td>\n",
              "      <td>90.0</td>\n",
              "      <td>65.0</td>\n",
              "      <td>95.0</td>\n",
              "      <td>Marvel Comics</td>\n",
              "      <td>bad</td>\n",
              "      <td>Male</td>\n",
              "      <td>Human / Radiation</td>\n",
              "      <td>470.0</td>\n",
              "      <td>[Accelerated Healing, Intelligence, Super Stre...</td>\n",
              "    </tr>\n",
              "    <tr>\n",
              "      <th>4</th>\n",
              "      <td>Abraxas</td>\n",
              "      <td>100.0</td>\n",
              "      <td>100.0</td>\n",
              "      <td>85.0</td>\n",
              "      <td>100.0</td>\n",
              "      <td>100.0</td>\n",
              "      <td>55.0</td>\n",
              "      <td>Marvel Comics</td>\n",
              "      <td>bad</td>\n",
              "      <td>Male</td>\n",
              "      <td>Cosmic Entity</td>\n",
              "      <td>540.0</td>\n",
              "      <td>[Dimensional Awareness, Flight, Intelligence, ...</td>\n",
              "    </tr>\n",
              "    <tr>\n",
              "      <th>...</th>\n",
              "      <td>...</td>\n",
              "      <td>...</td>\n",
              "      <td>...</td>\n",
              "      <td>...</td>\n",
              "      <td>...</td>\n",
              "      <td>...</td>\n",
              "      <td>...</td>\n",
              "      <td>...</td>\n",
              "      <td>...</td>\n",
              "      <td>...</td>\n",
              "      <td>...</td>\n",
              "      <td>...</td>\n",
              "      <td>...</td>\n",
              "    </tr>\n",
              "    <tr>\n",
              "      <th>648</th>\n",
              "      <td>Yellowjacket</td>\n",
              "      <td>95.0</td>\n",
              "      <td>10.0</td>\n",
              "      <td>15.0</td>\n",
              "      <td>30.0</td>\n",
              "      <td>15.0</td>\n",
              "      <td>15.0</td>\n",
              "      <td>Marvel Comics</td>\n",
              "      <td>good</td>\n",
              "      <td>Male</td>\n",
              "      <td>Human</td>\n",
              "      <td>180.0</td>\n",
              "      <td>[Size Changing, Animal Oriented Powers]</td>\n",
              "    </tr>\n",
              "    <tr>\n",
              "      <th>649</th>\n",
              "      <td>Yellowjacket II</td>\n",
              "      <td>80.0</td>\n",
              "      <td>10.0</td>\n",
              "      <td>35.0</td>\n",
              "      <td>30.0</td>\n",
              "      <td>35.0</td>\n",
              "      <td>30.0</td>\n",
              "      <td>Marvel Comics</td>\n",
              "      <td>good</td>\n",
              "      <td>Female</td>\n",
              "      <td>Human</td>\n",
              "      <td>220.0</td>\n",
              "      <td>[Flight, Energy Blasts, Size Changing]</td>\n",
              "    </tr>\n",
              "    <tr>\n",
              "      <th>650</th>\n",
              "      <td>Ymir</td>\n",
              "      <td>80.0</td>\n",
              "      <td>100.0</td>\n",
              "      <td>30.0</td>\n",
              "      <td>100.0</td>\n",
              "      <td>100.0</td>\n",
              "      <td>30.0</td>\n",
              "      <td>Marvel Comics</td>\n",
              "      <td>good</td>\n",
              "      <td>Male</td>\n",
              "      <td>Frost Giant</td>\n",
              "      <td>440.0</td>\n",
              "      <td>[Cold Resistance, Durability, Longevity, Super...</td>\n",
              "    </tr>\n",
              "    <tr>\n",
              "      <th>651</th>\n",
              "      <td>Zatanna</td>\n",
              "      <td>95.0</td>\n",
              "      <td>10.0</td>\n",
              "      <td>25.0</td>\n",
              "      <td>30.0</td>\n",
              "      <td>100.0</td>\n",
              "      <td>60.0</td>\n",
              "      <td>DC Comics</td>\n",
              "      <td>good</td>\n",
              "      <td>Female</td>\n",
              "      <td>Human</td>\n",
              "      <td>320.0</td>\n",
              "      <td>[Cryokinesis, Telepathy, Magic, Fire Control, ...</td>\n",
              "    </tr>\n",
              "    <tr>\n",
              "      <th>652</th>\n",
              "      <td>Zoom</td>\n",
              "      <td>80.0</td>\n",
              "      <td>10.0</td>\n",
              "      <td>100.0</td>\n",
              "      <td>30.0</td>\n",
              "      <td>100.0</td>\n",
              "      <td>30.0</td>\n",
              "      <td>DC Comics</td>\n",
              "      <td>bad</td>\n",
              "      <td>Male</td>\n",
              "      <td>-</td>\n",
              "      <td>350.0</td>\n",
              "      <td>[Super Speed, Intangibility, Time Travel, Time...</td>\n",
              "    </tr>\n",
              "  </tbody>\n",
              "</table>\n",
              "<p>653 rows × 13 columns</p>\n",
              "</div>"
            ],
            "text/plain": [
              "                Name  ...                                       super_powers\n",
              "0            3-D Man  ...    [Agility, Super Strength, Stamina, Super Speed]\n",
              "1             A-Bomb  ...  [Accelerated Healing, Durability, Longevity, S...\n",
              "2           Abin Sur  ...                               [Lantern Power Ring]\n",
              "3        Abomination  ...  [Accelerated Healing, Intelligence, Super Stre...\n",
              "4            Abraxas  ...  [Dimensional Awareness, Flight, Intelligence, ...\n",
              "..               ...  ...                                                ...\n",
              "648     Yellowjacket  ...            [Size Changing, Animal Oriented Powers]\n",
              "649  Yellowjacket II  ...             [Flight, Energy Blasts, Size Changing]\n",
              "650             Ymir  ...  [Cold Resistance, Durability, Longevity, Super...\n",
              "651          Zatanna  ...  [Cryokinesis, Telepathy, Magic, Fire Control, ...\n",
              "652             Zoom  ...  [Super Speed, Intangibility, Time Travel, Time...\n",
              "\n",
              "[653 rows x 13 columns]"
            ]
          },
          "metadata": {
            "tags": []
          },
          "execution_count": 305
        }
      ]
    },
    {
      "cell_type": "markdown",
      "metadata": {
        "id": "joImO3F6zb7i"
      },
      "source": [
        "Replace null values of \"super_powers\" by a \"Empty\""
      ]
    },
    {
      "cell_type": "code",
      "metadata": {
        "colab": {
          "base_uri": "https://localhost:8080/",
          "height": 945
        },
        "id": "8qhYA92N0FCh",
        "outputId": "733fa197-884a-48ab-b9e2-ac58f14513be"
      },
      "source": [
        "data_join_2.fillna(data_join_2.median(),inplace = True)\n",
        "data_join_2"
      ],
      "execution_count": 306,
      "outputs": [
        {
          "output_type": "execute_result",
          "data": {
            "text/html": [
              "<div>\n",
              "<style scoped>\n",
              "    .dataframe tbody tr th:only-of-type {\n",
              "        vertical-align: middle;\n",
              "    }\n",
              "\n",
              "    .dataframe tbody tr th {\n",
              "        vertical-align: top;\n",
              "    }\n",
              "\n",
              "    .dataframe thead th {\n",
              "        text-align: right;\n",
              "    }\n",
              "</style>\n",
              "<table border=\"1\" class=\"dataframe\">\n",
              "  <thead>\n",
              "    <tr style=\"text-align: right;\">\n",
              "      <th></th>\n",
              "      <th>Name</th>\n",
              "      <th>Intelligence</th>\n",
              "      <th>Strength</th>\n",
              "      <th>Speed</th>\n",
              "      <th>Durability</th>\n",
              "      <th>Power</th>\n",
              "      <th>Combat</th>\n",
              "      <th>Creator</th>\n",
              "      <th>Alignment</th>\n",
              "      <th>Gender</th>\n",
              "      <th>Race</th>\n",
              "      <th>Total Power</th>\n",
              "      <th>super_powers</th>\n",
              "    </tr>\n",
              "  </thead>\n",
              "  <tbody>\n",
              "    <tr>\n",
              "      <th>0</th>\n",
              "      <td>3-D Man</td>\n",
              "      <td>80.0</td>\n",
              "      <td>35.0</td>\n",
              "      <td>45.0</td>\n",
              "      <td>35.0</td>\n",
              "      <td>25.0</td>\n",
              "      <td>55.0</td>\n",
              "      <td>Marvel Comics</td>\n",
              "      <td>good</td>\n",
              "      <td>Male</td>\n",
              "      <td>-</td>\n",
              "      <td>275.0</td>\n",
              "      <td>[Agility, Super Strength, Stamina, Super Speed]</td>\n",
              "    </tr>\n",
              "    <tr>\n",
              "      <th>1</th>\n",
              "      <td>A-Bomb</td>\n",
              "      <td>75.0</td>\n",
              "      <td>100.0</td>\n",
              "      <td>20.0</td>\n",
              "      <td>80.0</td>\n",
              "      <td>25.0</td>\n",
              "      <td>65.0</td>\n",
              "      <td>Marvel Comics</td>\n",
              "      <td>good</td>\n",
              "      <td>Male</td>\n",
              "      <td>Human</td>\n",
              "      <td>365.0</td>\n",
              "      <td>[Accelerated Healing, Durability, Longevity, S...</td>\n",
              "    </tr>\n",
              "    <tr>\n",
              "      <th>2</th>\n",
              "      <td>Abin Sur</td>\n",
              "      <td>80.0</td>\n",
              "      <td>90.0</td>\n",
              "      <td>55.0</td>\n",
              "      <td>65.0</td>\n",
              "      <td>100.0</td>\n",
              "      <td>65.0</td>\n",
              "      <td>DC Comics</td>\n",
              "      <td>good</td>\n",
              "      <td>Male</td>\n",
              "      <td>Ungaran</td>\n",
              "      <td>455.0</td>\n",
              "      <td>[Lantern Power Ring]</td>\n",
              "    </tr>\n",
              "    <tr>\n",
              "      <th>3</th>\n",
              "      <td>Abomination</td>\n",
              "      <td>85.0</td>\n",
              "      <td>80.0</td>\n",
              "      <td>55.0</td>\n",
              "      <td>90.0</td>\n",
              "      <td>65.0</td>\n",
              "      <td>95.0</td>\n",
              "      <td>Marvel Comics</td>\n",
              "      <td>bad</td>\n",
              "      <td>Male</td>\n",
              "      <td>Human / Radiation</td>\n",
              "      <td>470.0</td>\n",
              "      <td>[Accelerated Healing, Intelligence, Super Stre...</td>\n",
              "    </tr>\n",
              "    <tr>\n",
              "      <th>4</th>\n",
              "      <td>Abraxas</td>\n",
              "      <td>100.0</td>\n",
              "      <td>100.0</td>\n",
              "      <td>85.0</td>\n",
              "      <td>100.0</td>\n",
              "      <td>100.0</td>\n",
              "      <td>55.0</td>\n",
              "      <td>Marvel Comics</td>\n",
              "      <td>bad</td>\n",
              "      <td>Male</td>\n",
              "      <td>Cosmic Entity</td>\n",
              "      <td>540.0</td>\n",
              "      <td>[Dimensional Awareness, Flight, Intelligence, ...</td>\n",
              "    </tr>\n",
              "    <tr>\n",
              "      <th>...</th>\n",
              "      <td>...</td>\n",
              "      <td>...</td>\n",
              "      <td>...</td>\n",
              "      <td>...</td>\n",
              "      <td>...</td>\n",
              "      <td>...</td>\n",
              "      <td>...</td>\n",
              "      <td>...</td>\n",
              "      <td>...</td>\n",
              "      <td>...</td>\n",
              "      <td>...</td>\n",
              "      <td>...</td>\n",
              "      <td>...</td>\n",
              "    </tr>\n",
              "    <tr>\n",
              "      <th>648</th>\n",
              "      <td>Yellowjacket</td>\n",
              "      <td>95.0</td>\n",
              "      <td>10.0</td>\n",
              "      <td>15.0</td>\n",
              "      <td>30.0</td>\n",
              "      <td>15.0</td>\n",
              "      <td>15.0</td>\n",
              "      <td>Marvel Comics</td>\n",
              "      <td>good</td>\n",
              "      <td>Male</td>\n",
              "      <td>Human</td>\n",
              "      <td>180.0</td>\n",
              "      <td>[Size Changing, Animal Oriented Powers]</td>\n",
              "    </tr>\n",
              "    <tr>\n",
              "      <th>649</th>\n",
              "      <td>Yellowjacket II</td>\n",
              "      <td>80.0</td>\n",
              "      <td>10.0</td>\n",
              "      <td>35.0</td>\n",
              "      <td>30.0</td>\n",
              "      <td>35.0</td>\n",
              "      <td>30.0</td>\n",
              "      <td>Marvel Comics</td>\n",
              "      <td>good</td>\n",
              "      <td>Female</td>\n",
              "      <td>Human</td>\n",
              "      <td>220.0</td>\n",
              "      <td>[Flight, Energy Blasts, Size Changing]</td>\n",
              "    </tr>\n",
              "    <tr>\n",
              "      <th>650</th>\n",
              "      <td>Ymir</td>\n",
              "      <td>80.0</td>\n",
              "      <td>100.0</td>\n",
              "      <td>30.0</td>\n",
              "      <td>100.0</td>\n",
              "      <td>100.0</td>\n",
              "      <td>30.0</td>\n",
              "      <td>Marvel Comics</td>\n",
              "      <td>good</td>\n",
              "      <td>Male</td>\n",
              "      <td>Frost Giant</td>\n",
              "      <td>440.0</td>\n",
              "      <td>[Cold Resistance, Durability, Longevity, Super...</td>\n",
              "    </tr>\n",
              "    <tr>\n",
              "      <th>651</th>\n",
              "      <td>Zatanna</td>\n",
              "      <td>95.0</td>\n",
              "      <td>10.0</td>\n",
              "      <td>25.0</td>\n",
              "      <td>30.0</td>\n",
              "      <td>100.0</td>\n",
              "      <td>60.0</td>\n",
              "      <td>DC Comics</td>\n",
              "      <td>good</td>\n",
              "      <td>Female</td>\n",
              "      <td>Human</td>\n",
              "      <td>320.0</td>\n",
              "      <td>[Cryokinesis, Telepathy, Magic, Fire Control, ...</td>\n",
              "    </tr>\n",
              "    <tr>\n",
              "      <th>652</th>\n",
              "      <td>Zoom</td>\n",
              "      <td>80.0</td>\n",
              "      <td>10.0</td>\n",
              "      <td>100.0</td>\n",
              "      <td>30.0</td>\n",
              "      <td>100.0</td>\n",
              "      <td>30.0</td>\n",
              "      <td>DC Comics</td>\n",
              "      <td>bad</td>\n",
              "      <td>Male</td>\n",
              "      <td>-</td>\n",
              "      <td>350.0</td>\n",
              "      <td>[Super Speed, Intangibility, Time Travel, Time...</td>\n",
              "    </tr>\n",
              "  </tbody>\n",
              "</table>\n",
              "<p>653 rows × 13 columns</p>\n",
              "</div>"
            ],
            "text/plain": [
              "                Name  ...                                       super_powers\n",
              "0            3-D Man  ...    [Agility, Super Strength, Stamina, Super Speed]\n",
              "1             A-Bomb  ...  [Accelerated Healing, Durability, Longevity, S...\n",
              "2           Abin Sur  ...                               [Lantern Power Ring]\n",
              "3        Abomination  ...  [Accelerated Healing, Intelligence, Super Stre...\n",
              "4            Abraxas  ...  [Dimensional Awareness, Flight, Intelligence, ...\n",
              "..               ...  ...                                                ...\n",
              "648     Yellowjacket  ...            [Size Changing, Animal Oriented Powers]\n",
              "649  Yellowjacket II  ...             [Flight, Energy Blasts, Size Changing]\n",
              "650             Ymir  ...  [Cold Resistance, Durability, Longevity, Super...\n",
              "651          Zatanna  ...  [Cryokinesis, Telepathy, Magic, Fire Control, ...\n",
              "652             Zoom  ...  [Super Speed, Intangibility, Time Travel, Time...\n",
              "\n",
              "[653 rows x 13 columns]"
            ]
          },
          "metadata": {
            "tags": []
          },
          "execution_count": 306
        }
      ]
    },
    {
      "cell_type": "markdown",
      "metadata": {
        "id": "3_gSvQ4J1dhQ"
      },
      "source": [
        "Check null values"
      ]
    },
    {
      "cell_type": "code",
      "metadata": {
        "colab": {
          "base_uri": "https://localhost:8080/"
        },
        "id": "Wqjoyh341fIK",
        "outputId": "b5b1cc89-fb09-4324-f51f-c8acc60893be"
      },
      "source": [
        "data_join_2.isnull().sum()"
      ],
      "execution_count": 307,
      "outputs": [
        {
          "output_type": "execute_result",
          "data": {
            "text/plain": [
              "Name             0\n",
              "Intelligence     0\n",
              "Strength         0\n",
              "Speed            0\n",
              "Durability       0\n",
              "Power            0\n",
              "Combat           0\n",
              "Creator          0\n",
              "Alignment        0\n",
              "Gender           0\n",
              "Race             0\n",
              "Total Power      0\n",
              "super_powers    89\n",
              "dtype: int64"
            ]
          },
          "metadata": {
            "tags": []
          },
          "execution_count": 307
        }
      ]
    },
    {
      "cell_type": "markdown",
      "metadata": {
        "id": "YVR9k5qE1nXf"
      },
      "source": [
        "Change null values of superpowers for \"Empty\""
      ]
    },
    {
      "cell_type": "code",
      "metadata": {
        "colab": {
          "base_uri": "https://localhost:8080/",
          "height": 945
        },
        "id": "R3asKbxf1rEX",
        "outputId": "c976c934-6108-4b8b-c1a6-d90b9a1d904d"
      },
      "source": [
        "data_join_2.fillna(\"Empty\",inplace = True)\n",
        "data_join_2"
      ],
      "execution_count": 308,
      "outputs": [
        {
          "output_type": "execute_result",
          "data": {
            "text/html": [
              "<div>\n",
              "<style scoped>\n",
              "    .dataframe tbody tr th:only-of-type {\n",
              "        vertical-align: middle;\n",
              "    }\n",
              "\n",
              "    .dataframe tbody tr th {\n",
              "        vertical-align: top;\n",
              "    }\n",
              "\n",
              "    .dataframe thead th {\n",
              "        text-align: right;\n",
              "    }\n",
              "</style>\n",
              "<table border=\"1\" class=\"dataframe\">\n",
              "  <thead>\n",
              "    <tr style=\"text-align: right;\">\n",
              "      <th></th>\n",
              "      <th>Name</th>\n",
              "      <th>Intelligence</th>\n",
              "      <th>Strength</th>\n",
              "      <th>Speed</th>\n",
              "      <th>Durability</th>\n",
              "      <th>Power</th>\n",
              "      <th>Combat</th>\n",
              "      <th>Creator</th>\n",
              "      <th>Alignment</th>\n",
              "      <th>Gender</th>\n",
              "      <th>Race</th>\n",
              "      <th>Total Power</th>\n",
              "      <th>super_powers</th>\n",
              "    </tr>\n",
              "  </thead>\n",
              "  <tbody>\n",
              "    <tr>\n",
              "      <th>0</th>\n",
              "      <td>3-D Man</td>\n",
              "      <td>80.0</td>\n",
              "      <td>35.0</td>\n",
              "      <td>45.0</td>\n",
              "      <td>35.0</td>\n",
              "      <td>25.0</td>\n",
              "      <td>55.0</td>\n",
              "      <td>Marvel Comics</td>\n",
              "      <td>good</td>\n",
              "      <td>Male</td>\n",
              "      <td>-</td>\n",
              "      <td>275.0</td>\n",
              "      <td>[Agility, Super Strength, Stamina, Super Speed]</td>\n",
              "    </tr>\n",
              "    <tr>\n",
              "      <th>1</th>\n",
              "      <td>A-Bomb</td>\n",
              "      <td>75.0</td>\n",
              "      <td>100.0</td>\n",
              "      <td>20.0</td>\n",
              "      <td>80.0</td>\n",
              "      <td>25.0</td>\n",
              "      <td>65.0</td>\n",
              "      <td>Marvel Comics</td>\n",
              "      <td>good</td>\n",
              "      <td>Male</td>\n",
              "      <td>Human</td>\n",
              "      <td>365.0</td>\n",
              "      <td>[Accelerated Healing, Durability, Longevity, S...</td>\n",
              "    </tr>\n",
              "    <tr>\n",
              "      <th>2</th>\n",
              "      <td>Abin Sur</td>\n",
              "      <td>80.0</td>\n",
              "      <td>90.0</td>\n",
              "      <td>55.0</td>\n",
              "      <td>65.0</td>\n",
              "      <td>100.0</td>\n",
              "      <td>65.0</td>\n",
              "      <td>DC Comics</td>\n",
              "      <td>good</td>\n",
              "      <td>Male</td>\n",
              "      <td>Ungaran</td>\n",
              "      <td>455.0</td>\n",
              "      <td>[Lantern Power Ring]</td>\n",
              "    </tr>\n",
              "    <tr>\n",
              "      <th>3</th>\n",
              "      <td>Abomination</td>\n",
              "      <td>85.0</td>\n",
              "      <td>80.0</td>\n",
              "      <td>55.0</td>\n",
              "      <td>90.0</td>\n",
              "      <td>65.0</td>\n",
              "      <td>95.0</td>\n",
              "      <td>Marvel Comics</td>\n",
              "      <td>bad</td>\n",
              "      <td>Male</td>\n",
              "      <td>Human / Radiation</td>\n",
              "      <td>470.0</td>\n",
              "      <td>[Accelerated Healing, Intelligence, Super Stre...</td>\n",
              "    </tr>\n",
              "    <tr>\n",
              "      <th>4</th>\n",
              "      <td>Abraxas</td>\n",
              "      <td>100.0</td>\n",
              "      <td>100.0</td>\n",
              "      <td>85.0</td>\n",
              "      <td>100.0</td>\n",
              "      <td>100.0</td>\n",
              "      <td>55.0</td>\n",
              "      <td>Marvel Comics</td>\n",
              "      <td>bad</td>\n",
              "      <td>Male</td>\n",
              "      <td>Cosmic Entity</td>\n",
              "      <td>540.0</td>\n",
              "      <td>[Dimensional Awareness, Flight, Intelligence, ...</td>\n",
              "    </tr>\n",
              "    <tr>\n",
              "      <th>...</th>\n",
              "      <td>...</td>\n",
              "      <td>...</td>\n",
              "      <td>...</td>\n",
              "      <td>...</td>\n",
              "      <td>...</td>\n",
              "      <td>...</td>\n",
              "      <td>...</td>\n",
              "      <td>...</td>\n",
              "      <td>...</td>\n",
              "      <td>...</td>\n",
              "      <td>...</td>\n",
              "      <td>...</td>\n",
              "      <td>...</td>\n",
              "    </tr>\n",
              "    <tr>\n",
              "      <th>648</th>\n",
              "      <td>Yellowjacket</td>\n",
              "      <td>95.0</td>\n",
              "      <td>10.0</td>\n",
              "      <td>15.0</td>\n",
              "      <td>30.0</td>\n",
              "      <td>15.0</td>\n",
              "      <td>15.0</td>\n",
              "      <td>Marvel Comics</td>\n",
              "      <td>good</td>\n",
              "      <td>Male</td>\n",
              "      <td>Human</td>\n",
              "      <td>180.0</td>\n",
              "      <td>[Size Changing, Animal Oriented Powers]</td>\n",
              "    </tr>\n",
              "    <tr>\n",
              "      <th>649</th>\n",
              "      <td>Yellowjacket II</td>\n",
              "      <td>80.0</td>\n",
              "      <td>10.0</td>\n",
              "      <td>35.0</td>\n",
              "      <td>30.0</td>\n",
              "      <td>35.0</td>\n",
              "      <td>30.0</td>\n",
              "      <td>Marvel Comics</td>\n",
              "      <td>good</td>\n",
              "      <td>Female</td>\n",
              "      <td>Human</td>\n",
              "      <td>220.0</td>\n",
              "      <td>[Flight, Energy Blasts, Size Changing]</td>\n",
              "    </tr>\n",
              "    <tr>\n",
              "      <th>650</th>\n",
              "      <td>Ymir</td>\n",
              "      <td>80.0</td>\n",
              "      <td>100.0</td>\n",
              "      <td>30.0</td>\n",
              "      <td>100.0</td>\n",
              "      <td>100.0</td>\n",
              "      <td>30.0</td>\n",
              "      <td>Marvel Comics</td>\n",
              "      <td>good</td>\n",
              "      <td>Male</td>\n",
              "      <td>Frost Giant</td>\n",
              "      <td>440.0</td>\n",
              "      <td>[Cold Resistance, Durability, Longevity, Super...</td>\n",
              "    </tr>\n",
              "    <tr>\n",
              "      <th>651</th>\n",
              "      <td>Zatanna</td>\n",
              "      <td>95.0</td>\n",
              "      <td>10.0</td>\n",
              "      <td>25.0</td>\n",
              "      <td>30.0</td>\n",
              "      <td>100.0</td>\n",
              "      <td>60.0</td>\n",
              "      <td>DC Comics</td>\n",
              "      <td>good</td>\n",
              "      <td>Female</td>\n",
              "      <td>Human</td>\n",
              "      <td>320.0</td>\n",
              "      <td>[Cryokinesis, Telepathy, Magic, Fire Control, ...</td>\n",
              "    </tr>\n",
              "    <tr>\n",
              "      <th>652</th>\n",
              "      <td>Zoom</td>\n",
              "      <td>80.0</td>\n",
              "      <td>10.0</td>\n",
              "      <td>100.0</td>\n",
              "      <td>30.0</td>\n",
              "      <td>100.0</td>\n",
              "      <td>30.0</td>\n",
              "      <td>DC Comics</td>\n",
              "      <td>bad</td>\n",
              "      <td>Male</td>\n",
              "      <td>-</td>\n",
              "      <td>350.0</td>\n",
              "      <td>[Super Speed, Intangibility, Time Travel, Time...</td>\n",
              "    </tr>\n",
              "  </tbody>\n",
              "</table>\n",
              "<p>653 rows × 13 columns</p>\n",
              "</div>"
            ],
            "text/plain": [
              "                Name  ...                                       super_powers\n",
              "0            3-D Man  ...    [Agility, Super Strength, Stamina, Super Speed]\n",
              "1             A-Bomb  ...  [Accelerated Healing, Durability, Longevity, S...\n",
              "2           Abin Sur  ...                               [Lantern Power Ring]\n",
              "3        Abomination  ...  [Accelerated Healing, Intelligence, Super Stre...\n",
              "4            Abraxas  ...  [Dimensional Awareness, Flight, Intelligence, ...\n",
              "..               ...  ...                                                ...\n",
              "648     Yellowjacket  ...            [Size Changing, Animal Oriented Powers]\n",
              "649  Yellowjacket II  ...             [Flight, Energy Blasts, Size Changing]\n",
              "650             Ymir  ...  [Cold Resistance, Durability, Longevity, Super...\n",
              "651          Zatanna  ...  [Cryokinesis, Telepathy, Magic, Fire Control, ...\n",
              "652             Zoom  ...  [Super Speed, Intangibility, Time Travel, Time...\n",
              "\n",
              "[653 rows x 13 columns]"
            ]
          },
          "metadata": {
            "tags": []
          },
          "execution_count": 308
        }
      ]
    },
    {
      "cell_type": "markdown",
      "metadata": {
        "id": "fx7FkU8x1wjZ"
      },
      "source": [
        "Check null values"
      ]
    },
    {
      "cell_type": "code",
      "metadata": {
        "colab": {
          "base_uri": "https://localhost:8080/"
        },
        "id": "ES55Pp0t1yjI",
        "outputId": "a50b484f-0f0e-4306-edaf-b31515b209e4"
      },
      "source": [
        "data_join_2.isnull().sum()"
      ],
      "execution_count": 309,
      "outputs": [
        {
          "output_type": "execute_result",
          "data": {
            "text/plain": [
              "Name            0\n",
              "Intelligence    0\n",
              "Strength        0\n",
              "Speed           0\n",
              "Durability      0\n",
              "Power           0\n",
              "Combat          0\n",
              "Creator         0\n",
              "Alignment       0\n",
              "Gender          0\n",
              "Race            0\n",
              "Total Power     0\n",
              "super_powers    0\n",
              "dtype: int64"
            ]
          },
          "metadata": {
            "tags": []
          },
          "execution_count": 309
        }
      ]
    },
    {
      "cell_type": "markdown",
      "metadata": {
        "id": "K1kXN3gAxJG5"
      },
      "source": [
        "### Our final dataframe"
      ]
    },
    {
      "cell_type": "code",
      "metadata": {
        "colab": {
          "base_uri": "https://localhost:8080/",
          "height": 945
        },
        "id": "NpfFQ-efw-2g",
        "outputId": "70187e73-e79c-4a26-b5de-b0a97964c8a0"
      },
      "source": [
        "final_df = data_join_2.copy(deep=True)\n",
        "final_df"
      ],
      "execution_count": 310,
      "outputs": [
        {
          "output_type": "execute_result",
          "data": {
            "text/html": [
              "<div>\n",
              "<style scoped>\n",
              "    .dataframe tbody tr th:only-of-type {\n",
              "        vertical-align: middle;\n",
              "    }\n",
              "\n",
              "    .dataframe tbody tr th {\n",
              "        vertical-align: top;\n",
              "    }\n",
              "\n",
              "    .dataframe thead th {\n",
              "        text-align: right;\n",
              "    }\n",
              "</style>\n",
              "<table border=\"1\" class=\"dataframe\">\n",
              "  <thead>\n",
              "    <tr style=\"text-align: right;\">\n",
              "      <th></th>\n",
              "      <th>Name</th>\n",
              "      <th>Intelligence</th>\n",
              "      <th>Strength</th>\n",
              "      <th>Speed</th>\n",
              "      <th>Durability</th>\n",
              "      <th>Power</th>\n",
              "      <th>Combat</th>\n",
              "      <th>Creator</th>\n",
              "      <th>Alignment</th>\n",
              "      <th>Gender</th>\n",
              "      <th>Race</th>\n",
              "      <th>Total Power</th>\n",
              "      <th>super_powers</th>\n",
              "    </tr>\n",
              "  </thead>\n",
              "  <tbody>\n",
              "    <tr>\n",
              "      <th>0</th>\n",
              "      <td>3-D Man</td>\n",
              "      <td>80.0</td>\n",
              "      <td>35.0</td>\n",
              "      <td>45.0</td>\n",
              "      <td>35.0</td>\n",
              "      <td>25.0</td>\n",
              "      <td>55.0</td>\n",
              "      <td>Marvel Comics</td>\n",
              "      <td>good</td>\n",
              "      <td>Male</td>\n",
              "      <td>-</td>\n",
              "      <td>275.0</td>\n",
              "      <td>[Agility, Super Strength, Stamina, Super Speed]</td>\n",
              "    </tr>\n",
              "    <tr>\n",
              "      <th>1</th>\n",
              "      <td>A-Bomb</td>\n",
              "      <td>75.0</td>\n",
              "      <td>100.0</td>\n",
              "      <td>20.0</td>\n",
              "      <td>80.0</td>\n",
              "      <td>25.0</td>\n",
              "      <td>65.0</td>\n",
              "      <td>Marvel Comics</td>\n",
              "      <td>good</td>\n",
              "      <td>Male</td>\n",
              "      <td>Human</td>\n",
              "      <td>365.0</td>\n",
              "      <td>[Accelerated Healing, Durability, Longevity, S...</td>\n",
              "    </tr>\n",
              "    <tr>\n",
              "      <th>2</th>\n",
              "      <td>Abin Sur</td>\n",
              "      <td>80.0</td>\n",
              "      <td>90.0</td>\n",
              "      <td>55.0</td>\n",
              "      <td>65.0</td>\n",
              "      <td>100.0</td>\n",
              "      <td>65.0</td>\n",
              "      <td>DC Comics</td>\n",
              "      <td>good</td>\n",
              "      <td>Male</td>\n",
              "      <td>Ungaran</td>\n",
              "      <td>455.0</td>\n",
              "      <td>[Lantern Power Ring]</td>\n",
              "    </tr>\n",
              "    <tr>\n",
              "      <th>3</th>\n",
              "      <td>Abomination</td>\n",
              "      <td>85.0</td>\n",
              "      <td>80.0</td>\n",
              "      <td>55.0</td>\n",
              "      <td>90.0</td>\n",
              "      <td>65.0</td>\n",
              "      <td>95.0</td>\n",
              "      <td>Marvel Comics</td>\n",
              "      <td>bad</td>\n",
              "      <td>Male</td>\n",
              "      <td>Human / Radiation</td>\n",
              "      <td>470.0</td>\n",
              "      <td>[Accelerated Healing, Intelligence, Super Stre...</td>\n",
              "    </tr>\n",
              "    <tr>\n",
              "      <th>4</th>\n",
              "      <td>Abraxas</td>\n",
              "      <td>100.0</td>\n",
              "      <td>100.0</td>\n",
              "      <td>85.0</td>\n",
              "      <td>100.0</td>\n",
              "      <td>100.0</td>\n",
              "      <td>55.0</td>\n",
              "      <td>Marvel Comics</td>\n",
              "      <td>bad</td>\n",
              "      <td>Male</td>\n",
              "      <td>Cosmic Entity</td>\n",
              "      <td>540.0</td>\n",
              "      <td>[Dimensional Awareness, Flight, Intelligence, ...</td>\n",
              "    </tr>\n",
              "    <tr>\n",
              "      <th>...</th>\n",
              "      <td>...</td>\n",
              "      <td>...</td>\n",
              "      <td>...</td>\n",
              "      <td>...</td>\n",
              "      <td>...</td>\n",
              "      <td>...</td>\n",
              "      <td>...</td>\n",
              "      <td>...</td>\n",
              "      <td>...</td>\n",
              "      <td>...</td>\n",
              "      <td>...</td>\n",
              "      <td>...</td>\n",
              "      <td>...</td>\n",
              "    </tr>\n",
              "    <tr>\n",
              "      <th>648</th>\n",
              "      <td>Yellowjacket</td>\n",
              "      <td>95.0</td>\n",
              "      <td>10.0</td>\n",
              "      <td>15.0</td>\n",
              "      <td>30.0</td>\n",
              "      <td>15.0</td>\n",
              "      <td>15.0</td>\n",
              "      <td>Marvel Comics</td>\n",
              "      <td>good</td>\n",
              "      <td>Male</td>\n",
              "      <td>Human</td>\n",
              "      <td>180.0</td>\n",
              "      <td>[Size Changing, Animal Oriented Powers]</td>\n",
              "    </tr>\n",
              "    <tr>\n",
              "      <th>649</th>\n",
              "      <td>Yellowjacket II</td>\n",
              "      <td>80.0</td>\n",
              "      <td>10.0</td>\n",
              "      <td>35.0</td>\n",
              "      <td>30.0</td>\n",
              "      <td>35.0</td>\n",
              "      <td>30.0</td>\n",
              "      <td>Marvel Comics</td>\n",
              "      <td>good</td>\n",
              "      <td>Female</td>\n",
              "      <td>Human</td>\n",
              "      <td>220.0</td>\n",
              "      <td>[Flight, Energy Blasts, Size Changing]</td>\n",
              "    </tr>\n",
              "    <tr>\n",
              "      <th>650</th>\n",
              "      <td>Ymir</td>\n",
              "      <td>80.0</td>\n",
              "      <td>100.0</td>\n",
              "      <td>30.0</td>\n",
              "      <td>100.0</td>\n",
              "      <td>100.0</td>\n",
              "      <td>30.0</td>\n",
              "      <td>Marvel Comics</td>\n",
              "      <td>good</td>\n",
              "      <td>Male</td>\n",
              "      <td>Frost Giant</td>\n",
              "      <td>440.0</td>\n",
              "      <td>[Cold Resistance, Durability, Longevity, Super...</td>\n",
              "    </tr>\n",
              "    <tr>\n",
              "      <th>651</th>\n",
              "      <td>Zatanna</td>\n",
              "      <td>95.0</td>\n",
              "      <td>10.0</td>\n",
              "      <td>25.0</td>\n",
              "      <td>30.0</td>\n",
              "      <td>100.0</td>\n",
              "      <td>60.0</td>\n",
              "      <td>DC Comics</td>\n",
              "      <td>good</td>\n",
              "      <td>Female</td>\n",
              "      <td>Human</td>\n",
              "      <td>320.0</td>\n",
              "      <td>[Cryokinesis, Telepathy, Magic, Fire Control, ...</td>\n",
              "    </tr>\n",
              "    <tr>\n",
              "      <th>652</th>\n",
              "      <td>Zoom</td>\n",
              "      <td>80.0</td>\n",
              "      <td>10.0</td>\n",
              "      <td>100.0</td>\n",
              "      <td>30.0</td>\n",
              "      <td>100.0</td>\n",
              "      <td>30.0</td>\n",
              "      <td>DC Comics</td>\n",
              "      <td>bad</td>\n",
              "      <td>Male</td>\n",
              "      <td>-</td>\n",
              "      <td>350.0</td>\n",
              "      <td>[Super Speed, Intangibility, Time Travel, Time...</td>\n",
              "    </tr>\n",
              "  </tbody>\n",
              "</table>\n",
              "<p>653 rows × 13 columns</p>\n",
              "</div>"
            ],
            "text/plain": [
              "                Name  ...                                       super_powers\n",
              "0            3-D Man  ...    [Agility, Super Strength, Stamina, Super Speed]\n",
              "1             A-Bomb  ...  [Accelerated Healing, Durability, Longevity, S...\n",
              "2           Abin Sur  ...                               [Lantern Power Ring]\n",
              "3        Abomination  ...  [Accelerated Healing, Intelligence, Super Stre...\n",
              "4            Abraxas  ...  [Dimensional Awareness, Flight, Intelligence, ...\n",
              "..               ...  ...                                                ...\n",
              "648     Yellowjacket  ...            [Size Changing, Animal Oriented Powers]\n",
              "649  Yellowjacket II  ...             [Flight, Energy Blasts, Size Changing]\n",
              "650             Ymir  ...  [Cold Resistance, Durability, Longevity, Super...\n",
              "651          Zatanna  ...  [Cryokinesis, Telepathy, Magic, Fire Control, ...\n",
              "652             Zoom  ...  [Super Speed, Intangibility, Time Travel, Time...\n",
              "\n",
              "[653 rows x 13 columns]"
            ]
          },
          "metadata": {
            "tags": []
          },
          "execution_count": 310
        }
      ]
    },
    {
      "cell_type": "markdown",
      "metadata": {
        "id": "WOQYLtYJ18NI"
      },
      "source": [
        "# Questions"
      ]
    },
    {
      "cell_type": "markdown",
      "metadata": {
        "id": "6660Qs5f1-CP"
      },
      "source": [
        "## Q1. How many heroes are there in DC Comics and Marvel Comics?\n"
      ]
    },
    {
      "cell_type": "code",
      "metadata": {
        "colab": {
          "base_uri": "https://localhost:8080/"
        },
        "id": "pJFMfes816_Y",
        "outputId": "21e4410b-b030-4f2c-9af0-560bb1173214"
      },
      "source": [
        "q1 = final_df['Creator']\n",
        "q1.value_counts()"
      ],
      "execution_count": 311,
      "outputs": [
        {
          "output_type": "execute_result",
          "data": {
            "text/plain": [
              "Marvel Comics    419\n",
              "DC Comics        234\n",
              "Name: Creator, dtype: int64"
            ]
          },
          "metadata": {
            "tags": []
          },
          "execution_count": 311
        }
      ]
    },
    {
      "cell_type": "code",
      "metadata": {
        "colab": {
          "base_uri": "https://localhost:8080/",
          "height": 295
        },
        "id": "xq1ofnPi2RBf",
        "outputId": "e0acc377-3cce-46fc-b8aa-7f4ed47774aa"
      },
      "source": [
        "fig,ax = plt.subplots()\n",
        "ax.bar(q1.value_counts().index, q1.value_counts())\n",
        "ax.set_title('Characters by comics')\n",
        "ax.set_xlabel('Comic')\n",
        "ax.set_ylabel('Nro.')\n",
        "\n",
        "plt.show()"
      ],
      "execution_count": 312,
      "outputs": [
        {
          "output_type": "display_data",
          "data": {
            "image/png": "[encoded data removed]",
            "text/plain": [
              "<Figure size 432x288 with 1 Axes>"
            ]
          },
          "metadata": {
            "tags": [],
            "needs_background": "light"
          }
        }
      ]
    },
    {
      "cell_type": "markdown",
      "metadata": {
        "id": "uSuJcq4qDXha"
      },
      "source": [
        "## Q2. What is the predominant gender in the characters of DC Comics and Marvel Comics?\n"
      ]
    },
    {
      "cell_type": "markdown",
      "metadata": {
        "id": "84eNe0KmEEOK"
      },
      "source": [
        "Use only \"Creator\" and \"Gender\" columns"
      ]
    },
    {
      "cell_type": "code",
      "metadata": {
        "id": "hiQSz0LT2uKo",
        "colab": {
          "base_uri": "https://localhost:8080/",
          "height": 407
        },
        "outputId": "4bcdc54f-0aac-4571-dd7f-a617e5433f94"
      },
      "source": [
        "q2 = final_df.loc[:,['Creator','Gender']]\n",
        "q2"
      ],
      "execution_count": 313,
      "outputs": [
        {
          "output_type": "execute_result",
          "data": {
            "text/html": [
              "<div>\n",
              "<style scoped>\n",
              "    .dataframe tbody tr th:only-of-type {\n",
              "        vertical-align: middle;\n",
              "    }\n",
              "\n",
              "    .dataframe tbody tr th {\n",
              "        vertical-align: top;\n",
              "    }\n",
              "\n",
              "    .dataframe thead th {\n",
              "        text-align: right;\n",
              "    }\n",
              "</style>\n",
              "<table border=\"1\" class=\"dataframe\">\n",
              "  <thead>\n",
              "    <tr style=\"text-align: right;\">\n",
              "      <th></th>\n",
              "      <th>Creator</th>\n",
              "      <th>Gender</th>\n",
              "    </tr>\n",
              "  </thead>\n",
              "  <tbody>\n",
              "    <tr>\n",
              "      <th>0</th>\n",
              "      <td>Marvel Comics</td>\n",
              "      <td>Male</td>\n",
              "    </tr>\n",
              "    <tr>\n",
              "      <th>1</th>\n",
              "      <td>Marvel Comics</td>\n",
              "      <td>Male</td>\n",
              "    </tr>\n",
              "    <tr>\n",
              "      <th>2</th>\n",
              "      <td>DC Comics</td>\n",
              "      <td>Male</td>\n",
              "    </tr>\n",
              "    <tr>\n",
              "      <th>3</th>\n",
              "      <td>Marvel Comics</td>\n",
              "      <td>Male</td>\n",
              "    </tr>\n",
              "    <tr>\n",
              "      <th>4</th>\n",
              "      <td>Marvel Comics</td>\n",
              "      <td>Male</td>\n",
              "    </tr>\n",
              "    <tr>\n",
              "      <th>...</th>\n",
              "      <td>...</td>\n",
              "      <td>...</td>\n",
              "    </tr>\n",
              "    <tr>\n",
              "      <th>648</th>\n",
              "      <td>Marvel Comics</td>\n",
              "      <td>Male</td>\n",
              "    </tr>\n",
              "    <tr>\n",
              "      <th>649</th>\n",
              "      <td>Marvel Comics</td>\n",
              "      <td>Female</td>\n",
              "    </tr>\n",
              "    <tr>\n",
              "      <th>650</th>\n",
              "      <td>Marvel Comics</td>\n",
              "      <td>Male</td>\n",
              "    </tr>\n",
              "    <tr>\n",
              "      <th>651</th>\n",
              "      <td>DC Comics</td>\n",
              "      <td>Female</td>\n",
              "    </tr>\n",
              "    <tr>\n",
              "      <th>652</th>\n",
              "      <td>DC Comics</td>\n",
              "      <td>Male</td>\n",
              "    </tr>\n",
              "  </tbody>\n",
              "</table>\n",
              "<p>653 rows × 2 columns</p>\n",
              "</div>"
            ],
            "text/plain": [
              "           Creator  Gender\n",
              "0    Marvel Comics    Male\n",
              "1    Marvel Comics    Male\n",
              "2        DC Comics    Male\n",
              "3    Marvel Comics    Male\n",
              "4    Marvel Comics    Male\n",
              "..             ...     ...\n",
              "648  Marvel Comics    Male\n",
              "649  Marvel Comics  Female\n",
              "650  Marvel Comics    Male\n",
              "651      DC Comics  Female\n",
              "652      DC Comics    Male\n",
              "\n",
              "[653 rows x 2 columns]"
            ]
          },
          "metadata": {
            "tags": []
          },
          "execution_count": 313
        }
      ]
    },
    {
      "cell_type": "markdown",
      "metadata": {
        "id": "iHBEzMWWFt8K"
      },
      "source": [
        "Check the value_counts()"
      ]
    },
    {
      "cell_type": "code",
      "metadata": {
        "colab": {
          "base_uri": "https://localhost:8080/"
        },
        "id": "tVM9NHk4D2q1",
        "outputId": "446ad6ad-70b7-4b3e-8b5d-855be1a5adc7"
      },
      "source": [
        "q2.value_counts()"
      ],
      "execution_count": 314,
      "outputs": [
        {
          "output_type": "execute_result",
          "data": {
            "text/plain": [
              "Creator        Gender\n",
              "Marvel Comics  Male      277\n",
              "DC Comics      Male      166\n",
              "Marvel Comics  Female    115\n",
              "DC Comics      Female     67\n",
              "Marvel Comics  -          27\n",
              "DC Comics      -           1\n",
              "dtype: int64"
            ]
          },
          "metadata": {
            "tags": []
          },
          "execution_count": 314
        }
      ]
    },
    {
      "cell_type": "markdown",
      "metadata": {
        "id": "6r7gL-5ZGt8s"
      },
      "source": [
        "We see that there are 28 values whit this 👉 ' - '. It means that there are characters which can not be considered a Gender. Remember that the Gender depends of the Race so in order to not confused you we are going to change it by 'Without Gender\""
      ]
    },
    {
      "cell_type": "code",
      "metadata": {
        "colab": {
          "base_uri": "https://localhost:8080/",
          "height": 228
        },
        "id": "wPaD3Tb9EOjL",
        "outputId": "98572ba3-489a-45cf-f85f-a55a1d6ccdea"
      },
      "source": [
        "q2.replace({'-':'Without Gender'}, inplace=True)\n",
        "q2_values = q2.value_counts()\n",
        "q2_values= q2_values.reset_index()\n",
        "q2_values"
      ],
      "execution_count": 315,
      "outputs": [
        {
          "output_type": "execute_result",
          "data": {
            "text/html": [
              "<div>\n",
              "<style scoped>\n",
              "    .dataframe tbody tr th:only-of-type {\n",
              "        vertical-align: middle;\n",
              "    }\n",
              "\n",
              "    .dataframe tbody tr th {\n",
              "        vertical-align: top;\n",
              "    }\n",
              "\n",
              "    .dataframe thead th {\n",
              "        text-align: right;\n",
              "    }\n",
              "</style>\n",
              "<table border=\"1\" class=\"dataframe\">\n",
              "  <thead>\n",
              "    <tr style=\"text-align: right;\">\n",
              "      <th></th>\n",
              "      <th>Creator</th>\n",
              "      <th>Gender</th>\n",
              "      <th>0</th>\n",
              "    </tr>\n",
              "  </thead>\n",
              "  <tbody>\n",
              "    <tr>\n",
              "      <th>0</th>\n",
              "      <td>Marvel Comics</td>\n",
              "      <td>Male</td>\n",
              "      <td>277</td>\n",
              "    </tr>\n",
              "    <tr>\n",
              "      <th>1</th>\n",
              "      <td>DC Comics</td>\n",
              "      <td>Male</td>\n",
              "      <td>166</td>\n",
              "    </tr>\n",
              "    <tr>\n",
              "      <th>2</th>\n",
              "      <td>Marvel Comics</td>\n",
              "      <td>Female</td>\n",
              "      <td>115</td>\n",
              "    </tr>\n",
              "    <tr>\n",
              "      <th>3</th>\n",
              "      <td>DC Comics</td>\n",
              "      <td>Female</td>\n",
              "      <td>67</td>\n",
              "    </tr>\n",
              "    <tr>\n",
              "      <th>4</th>\n",
              "      <td>Marvel Comics</td>\n",
              "      <td>Without Gender</td>\n",
              "      <td>27</td>\n",
              "    </tr>\n",
              "    <tr>\n",
              "      <th>5</th>\n",
              "      <td>DC Comics</td>\n",
              "      <td>Without Gender</td>\n",
              "      <td>1</td>\n",
              "    </tr>\n",
              "  </tbody>\n",
              "</table>\n",
              "</div>"
            ],
            "text/plain": [
              "         Creator          Gender    0\n",
              "0  Marvel Comics            Male  277\n",
              "1      DC Comics            Male  166\n",
              "2  Marvel Comics          Female  115\n",
              "3      DC Comics          Female   67\n",
              "4  Marvel Comics  Without Gender   27\n",
              "5      DC Comics  Without Gender    1"
            ]
          },
          "metadata": {
            "tags": []
          },
          "execution_count": 315
        }
      ]
    },
    {
      "cell_type": "markdown",
      "metadata": {
        "id": "owuuzRFPOeR_"
      },
      "source": [
        "Change '0' by 'Values'"
      ]
    },
    {
      "cell_type": "code",
      "metadata": {
        "colab": {
          "base_uri": "https://localhost:8080/",
          "height": 228
        },
        "id": "T3KXQV1PMBB5",
        "outputId": "1992643d-5994-41af-9889-fe094efb587f"
      },
      "source": [
        "q2_values.rename(columns={0:'Values'},inplace = True)\n",
        "q2_values"
      ],
      "execution_count": 316,
      "outputs": [
        {
          "output_type": "execute_result",
          "data": {
            "text/html": [
              "<div>\n",
              "<style scoped>\n",
              "    .dataframe tbody tr th:only-of-type {\n",
              "        vertical-align: middle;\n",
              "    }\n",
              "\n",
              "    .dataframe tbody tr th {\n",
              "        vertical-align: top;\n",
              "    }\n",
              "\n",
              "    .dataframe thead th {\n",
              "        text-align: right;\n",
              "    }\n",
              "</style>\n",
              "<table border=\"1\" class=\"dataframe\">\n",
              "  <thead>\n",
              "    <tr style=\"text-align: right;\">\n",
              "      <th></th>\n",
              "      <th>Creator</th>\n",
              "      <th>Gender</th>\n",
              "      <th>Values</th>\n",
              "    </tr>\n",
              "  </thead>\n",
              "  <tbody>\n",
              "    <tr>\n",
              "      <th>0</th>\n",
              "      <td>Marvel Comics</td>\n",
              "      <td>Male</td>\n",
              "      <td>277</td>\n",
              "    </tr>\n",
              "    <tr>\n",
              "      <th>1</th>\n",
              "      <td>DC Comics</td>\n",
              "      <td>Male</td>\n",
              "      <td>166</td>\n",
              "    </tr>\n",
              "    <tr>\n",
              "      <th>2</th>\n",
              "      <td>Marvel Comics</td>\n",
              "      <td>Female</td>\n",
              "      <td>115</td>\n",
              "    </tr>\n",
              "    <tr>\n",
              "      <th>3</th>\n",
              "      <td>DC Comics</td>\n",
              "      <td>Female</td>\n",
              "      <td>67</td>\n",
              "    </tr>\n",
              "    <tr>\n",
              "      <th>4</th>\n",
              "      <td>Marvel Comics</td>\n",
              "      <td>Without Gender</td>\n",
              "      <td>27</td>\n",
              "    </tr>\n",
              "    <tr>\n",
              "      <th>5</th>\n",
              "      <td>DC Comics</td>\n",
              "      <td>Without Gender</td>\n",
              "      <td>1</td>\n",
              "    </tr>\n",
              "  </tbody>\n",
              "</table>\n",
              "</div>"
            ],
            "text/plain": [
              "         Creator          Gender  Values\n",
              "0  Marvel Comics            Male     277\n",
              "1      DC Comics            Male     166\n",
              "2  Marvel Comics          Female     115\n",
              "3      DC Comics          Female      67\n",
              "4  Marvel Comics  Without Gender      27\n",
              "5      DC Comics  Without Gender       1"
            ]
          },
          "metadata": {
            "tags": []
          },
          "execution_count": 316
        }
      ]
    },
    {
      "cell_type": "markdown",
      "metadata": {
        "id": "7ncZaPWoRspO"
      },
      "source": [
        "Create a Pivot Table: \n",
        "\n",
        "values='Values.\n",
        "\n",
        "index='Creator'.\n",
        "\n",
        "columns='Gender'\n",
        "\n"
      ]
    },
    {
      "cell_type": "code",
      "metadata": {
        "colab": {
          "base_uri": "https://localhost:8080/",
          "height": 138
        },
        "id": "nQ4NjeQlMpDw",
        "outputId": "bfc7207e-590e-48ae-ffe8-d4a6d059e772"
      },
      "source": [
        "q2_pivot_table = q2_values.pivot_table(values='Values',index='Creator',columns='Gender')\n",
        "q2_pivot_table"
      ],
      "execution_count": 317,
      "outputs": [
        {
          "output_type": "execute_result",
          "data": {
            "text/html": [
              "<div>\n",
              "<style scoped>\n",
              "    .dataframe tbody tr th:only-of-type {\n",
              "        vertical-align: middle;\n",
              "    }\n",
              "\n",
              "    .dataframe tbody tr th {\n",
              "        vertical-align: top;\n",
              "    }\n",
              "\n",
              "    .dataframe thead th {\n",
              "        text-align: right;\n",
              "    }\n",
              "</style>\n",
              "<table border=\"1\" class=\"dataframe\">\n",
              "  <thead>\n",
              "    <tr style=\"text-align: right;\">\n",
              "      <th>Gender</th>\n",
              "      <th>Female</th>\n",
              "      <th>Male</th>\n",
              "      <th>Without Gender</th>\n",
              "    </tr>\n",
              "    <tr>\n",
              "      <th>Creator</th>\n",
              "      <th></th>\n",
              "      <th></th>\n",
              "      <th></th>\n",
              "    </tr>\n",
              "  </thead>\n",
              "  <tbody>\n",
              "    <tr>\n",
              "      <th>DC Comics</th>\n",
              "      <td>67</td>\n",
              "      <td>166</td>\n",
              "      <td>1</td>\n",
              "    </tr>\n",
              "    <tr>\n",
              "      <th>Marvel Comics</th>\n",
              "      <td>115</td>\n",
              "      <td>277</td>\n",
              "      <td>27</td>\n",
              "    </tr>\n",
              "  </tbody>\n",
              "</table>\n",
              "</div>"
            ],
            "text/plain": [
              "Gender         Female  Male  Without Gender\n",
              "Creator                                    \n",
              "DC Comics          67   166               1\n",
              "Marvel Comics     115   277              27"
            ]
          },
          "metadata": {
            "tags": []
          },
          "execution_count": 317
        }
      ]
    },
    {
      "cell_type": "markdown",
      "metadata": {
        "id": "MiVXmBJ-R3mu"
      },
      "source": [
        "### Plot the pivot table"
      ]
    },
    {
      "cell_type": "code",
      "metadata": {
        "colab": {
          "base_uri": "https://localhost:8080/",
          "height": 297
        },
        "id": "VMkR4vNRS5r1",
        "outputId": "9d5f3b68-39de-4f00-d33f-69a08b4d0286"
      },
      "source": [
        "labels = list(q2_pivot_table.index)\n",
        "female_means = list(q2_pivot_table['Female'])\n",
        "male_means = list(q2_pivot_table['Male'])\n",
        "without_gender_means = list(q2_pivot_table['Without Gender'])\n",
        "\n",
        "x=np.arange(len(labels))\n",
        "width=0.2\n",
        "\n",
        "fig, ax = plt.subplots()\n",
        "\n",
        "female_bar = ax.bar(x-width/2 , female_means, width, label = 'Female')\n",
        "male_bar = ax.bar(x+width/2, male_means ,width, label = 'Male')\n",
        "without_gender_bar = ax.bar(x+3*(width/2), without_gender_means ,width, label = 'Without Gender')\n",
        "\n",
        "ax.set_title('Predominant Gender by Comics')\n",
        "ax.set_xlabel('Comic')\n",
        "ax.set_ylabel('Number')\n",
        "ax.set_xticks(x)\n",
        "ax.set_xticklabels(labels)\n",
        "ax.legend()\n",
        "\n",
        "def autolabel(bar):\n",
        "  width=0.2\n",
        "  for p in ax.patches:\n",
        "      ax.annotate(str(p.get_height()), (p.get_x()+0.05, p.get_height()))\n",
        "    \n",
        "autolabel(female_bar)\n",
        "autolabel(male_bar)\n",
        "\n",
        "fig.tight_layout()\n",
        "plt.show()"
      ],
      "execution_count": 318,
      "outputs": [
        {
          "output_type": "display_data",
          "data": {
            "image/png": "[encoded data removed]",
            "text/plain": [
              "<Figure size 432x288 with 1 Axes>"
            ]
          },
          "metadata": {
            "tags": [],
            "needs_background": "light"
          }
        }
      ]
    },
    {
      "cell_type": "markdown",
      "metadata": {
        "id": "uXVmuApkmnAV"
      },
      "source": [
        "## Q3. What is the predominant race in both comics?\n",
        "Use \"Creator\" and \"Race\" columns\n",
        "\n"
      ]
    },
    {
      "cell_type": "code",
      "metadata": {
        "id": "uK6zsMlkTBp-",
        "colab": {
          "base_uri": "https://localhost:8080/",
          "height": 407
        },
        "outputId": "239b4d55-ce10-480a-82e4-94b4a5d44bef"
      },
      "source": [
        "q3_df = final_df.loc[:,['Creator','Race']]\n",
        "q3_df"
      ],
      "execution_count": 319,
      "outputs": [
        {
          "output_type": "execute_result",
          "data": {
            "text/html": [
              "<div>\n",
              "<style scoped>\n",
              "    .dataframe tbody tr th:only-of-type {\n",
              "        vertical-align: middle;\n",
              "    }\n",
              "\n",
              "    .dataframe tbody tr th {\n",
              "        vertical-align: top;\n",
              "    }\n",
              "\n",
              "    .dataframe thead th {\n",
              "        text-align: right;\n",
              "    }\n",
              "</style>\n",
              "<table border=\"1\" class=\"dataframe\">\n",
              "  <thead>\n",
              "    <tr style=\"text-align: right;\">\n",
              "      <th></th>\n",
              "      <th>Creator</th>\n",
              "      <th>Race</th>\n",
              "    </tr>\n",
              "  </thead>\n",
              "  <tbody>\n",
              "    <tr>\n",
              "      <th>0</th>\n",
              "      <td>Marvel Comics</td>\n",
              "      <td>-</td>\n",
              "    </tr>\n",
              "    <tr>\n",
              "      <th>1</th>\n",
              "      <td>Marvel Comics</td>\n",
              "      <td>Human</td>\n",
              "    </tr>\n",
              "    <tr>\n",
              "      <th>2</th>\n",
              "      <td>DC Comics</td>\n",
              "      <td>Ungaran</td>\n",
              "    </tr>\n",
              "    <tr>\n",
              "      <th>3</th>\n",
              "      <td>Marvel Comics</td>\n",
              "      <td>Human / Radiation</td>\n",
              "    </tr>\n",
              "    <tr>\n",
              "      <th>4</th>\n",
              "      <td>Marvel Comics</td>\n",
              "      <td>Cosmic Entity</td>\n",
              "    </tr>\n",
              "    <tr>\n",
              "      <th>...</th>\n",
              "      <td>...</td>\n",
              "      <td>...</td>\n",
              "    </tr>\n",
              "    <tr>\n",
              "      <th>648</th>\n",
              "      <td>Marvel Comics</td>\n",
              "      <td>Human</td>\n",
              "    </tr>\n",
              "    <tr>\n",
              "      <th>649</th>\n",
              "      <td>Marvel Comics</td>\n",
              "      <td>Human</td>\n",
              "    </tr>\n",
              "    <tr>\n",
              "      <th>650</th>\n",
              "      <td>Marvel Comics</td>\n",
              "      <td>Frost Giant</td>\n",
              "    </tr>\n",
              "    <tr>\n",
              "      <th>651</th>\n",
              "      <td>DC Comics</td>\n",
              "      <td>Human</td>\n",
              "    </tr>\n",
              "    <tr>\n",
              "      <th>652</th>\n",
              "      <td>DC Comics</td>\n",
              "      <td>-</td>\n",
              "    </tr>\n",
              "  </tbody>\n",
              "</table>\n",
              "<p>653 rows × 2 columns</p>\n",
              "</div>"
            ],
            "text/plain": [
              "           Creator               Race\n",
              "0    Marvel Comics                  -\n",
              "1    Marvel Comics              Human\n",
              "2        DC Comics            Ungaran\n",
              "3    Marvel Comics  Human / Radiation\n",
              "4    Marvel Comics      Cosmic Entity\n",
              "..             ...                ...\n",
              "648  Marvel Comics              Human\n",
              "649  Marvel Comics              Human\n",
              "650  Marvel Comics        Frost Giant\n",
              "651      DC Comics              Human\n",
              "652      DC Comics                  -\n",
              "\n",
              "[653 rows x 2 columns]"
            ]
          },
          "metadata": {
            "tags": []
          },
          "execution_count": 319
        }
      ]
    },
    {
      "cell_type": "markdown",
      "metadata": {
        "id": "PioTuOfUnIan"
      },
      "source": [
        "Replace '-' by 'Without Race'"
      ]
    },
    {
      "cell_type": "code",
      "metadata": {
        "colab": {
          "base_uri": "https://localhost:8080/",
          "height": 407
        },
        "id": "vsbbSIf2nFc4",
        "outputId": "52c2805b-48bc-499f-b1e0-d944ca2b2590"
      },
      "source": [
        "q3_df.replace({'-':'Witout Race'}, inplace=True)\n",
        "q3_df = q3_df.value_counts().reset_index()\n",
        "q3_df\n"
      ],
      "execution_count": 320,
      "outputs": [
        {
          "output_type": "execute_result",
          "data": {
            "text/html": [
              "<div>\n",
              "<style scoped>\n",
              "    .dataframe tbody tr th:only-of-type {\n",
              "        vertical-align: middle;\n",
              "    }\n",
              "\n",
              "    .dataframe tbody tr th {\n",
              "        vertical-align: top;\n",
              "    }\n",
              "\n",
              "    .dataframe thead th {\n",
              "        text-align: right;\n",
              "    }\n",
              "</style>\n",
              "<table border=\"1\" class=\"dataframe\">\n",
              "  <thead>\n",
              "    <tr style=\"text-align: right;\">\n",
              "      <th></th>\n",
              "      <th>Creator</th>\n",
              "      <th>Race</th>\n",
              "      <th>0</th>\n",
              "    </tr>\n",
              "  </thead>\n",
              "  <tbody>\n",
              "    <tr>\n",
              "      <th>0</th>\n",
              "      <td>Marvel Comics</td>\n",
              "      <td>Witout Race</td>\n",
              "      <td>180</td>\n",
              "    </tr>\n",
              "    <tr>\n",
              "      <th>1</th>\n",
              "      <td>DC Comics</td>\n",
              "      <td>Human</td>\n",
              "      <td>100</td>\n",
              "    </tr>\n",
              "    <tr>\n",
              "      <th>2</th>\n",
              "      <td>Marvel Comics</td>\n",
              "      <td>Human</td>\n",
              "      <td>99</td>\n",
              "    </tr>\n",
              "    <tr>\n",
              "      <th>3</th>\n",
              "      <td>DC Comics</td>\n",
              "      <td>Witout Race</td>\n",
              "      <td>74</td>\n",
              "    </tr>\n",
              "    <tr>\n",
              "      <th>4</th>\n",
              "      <td>Marvel Comics</td>\n",
              "      <td>Mutant</td>\n",
              "      <td>56</td>\n",
              "    </tr>\n",
              "    <tr>\n",
              "      <th>...</th>\n",
              "      <td>...</td>\n",
              "      <td>...</td>\n",
              "      <td>...</td>\n",
              "    </tr>\n",
              "    <tr>\n",
              "      <th>59</th>\n",
              "      <td>Marvel Comics</td>\n",
              "      <td>Human-Spartoi</td>\n",
              "      <td>1</td>\n",
              "    </tr>\n",
              "    <tr>\n",
              "      <th>60</th>\n",
              "      <td>DC Comics</td>\n",
              "      <td>Zombie</td>\n",
              "      <td>1</td>\n",
              "    </tr>\n",
              "    <tr>\n",
              "      <th>61</th>\n",
              "      <td>Marvel Comics</td>\n",
              "      <td>Human-Inhuman</td>\n",
              "      <td>1</td>\n",
              "    </tr>\n",
              "    <tr>\n",
              "      <th>62</th>\n",
              "      <td>Marvel Comics</td>\n",
              "      <td>Clone</td>\n",
              "      <td>1</td>\n",
              "    </tr>\n",
              "    <tr>\n",
              "      <th>63</th>\n",
              "      <td>Marvel Comics</td>\n",
              "      <td>Zen-Whoberian</td>\n",
              "      <td>1</td>\n",
              "    </tr>\n",
              "  </tbody>\n",
              "</table>\n",
              "<p>64 rows × 3 columns</p>\n",
              "</div>"
            ],
            "text/plain": [
              "          Creator           Race    0\n",
              "0   Marvel Comics    Witout Race  180\n",
              "1       DC Comics          Human  100\n",
              "2   Marvel Comics          Human   99\n",
              "3       DC Comics    Witout Race   74\n",
              "4   Marvel Comics         Mutant   56\n",
              "..            ...            ...  ...\n",
              "59  Marvel Comics  Human-Spartoi    1\n",
              "60      DC Comics         Zombie    1\n",
              "61  Marvel Comics  Human-Inhuman    1\n",
              "62  Marvel Comics          Clone    1\n",
              "63  Marvel Comics  Zen-Whoberian    1\n",
              "\n",
              "[64 rows x 3 columns]"
            ]
          },
          "metadata": {
            "tags": []
          },
          "execution_count": 320
        }
      ]
    },
    {
      "cell_type": "markdown",
      "metadata": {
        "id": "GooMyKEenyXe"
      },
      "source": [
        "Rename '0' by 'values'"
      ]
    },
    {
      "cell_type": "code",
      "metadata": {
        "colab": {
          "base_uri": "https://localhost:8080/",
          "height": 407
        },
        "id": "CaUSHnU6nksQ",
        "outputId": "55b21c87-806e-4ed0-b0fa-b2b8edd1317c"
      },
      "source": [
        "q3_df.rename(columns={0:'Values'}, inplace=True)\n",
        "q3_df"
      ],
      "execution_count": 321,
      "outputs": [
        {
          "output_type": "execute_result",
          "data": {
            "text/html": [
              "<div>\n",
              "<style scoped>\n",
              "    .dataframe tbody tr th:only-of-type {\n",
              "        vertical-align: middle;\n",
              "    }\n",
              "\n",
              "    .dataframe tbody tr th {\n",
              "        vertical-align: top;\n",
              "    }\n",
              "\n",
              "    .dataframe thead th {\n",
              "        text-align: right;\n",
              "    }\n",
              "</style>\n",
              "<table border=\"1\" class=\"dataframe\">\n",
              "  <thead>\n",
              "    <tr style=\"text-align: right;\">\n",
              "      <th></th>\n",
              "      <th>Creator</th>\n",
              "      <th>Race</th>\n",
              "      <th>Values</th>\n",
              "    </tr>\n",
              "  </thead>\n",
              "  <tbody>\n",
              "    <tr>\n",
              "      <th>0</th>\n",
              "      <td>Marvel Comics</td>\n",
              "      <td>Witout Race</td>\n",
              "      <td>180</td>\n",
              "    </tr>\n",
              "    <tr>\n",
              "      <th>1</th>\n",
              "      <td>DC Comics</td>\n",
              "      <td>Human</td>\n",
              "      <td>100</td>\n",
              "    </tr>\n",
              "    <tr>\n",
              "      <th>2</th>\n",
              "      <td>Marvel Comics</td>\n",
              "      <td>Human</td>\n",
              "      <td>99</td>\n",
              "    </tr>\n",
              "    <tr>\n",
              "      <th>3</th>\n",
              "      <td>DC Comics</td>\n",
              "      <td>Witout Race</td>\n",
              "      <td>74</td>\n",
              "    </tr>\n",
              "    <tr>\n",
              "      <th>4</th>\n",
              "      <td>Marvel Comics</td>\n",
              "      <td>Mutant</td>\n",
              "      <td>56</td>\n",
              "    </tr>\n",
              "    <tr>\n",
              "      <th>...</th>\n",
              "      <td>...</td>\n",
              "      <td>...</td>\n",
              "      <td>...</td>\n",
              "    </tr>\n",
              "    <tr>\n",
              "      <th>59</th>\n",
              "      <td>Marvel Comics</td>\n",
              "      <td>Human-Spartoi</td>\n",
              "      <td>1</td>\n",
              "    </tr>\n",
              "    <tr>\n",
              "      <th>60</th>\n",
              "      <td>DC Comics</td>\n",
              "      <td>Zombie</td>\n",
              "      <td>1</td>\n",
              "    </tr>\n",
              "    <tr>\n",
              "      <th>61</th>\n",
              "      <td>Marvel Comics</td>\n",
              "      <td>Human-Inhuman</td>\n",
              "      <td>1</td>\n",
              "    </tr>\n",
              "    <tr>\n",
              "      <th>62</th>\n",
              "      <td>Marvel Comics</td>\n",
              "      <td>Clone</td>\n",
              "      <td>1</td>\n",
              "    </tr>\n",
              "    <tr>\n",
              "      <th>63</th>\n",
              "      <td>Marvel Comics</td>\n",
              "      <td>Zen-Whoberian</td>\n",
              "      <td>1</td>\n",
              "    </tr>\n",
              "  </tbody>\n",
              "</table>\n",
              "<p>64 rows × 3 columns</p>\n",
              "</div>"
            ],
            "text/plain": [
              "          Creator           Race  Values\n",
              "0   Marvel Comics    Witout Race     180\n",
              "1       DC Comics          Human     100\n",
              "2   Marvel Comics          Human      99\n",
              "3       DC Comics    Witout Race      74\n",
              "4   Marvel Comics         Mutant      56\n",
              "..            ...            ...     ...\n",
              "59  Marvel Comics  Human-Spartoi       1\n",
              "60      DC Comics         Zombie       1\n",
              "61  Marvel Comics  Human-Inhuman       1\n",
              "62  Marvel Comics          Clone       1\n",
              "63  Marvel Comics  Zen-Whoberian       1\n",
              "\n",
              "[64 rows x 3 columns]"
            ]
          },
          "metadata": {
            "tags": []
          },
          "execution_count": 321
        }
      ]
    },
    {
      "cell_type": "markdown",
      "metadata": {
        "id": "5I1zgcq3oPT2"
      },
      "source": [
        "Filter and separate in two dataframes by comics"
      ]
    },
    {
      "cell_type": "code",
      "metadata": {
        "id": "AmReNFPcoOHY"
      },
      "source": [
        "q3_marvel = q3_df[q3_df['Creator'] == 'Marvel Comics']\n",
        "q3_dc = q3_df[q3_df['Creator'] == 'DC Comics']"
      ],
      "execution_count": 322,
      "outputs": []
    },
    {
      "cell_type": "markdown",
      "metadata": {
        "id": "ppyH4mBpqP6V"
      },
      "source": [
        "### Plot"
      ]
    },
    {
      "cell_type": "code",
      "metadata": {
        "colab": {
          "base_uri": "https://localhost:8080/",
          "height": 539
        },
        "id": "RHJe01HupH2d",
        "outputId": "bacdebc3-dec4-45c0-9595-7e6b2e1ccf01"
      },
      "source": [
        "fig, (ax1,ax2) = plt.subplots(1,2)\n",
        "fig.set_size_inches(12,10)\n",
        "\n",
        "ax1_values = list(q3_marvel['Values'])\n",
        "ax1_labels = list(q3_marvel['Race'])\n",
        "\n",
        "sns.barplot(x = ax1_values, y=ax1_labels , ax = ax1, orient = 'h', palette='Blues_d')\n",
        "ax1.set_xticks(range(0,200,50))\n",
        "\n",
        "ax1.set_title('Marvel Race',fontsize=16) \n",
        "\n",
        "for text_n, rect in zip(ax1_values, ax1.patches):\n",
        "    width, height = rect.get_width(), rect.get_height()\n",
        "    x, y = rect.get_xy() \n",
        "    ax1.text(x = x + width , \n",
        "             y = y + height , \n",
        "             s =text_n)\n",
        "\n",
        "###\n",
        "\n",
        "ax2_values = list(q3_dc['Values'])\n",
        "ax2_labels = list(q3_dc['Race'])\n",
        "\n",
        "sns.barplot(x = ax2_values, y=ax2_labels , ax = ax2, orient = 'h', palette='Blues_d')\n",
        "ax2.set_xticks(range(0,200,50))\n",
        "\n",
        "ax2.set_title('DC Race',fontsize=16) \n",
        "\n",
        "for text_n_2, rect_2 in zip(ax2_values, ax2.patches):\n",
        "    #width = rect_2.xy\n",
        "    width, height = rect_2.get_width(), rect_2.get_height()\n",
        "    x_2, y_2 = rect_2.get_xy() \n",
        "    ax2.text(x = x_2 + width , \n",
        "             y = y_2 + height , \n",
        "             s =text_n_2)\n",
        "\n",
        "fig.tight_layout()\n",
        "plt.show()\n"
      ],
      "execution_count": 323,
      "outputs": [
        {
          "output_type": "display_data",
          "data": {
            "image/png": "[encoded data removed]",
            "text/plain": [
              "<Figure size 864x720 with 2 Axes>"
            ]
          },
          "metadata": {
            "tags": [],
            "needs_background": "light"
          }
        }
      ]
    },
    {
      "cell_type": "markdown",
      "metadata": {
        "id": "xQo_kpgBnpEU"
      },
      "source": [
        "## Q4.Which has more Heroes or Villains?"
      ]
    },
    {
      "cell_type": "markdown",
      "metadata": {
        "id": "VVqBfZwBoFAZ"
      },
      "source": [
        "**Step 1:** Use columns \"Alignment\" and \"Creator\""
      ]
    },
    {
      "cell_type": "code",
      "metadata": {
        "id": "1y1x3frkqa0O",
        "colab": {
          "base_uri": "https://localhost:8080/",
          "height": 407
        },
        "outputId": "54dcdddd-3bfb-4df3-d891-4abd49af605d"
      },
      "source": [
        "q4_df = final_df.loc[:,['Creator','Alignment']]\n",
        "q4_df"
      ],
      "execution_count": 324,
      "outputs": [
        {
          "output_type": "execute_result",
          "data": {
            "text/html": [
              "<div>\n",
              "<style scoped>\n",
              "    .dataframe tbody tr th:only-of-type {\n",
              "        vertical-align: middle;\n",
              "    }\n",
              "\n",
              "    .dataframe tbody tr th {\n",
              "        vertical-align: top;\n",
              "    }\n",
              "\n",
              "    .dataframe thead th {\n",
              "        text-align: right;\n",
              "    }\n",
              "</style>\n",
              "<table border=\"1\" class=\"dataframe\">\n",
              "  <thead>\n",
              "    <tr style=\"text-align: right;\">\n",
              "      <th></th>\n",
              "      <th>Creator</th>\n",
              "      <th>Alignment</th>\n",
              "    </tr>\n",
              "  </thead>\n",
              "  <tbody>\n",
              "    <tr>\n",
              "      <th>0</th>\n",
              "      <td>Marvel Comics</td>\n",
              "      <td>good</td>\n",
              "    </tr>\n",
              "    <tr>\n",
              "      <th>1</th>\n",
              "      <td>Marvel Comics</td>\n",
              "      <td>good</td>\n",
              "    </tr>\n",
              "    <tr>\n",
              "      <th>2</th>\n",
              "      <td>DC Comics</td>\n",
              "      <td>good</td>\n",
              "    </tr>\n",
              "    <tr>\n",
              "      <th>3</th>\n",
              "      <td>Marvel Comics</td>\n",
              "      <td>bad</td>\n",
              "    </tr>\n",
              "    <tr>\n",
              "      <th>4</th>\n",
              "      <td>Marvel Comics</td>\n",
              "      <td>bad</td>\n",
              "    </tr>\n",
              "    <tr>\n",
              "      <th>...</th>\n",
              "      <td>...</td>\n",
              "      <td>...</td>\n",
              "    </tr>\n",
              "    <tr>\n",
              "      <th>648</th>\n",
              "      <td>Marvel Comics</td>\n",
              "      <td>good</td>\n",
              "    </tr>\n",
              "    <tr>\n",
              "      <th>649</th>\n",
              "      <td>Marvel Comics</td>\n",
              "      <td>good</td>\n",
              "    </tr>\n",
              "    <tr>\n",
              "      <th>650</th>\n",
              "      <td>Marvel Comics</td>\n",
              "      <td>good</td>\n",
              "    </tr>\n",
              "    <tr>\n",
              "      <th>651</th>\n",
              "      <td>DC Comics</td>\n",
              "      <td>good</td>\n",
              "    </tr>\n",
              "    <tr>\n",
              "      <th>652</th>\n",
              "      <td>DC Comics</td>\n",
              "      <td>bad</td>\n",
              "    </tr>\n",
              "  </tbody>\n",
              "</table>\n",
              "<p>653 rows × 2 columns</p>\n",
              "</div>"
            ],
            "text/plain": [
              "           Creator Alignment\n",
              "0    Marvel Comics      good\n",
              "1    Marvel Comics      good\n",
              "2        DC Comics      good\n",
              "3    Marvel Comics       bad\n",
              "4    Marvel Comics       bad\n",
              "..             ...       ...\n",
              "648  Marvel Comics      good\n",
              "649  Marvel Comics      good\n",
              "650  Marvel Comics      good\n",
              "651      DC Comics      good\n",
              "652      DC Comics       bad\n",
              "\n",
              "[653 rows x 2 columns]"
            ]
          },
          "metadata": {
            "tags": []
          },
          "execution_count": 324
        }
      ]
    },
    {
      "cell_type": "markdown",
      "metadata": {
        "id": "AFzH4GTAosu6"
      },
      "source": [
        "**Step 2:** Check the value_counts()"
      ]
    },
    {
      "cell_type": "code",
      "metadata": {
        "colab": {
          "base_uri": "https://localhost:8080/"
        },
        "id": "C22lYcl7oVPs",
        "outputId": "8584152f-f70f-4ab1-ad4a-111e08cc8716"
      },
      "source": [
        "q4_df.value_counts()"
      ],
      "execution_count": 325,
      "outputs": [
        {
          "output_type": "execute_result",
          "data": {
            "text/plain": [
              "Creator        Alignment\n",
              "Marvel Comics  good         285\n",
              "DC Comics      good         157\n",
              "Marvel Comics  bad          121\n",
              "DC Comics      bad           59\n",
              "               neutral       17\n",
              "Marvel Comics  neutral       10\n",
              "               -              3\n",
              "DC Comics      -              1\n",
              "dtype: int64"
            ]
          },
          "metadata": {
            "tags": []
          },
          "execution_count": 325
        }
      ]
    },
    {
      "cell_type": "markdown",
      "metadata": {
        "id": "Ge9s6Z_spzTz"
      },
      "source": [
        "It's Ok. Rememer that the values in \"blank\" in \"Creator\" is the same of the value which is above of it."
      ]
    },
    {
      "cell_type": "markdown",
      "metadata": {
        "id": "aKglb5IcqQxJ"
      },
      "source": [
        "**Step 3:** Replace \"good\" by \"Hero\" , \"bad\" by \"Villains\" ad '-' by 'Doubt'"
      ]
    },
    {
      "cell_type": "code",
      "metadata": {
        "colab": {
          "base_uri": "https://localhost:8080/",
          "height": 407
        },
        "id": "DrRKxK6OpFaS",
        "outputId": "49c37488-f458-49c0-a292-b7e7b5894e41"
      },
      "source": [
        "q4_df.replace({'good':'Hero','bad':'Villain','-':'Doubt'}, inplace=True)\n",
        "q4_df"
      ],
      "execution_count": 326,
      "outputs": [
        {
          "output_type": "execute_result",
          "data": {
            "text/html": [
              "<div>\n",
              "<style scoped>\n",
              "    .dataframe tbody tr th:only-of-type {\n",
              "        vertical-align: middle;\n",
              "    }\n",
              "\n",
              "    .dataframe tbody tr th {\n",
              "        vertical-align: top;\n",
              "    }\n",
              "\n",
              "    .dataframe thead th {\n",
              "        text-align: right;\n",
              "    }\n",
              "</style>\n",
              "<table border=\"1\" class=\"dataframe\">\n",
              "  <thead>\n",
              "    <tr style=\"text-align: right;\">\n",
              "      <th></th>\n",
              "      <th>Creator</th>\n",
              "      <th>Alignment</th>\n",
              "    </tr>\n",
              "  </thead>\n",
              "  <tbody>\n",
              "    <tr>\n",
              "      <th>0</th>\n",
              "      <td>Marvel Comics</td>\n",
              "      <td>Hero</td>\n",
              "    </tr>\n",
              "    <tr>\n",
              "      <th>1</th>\n",
              "      <td>Marvel Comics</td>\n",
              "      <td>Hero</td>\n",
              "    </tr>\n",
              "    <tr>\n",
              "      <th>2</th>\n",
              "      <td>DC Comics</td>\n",
              "      <td>Hero</td>\n",
              "    </tr>\n",
              "    <tr>\n",
              "      <th>3</th>\n",
              "      <td>Marvel Comics</td>\n",
              "      <td>Villain</td>\n",
              "    </tr>\n",
              "    <tr>\n",
              "      <th>4</th>\n",
              "      <td>Marvel Comics</td>\n",
              "      <td>Villain</td>\n",
              "    </tr>\n",
              "    <tr>\n",
              "      <th>...</th>\n",
              "      <td>...</td>\n",
              "      <td>...</td>\n",
              "    </tr>\n",
              "    <tr>\n",
              "      <th>648</th>\n",
              "      <td>Marvel Comics</td>\n",
              "      <td>Hero</td>\n",
              "    </tr>\n",
              "    <tr>\n",
              "      <th>649</th>\n",
              "      <td>Marvel Comics</td>\n",
              "      <td>Hero</td>\n",
              "    </tr>\n",
              "    <tr>\n",
              "      <th>650</th>\n",
              "      <td>Marvel Comics</td>\n",
              "      <td>Hero</td>\n",
              "    </tr>\n",
              "    <tr>\n",
              "      <th>651</th>\n",
              "      <td>DC Comics</td>\n",
              "      <td>Hero</td>\n",
              "    </tr>\n",
              "    <tr>\n",
              "      <th>652</th>\n",
              "      <td>DC Comics</td>\n",
              "      <td>Villain</td>\n",
              "    </tr>\n",
              "  </tbody>\n",
              "</table>\n",
              "<p>653 rows × 2 columns</p>\n",
              "</div>"
            ],
            "text/plain": [
              "           Creator Alignment\n",
              "0    Marvel Comics      Hero\n",
              "1    Marvel Comics      Hero\n",
              "2        DC Comics      Hero\n",
              "3    Marvel Comics   Villain\n",
              "4    Marvel Comics   Villain\n",
              "..             ...       ...\n",
              "648  Marvel Comics      Hero\n",
              "649  Marvel Comics      Hero\n",
              "650  Marvel Comics      Hero\n",
              "651      DC Comics      Hero\n",
              "652      DC Comics   Villain\n",
              "\n",
              "[653 rows x 2 columns]"
            ]
          },
          "metadata": {
            "tags": []
          },
          "execution_count": 326
        }
      ]
    },
    {
      "cell_type": "markdown",
      "metadata": {
        "id": "c14GGykeqpAh"
      },
      "source": [
        "**Step 4:** Compare with the value counts. Then make it in a dataframe"
      ]
    },
    {
      "cell_type": "code",
      "metadata": {
        "colab": {
          "base_uri": "https://localhost:8080/"
        },
        "id": "L8o9Qauxqlwr",
        "outputId": "280c3b51-b249-472f-c152-c0a69a927705"
      },
      "source": [
        "q4_df.value_counts()"
      ],
      "execution_count": 327,
      "outputs": [
        {
          "output_type": "execute_result",
          "data": {
            "text/plain": [
              "Creator        Alignment\n",
              "Marvel Comics  Hero         285\n",
              "DC Comics      Hero         157\n",
              "Marvel Comics  Villain      121\n",
              "DC Comics      Villain       59\n",
              "               neutral       17\n",
              "Marvel Comics  neutral       10\n",
              "               Doubt          3\n",
              "DC Comics      Doubt          1\n",
              "dtype: int64"
            ]
          },
          "metadata": {
            "tags": []
          },
          "execution_count": 327
        }
      ]
    },
    {
      "cell_type": "markdown",
      "metadata": {
        "id": "Klh_yLQPqxNT"
      },
      "source": [
        "It's Ok"
      ]
    },
    {
      "cell_type": "code",
      "metadata": {
        "colab": {
          "base_uri": "https://localhost:8080/",
          "height": 288
        },
        "id": "8j3MWSBvrLk2",
        "outputId": "5a5d6b56-0827-41df-a844-fb30891de41c"
      },
      "source": [
        "q4_df=q4_df.value_counts().reset_index()\n",
        "q4_df"
      ],
      "execution_count": 328,
      "outputs": [
        {
          "output_type": "execute_result",
          "data": {
            "text/html": [
              "<div>\n",
              "<style scoped>\n",
              "    .dataframe tbody tr th:only-of-type {\n",
              "        vertical-align: middle;\n",
              "    }\n",
              "\n",
              "    .dataframe tbody tr th {\n",
              "        vertical-align: top;\n",
              "    }\n",
              "\n",
              "    .dataframe thead th {\n",
              "        text-align: right;\n",
              "    }\n",
              "</style>\n",
              "<table border=\"1\" class=\"dataframe\">\n",
              "  <thead>\n",
              "    <tr style=\"text-align: right;\">\n",
              "      <th></th>\n",
              "      <th>Creator</th>\n",
              "      <th>Alignment</th>\n",
              "      <th>0</th>\n",
              "    </tr>\n",
              "  </thead>\n",
              "  <tbody>\n",
              "    <tr>\n",
              "      <th>0</th>\n",
              "      <td>Marvel Comics</td>\n",
              "      <td>Hero</td>\n",
              "      <td>285</td>\n",
              "    </tr>\n",
              "    <tr>\n",
              "      <th>1</th>\n",
              "      <td>DC Comics</td>\n",
              "      <td>Hero</td>\n",
              "      <td>157</td>\n",
              "    </tr>\n",
              "    <tr>\n",
              "      <th>2</th>\n",
              "      <td>Marvel Comics</td>\n",
              "      <td>Villain</td>\n",
              "      <td>121</td>\n",
              "    </tr>\n",
              "    <tr>\n",
              "      <th>3</th>\n",
              "      <td>DC Comics</td>\n",
              "      <td>Villain</td>\n",
              "      <td>59</td>\n",
              "    </tr>\n",
              "    <tr>\n",
              "      <th>4</th>\n",
              "      <td>DC Comics</td>\n",
              "      <td>neutral</td>\n",
              "      <td>17</td>\n",
              "    </tr>\n",
              "    <tr>\n",
              "      <th>5</th>\n",
              "      <td>Marvel Comics</td>\n",
              "      <td>neutral</td>\n",
              "      <td>10</td>\n",
              "    </tr>\n",
              "    <tr>\n",
              "      <th>6</th>\n",
              "      <td>Marvel Comics</td>\n",
              "      <td>Doubt</td>\n",
              "      <td>3</td>\n",
              "    </tr>\n",
              "    <tr>\n",
              "      <th>7</th>\n",
              "      <td>DC Comics</td>\n",
              "      <td>Doubt</td>\n",
              "      <td>1</td>\n",
              "    </tr>\n",
              "  </tbody>\n",
              "</table>\n",
              "</div>"
            ],
            "text/plain": [
              "         Creator Alignment    0\n",
              "0  Marvel Comics      Hero  285\n",
              "1      DC Comics      Hero  157\n",
              "2  Marvel Comics   Villain  121\n",
              "3      DC Comics   Villain   59\n",
              "4      DC Comics   neutral   17\n",
              "5  Marvel Comics   neutral   10\n",
              "6  Marvel Comics     Doubt    3\n",
              "7      DC Comics     Doubt    1"
            ]
          },
          "metadata": {
            "tags": []
          },
          "execution_count": 328
        }
      ]
    },
    {
      "cell_type": "markdown",
      "metadata": {
        "id": "gC7e5elSrABY"
      },
      "source": [
        "**Step 5:** Change '0' by 'Values'"
      ]
    },
    {
      "cell_type": "code",
      "metadata": {
        "colab": {
          "base_uri": "https://localhost:8080/",
          "height": 288
        },
        "id": "Qu9tYaJTqtbp",
        "outputId": "7a918d72-a8a3-4688-bc24-991829e101b1"
      },
      "source": [
        "q4_df.rename(columns={0:'Values'}, inplace = True)\n",
        "q4_df"
      ],
      "execution_count": 329,
      "outputs": [
        {
          "output_type": "execute_result",
          "data": {
            "text/html": [
              "<div>\n",
              "<style scoped>\n",
              "    .dataframe tbody tr th:only-of-type {\n",
              "        vertical-align: middle;\n",
              "    }\n",
              "\n",
              "    .dataframe tbody tr th {\n",
              "        vertical-align: top;\n",
              "    }\n",
              "\n",
              "    .dataframe thead th {\n",
              "        text-align: right;\n",
              "    }\n",
              "</style>\n",
              "<table border=\"1\" class=\"dataframe\">\n",
              "  <thead>\n",
              "    <tr style=\"text-align: right;\">\n",
              "      <th></th>\n",
              "      <th>Creator</th>\n",
              "      <th>Alignment</th>\n",
              "      <th>Values</th>\n",
              "    </tr>\n",
              "  </thead>\n",
              "  <tbody>\n",
              "    <tr>\n",
              "      <th>0</th>\n",
              "      <td>Marvel Comics</td>\n",
              "      <td>Hero</td>\n",
              "      <td>285</td>\n",
              "    </tr>\n",
              "    <tr>\n",
              "      <th>1</th>\n",
              "      <td>DC Comics</td>\n",
              "      <td>Hero</td>\n",
              "      <td>157</td>\n",
              "    </tr>\n",
              "    <tr>\n",
              "      <th>2</th>\n",
              "      <td>Marvel Comics</td>\n",
              "      <td>Villain</td>\n",
              "      <td>121</td>\n",
              "    </tr>\n",
              "    <tr>\n",
              "      <th>3</th>\n",
              "      <td>DC Comics</td>\n",
              "      <td>Villain</td>\n",
              "      <td>59</td>\n",
              "    </tr>\n",
              "    <tr>\n",
              "      <th>4</th>\n",
              "      <td>DC Comics</td>\n",
              "      <td>neutral</td>\n",
              "      <td>17</td>\n",
              "    </tr>\n",
              "    <tr>\n",
              "      <th>5</th>\n",
              "      <td>Marvel Comics</td>\n",
              "      <td>neutral</td>\n",
              "      <td>10</td>\n",
              "    </tr>\n",
              "    <tr>\n",
              "      <th>6</th>\n",
              "      <td>Marvel Comics</td>\n",
              "      <td>Doubt</td>\n",
              "      <td>3</td>\n",
              "    </tr>\n",
              "    <tr>\n",
              "      <th>7</th>\n",
              "      <td>DC Comics</td>\n",
              "      <td>Doubt</td>\n",
              "      <td>1</td>\n",
              "    </tr>\n",
              "  </tbody>\n",
              "</table>\n",
              "</div>"
            ],
            "text/plain": [
              "         Creator Alignment  Values\n",
              "0  Marvel Comics      Hero     285\n",
              "1      DC Comics      Hero     157\n",
              "2  Marvel Comics   Villain     121\n",
              "3      DC Comics   Villain      59\n",
              "4      DC Comics   neutral      17\n",
              "5  Marvel Comics   neutral      10\n",
              "6  Marvel Comics     Doubt       3\n",
              "7      DC Comics     Doubt       1"
            ]
          },
          "metadata": {
            "tags": []
          },
          "execution_count": 329
        }
      ]
    },
    {
      "cell_type": "markdown",
      "metadata": {
        "id": "RpwJWWRlrdTx"
      },
      "source": [
        "**Step 6:** Create a Pivot Table\n",
        "\n",
        "values='Values.\n",
        "\n",
        "index='Creator'.\n",
        "\n",
        "columns='Alignment'"
      ]
    },
    {
      "cell_type": "code",
      "metadata": {
        "colab": {
          "base_uri": "https://localhost:8080/",
          "height": 142
        },
        "id": "OH1rYYzQrbfJ",
        "outputId": "b1a75d88-5c7b-4c8f-9729-171c89adb2f3"
      },
      "source": [
        "q4_df = q4_df.pivot_table(index = 'Creator',columns='Alignment',values='Values')\n",
        "q4_df"
      ],
      "execution_count": 330,
      "outputs": [
        {
          "output_type": "execute_result",
          "data": {
            "text/html": [
              "<div>\n",
              "<style scoped>\n",
              "    .dataframe tbody tr th:only-of-type {\n",
              "        vertical-align: middle;\n",
              "    }\n",
              "\n",
              "    .dataframe tbody tr th {\n",
              "        vertical-align: top;\n",
              "    }\n",
              "\n",
              "    .dataframe thead th {\n",
              "        text-align: right;\n",
              "    }\n",
              "</style>\n",
              "<table border=\"1\" class=\"dataframe\">\n",
              "  <thead>\n",
              "    <tr style=\"text-align: right;\">\n",
              "      <th>Alignment</th>\n",
              "      <th>Doubt</th>\n",
              "      <th>Hero</th>\n",
              "      <th>Villain</th>\n",
              "      <th>neutral</th>\n",
              "    </tr>\n",
              "    <tr>\n",
              "      <th>Creator</th>\n",
              "      <th></th>\n",
              "      <th></th>\n",
              "      <th></th>\n",
              "      <th></th>\n",
              "    </tr>\n",
              "  </thead>\n",
              "  <tbody>\n",
              "    <tr>\n",
              "      <th>DC Comics</th>\n",
              "      <td>1</td>\n",
              "      <td>157</td>\n",
              "      <td>59</td>\n",
              "      <td>17</td>\n",
              "    </tr>\n",
              "    <tr>\n",
              "      <th>Marvel Comics</th>\n",
              "      <td>3</td>\n",
              "      <td>285</td>\n",
              "      <td>121</td>\n",
              "      <td>10</td>\n",
              "    </tr>\n",
              "  </tbody>\n",
              "</table>\n",
              "</div>"
            ],
            "text/plain": [
              "Alignment      Doubt  Hero  Villain  neutral\n",
              "Creator                                     \n",
              "DC Comics          1   157       59       17\n",
              "Marvel Comics      3   285      121       10"
            ]
          },
          "metadata": {
            "tags": []
          },
          "execution_count": 330
        }
      ]
    },
    {
      "cell_type": "markdown",
      "metadata": {
        "id": "ByV1RHCnso6I"
      },
      "source": [
        "### Plot"
      ]
    },
    {
      "cell_type": "markdown",
      "metadata": {
        "id": "M9NvC-DmsY-L"
      },
      "source": [
        "**Step 7:** Plot pivot table"
      ]
    },
    {
      "cell_type": "code",
      "metadata": {
        "colab": {
          "base_uri": "https://localhost:8080/",
          "height": 314
        },
        "id": "r8vOZvk-r3rL",
        "outputId": "01026329-2216-428d-affd-15662b10433b"
      },
      "source": [
        "labels = list(q4_df.index)\n",
        "doubt_data = list(q4_df['Doubt'])\n",
        "hero_data = list(q4_df['Hero'])\n",
        "villain_data = list(q4_df['Villain'])\n",
        "neutral_data = list(q4_df['neutral'])\n",
        "\n",
        "x=np.arange(len(labels))\n",
        "width=0.2\n",
        "\n",
        "fig, ax = plt.subplots()\n",
        "doubt_bar = ax.bar(x-width/2, doubt_data, width, label = 'Doubt')\n",
        "hero_bar = ax.bar(x+width/2, hero_data, width, label = 'Heroes')\n",
        "villian_bar = ax.bar(x-3*(width/2), villain_data, width, label = 'Villains')\n",
        "neutral_bar = ax.bar(x-5*(width/2), neutral_data, width, label = 'Neutrals')\n",
        "\n",
        "ax.set_title('Heroes and Villians')\n",
        "ax.set_xlabel('Comics')\n",
        "ax.set_ylabel('Values')\n",
        "ax.set_xticks(x)\n",
        "ax.set_xticklabels(labels)\n",
        "ax.legend()\n",
        "\n",
        "def autolabel(bar):\n",
        "  width=0.2\n",
        "  for p in ax.patches:\n",
        "      ax.annotate(str(p.get_height()), (p.get_x()+0.05, p.get_height()*1.01))\n",
        "\n",
        "autolabel(doubt_bar)\n",
        "autolabel(hero_bar)\n",
        "autolabel(villian_bar)\n",
        "autolabel(neutral_bar)\n",
        "\n",
        "fig.tight_layout()\n",
        "plt.show"
      ],
      "execution_count": 331,
      "outputs": [
        {
          "output_type": "execute_result",
          "data": {
            "text/plain": [
              "<function matplotlib.pyplot.show>"
            ]
          },
          "metadata": {
            "tags": []
          },
          "execution_count": 331
        },
        {
          "output_type": "display_data",
          "data": {
            "image/png": "[encoded data removed]",
            "text/plain": [
              "<Figure size 432x288 with 1 Axes>"
            ]
          },
          "metadata": {
            "tags": [],
            "needs_background": "light"
          }
        }
      ]
    },
    {
      "cell_type": "markdown",
      "metadata": {
        "id": "5efGDci2w5Vq"
      },
      "source": [
        "## Q5. Realize a comparative between the character abilites of both comics."
      ]
    },
    {
      "cell_type": "markdown",
      "metadata": {
        "id": "nNinXEQSw-Ce"
      },
      "source": [
        "**Step 1:** Use \"Creator\" and \"super_powers\""
      ]
    },
    {
      "cell_type": "code",
      "metadata": {
        "colab": {
          "base_uri": "https://localhost:8080/",
          "height": 407
        },
        "id": "rbBmorBNuUIi",
        "outputId": "acb4eea8-0b63-4001-c200-4f729e12c047"
      },
      "source": [
        "q5_df = final_df.loc[:,['Creator','super_powers']]\n",
        "q5_df"
      ],
      "execution_count": 332,
      "outputs": [
        {
          "output_type": "execute_result",
          "data": {
            "text/html": [
              "<div>\n",
              "<style scoped>\n",
              "    .dataframe tbody tr th:only-of-type {\n",
              "        vertical-align: middle;\n",
              "    }\n",
              "\n",
              "    .dataframe tbody tr th {\n",
              "        vertical-align: top;\n",
              "    }\n",
              "\n",
              "    .dataframe thead th {\n",
              "        text-align: right;\n",
              "    }\n",
              "</style>\n",
              "<table border=\"1\" class=\"dataframe\">\n",
              "  <thead>\n",
              "    <tr style=\"text-align: right;\">\n",
              "      <th></th>\n",
              "      <th>Creator</th>\n",
              "      <th>super_powers</th>\n",
              "    </tr>\n",
              "  </thead>\n",
              "  <tbody>\n",
              "    <tr>\n",
              "      <th>0</th>\n",
              "      <td>Marvel Comics</td>\n",
              "      <td>[Agility, Super Strength, Stamina, Super Speed]</td>\n",
              "    </tr>\n",
              "    <tr>\n",
              "      <th>1</th>\n",
              "      <td>Marvel Comics</td>\n",
              "      <td>[Accelerated Healing, Durability, Longevity, S...</td>\n",
              "    </tr>\n",
              "    <tr>\n",
              "      <th>2</th>\n",
              "      <td>DC Comics</td>\n",
              "      <td>[Lantern Power Ring]</td>\n",
              "    </tr>\n",
              "    <tr>\n",
              "      <th>3</th>\n",
              "      <td>Marvel Comics</td>\n",
              "      <td>[Accelerated Healing, Intelligence, Super Stre...</td>\n",
              "    </tr>\n",
              "    <tr>\n",
              "      <th>4</th>\n",
              "      <td>Marvel Comics</td>\n",
              "      <td>[Dimensional Awareness, Flight, Intelligence, ...</td>\n",
              "    </tr>\n",
              "    <tr>\n",
              "      <th>...</th>\n",
              "      <td>...</td>\n",
              "      <td>...</td>\n",
              "    </tr>\n",
              "    <tr>\n",
              "      <th>648</th>\n",
              "      <td>Marvel Comics</td>\n",
              "      <td>[Size Changing, Animal Oriented Powers]</td>\n",
              "    </tr>\n",
              "    <tr>\n",
              "      <th>649</th>\n",
              "      <td>Marvel Comics</td>\n",
              "      <td>[Flight, Energy Blasts, Size Changing]</td>\n",
              "    </tr>\n",
              "    <tr>\n",
              "      <th>650</th>\n",
              "      <td>Marvel Comics</td>\n",
              "      <td>[Cold Resistance, Durability, Longevity, Super...</td>\n",
              "    </tr>\n",
              "    <tr>\n",
              "      <th>651</th>\n",
              "      <td>DC Comics</td>\n",
              "      <td>[Cryokinesis, Telepathy, Magic, Fire Control, ...</td>\n",
              "    </tr>\n",
              "    <tr>\n",
              "      <th>652</th>\n",
              "      <td>DC Comics</td>\n",
              "      <td>[Super Speed, Intangibility, Time Travel, Time...</td>\n",
              "    </tr>\n",
              "  </tbody>\n",
              "</table>\n",
              "<p>653 rows × 2 columns</p>\n",
              "</div>"
            ],
            "text/plain": [
              "           Creator                                       super_powers\n",
              "0    Marvel Comics    [Agility, Super Strength, Stamina, Super Speed]\n",
              "1    Marvel Comics  [Accelerated Healing, Durability, Longevity, S...\n",
              "2        DC Comics                               [Lantern Power Ring]\n",
              "3    Marvel Comics  [Accelerated Healing, Intelligence, Super Stre...\n",
              "4    Marvel Comics  [Dimensional Awareness, Flight, Intelligence, ...\n",
              "..             ...                                                ...\n",
              "648  Marvel Comics            [Size Changing, Animal Oriented Powers]\n",
              "649  Marvel Comics             [Flight, Energy Blasts, Size Changing]\n",
              "650  Marvel Comics  [Cold Resistance, Durability, Longevity, Super...\n",
              "651      DC Comics  [Cryokinesis, Telepathy, Magic, Fire Control, ...\n",
              "652      DC Comics  [Super Speed, Intangibility, Time Travel, Time...\n",
              "\n",
              "[653 rows x 2 columns]"
            ]
          },
          "metadata": {
            "tags": []
          },
          "execution_count": 332
        }
      ]
    },
    {
      "cell_type": "markdown",
      "metadata": {
        "id": "xisgc_nH1jld"
      },
      "source": [
        "**Step 2:** Transform it in a long format"
      ]
    },
    {
      "cell_type": "code",
      "metadata": {
        "colab": {
          "base_uri": "https://localhost:8080/",
          "height": 407
        },
        "id": "RALnubStydgn",
        "outputId": "db6fae84-c5ff-421a-a987-d71e7942a583"
      },
      "source": [
        "q5_df = q5_df.explode('super_powers')\n",
        "q5_df"
      ],
      "execution_count": 333,
      "outputs": [
        {
          "output_type": "execute_result",
          "data": {
            "text/html": [
              "<div>\n",
              "<style scoped>\n",
              "    .dataframe tbody tr th:only-of-type {\n",
              "        vertical-align: middle;\n",
              "    }\n",
              "\n",
              "    .dataframe tbody tr th {\n",
              "        vertical-align: top;\n",
              "    }\n",
              "\n",
              "    .dataframe thead th {\n",
              "        text-align: right;\n",
              "    }\n",
              "</style>\n",
              "<table border=\"1\" class=\"dataframe\">\n",
              "  <thead>\n",
              "    <tr style=\"text-align: right;\">\n",
              "      <th></th>\n",
              "      <th>Creator</th>\n",
              "      <th>super_powers</th>\n",
              "    </tr>\n",
              "  </thead>\n",
              "  <tbody>\n",
              "    <tr>\n",
              "      <th>0</th>\n",
              "      <td>Marvel Comics</td>\n",
              "      <td>Agility</td>\n",
              "    </tr>\n",
              "    <tr>\n",
              "      <th>0</th>\n",
              "      <td>Marvel Comics</td>\n",
              "      <td>Super Strength</td>\n",
              "    </tr>\n",
              "    <tr>\n",
              "      <th>0</th>\n",
              "      <td>Marvel Comics</td>\n",
              "      <td>Stamina</td>\n",
              "    </tr>\n",
              "    <tr>\n",
              "      <th>0</th>\n",
              "      <td>Marvel Comics</td>\n",
              "      <td>Super Speed</td>\n",
              "    </tr>\n",
              "    <tr>\n",
              "      <th>1</th>\n",
              "      <td>Marvel Comics</td>\n",
              "      <td>Accelerated Healing</td>\n",
              "    </tr>\n",
              "    <tr>\n",
              "      <th>...</th>\n",
              "      <td>...</td>\n",
              "      <td>...</td>\n",
              "    </tr>\n",
              "    <tr>\n",
              "      <th>651</th>\n",
              "      <td>DC Comics</td>\n",
              "      <td>Weather Control</td>\n",
              "    </tr>\n",
              "    <tr>\n",
              "      <th>652</th>\n",
              "      <td>DC Comics</td>\n",
              "      <td>Super Speed</td>\n",
              "    </tr>\n",
              "    <tr>\n",
              "      <th>652</th>\n",
              "      <td>DC Comics</td>\n",
              "      <td>Intangibility</td>\n",
              "    </tr>\n",
              "    <tr>\n",
              "      <th>652</th>\n",
              "      <td>DC Comics</td>\n",
              "      <td>Time Travel</td>\n",
              "    </tr>\n",
              "    <tr>\n",
              "      <th>652</th>\n",
              "      <td>DC Comics</td>\n",
              "      <td>Time Manipulation</td>\n",
              "    </tr>\n",
              "  </tbody>\n",
              "</table>\n",
              "<p>5433 rows × 2 columns</p>\n",
              "</div>"
            ],
            "text/plain": [
              "           Creator         super_powers\n",
              "0    Marvel Comics              Agility\n",
              "0    Marvel Comics       Super Strength\n",
              "0    Marvel Comics              Stamina\n",
              "0    Marvel Comics          Super Speed\n",
              "1    Marvel Comics  Accelerated Healing\n",
              "..             ...                  ...\n",
              "651      DC Comics      Weather Control\n",
              "652      DC Comics          Super Speed\n",
              "652      DC Comics        Intangibility\n",
              "652      DC Comics          Time Travel\n",
              "652      DC Comics    Time Manipulation\n",
              "\n",
              "[5433 rows x 2 columns]"
            ]
          },
          "metadata": {
            "tags": []
          },
          "execution_count": 333
        }
      ]
    },
    {
      "cell_type": "markdown",
      "metadata": {
        "id": "5GsVYYug1u11"
      },
      "source": [
        "**Step 3:** Verify unique values of \"Creator\""
      ]
    },
    {
      "cell_type": "code",
      "metadata": {
        "colab": {
          "base_uri": "https://localhost:8080/"
        },
        "id": "ejwckHGL0QtH",
        "outputId": "3b436a12-d45d-4604-dbb6-a495156de8e4"
      },
      "source": [
        "q5_df['Creator'].unique()"
      ],
      "execution_count": 334,
      "outputs": [
        {
          "output_type": "execute_result",
          "data": {
            "text/plain": [
              "array(['Marvel Comics', 'DC Comics'], dtype=object)"
            ]
          },
          "metadata": {
            "tags": []
          },
          "execution_count": 334
        }
      ]
    },
    {
      "cell_type": "markdown",
      "metadata": {
        "id": "e6epeUHY4Oqb"
      },
      "source": [
        "**Step 4:** Count the values and reset the index"
      ]
    },
    {
      "cell_type": "code",
      "metadata": {
        "colab": {
          "base_uri": "https://localhost:8080/",
          "height": 407
        },
        "id": "RKW6kaSA4XmK",
        "outputId": "43dc6fff-34f9-4c74-f31d-ed8129a3b07d"
      },
      "source": [
        "q5_df = q5_df.value_counts().reset_index()\n",
        "q5_df"
      ],
      "execution_count": 335,
      "outputs": [
        {
          "output_type": "execute_result",
          "data": {
            "text/html": [
              "<div>\n",
              "<style scoped>\n",
              "    .dataframe tbody tr th:only-of-type {\n",
              "        vertical-align: middle;\n",
              "    }\n",
              "\n",
              "    .dataframe tbody tr th {\n",
              "        vertical-align: top;\n",
              "    }\n",
              "\n",
              "    .dataframe thead th {\n",
              "        text-align: right;\n",
              "    }\n",
              "</style>\n",
              "<table border=\"1\" class=\"dataframe\">\n",
              "  <thead>\n",
              "    <tr style=\"text-align: right;\">\n",
              "      <th></th>\n",
              "      <th>Creator</th>\n",
              "      <th>super_powers</th>\n",
              "      <th>0</th>\n",
              "    </tr>\n",
              "  </thead>\n",
              "  <tbody>\n",
              "    <tr>\n",
              "      <th>0</th>\n",
              "      <td>Marvel Comics</td>\n",
              "      <td>Super Strength</td>\n",
              "      <td>219</td>\n",
              "    </tr>\n",
              "    <tr>\n",
              "      <th>1</th>\n",
              "      <td>Marvel Comics</td>\n",
              "      <td>Durability</td>\n",
              "      <td>170</td>\n",
              "    </tr>\n",
              "    <tr>\n",
              "      <th>2</th>\n",
              "      <td>Marvel Comics</td>\n",
              "      <td>Stamina</td>\n",
              "      <td>165</td>\n",
              "    </tr>\n",
              "    <tr>\n",
              "      <th>3</th>\n",
              "      <td>Marvel Comics</td>\n",
              "      <td>Super Speed</td>\n",
              "      <td>152</td>\n",
              "    </tr>\n",
              "    <tr>\n",
              "      <th>4</th>\n",
              "      <td>Marvel Comics</td>\n",
              "      <td>Agility</td>\n",
              "      <td>140</td>\n",
              "    </tr>\n",
              "    <tr>\n",
              "      <th>...</th>\n",
              "      <td>...</td>\n",
              "      <td>...</td>\n",
              "      <td>...</td>\n",
              "    </tr>\n",
              "    <tr>\n",
              "      <th>288</th>\n",
              "      <td>DC Comics</td>\n",
              "      <td>Echolocation</td>\n",
              "      <td>1</td>\n",
              "    </tr>\n",
              "    <tr>\n",
              "      <th>289</th>\n",
              "      <td>DC Comics</td>\n",
              "      <td>Wind Control</td>\n",
              "      <td>1</td>\n",
              "    </tr>\n",
              "    <tr>\n",
              "      <th>290</th>\n",
              "      <td>Marvel Comics</td>\n",
              "      <td>Adaptation</td>\n",
              "      <td>1</td>\n",
              "    </tr>\n",
              "    <tr>\n",
              "      <th>291</th>\n",
              "      <td>Marvel Comics</td>\n",
              "      <td>Radar Sense</td>\n",
              "      <td>1</td>\n",
              "    </tr>\n",
              "    <tr>\n",
              "      <th>292</th>\n",
              "      <td>DC Comics</td>\n",
              "      <td>Substance Secretion</td>\n",
              "      <td>1</td>\n",
              "    </tr>\n",
              "  </tbody>\n",
              "</table>\n",
              "<p>293 rows × 3 columns</p>\n",
              "</div>"
            ],
            "text/plain": [
              "           Creator         super_powers    0\n",
              "0    Marvel Comics       Super Strength  219\n",
              "1    Marvel Comics           Durability  170\n",
              "2    Marvel Comics              Stamina  165\n",
              "3    Marvel Comics          Super Speed  152\n",
              "4    Marvel Comics              Agility  140\n",
              "..             ...                  ...  ...\n",
              "288      DC Comics         Echolocation    1\n",
              "289      DC Comics         Wind Control    1\n",
              "290  Marvel Comics           Adaptation    1\n",
              "291  Marvel Comics          Radar Sense    1\n",
              "292      DC Comics  Substance Secretion    1\n",
              "\n",
              "[293 rows x 3 columns]"
            ]
          },
          "metadata": {
            "tags": []
          },
          "execution_count": 335
        }
      ]
    },
    {
      "cell_type": "markdown",
      "metadata": {
        "id": "0v3vVtOu4nEM"
      },
      "source": [
        "**Step 5:** Rename column 0 by 'Values'"
      ]
    },
    {
      "cell_type": "code",
      "metadata": {
        "colab": {
          "base_uri": "https://localhost:8080/",
          "height": 407
        },
        "id": "JLjY-Mdm4rBw",
        "outputId": "7c66f7c9-30b8-4078-903d-715413eb5eaa"
      },
      "source": [
        "q5_df.rename(columns={0:'Values'}, inplace = True)\n",
        "q5_df"
      ],
      "execution_count": 336,
      "outputs": [
        {
          "output_type": "execute_result",
          "data": {
            "text/html": [
              "<div>\n",
              "<style scoped>\n",
              "    .dataframe tbody tr th:only-of-type {\n",
              "        vertical-align: middle;\n",
              "    }\n",
              "\n",
              "    .dataframe tbody tr th {\n",
              "        vertical-align: top;\n",
              "    }\n",
              "\n",
              "    .dataframe thead th {\n",
              "        text-align: right;\n",
              "    }\n",
              "</style>\n",
              "<table border=\"1\" class=\"dataframe\">\n",
              "  <thead>\n",
              "    <tr style=\"text-align: right;\">\n",
              "      <th></th>\n",
              "      <th>Creator</th>\n",
              "      <th>super_powers</th>\n",
              "      <th>Values</th>\n",
              "    </tr>\n",
              "  </thead>\n",
              "  <tbody>\n",
              "    <tr>\n",
              "      <th>0</th>\n",
              "      <td>Marvel Comics</td>\n",
              "      <td>Super Strength</td>\n",
              "      <td>219</td>\n",
              "    </tr>\n",
              "    <tr>\n",
              "      <th>1</th>\n",
              "      <td>Marvel Comics</td>\n",
              "      <td>Durability</td>\n",
              "      <td>170</td>\n",
              "    </tr>\n",
              "    <tr>\n",
              "      <th>2</th>\n",
              "      <td>Marvel Comics</td>\n",
              "      <td>Stamina</td>\n",
              "      <td>165</td>\n",
              "    </tr>\n",
              "    <tr>\n",
              "      <th>3</th>\n",
              "      <td>Marvel Comics</td>\n",
              "      <td>Super Speed</td>\n",
              "      <td>152</td>\n",
              "    </tr>\n",
              "    <tr>\n",
              "      <th>4</th>\n",
              "      <td>Marvel Comics</td>\n",
              "      <td>Agility</td>\n",
              "      <td>140</td>\n",
              "    </tr>\n",
              "    <tr>\n",
              "      <th>...</th>\n",
              "      <td>...</td>\n",
              "      <td>...</td>\n",
              "      <td>...</td>\n",
              "    </tr>\n",
              "    <tr>\n",
              "      <th>288</th>\n",
              "      <td>DC Comics</td>\n",
              "      <td>Echolocation</td>\n",
              "      <td>1</td>\n",
              "    </tr>\n",
              "    <tr>\n",
              "      <th>289</th>\n",
              "      <td>DC Comics</td>\n",
              "      <td>Wind Control</td>\n",
              "      <td>1</td>\n",
              "    </tr>\n",
              "    <tr>\n",
              "      <th>290</th>\n",
              "      <td>Marvel Comics</td>\n",
              "      <td>Adaptation</td>\n",
              "      <td>1</td>\n",
              "    </tr>\n",
              "    <tr>\n",
              "      <th>291</th>\n",
              "      <td>Marvel Comics</td>\n",
              "      <td>Radar Sense</td>\n",
              "      <td>1</td>\n",
              "    </tr>\n",
              "    <tr>\n",
              "      <th>292</th>\n",
              "      <td>DC Comics</td>\n",
              "      <td>Substance Secretion</td>\n",
              "      <td>1</td>\n",
              "    </tr>\n",
              "  </tbody>\n",
              "</table>\n",
              "<p>293 rows × 3 columns</p>\n",
              "</div>"
            ],
            "text/plain": [
              "           Creator         super_powers  Values\n",
              "0    Marvel Comics       Super Strength     219\n",
              "1    Marvel Comics           Durability     170\n",
              "2    Marvel Comics              Stamina     165\n",
              "3    Marvel Comics          Super Speed     152\n",
              "4    Marvel Comics              Agility     140\n",
              "..             ...                  ...     ...\n",
              "288      DC Comics         Echolocation       1\n",
              "289      DC Comics         Wind Control       1\n",
              "290  Marvel Comics           Adaptation       1\n",
              "291  Marvel Comics          Radar Sense       1\n",
              "292      DC Comics  Substance Secretion       1\n",
              "\n",
              "[293 rows x 3 columns]"
            ]
          },
          "metadata": {
            "tags": []
          },
          "execution_count": 336
        }
      ]
    },
    {
      "cell_type": "markdown",
      "metadata": {
        "id": "D8HGn2KC2I2Y"
      },
      "source": [
        "**Step 6:** Filter by comics"
      ]
    },
    {
      "cell_type": "code",
      "metadata": {
        "id": "QHXsEixQ2HdO"
      },
      "source": [
        "q5_marvel = q5_df[(q5_df['Creator'] == 'Marvel Comics') & (q5_df['Values'] > np.median(q5_df['Values']))]\n",
        "q5_dc = q5_df[(q5_df['Creator'] == 'DC Comics') & (q5_df['Values'] > np.median(q5_df['Values']))]"
      ],
      "execution_count": 337,
      "outputs": []
    },
    {
      "cell_type": "markdown",
      "metadata": {
        "id": "PteMacZz2vxd"
      },
      "source": [
        "### Plot"
      ]
    },
    {
      "cell_type": "markdown",
      "metadata": {
        "id": "T4_Rrmzg2xsw"
      },
      "source": [
        "**Step 5:** Plot"
      ]
    },
    {
      "cell_type": "code",
      "metadata": {
        "colab": {
          "base_uri": "https://localhost:8080/",
          "height": 1000
        },
        "id": "IlDftHZd2xT7",
        "outputId": "4079f115-7394-45f7-b2b6-2910df7c6842"
      },
      "source": [
        "fig, (ax1,ax2) = plt.subplots(1,2)\n",
        "fig.set_size_inches(18,17)\n",
        "\n",
        "# Marvel #\n",
        "ax1_values = list(q5_marvel['Values'])\n",
        "ax1_labels = list(q5_marvel['super_powers'])\n",
        "\n",
        "sns.barplot(x = ax1_values, y = ax1_labels, ax = ax1, orient = 'h')\n",
        "ax1.set_xticks(range(0,250,50))\n",
        "ax1.set_title('Marvel super powers', fontsize = 16)\n",
        "\n",
        "\n",
        "for text, rect in zip(ax1_values, ax1.patches):\n",
        "  width, height = rect.get_width(), rect.get_height()\n",
        "  x,y = rect.get_xy()\n",
        "  ax1.text(x = x+width,\n",
        "          y = y+height,\n",
        "          s=text)\n",
        "\n",
        "ax1.set_xlabel('Numbers of characters')\n",
        "ax1.set_ylabel('Super Powers')\n",
        "  \n",
        "# DC #\n",
        "ax2_values = list(q5_dc['Values'])\n",
        "ax2_labels = list(q5_dc['super_powers'])\n",
        "\n",
        "sns.barplot(x = ax2_values, y = ax2_labels, ax = ax2, orient = 'h')\n",
        "ax2.set_xticks(range(0,250,50))\n",
        "ax2.set_title('DC super powers', fontsize = 16)\n",
        "\n",
        "\n",
        "for text_dc, rect_dc in zip(ax2_values, ax2.patches):\n",
        "  width_dc, height_dc = rect_dc.get_width(), rect_dc.get_height()\n",
        "  x_dc,y_dc = rect_dc.get_xy()\n",
        "  ax2.text(x = x_dc + width_dc,\n",
        "          y = y_dc + height_dc,\n",
        "          s = text_dc)\n",
        "\n",
        "ax2.set_xlabel('Numbers of characters')\n",
        "ax2.set_ylabel('Super Powers')\n",
        "      \n",
        "fig.tight_layout()\n",
        "plt.show()\n"
      ],
      "execution_count": 338,
      "outputs": [
        {
          "output_type": "display_data",
          "data": {
            "image/png": "[encoded data removed]",
            "text/plain": [
              "<Figure size 1296x1224 with 2 Axes>"
            ]
          },
          "metadata": {
            "tags": [],
            "needs_background": "light"
          }
        }
      ]
    },
    {
      "cell_type": "markdown",
      "metadata": {
        "id": "iRcwsOhd6_8k"
      },
      "source": [
        "## Q6. Who are the most intelligent characters?\n"
      ]
    },
    {
      "cell_type": "markdown",
      "metadata": {
        "id": "abTmMAA27pIc"
      },
      "source": [
        "**Step 1:** Use the next columns: \"Name\", \"Creator\" and \"Intelligence\"."
      ]
    },
    {
      "cell_type": "code",
      "metadata": {
        "colab": {
          "base_uri": "https://localhost:8080/",
          "height": 419
        },
        "id": "sWQIiT5T7hsd",
        "outputId": "6f4c56ef-ce11-4b7e-f51b-83a8988cdd2a"
      },
      "source": [
        "q6_df = final_df.loc[:,['Name','Creator','Intelligence']]\n",
        "q6_df"
      ],
      "execution_count": 339,
      "outputs": [
        {
          "output_type": "execute_result",
          "data": {
            "text/html": [
              "<div>\n",
              "<style scoped>\n",
              "    .dataframe tbody tr th:only-of-type {\n",
              "        vertical-align: middle;\n",
              "    }\n",
              "\n",
              "    .dataframe tbody tr th {\n",
              "        vertical-align: top;\n",
              "    }\n",
              "\n",
              "    .dataframe thead th {\n",
              "        text-align: right;\n",
              "    }\n",
              "</style>\n",
              "<table border=\"1\" class=\"dataframe\">\n",
              "  <thead>\n",
              "    <tr style=\"text-align: right;\">\n",
              "      <th></th>\n",
              "      <th>Name</th>\n",
              "      <th>Creator</th>\n",
              "      <th>Intelligence</th>\n",
              "    </tr>\n",
              "  </thead>\n",
              "  <tbody>\n",
              "    <tr>\n",
              "      <th>0</th>\n",
              "      <td>3-D Man</td>\n",
              "      <td>Marvel Comics</td>\n",
              "      <td>80.0</td>\n",
              "    </tr>\n",
              "    <tr>\n",
              "      <th>1</th>\n",
              "      <td>A-Bomb</td>\n",
              "      <td>Marvel Comics</td>\n",
              "      <td>75.0</td>\n",
              "    </tr>\n",
              "    <tr>\n",
              "      <th>2</th>\n",
              "      <td>Abin Sur</td>\n",
              "      <td>DC Comics</td>\n",
              "      <td>80.0</td>\n",
              "    </tr>\n",
              "    <tr>\n",
              "      <th>3</th>\n",
              "      <td>Abomination</td>\n",
              "      <td>Marvel Comics</td>\n",
              "      <td>85.0</td>\n",
              "    </tr>\n",
              "    <tr>\n",
              "      <th>4</th>\n",
              "      <td>Abraxas</td>\n",
              "      <td>Marvel Comics</td>\n",
              "      <td>100.0</td>\n",
              "    </tr>\n",
              "    <tr>\n",
              "      <th>...</th>\n",
              "      <td>...</td>\n",
              "      <td>...</td>\n",
              "      <td>...</td>\n",
              "    </tr>\n",
              "    <tr>\n",
              "      <th>648</th>\n",
              "      <td>Yellowjacket</td>\n",
              "      <td>Marvel Comics</td>\n",
              "      <td>95.0</td>\n",
              "    </tr>\n",
              "    <tr>\n",
              "      <th>649</th>\n",
              "      <td>Yellowjacket II</td>\n",
              "      <td>Marvel Comics</td>\n",
              "      <td>80.0</td>\n",
              "    </tr>\n",
              "    <tr>\n",
              "      <th>650</th>\n",
              "      <td>Ymir</td>\n",
              "      <td>Marvel Comics</td>\n",
              "      <td>80.0</td>\n",
              "    </tr>\n",
              "    <tr>\n",
              "      <th>651</th>\n",
              "      <td>Zatanna</td>\n",
              "      <td>DC Comics</td>\n",
              "      <td>95.0</td>\n",
              "    </tr>\n",
              "    <tr>\n",
              "      <th>652</th>\n",
              "      <td>Zoom</td>\n",
              "      <td>DC Comics</td>\n",
              "      <td>80.0</td>\n",
              "    </tr>\n",
              "  </tbody>\n",
              "</table>\n",
              "<p>653 rows × 3 columns</p>\n",
              "</div>"
            ],
            "text/plain": [
              "                Name        Creator  Intelligence\n",
              "0            3-D Man  Marvel Comics          80.0\n",
              "1             A-Bomb  Marvel Comics          75.0\n",
              "2           Abin Sur      DC Comics          80.0\n",
              "3        Abomination  Marvel Comics          85.0\n",
              "4            Abraxas  Marvel Comics         100.0\n",
              "..               ...            ...           ...\n",
              "648     Yellowjacket  Marvel Comics          95.0\n",
              "649  Yellowjacket II  Marvel Comics          80.0\n",
              "650             Ymir  Marvel Comics          80.0\n",
              "651          Zatanna      DC Comics          95.0\n",
              "652             Zoom      DC Comics          80.0\n",
              "\n",
              "[653 rows x 3 columns]"
            ]
          },
          "metadata": {
            "tags": []
          },
          "execution_count": 339
        }
      ]
    },
    {
      "cell_type": "markdown",
      "metadata": {
        "id": "Ze25ahJ_8W8X"
      },
      "source": [
        "**Step 2:** Separate by comics and filter with data > 4th quintil"
      ]
    },
    {
      "cell_type": "code",
      "metadata": {
        "id": "MpgVRnzs8cqg"
      },
      "source": [
        "# Quintil\n",
        "q_val = [0,20,40,60,80,100]\n",
        "quintiles = np.percentile(q6_df['Intelligence'], q = q_val)\n",
        "\n",
        "q6_marvel = q6_df[(q6_df['Creator'] == 'Marvel Comics') & (q6_df['Intelligence'] > quintiles[4])]\n",
        "q6_dc = q6_df[(q6_df['Creator'] == 'DC Comics') & (q6_df['Intelligence'] > quintiles[4])]"
      ],
      "execution_count": 340,
      "outputs": []
    },
    {
      "cell_type": "markdown",
      "metadata": {
        "id": "SP72abZi7b9a"
      },
      "source": [
        "### Plot"
      ]
    },
    {
      "cell_type": "markdown",
      "metadata": {
        "id": "7g0d9dJT-A4m"
      },
      "source": [
        "**Step 3:** Plot"
      ]
    },
    {
      "cell_type": "code",
      "metadata": {
        "colab": {
          "base_uri": "https://localhost:8080/",
          "height": 729
        },
        "id": "gpPsk0zy-G_k",
        "outputId": "f35fc853-6a46-4c9e-914e-e1ba2e86a1a4"
      },
      "source": [
        "fig, (ax1,ax2) = plt.subplots(1,2)\n",
        "fig.set_size_inches(13,10)\n",
        "\n",
        "def barplot(df,title,x_label,y_label,min_val,max_val,step,ax):\n",
        "  ax_labels = list(df['Name'])\n",
        "  ax_values = list(df['Intelligence'])\n",
        "  sns.barplot(x = ax_values, y = ax_labels, ax = ax, orient='h')\n",
        "  ax.set_xticks(range(min_val,max_val,step))\n",
        "  ax.set_title(title, fontsize = 16)\n",
        "  ax.set_xlabel(x_label)\n",
        "  ax.set_ylabel(y_label)\n",
        "\n",
        "def autolabel(df,ax):\n",
        "  ax_labels = list(df['Name'])\n",
        "  ax_values = list(df['Intelligence'])\n",
        "  for text, rect in zip(ax_values, ax.patches):\n",
        "    width, height = rect.get_width(), rect.get_height()\n",
        "    x,y = rect.get_xy()\n",
        "    ax.text(x = x+width,\n",
        "            y = y+height,\n",
        "            s=text)\n",
        "\n",
        "# Marvel\n",
        "barplot(q6_marvel,'Marvel','Values','Characters',0,150,20,ax1)\n",
        "autolabel(q6_marvel,ax1)\n",
        "\n",
        "# DC\n",
        "barplot(q6_dc,'DC','Values','Characters',0,150,20,ax2)\n",
        "autolabel(q6_dc,ax2)\n",
        "\n",
        "fig.tight_layout()\n",
        "plt.show()"
      ],
      "execution_count": 341,
      "outputs": [
        {
          "output_type": "display_data",
          "data": {
            "image/png": "[encoded data removed]",
            "text/plain": [
              "<Figure size 936x720 with 2 Axes>"
            ]
          },
          "metadata": {
            "tags": [],
            "needs_background": "light"
          }
        }
      ]
    },
    {
      "cell_type": "markdown",
      "metadata": {
        "id": "RGIHvtaUMGk_"
      },
      "source": [
        "This plot is not enough because there are lots of characters who have 100 points in \"Intelligence\" so we are going to campare between them with another graphic focus on their comics"
      ]
    },
    {
      "cell_type": "markdown",
      "metadata": {
        "id": "akCvzWputVe_"
      },
      "source": [
        "**Step 4:** Use column \"Creator\" and \"Intelligence\""
      ]
    },
    {
      "cell_type": "code",
      "metadata": {
        "colab": {
          "base_uri": "https://localhost:8080/",
          "height": 419
        },
        "id": "dpxBD3M7tUcd",
        "outputId": "5bb802d0-daa9-4bb6-86bd-2b1708863097"
      },
      "source": [
        "q6_df = q6_df.loc[:,['Creator','Intelligence']]\n",
        "q6_df"
      ],
      "execution_count": 342,
      "outputs": [
        {
          "output_type": "execute_result",
          "data": {
            "text/html": [
              "<div>\n",
              "<style scoped>\n",
              "    .dataframe tbody tr th:only-of-type {\n",
              "        vertical-align: middle;\n",
              "    }\n",
              "\n",
              "    .dataframe tbody tr th {\n",
              "        vertical-align: top;\n",
              "    }\n",
              "\n",
              "    .dataframe thead th {\n",
              "        text-align: right;\n",
              "    }\n",
              "</style>\n",
              "<table border=\"1\" class=\"dataframe\">\n",
              "  <thead>\n",
              "    <tr style=\"text-align: right;\">\n",
              "      <th></th>\n",
              "      <th>Creator</th>\n",
              "      <th>Intelligence</th>\n",
              "    </tr>\n",
              "  </thead>\n",
              "  <tbody>\n",
              "    <tr>\n",
              "      <th>0</th>\n",
              "      <td>Marvel Comics</td>\n",
              "      <td>80.0</td>\n",
              "    </tr>\n",
              "    <tr>\n",
              "      <th>1</th>\n",
              "      <td>Marvel Comics</td>\n",
              "      <td>75.0</td>\n",
              "    </tr>\n",
              "    <tr>\n",
              "      <th>2</th>\n",
              "      <td>DC Comics</td>\n",
              "      <td>80.0</td>\n",
              "    </tr>\n",
              "    <tr>\n",
              "      <th>3</th>\n",
              "      <td>Marvel Comics</td>\n",
              "      <td>85.0</td>\n",
              "    </tr>\n",
              "    <tr>\n",
              "      <th>4</th>\n",
              "      <td>Marvel Comics</td>\n",
              "      <td>100.0</td>\n",
              "    </tr>\n",
              "    <tr>\n",
              "      <th>...</th>\n",
              "      <td>...</td>\n",
              "      <td>...</td>\n",
              "    </tr>\n",
              "    <tr>\n",
              "      <th>648</th>\n",
              "      <td>Marvel Comics</td>\n",
              "      <td>95.0</td>\n",
              "    </tr>\n",
              "    <tr>\n",
              "      <th>649</th>\n",
              "      <td>Marvel Comics</td>\n",
              "      <td>80.0</td>\n",
              "    </tr>\n",
              "    <tr>\n",
              "      <th>650</th>\n",
              "      <td>Marvel Comics</td>\n",
              "      <td>80.0</td>\n",
              "    </tr>\n",
              "    <tr>\n",
              "      <th>651</th>\n",
              "      <td>DC Comics</td>\n",
              "      <td>95.0</td>\n",
              "    </tr>\n",
              "    <tr>\n",
              "      <th>652</th>\n",
              "      <td>DC Comics</td>\n",
              "      <td>80.0</td>\n",
              "    </tr>\n",
              "  </tbody>\n",
              "</table>\n",
              "<p>653 rows × 2 columns</p>\n",
              "</div>"
            ],
            "text/plain": [
              "           Creator  Intelligence\n",
              "0    Marvel Comics          80.0\n",
              "1    Marvel Comics          75.0\n",
              "2        DC Comics          80.0\n",
              "3    Marvel Comics          85.0\n",
              "4    Marvel Comics         100.0\n",
              "..             ...           ...\n",
              "648  Marvel Comics          95.0\n",
              "649  Marvel Comics          80.0\n",
              "650  Marvel Comics          80.0\n",
              "651      DC Comics          95.0\n",
              "652      DC Comics          80.0\n",
              "\n",
              "[653 rows x 2 columns]"
            ]
          },
          "metadata": {
            "tags": []
          },
          "execution_count": 342
        }
      ]
    },
    {
      "cell_type": "markdown",
      "metadata": {
        "id": "K-XJrdRxMXWb"
      },
      "source": [
        "**Step 5:** Check the value counts of intelligence and make it in a new dataframe"
      ]
    },
    {
      "cell_type": "code",
      "metadata": {
        "id": "sjnmnLw6MdnA",
        "colab": {
          "base_uri": "https://localhost:8080/",
          "height": 678
        },
        "outputId": "01f8fa3a-78fd-4cfd-b7c2-adba5c385cc9"
      },
      "source": [
        "q6_df = q6_df.value_counts().reset_index()\n",
        "q6_df"
      ],
      "execution_count": 343,
      "outputs": [
        {
          "output_type": "execute_result",
          "data": {
            "text/html": [
              "<div>\n",
              "<style scoped>\n",
              "    .dataframe tbody tr th:only-of-type {\n",
              "        vertical-align: middle;\n",
              "    }\n",
              "\n",
              "    .dataframe tbody tr th {\n",
              "        vertical-align: top;\n",
              "    }\n",
              "\n",
              "    .dataframe thead th {\n",
              "        text-align: right;\n",
              "    }\n",
              "</style>\n",
              "<table border=\"1\" class=\"dataframe\">\n",
              "  <thead>\n",
              "    <tr style=\"text-align: right;\">\n",
              "      <th></th>\n",
              "      <th>Creator</th>\n",
              "      <th>Intelligence</th>\n",
              "      <th>0</th>\n",
              "    </tr>\n",
              "  </thead>\n",
              "  <tbody>\n",
              "    <tr>\n",
              "      <th>0</th>\n",
              "      <td>Marvel Comics</td>\n",
              "      <td>85.0</td>\n",
              "      <td>145</td>\n",
              "    </tr>\n",
              "    <tr>\n",
              "      <th>1</th>\n",
              "      <td>Marvel Comics</td>\n",
              "      <td>80.0</td>\n",
              "      <td>82</td>\n",
              "    </tr>\n",
              "    <tr>\n",
              "      <th>2</th>\n",
              "      <td>Marvel Comics</td>\n",
              "      <td>90.0</td>\n",
              "      <td>61</td>\n",
              "    </tr>\n",
              "    <tr>\n",
              "      <th>3</th>\n",
              "      <td>DC Comics</td>\n",
              "      <td>85.0</td>\n",
              "      <td>57</td>\n",
              "    </tr>\n",
              "    <tr>\n",
              "      <th>4</th>\n",
              "      <td>DC Comics</td>\n",
              "      <td>95.0</td>\n",
              "      <td>45</td>\n",
              "    </tr>\n",
              "    <tr>\n",
              "      <th>5</th>\n",
              "      <td>DC Comics</td>\n",
              "      <td>80.0</td>\n",
              "      <td>40</td>\n",
              "    </tr>\n",
              "    <tr>\n",
              "      <th>6</th>\n",
              "      <td>Marvel Comics</td>\n",
              "      <td>75.0</td>\n",
              "      <td>36</td>\n",
              "    </tr>\n",
              "    <tr>\n",
              "      <th>7</th>\n",
              "      <td>Marvel Comics</td>\n",
              "      <td>100.0</td>\n",
              "      <td>34</td>\n",
              "    </tr>\n",
              "    <tr>\n",
              "      <th>8</th>\n",
              "      <td>Marvel Comics</td>\n",
              "      <td>95.0</td>\n",
              "      <td>33</td>\n",
              "    </tr>\n",
              "    <tr>\n",
              "      <th>9</th>\n",
              "      <td>DC Comics</td>\n",
              "      <td>90.0</td>\n",
              "      <td>32</td>\n",
              "    </tr>\n",
              "    <tr>\n",
              "      <th>10</th>\n",
              "      <td>DC Comics</td>\n",
              "      <td>100.0</td>\n",
              "      <td>26</td>\n",
              "    </tr>\n",
              "    <tr>\n",
              "      <th>11</th>\n",
              "      <td>DC Comics</td>\n",
              "      <td>75.0</td>\n",
              "      <td>22</td>\n",
              "    </tr>\n",
              "    <tr>\n",
              "      <th>12</th>\n",
              "      <td>Marvel Comics</td>\n",
              "      <td>65.0</td>\n",
              "      <td>12</td>\n",
              "    </tr>\n",
              "    <tr>\n",
              "      <th>13</th>\n",
              "      <td>Marvel Comics</td>\n",
              "      <td>70.0</td>\n",
              "      <td>8</td>\n",
              "    </tr>\n",
              "    <tr>\n",
              "      <th>14</th>\n",
              "      <td>DC Comics</td>\n",
              "      <td>70.0</td>\n",
              "      <td>5</td>\n",
              "    </tr>\n",
              "    <tr>\n",
              "      <th>15</th>\n",
              "      <td>Marvel Comics</td>\n",
              "      <td>60.0</td>\n",
              "      <td>5</td>\n",
              "    </tr>\n",
              "    <tr>\n",
              "      <th>16</th>\n",
              "      <td>DC Comics</td>\n",
              "      <td>65.0</td>\n",
              "      <td>3</td>\n",
              "    </tr>\n",
              "    <tr>\n",
              "      <th>17</th>\n",
              "      <td>DC Comics</td>\n",
              "      <td>55.0</td>\n",
              "      <td>3</td>\n",
              "    </tr>\n",
              "    <tr>\n",
              "      <th>18</th>\n",
              "      <td>Marvel Comics</td>\n",
              "      <td>50.0</td>\n",
              "      <td>2</td>\n",
              "    </tr>\n",
              "    <tr>\n",
              "      <th>19</th>\n",
              "      <td>DC Comics</td>\n",
              "      <td>60.0</td>\n",
              "      <td>1</td>\n",
              "    </tr>\n",
              "    <tr>\n",
              "      <th>20</th>\n",
              "      <td>Marvel Comics</td>\n",
              "      <td>35.0</td>\n",
              "      <td>1</td>\n",
              "    </tr>\n",
              "  </tbody>\n",
              "</table>\n",
              "</div>"
            ],
            "text/plain": [
              "          Creator  Intelligence    0\n",
              "0   Marvel Comics          85.0  145\n",
              "1   Marvel Comics          80.0   82\n",
              "2   Marvel Comics          90.0   61\n",
              "3       DC Comics          85.0   57\n",
              "4       DC Comics          95.0   45\n",
              "5       DC Comics          80.0   40\n",
              "6   Marvel Comics          75.0   36\n",
              "7   Marvel Comics         100.0   34\n",
              "8   Marvel Comics          95.0   33\n",
              "9       DC Comics          90.0   32\n",
              "10      DC Comics         100.0   26\n",
              "11      DC Comics          75.0   22\n",
              "12  Marvel Comics          65.0   12\n",
              "13  Marvel Comics          70.0    8\n",
              "14      DC Comics          70.0    5\n",
              "15  Marvel Comics          60.0    5\n",
              "16      DC Comics          65.0    3\n",
              "17      DC Comics          55.0    3\n",
              "18  Marvel Comics          50.0    2\n",
              "19      DC Comics          60.0    1\n",
              "20  Marvel Comics          35.0    1"
            ]
          },
          "metadata": {
            "tags": []
          },
          "execution_count": 343
        }
      ]
    },
    {
      "cell_type": "markdown",
      "metadata": {
        "id": "EjMvCfhmt3wX"
      },
      "source": [
        "**Step 5:** Rename 0 by 'Values'"
      ]
    },
    {
      "cell_type": "code",
      "metadata": {
        "colab": {
          "base_uri": "https://localhost:8080/",
          "height": 678
        },
        "id": "t1oc8A7Lt_CL",
        "outputId": "bbcff650-2db4-4228-c31f-d9191e1feb11"
      },
      "source": [
        "q6_df.rename(columns={0:'Values'}, inplace = True)\n",
        "q6_df"
      ],
      "execution_count": 344,
      "outputs": [
        {
          "output_type": "execute_result",
          "data": {
            "text/html": [
              "<div>\n",
              "<style scoped>\n",
              "    .dataframe tbody tr th:only-of-type {\n",
              "        vertical-align: middle;\n",
              "    }\n",
              "\n",
              "    .dataframe tbody tr th {\n",
              "        vertical-align: top;\n",
              "    }\n",
              "\n",
              "    .dataframe thead th {\n",
              "        text-align: right;\n",
              "    }\n",
              "</style>\n",
              "<table border=\"1\" class=\"dataframe\">\n",
              "  <thead>\n",
              "    <tr style=\"text-align: right;\">\n",
              "      <th></th>\n",
              "      <th>Creator</th>\n",
              "      <th>Intelligence</th>\n",
              "      <th>Values</th>\n",
              "    </tr>\n",
              "  </thead>\n",
              "  <tbody>\n",
              "    <tr>\n",
              "      <th>0</th>\n",
              "      <td>Marvel Comics</td>\n",
              "      <td>85.0</td>\n",
              "      <td>145</td>\n",
              "    </tr>\n",
              "    <tr>\n",
              "      <th>1</th>\n",
              "      <td>Marvel Comics</td>\n",
              "      <td>80.0</td>\n",
              "      <td>82</td>\n",
              "    </tr>\n",
              "    <tr>\n",
              "      <th>2</th>\n",
              "      <td>Marvel Comics</td>\n",
              "      <td>90.0</td>\n",
              "      <td>61</td>\n",
              "    </tr>\n",
              "    <tr>\n",
              "      <th>3</th>\n",
              "      <td>DC Comics</td>\n",
              "      <td>85.0</td>\n",
              "      <td>57</td>\n",
              "    </tr>\n",
              "    <tr>\n",
              "      <th>4</th>\n",
              "      <td>DC Comics</td>\n",
              "      <td>95.0</td>\n",
              "      <td>45</td>\n",
              "    </tr>\n",
              "    <tr>\n",
              "      <th>5</th>\n",
              "      <td>DC Comics</td>\n",
              "      <td>80.0</td>\n",
              "      <td>40</td>\n",
              "    </tr>\n",
              "    <tr>\n",
              "      <th>6</th>\n",
              "      <td>Marvel Comics</td>\n",
              "      <td>75.0</td>\n",
              "      <td>36</td>\n",
              "    </tr>\n",
              "    <tr>\n",
              "      <th>7</th>\n",
              "      <td>Marvel Comics</td>\n",
              "      <td>100.0</td>\n",
              "      <td>34</td>\n",
              "    </tr>\n",
              "    <tr>\n",
              "      <th>8</th>\n",
              "      <td>Marvel Comics</td>\n",
              "      <td>95.0</td>\n",
              "      <td>33</td>\n",
              "    </tr>\n",
              "    <tr>\n",
              "      <th>9</th>\n",
              "      <td>DC Comics</td>\n",
              "      <td>90.0</td>\n",
              "      <td>32</td>\n",
              "    </tr>\n",
              "    <tr>\n",
              "      <th>10</th>\n",
              "      <td>DC Comics</td>\n",
              "      <td>100.0</td>\n",
              "      <td>26</td>\n",
              "    </tr>\n",
              "    <tr>\n",
              "      <th>11</th>\n",
              "      <td>DC Comics</td>\n",
              "      <td>75.0</td>\n",
              "      <td>22</td>\n",
              "    </tr>\n",
              "    <tr>\n",
              "      <th>12</th>\n",
              "      <td>Marvel Comics</td>\n",
              "      <td>65.0</td>\n",
              "      <td>12</td>\n",
              "    </tr>\n",
              "    <tr>\n",
              "      <th>13</th>\n",
              "      <td>Marvel Comics</td>\n",
              "      <td>70.0</td>\n",
              "      <td>8</td>\n",
              "    </tr>\n",
              "    <tr>\n",
              "      <th>14</th>\n",
              "      <td>DC Comics</td>\n",
              "      <td>70.0</td>\n",
              "      <td>5</td>\n",
              "    </tr>\n",
              "    <tr>\n",
              "      <th>15</th>\n",
              "      <td>Marvel Comics</td>\n",
              "      <td>60.0</td>\n",
              "      <td>5</td>\n",
              "    </tr>\n",
              "    <tr>\n",
              "      <th>16</th>\n",
              "      <td>DC Comics</td>\n",
              "      <td>65.0</td>\n",
              "      <td>3</td>\n",
              "    </tr>\n",
              "    <tr>\n",
              "      <th>17</th>\n",
              "      <td>DC Comics</td>\n",
              "      <td>55.0</td>\n",
              "      <td>3</td>\n",
              "    </tr>\n",
              "    <tr>\n",
              "      <th>18</th>\n",
              "      <td>Marvel Comics</td>\n",
              "      <td>50.0</td>\n",
              "      <td>2</td>\n",
              "    </tr>\n",
              "    <tr>\n",
              "      <th>19</th>\n",
              "      <td>DC Comics</td>\n",
              "      <td>60.0</td>\n",
              "      <td>1</td>\n",
              "    </tr>\n",
              "    <tr>\n",
              "      <th>20</th>\n",
              "      <td>Marvel Comics</td>\n",
              "      <td>35.0</td>\n",
              "      <td>1</td>\n",
              "    </tr>\n",
              "  </tbody>\n",
              "</table>\n",
              "</div>"
            ],
            "text/plain": [
              "          Creator  Intelligence  Values\n",
              "0   Marvel Comics          85.0     145\n",
              "1   Marvel Comics          80.0      82\n",
              "2   Marvel Comics          90.0      61\n",
              "3       DC Comics          85.0      57\n",
              "4       DC Comics          95.0      45\n",
              "5       DC Comics          80.0      40\n",
              "6   Marvel Comics          75.0      36\n",
              "7   Marvel Comics         100.0      34\n",
              "8   Marvel Comics          95.0      33\n",
              "9       DC Comics          90.0      32\n",
              "10      DC Comics         100.0      26\n",
              "11      DC Comics          75.0      22\n",
              "12  Marvel Comics          65.0      12\n",
              "13  Marvel Comics          70.0       8\n",
              "14      DC Comics          70.0       5\n",
              "15  Marvel Comics          60.0       5\n",
              "16      DC Comics          65.0       3\n",
              "17      DC Comics          55.0       3\n",
              "18  Marvel Comics          50.0       2\n",
              "19      DC Comics          60.0       1\n",
              "20  Marvel Comics          35.0       1"
            ]
          },
          "metadata": {
            "tags": []
          },
          "execution_count": 344
        }
      ]
    },
    {
      "cell_type": "markdown",
      "metadata": {
        "id": "FlyRZWnxKz1j"
      },
      "source": [
        "**Step 5:** Create a Pivot table to make the plot easier."
      ]
    },
    {
      "cell_type": "code",
      "metadata": {
        "id": "2ORK0mdlMLO2",
        "colab": {
          "base_uri": "https://localhost:8080/",
          "height": 175
        },
        "outputId": "7bca2307-e025-4d65-ddeb-1abe2cbaeeeb"
      },
      "source": [
        "q6_pivot = q6_df.pivot_table(index = 'Creator', columns = 'Intelligence', values = 'Values')\n",
        "q6_pivot"
      ],
      "execution_count": 345,
      "outputs": [
        {
          "output_type": "execute_result",
          "data": {
            "text/html": [
              "<div>\n",
              "<style scoped>\n",
              "    .dataframe tbody tr th:only-of-type {\n",
              "        vertical-align: middle;\n",
              "    }\n",
              "\n",
              "    .dataframe tbody tr th {\n",
              "        vertical-align: top;\n",
              "    }\n",
              "\n",
              "    .dataframe thead th {\n",
              "        text-align: right;\n",
              "    }\n",
              "</style>\n",
              "<table border=\"1\" class=\"dataframe\">\n",
              "  <thead>\n",
              "    <tr style=\"text-align: right;\">\n",
              "      <th>Intelligence</th>\n",
              "      <th>35.0</th>\n",
              "      <th>50.0</th>\n",
              "      <th>55.0</th>\n",
              "      <th>60.0</th>\n",
              "      <th>65.0</th>\n",
              "      <th>70.0</th>\n",
              "      <th>75.0</th>\n",
              "      <th>80.0</th>\n",
              "      <th>85.0</th>\n",
              "      <th>90.0</th>\n",
              "      <th>95.0</th>\n",
              "      <th>100.0</th>\n",
              "    </tr>\n",
              "    <tr>\n",
              "      <th>Creator</th>\n",
              "      <th></th>\n",
              "      <th></th>\n",
              "      <th></th>\n",
              "      <th></th>\n",
              "      <th></th>\n",
              "      <th></th>\n",
              "      <th></th>\n",
              "      <th></th>\n",
              "      <th></th>\n",
              "      <th></th>\n",
              "      <th></th>\n",
              "      <th></th>\n",
              "    </tr>\n",
              "  </thead>\n",
              "  <tbody>\n",
              "    <tr>\n",
              "      <th>DC Comics</th>\n",
              "      <td>NaN</td>\n",
              "      <td>NaN</td>\n",
              "      <td>3.0</td>\n",
              "      <td>1.0</td>\n",
              "      <td>3.0</td>\n",
              "      <td>5.0</td>\n",
              "      <td>22.0</td>\n",
              "      <td>40.0</td>\n",
              "      <td>57.0</td>\n",
              "      <td>32.0</td>\n",
              "      <td>45.0</td>\n",
              "      <td>26.0</td>\n",
              "    </tr>\n",
              "    <tr>\n",
              "      <th>Marvel Comics</th>\n",
              "      <td>1.0</td>\n",
              "      <td>2.0</td>\n",
              "      <td>NaN</td>\n",
              "      <td>5.0</td>\n",
              "      <td>12.0</td>\n",
              "      <td>8.0</td>\n",
              "      <td>36.0</td>\n",
              "      <td>82.0</td>\n",
              "      <td>145.0</td>\n",
              "      <td>61.0</td>\n",
              "      <td>33.0</td>\n",
              "      <td>34.0</td>\n",
              "    </tr>\n",
              "  </tbody>\n",
              "</table>\n",
              "</div>"
            ],
            "text/plain": [
              "Intelligence   35.0   50.0   55.0   60.0   ...  85.0   90.0   95.0   100.0\n",
              "Creator                                    ...                            \n",
              "DC Comics        NaN    NaN    3.0    1.0  ...   57.0   32.0   45.0   26.0\n",
              "Marvel Comics    1.0    2.0    NaN    5.0  ...  145.0   61.0   33.0   34.0\n",
              "\n",
              "[2 rows x 12 columns]"
            ]
          },
          "metadata": {
            "tags": []
          },
          "execution_count": 345
        }
      ]
    },
    {
      "cell_type": "markdown",
      "metadata": {
        "id": "tnPbtcsTvNcN"
      },
      "source": [
        "**Step 6:** Replace Null values by 0."
      ]
    },
    {
      "cell_type": "code",
      "metadata": {
        "colab": {
          "base_uri": "https://localhost:8080/",
          "height": 142
        },
        "id": "RO7_Qh50vEnu",
        "outputId": "9ebfd731-e603-4060-e0fd-ded3968108db"
      },
      "source": [
        "q6_pivot = q6_pivot.fillna(0)\n",
        "q6_pivot"
      ],
      "execution_count": 346,
      "outputs": [
        {
          "output_type": "execute_result",
          "data": {
            "text/html": [
              "<div>\n",
              "<style scoped>\n",
              "    .dataframe tbody tr th:only-of-type {\n",
              "        vertical-align: middle;\n",
              "    }\n",
              "\n",
              "    .dataframe tbody tr th {\n",
              "        vertical-align: top;\n",
              "    }\n",
              "\n",
              "    .dataframe thead th {\n",
              "        text-align: right;\n",
              "    }\n",
              "</style>\n",
              "<table border=\"1\" class=\"dataframe\">\n",
              "  <thead>\n",
              "    <tr style=\"text-align: right;\">\n",
              "      <th>Intelligence</th>\n",
              "      <th>35.0</th>\n",
              "      <th>50.0</th>\n",
              "      <th>55.0</th>\n",
              "      <th>60.0</th>\n",
              "      <th>65.0</th>\n",
              "      <th>70.0</th>\n",
              "      <th>75.0</th>\n",
              "      <th>80.0</th>\n",
              "      <th>85.0</th>\n",
              "      <th>90.0</th>\n",
              "      <th>95.0</th>\n",
              "      <th>100.0</th>\n",
              "    </tr>\n",
              "    <tr>\n",
              "      <th>Creator</th>\n",
              "      <th></th>\n",
              "      <th></th>\n",
              "      <th></th>\n",
              "      <th></th>\n",
              "      <th></th>\n",
              "      <th></th>\n",
              "      <th></th>\n",
              "      <th></th>\n",
              "      <th></th>\n",
              "      <th></th>\n",
              "      <th></th>\n",
              "      <th></th>\n",
              "    </tr>\n",
              "  </thead>\n",
              "  <tbody>\n",
              "    <tr>\n",
              "      <th>DC Comics</th>\n",
              "      <td>0.0</td>\n",
              "      <td>0.0</td>\n",
              "      <td>3.0</td>\n",
              "      <td>1.0</td>\n",
              "      <td>3.0</td>\n",
              "      <td>5.0</td>\n",
              "      <td>22.0</td>\n",
              "      <td>40.0</td>\n",
              "      <td>57.0</td>\n",
              "      <td>32.0</td>\n",
              "      <td>45.0</td>\n",
              "      <td>26.0</td>\n",
              "    </tr>\n",
              "    <tr>\n",
              "      <th>Marvel Comics</th>\n",
              "      <td>1.0</td>\n",
              "      <td>2.0</td>\n",
              "      <td>0.0</td>\n",
              "      <td>5.0</td>\n",
              "      <td>12.0</td>\n",
              "      <td>8.0</td>\n",
              "      <td>36.0</td>\n",
              "      <td>82.0</td>\n",
              "      <td>145.0</td>\n",
              "      <td>61.0</td>\n",
              "      <td>33.0</td>\n",
              "      <td>34.0</td>\n",
              "    </tr>\n",
              "  </tbody>\n",
              "</table>\n",
              "</div>"
            ],
            "text/plain": [
              "Intelligence   35.0   50.0   55.0   60.0   ...  85.0   90.0   95.0   100.0\n",
              "Creator                                    ...                            \n",
              "DC Comics        0.0    0.0    3.0    1.0  ...   57.0   32.0   45.0   26.0\n",
              "Marvel Comics    1.0    2.0    0.0    5.0  ...  145.0   61.0   33.0   34.0\n",
              "\n",
              "[2 rows x 12 columns]"
            ]
          },
          "metadata": {
            "tags": []
          },
          "execution_count": 346
        }
      ]
    },
    {
      "cell_type": "markdown",
      "metadata": {
        "id": "AvIUNU11LZBH"
      },
      "source": [
        "### Plot 2"
      ]
    },
    {
      "cell_type": "markdown",
      "metadata": {
        "id": "Qp6fyqrgujV3"
      },
      "source": [
        "**Step 6:** Plot"
      ]
    },
    {
      "cell_type": "code",
      "metadata": {
        "colab": {
          "base_uri": "https://localhost:8080/",
          "height": 142
        },
        "id": "LC3-ghIV3RpE",
        "outputId": "55e8b1ce-6a6c-403e-8cb9-920e3dd4af97"
      },
      "source": [
        "q6_pivot = q6_pivot.iloc[:,6:12]\n",
        "q6_pivot"
      ],
      "execution_count": 347,
      "outputs": [
        {
          "output_type": "execute_result",
          "data": {
            "text/html": [
              "<div>\n",
              "<style scoped>\n",
              "    .dataframe tbody tr th:only-of-type {\n",
              "        vertical-align: middle;\n",
              "    }\n",
              "\n",
              "    .dataframe tbody tr th {\n",
              "        vertical-align: top;\n",
              "    }\n",
              "\n",
              "    .dataframe thead th {\n",
              "        text-align: right;\n",
              "    }\n",
              "</style>\n",
              "<table border=\"1\" class=\"dataframe\">\n",
              "  <thead>\n",
              "    <tr style=\"text-align: right;\">\n",
              "      <th>Intelligence</th>\n",
              "      <th>75.0</th>\n",
              "      <th>80.0</th>\n",
              "      <th>85.0</th>\n",
              "      <th>90.0</th>\n",
              "      <th>95.0</th>\n",
              "      <th>100.0</th>\n",
              "    </tr>\n",
              "    <tr>\n",
              "      <th>Creator</th>\n",
              "      <th></th>\n",
              "      <th></th>\n",
              "      <th></th>\n",
              "      <th></th>\n",
              "      <th></th>\n",
              "      <th></th>\n",
              "    </tr>\n",
              "  </thead>\n",
              "  <tbody>\n",
              "    <tr>\n",
              "      <th>DC Comics</th>\n",
              "      <td>22.0</td>\n",
              "      <td>40.0</td>\n",
              "      <td>57.0</td>\n",
              "      <td>32.0</td>\n",
              "      <td>45.0</td>\n",
              "      <td>26.0</td>\n",
              "    </tr>\n",
              "    <tr>\n",
              "      <th>Marvel Comics</th>\n",
              "      <td>36.0</td>\n",
              "      <td>82.0</td>\n",
              "      <td>145.0</td>\n",
              "      <td>61.0</td>\n",
              "      <td>33.0</td>\n",
              "      <td>34.0</td>\n",
              "    </tr>\n",
              "  </tbody>\n",
              "</table>\n",
              "</div>"
            ],
            "text/plain": [
              "Intelligence   75.0   80.0   85.0   90.0   95.0   100.0\n",
              "Creator                                                \n",
              "DC Comics       22.0   40.0   57.0   32.0   45.0   26.0\n",
              "Marvel Comics   36.0   82.0  145.0   61.0   33.0   34.0"
            ]
          },
          "metadata": {
            "tags": []
          },
          "execution_count": 347
        }
      ]
    },
    {
      "cell_type": "code",
      "metadata": {
        "colab": {
          "base_uri": "https://localhost:8080/",
          "height": 314
        },
        "id": "yKGIGXTN6DwE",
        "outputId": "46fa2e5c-7beb-4810-8de0-933a8ca142dc"
      },
      "source": [
        "labels = list(q6_pivot.index)\n",
        "data_75 = list(q6_pivot[75.0])\n",
        "data_80 = list(q6_pivot[80.0])\n",
        "data_85 = list(q6_pivot[85.0])\n",
        "data_90 = list(q6_pivot[90.0])\n",
        "data_95 = list(q6_pivot[95.0])\n",
        "data_100 = list(q6_pivot[100.0])\n",
        "\n",
        "x=np.arange(len(labels))\n",
        "width=0.1\n",
        "\n",
        "fig, ax = plt.subplots()\n",
        "bar_75 = ax.bar(x-width/2, data_75, width, label = '75')\n",
        "bar_80 = ax.bar(x+width/2, data_80, width, label = '80')\n",
        "bar_85 = ax.bar(x-3*(width/2), data_85, width, label = '85')\n",
        "bar_90 = ax.bar(x-5*(width/2), data_90, width, label = '90')\n",
        "bar_95 = ax.bar(x-7*(width/2), data_95, width, label = '95')\n",
        "bar_100 = ax.bar(x-9*(width/2), data_100, width, label = '100')\n",
        "\n",
        "\n",
        "ax.set_title('Intelligence')\n",
        "ax.set_xlabel('Comics')\n",
        "ax.set_ylabel('Values')\n",
        "ax.set_xticks(x)\n",
        "ax.set_xticklabels(labels)\n",
        "ax.legend()\n",
        "\n",
        "fig.tight_layout()\n",
        "plt.show"
      ],
      "execution_count": 348,
      "outputs": [
        {
          "output_type": "execute_result",
          "data": {
            "text/plain": [
              "<function matplotlib.pyplot.show>"
            ]
          },
          "metadata": {
            "tags": []
          },
          "execution_count": 348
        },
        {
          "output_type": "display_data",
          "data": {
            "image/png": "[encoded data removed]",
            "text/plain": [
              "<Figure size 432x288 with 1 Axes>"
            ]
          },
          "metadata": {
            "tags": [],
            "needs_background": "light"
          }
        }
      ]
    },
    {
      "cell_type": "markdown",
      "metadata": {
        "id": "SnP7vLxw7NQm"
      },
      "source": [
        "## Q7. Who are the strongest characters?\n"
      ]
    },
    {
      "cell_type": "markdown",
      "metadata": {
        "id": "ArBSD9oZWzP0"
      },
      "source": [
        "**Step 1**: Use the next columns: \"Name\", \"Creator\" and \"Intelligence\"."
      ]
    },
    {
      "cell_type": "code",
      "metadata": {
        "colab": {
          "base_uri": "https://localhost:8080/",
          "height": 419
        },
        "id": "oYyCUQOAWyX4",
        "outputId": "b1b0fabe-887b-4445-d360-420f7c29a13c"
      },
      "source": [
        "q7_df = final_df.loc[:,['Name','Creator','Strength']]\n",
        "q7_df"
      ],
      "execution_count": 349,
      "outputs": [
        {
          "output_type": "execute_result",
          "data": {
            "text/html": [
              "<div>\n",
              "<style scoped>\n",
              "    .dataframe tbody tr th:only-of-type {\n",
              "        vertical-align: middle;\n",
              "    }\n",
              "\n",
              "    .dataframe tbody tr th {\n",
              "        vertical-align: top;\n",
              "    }\n",
              "\n",
              "    .dataframe thead th {\n",
              "        text-align: right;\n",
              "    }\n",
              "</style>\n",
              "<table border=\"1\" class=\"dataframe\">\n",
              "  <thead>\n",
              "    <tr style=\"text-align: right;\">\n",
              "      <th></th>\n",
              "      <th>Name</th>\n",
              "      <th>Creator</th>\n",
              "      <th>Strength</th>\n",
              "    </tr>\n",
              "  </thead>\n",
              "  <tbody>\n",
              "    <tr>\n",
              "      <th>0</th>\n",
              "      <td>3-D Man</td>\n",
              "      <td>Marvel Comics</td>\n",
              "      <td>35.0</td>\n",
              "    </tr>\n",
              "    <tr>\n",
              "      <th>1</th>\n",
              "      <td>A-Bomb</td>\n",
              "      <td>Marvel Comics</td>\n",
              "      <td>100.0</td>\n",
              "    </tr>\n",
              "    <tr>\n",
              "      <th>2</th>\n",
              "      <td>Abin Sur</td>\n",
              "      <td>DC Comics</td>\n",
              "      <td>90.0</td>\n",
              "    </tr>\n",
              "    <tr>\n",
              "      <th>3</th>\n",
              "      <td>Abomination</td>\n",
              "      <td>Marvel Comics</td>\n",
              "      <td>80.0</td>\n",
              "    </tr>\n",
              "    <tr>\n",
              "      <th>4</th>\n",
              "      <td>Abraxas</td>\n",
              "      <td>Marvel Comics</td>\n",
              "      <td>100.0</td>\n",
              "    </tr>\n",
              "    <tr>\n",
              "      <th>...</th>\n",
              "      <td>...</td>\n",
              "      <td>...</td>\n",
              "      <td>...</td>\n",
              "    </tr>\n",
              "    <tr>\n",
              "      <th>648</th>\n",
              "      <td>Yellowjacket</td>\n",
              "      <td>Marvel Comics</td>\n",
              "      <td>10.0</td>\n",
              "    </tr>\n",
              "    <tr>\n",
              "      <th>649</th>\n",
              "      <td>Yellowjacket II</td>\n",
              "      <td>Marvel Comics</td>\n",
              "      <td>10.0</td>\n",
              "    </tr>\n",
              "    <tr>\n",
              "      <th>650</th>\n",
              "      <td>Ymir</td>\n",
              "      <td>Marvel Comics</td>\n",
              "      <td>100.0</td>\n",
              "    </tr>\n",
              "    <tr>\n",
              "      <th>651</th>\n",
              "      <td>Zatanna</td>\n",
              "      <td>DC Comics</td>\n",
              "      <td>10.0</td>\n",
              "    </tr>\n",
              "    <tr>\n",
              "      <th>652</th>\n",
              "      <td>Zoom</td>\n",
              "      <td>DC Comics</td>\n",
              "      <td>10.0</td>\n",
              "    </tr>\n",
              "  </tbody>\n",
              "</table>\n",
              "<p>653 rows × 3 columns</p>\n",
              "</div>"
            ],
            "text/plain": [
              "                Name        Creator  Strength\n",
              "0            3-D Man  Marvel Comics      35.0\n",
              "1             A-Bomb  Marvel Comics     100.0\n",
              "2           Abin Sur      DC Comics      90.0\n",
              "3        Abomination  Marvel Comics      80.0\n",
              "4            Abraxas  Marvel Comics     100.0\n",
              "..               ...            ...       ...\n",
              "648     Yellowjacket  Marvel Comics      10.0\n",
              "649  Yellowjacket II  Marvel Comics      10.0\n",
              "650             Ymir  Marvel Comics     100.0\n",
              "651          Zatanna      DC Comics      10.0\n",
              "652             Zoom      DC Comics      10.0\n",
              "\n",
              "[653 rows x 3 columns]"
            ]
          },
          "metadata": {
            "tags": []
          },
          "execution_count": 349
        }
      ]
    },
    {
      "cell_type": "markdown",
      "metadata": {
        "id": "0MyXYwOUXuSS"
      },
      "source": [
        "Step 2: Separate by comics and filter with data > 4th quintil"
      ]
    },
    {
      "cell_type": "code",
      "metadata": {
        "id": "Trw-tmxRXv2M"
      },
      "source": [
        "# Quintiles\n",
        "q_val = [0,20,40,60,80,100]\n",
        "quintiles = np.percentile(q7_df['Strength'], q = q_val)\n",
        "\n",
        "q7_marvel = q7_df[q7_df['Creator'] == 'Marvel Comics'].fillna(0)\n",
        "q7_dc = q7_df[q7_df['Creator'] == 'DC Comics'].fillna(0)\n"
      ],
      "execution_count": 369,
      "outputs": []
    },
    {
      "cell_type": "markdown",
      "metadata": {
        "id": "KZPFET8W7bYp"
      },
      "source": [
        "### Plot\n",
        "\n",
        "**Step 3:** Plot"
      ]
    },
    {
      "cell_type": "code",
      "metadata": {
        "colab": {
          "base_uri": "https://localhost:8080/",
          "height": 1000
        },
        "id": "WhamfpJ2YLyE",
        "outputId": "ffd3ae9f-f1e0-4378-d74c-0e2b5230966f"
      },
      "source": [
        "fig, (ax1,ax2) = plt.subplots(1,2)\n",
        "fig.set_size_inches(13,17)\n",
        "\n",
        "def barplot(df,title,x_label,y_label,min_val,max_val,step,ax):\n",
        "  ax_labels = list(df['Name'])\n",
        "  ax_values = list(df['Strength'])\n",
        "  sns.barplot(x = ax_values, y = ax_labels, ax = ax, orient='h')\n",
        "  ax.set_xticks(range(min_val,max_val,step))\n",
        "  ax.set_title(title, fontsize = 16)\n",
        "  ax.set_xlabel(x_label)\n",
        "  ax.set_ylabel(y_label)\n",
        "\n",
        "def autolabel(df,ax):\n",
        "  ax_labels = list(df['Name'])\n",
        "  ax_values = list(df['Strength'])\n",
        "  for text, rect in zip(ax_values, ax.patches):\n",
        "    width, height = rect.get_width(), rect.get_height()\n",
        "    x,y = rect.get_xy()\n",
        "    ax.text(x = x+width,\n",
        "            y = y+height,\n",
        "            s=text)\n",
        "\n",
        "# Marvel\n",
        "barplot(q7_marvel,'Marvel','Values','Characters',0,150,20,ax1)\n",
        "autolabel(q7_marvel,ax1)\n",
        "\n",
        "# DC\n",
        "barplot(q7_dc,'DC','Values','Characters',0,150,20,ax2)\n",
        "autolabel(q7_dc,ax2)\n",
        "\n",
        "fig.tight_layout()\n",
        "plt.show()"
      ],
      "execution_count": 351,
      "outputs": [
        {
          "output_type": "display_data",
          "data": {
            "image/png": "[encoded data removed]",
            "text/plain": [
              "<Figure size 936x1224 with 2 Axes>"
            ]
          },
          "metadata": {
            "tags": [],
            "needs_background": "light"
          }
        }
      ]
    },
    {
      "cell_type": "markdown",
      "metadata": {
        "id": "0-Zjs5BVZMYN"
      },
      "source": [
        "This plot is not enough because there are lots of characters who have 100 points in \"Strength\" so we are going to campare between them with another graphic focus on their comics"
      ]
    },
    {
      "cell_type": "markdown",
      "metadata": {
        "id": "PtYHC64zSxoh"
      },
      "source": [
        "### Plot 2"
      ]
    },
    {
      "cell_type": "markdown",
      "metadata": {
        "id": "Dh5sO8P-Sz7K"
      },
      "source": [
        "**Step 4:** Plot\n"
      ]
    },
    {
      "cell_type": "code",
      "metadata": {
        "colab": {
          "base_uri": "https://localhost:8080/",
          "height": 729
        },
        "id": "04XJAz_KTND4",
        "outputId": "5d80efde-079d-4122-e9e7-322f7f3668cb"
      },
      "source": [
        "fig, (ax1,ax2) = plt.subplots(1,2)\n",
        "fig.set_size_inches(10,10)\n",
        "\n",
        "# Marvel #\n",
        "ax1_values = list(q7_marvel['Values'])\n",
        "ax1_labels = list(q7_marvel['Strength'])\n",
        "\n",
        "sns.barplot(x = ax1_values, y = ax1_labels, ax = ax1, orient = 'h')\n",
        "ax1.set_xticks(range(0,250,50))\n",
        "ax1.set_title('Marvel comics', fontsize = 16)\n",
        "\n",
        "\n",
        "for text, rect in zip(ax1_values, ax1.patches):\n",
        "  width, height = rect.get_width(), rect.get_height()\n",
        "  x,y = rect.get_xy()\n",
        "  ax1.text(x = x+width,\n",
        "          y = y+height,\n",
        "          s=text)\n",
        "\n",
        "ax1.set_xlabel('Numbers of characters')\n",
        "ax1.set_ylabel('Strength')\n",
        "  \n",
        "# DC #\n",
        "ax2_values = list(q7_dc['Values'])\n",
        "ax2_labels = list(q7_dc['Strength'])\n",
        "\n",
        "sns.barplot(x = ax2_values, y = ax2_labels, ax = ax2, orient = 'h')\n",
        "ax2.set_xticks(range(0,250,50))\n",
        "ax2.set_title('DC Comics', fontsize = 16)\n",
        "\n",
        "\n",
        "for text_dc, rect_dc in zip(ax2_values, ax2.patches):\n",
        "  width_dc, height_dc = rect_dc.get_width(), rect_dc.get_height()\n",
        "  x_dc,y_dc = rect_dc.get_xy()\n",
        "  ax2.text(x = x_dc + width_dc,\n",
        "          y = y_dc + height_dc,\n",
        "          s = text_dc)\n",
        "\n",
        "ax2.set_xlabel('Numbers of characters')\n",
        "ax2.set_ylabel('Strength')\n",
        "      \n",
        "fig.tight_layout()\n",
        "plt.show()"
      ],
      "execution_count": 370,
      "outputs": [
        {
          "output_type": "display_data",
          "data": {
            "image/png": "[encoded data removed]",
            "text/plain": [
              "<Figure size 720x720 with 2 Axes>"
            ]
          },
          "metadata": {
            "tags": [],
            "needs_background": "light"
          }
        }
      ]
    },
    {
      "cell_type": "markdown",
      "metadata": {
        "id": "NQ1Erz1GW6UD"
      },
      "source": [
        "We can see that Marvel Comics have strong characters than DC."
      ]
    },
    {
      "cell_type": "markdown",
      "metadata": {
        "id": "ocfYoDNy7Pu9"
      },
      "source": [
        "## Q8. Who are the fastest characters?\n"
      ]
    },
    {
      "cell_type": "markdown",
      "metadata": {
        "id": "5v7t8cq57au8"
      },
      "source": [
        "### Plot"
      ]
    },
    {
      "cell_type": "markdown",
      "metadata": {
        "id": "F6b2gi2q7TC9"
      },
      "source": [
        "## Q9. Who are the characters with more power?\n"
      ]
    },
    {
      "cell_type": "markdown",
      "metadata": {
        "id": "mQEWdJsK7aCm"
      },
      "source": [
        "### Plot"
      ]
    },
    {
      "cell_type": "markdown",
      "metadata": {
        "id": "Np8su3V77WBm"
      },
      "source": [
        "## Q10. What superpowers predominate in the characters of DC Comics and Marvel Comics?"
      ]
    },
    {
      "cell_type": "markdown",
      "metadata": {
        "id": "VEn09iol7YAO"
      },
      "source": [
        "### Plot"
      ]
    },
    {
      "cell_type": "code",
      "metadata": {
        "id": "YKtr87ct292-"
      },
      "source": [
        ""
      ],
      "execution_count": 356,
      "outputs": []
    }
  ]
}