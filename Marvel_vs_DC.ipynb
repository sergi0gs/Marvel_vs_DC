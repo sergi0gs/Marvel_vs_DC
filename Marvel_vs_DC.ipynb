{
  "nbformat": 4,
  "nbformat_minor": 0,
  "metadata": {
    "colab": {
      "name": "Marvel_vs_DC.ipynb",
      "provenance": [],
      "toc_visible": true,
      "authorship_tag": "ABX9TyPFrfOlNtRXmS7PcBbP/IAx",
      "include_colab_link": true
    },
    "kernelspec": {
      "name": "python3",
      "display_name": "Python 3"
    },
    "language_info": {
      "name": "python"
    }
  },
  "cells": [
    {
      "cell_type": "markdown",
      "metadata": {
        "id": "view-in-github",
        "colab_type": "text"
      },
      "source": [
        "<a href=\"https://colab.research.google.com/github/sergi0gs/Marvel_vs_DC/blob/main/Marvel_vs_DC.ipynb\" target=\"_parent\"><img src=\"https://colab.research.google.com/assets/colab-badge.svg\" alt=\"Open In Colab\"/></a>"
      ]
    },
    {
      "cell_type": "markdown",
      "metadata": {
        "id": "_-ahwrefCy4J"
      },
      "source": [
        "# **Introduction**\n",
        "\n",
        "In this project we will try to analyse the information about the heroes of Marvel and DC comics learning about the different types of techniques that we have in Python to analyse, clean, transform and visualize data.\n",
        "\n",
        "The information comes from these datasets in kaggle: https://www.kaggle.com/thec03u5/complete-superhero-dataset, https://www.kaggle.com/claudiodavi/superhero-set\n",
        "\n",
        "Which was constructed using web scrapping tecniques from the next website: https://www.superherodb.com/.\n",
        "\n",
        "Alse we use as a guide the next example maked in R from: https://cosmoduende.medium.com/dc-comics-vs-marvel-comics-an%C3%A1lisis-exploratorio-y-visualizaci%C3%B3n-de-datos-con-r-b0cf565e44e2\n",
        "\n",
        "# **What do we want to know?**\n",
        "1. How many heroes are there in DC Comics and Marvel Comics?\n",
        "2. What is the predominant gender in the characters of DC Comics and Marvel Comics?\n",
        "3. What is the predominant race in both comics?\n",
        "4.   Which has more Heroes or Villains?\n",
        "5.   Realize a comparative between the character abilites of both comics.\n",
        "6.   Who are the most intelligent characters?\n",
        "7.   Who are the strongest characters?\n",
        "8.   Who are the fastest characters?\n",
        "9.   Who are the characters with more power?\n",
        "10. What superpowers predominate in the characters of DC Comics and Marvel Comics?\n",
        "\n",
        "\n",
        "\n"
      ]
    },
    {
      "cell_type": "markdown",
      "metadata": {
        "id": "cy56Eu4YSMoD"
      },
      "source": [
        "# Data Exploration"
      ]
    },
    {
      "cell_type": "markdown",
      "metadata": {
        "id": "XO_awMjmN7XU"
      },
      "source": [
        "## Import libraries"
      ]
    },
    {
      "cell_type": "code",
      "metadata": {
        "id": "G9yAjNNIN6tN"
      },
      "source": [
        "import numpy as np\n",
        "import pandas as pd\n",
        "import matplotlib.pyplot as plt\n",
        "import seaborn as sns\n",
        "%matplotlib inline"
      ],
      "execution_count": 9,
      "outputs": []
    },
    {
      "cell_type": "markdown",
      "metadata": {
        "id": "jyOjnliwOIAs"
      },
      "source": [
        "## Read files"
      ]
    },
    {
      "cell_type": "code",
      "metadata": {
        "id": "JJq8smoyAiU_"
      },
      "source": [
        "superhero = pd.read_csv('https://raw.githubusercontent.com/sergi0gs/Marvel_vs_DC/main/datasets/SuperheroDataset.csv')\n",
        "heroes_information = pd.read_csv('https://raw.githubusercontent.com/sergi0gs/Marvel_vs_DC/main/datasets/heroes_information.csv')\n",
        "super_hero_powers = pd.read_csv('https://raw.githubusercontent.com/sergi0gs/Marvel_vs_DC/main/datasets/super_hero_powers.csv')"
      ],
      "execution_count": 10,
      "outputs": []
    },
    {
      "cell_type": "markdown",
      "metadata": {
        "id": "weKqhb2KQPXr"
      },
      "source": [
        "## Data Shape"
      ]
    },
    {
      "cell_type": "markdown",
      "metadata": {
        "id": "pH2B1MDYQTJc"
      },
      "source": [
        "### SuperHero.csv"
      ]
    },
    {
      "cell_type": "code",
      "metadata": {
        "colab": {
          "base_uri": "https://localhost:8080/"
        },
        "id": "pOqk7Ng7QFvk",
        "outputId": "51112476-fc73-451c-f8f7-fc877234648d"
      },
      "source": [
        "superhero.shape"
      ],
      "execution_count": 11,
      "outputs": [
        {
          "output_type": "execute_result",
          "data": {
            "text/plain": [
              "(743, 29)"
            ]
          },
          "metadata": {
            "tags": []
          },
          "execution_count": 11
        }
      ]
    },
    {
      "cell_type": "markdown",
      "metadata": {
        "id": "NtHdKtOuRXmb"
      },
      "source": [
        "### heroes_information.csv"
      ]
    },
    {
      "cell_type": "code",
      "metadata": {
        "colab": {
          "base_uri": "https://localhost:8080/"
        },
        "id": "nDjbFhIkQcAF",
        "outputId": "95ed5c43-25dc-48d1-f531-70e424aba5b0"
      },
      "source": [
        "heroes_information.shape"
      ],
      "execution_count": 12,
      "outputs": [
        {
          "output_type": "execute_result",
          "data": {
            "text/plain": [
              "(734, 11)"
            ]
          },
          "metadata": {
            "tags": []
          },
          "execution_count": 12
        }
      ]
    },
    {
      "cell_type": "markdown",
      "metadata": {
        "id": "8HQxmqafRa_D"
      },
      "source": [
        "### super_hero_powers.csv\n"
      ]
    },
    {
      "cell_type": "code",
      "metadata": {
        "colab": {
          "base_uri": "https://localhost:8080/"
        },
        "id": "xQPY23YDRaVd",
        "outputId": "73fe9806-bc53-4439-a270-c5249a7fb2ab"
      },
      "source": [
        "super_hero_powers.shape"
      ],
      "execution_count": 13,
      "outputs": [
        {
          "output_type": "execute_result",
          "data": {
            "text/plain": [
              "(667, 168)"
            ]
          },
          "metadata": {
            "tags": []
          },
          "execution_count": 13
        }
      ]
    },
    {
      "cell_type": "markdown",
      "metadata": {
        "id": "zBAPDIlVSH6L"
      },
      "source": [
        "## Information"
      ]
    },
    {
      "cell_type": "markdown",
      "metadata": {
        "id": "Gd7jGn4GSX0c"
      },
      "source": [
        "### SuperHero.csv"
      ]
    },
    {
      "cell_type": "code",
      "metadata": {
        "id": "H1laIapxSdHv",
        "colab": {
          "base_uri": "https://localhost:8080/"
        },
        "outputId": "ea300e59-a9cf-4117-971e-6b915fd03c8f"
      },
      "source": [
        "superhero.info()"
      ],
      "execution_count": 14,
      "outputs": [
        {
          "output_type": "stream",
          "text": [
            "<class 'pandas.core.frame.DataFrame'>\n",
            "RangeIndex: 743 entries, 0 to 742\n",
            "Data columns (total 29 columns):\n",
            " #   Column            Non-Null Count  Dtype  \n",
            "---  ------            --------------  -----  \n",
            " 0   Unnamed: 0        743 non-null    int64  \n",
            " 1   Unnamed: 0.1      743 non-null    int64  \n",
            " 2   Name              743 non-null    object \n",
            " 3   Url               743 non-null    object \n",
            " 4   Intelligence      665 non-null    float64\n",
            " 5   Strength          665 non-null    float64\n",
            " 6   Speed             665 non-null    float64\n",
            " 7   Durability        665 non-null    float64\n",
            " 8   Power             665 non-null    float64\n",
            " 9   Combat            665 non-null    float64\n",
            " 10  Full name         743 non-null    object \n",
            " 11  Alter Egos        743 non-null    object \n",
            " 12  Aliases           743 non-null    object \n",
            " 13  Place of birth    743 non-null    object \n",
            " 14  First appearance  743 non-null    object \n",
            " 15  Creator           735 non-null    object \n",
            " 16  Alignment         743 non-null    object \n",
            " 17  Gender            743 non-null    object \n",
            " 18  Race              743 non-null    object \n",
            " 19  Height            743 non-null    object \n",
            " 20  Weight            743 non-null    object \n",
            " 21  Eye color         743 non-null    object \n",
            " 22  Hair color        743 non-null    object \n",
            " 23  Occupation        743 non-null    object \n",
            " 24  Base              743 non-null    object \n",
            " 25  Team Affiliation  743 non-null    object \n",
            " 26  Relatives         743 non-null    object \n",
            " 27  Skin color        74 non-null     object \n",
            " 28  Total Power       743 non-null    float64\n",
            "dtypes: float64(7), int64(2), object(20)\n",
            "memory usage: 168.5+ KB\n"
          ],
          "name": "stdout"
        }
      ]
    },
    {
      "cell_type": "code",
      "metadata": {
        "colab": {
          "base_uri": "https://localhost:8080/",
          "height": 684
        },
        "id": "XhDENmIVHwsK",
        "outputId": "316d8d40-5a3f-4fc8-8604-c5e0c0376009"
      },
      "source": [
        "superhero.sample(5)"
      ],
      "execution_count": 20,
      "outputs": [
        {
          "output_type": "execute_result",
          "data": {
            "text/html": [
              "<div>\n",
              "<style scoped>\n",
              "    .dataframe tbody tr th:only-of-type {\n",
              "        vertical-align: middle;\n",
              "    }\n",
              "\n",
              "    .dataframe tbody tr th {\n",
              "        vertical-align: top;\n",
              "    }\n",
              "\n",
              "    .dataframe thead th {\n",
              "        text-align: right;\n",
              "    }\n",
              "</style>\n",
              "<table border=\"1\" class=\"dataframe\">\n",
              "  <thead>\n",
              "    <tr style=\"text-align: right;\">\n",
              "      <th></th>\n",
              "      <th>Unnamed: 0</th>\n",
              "      <th>Unnamed: 0.1</th>\n",
              "      <th>Name</th>\n",
              "      <th>Url</th>\n",
              "      <th>Intelligence</th>\n",
              "      <th>Strength</th>\n",
              "      <th>Speed</th>\n",
              "      <th>Durability</th>\n",
              "      <th>Power</th>\n",
              "      <th>Combat</th>\n",
              "      <th>Full name</th>\n",
              "      <th>Alter Egos</th>\n",
              "      <th>Aliases</th>\n",
              "      <th>Place of birth</th>\n",
              "      <th>First appearance</th>\n",
              "      <th>Creator</th>\n",
              "      <th>Alignment</th>\n",
              "      <th>Gender</th>\n",
              "      <th>Race</th>\n",
              "      <th>Height</th>\n",
              "      <th>Weight</th>\n",
              "      <th>Eye color</th>\n",
              "      <th>Hair color</th>\n",
              "      <th>Occupation</th>\n",
              "      <th>Base</th>\n",
              "      <th>Team Affiliation</th>\n",
              "      <th>Relatives</th>\n",
              "      <th>Skin color</th>\n",
              "      <th>Total Power</th>\n",
              "    </tr>\n",
              "  </thead>\n",
              "  <tbody>\n",
              "    <tr>\n",
              "      <th>75</th>\n",
              "      <td>75</td>\n",
              "      <td>75</td>\n",
              "      <td>Beast</td>\n",
              "      <td>/beast/10-27/</td>\n",
              "      <td>100.0</td>\n",
              "      <td>50.0</td>\n",
              "      <td>40.0</td>\n",
              "      <td>60.0</td>\n",
              "      <td>45.0</td>\n",
              "      <td>85.0</td>\n",
              "      <td>Henry Philip McCoy</td>\n",
              "      <td>No alter egos found.</td>\n",
              "      <td>Dr. McCoy, Hanko, Kreature, Mutate #666, Magil...</td>\n",
              "      <td>Dunfee, Illinois</td>\n",
              "      <td>X-MEN Vol. 1 #1, (in furry ape form) AMAZING A...</td>\n",
              "      <td>Marvel Comics</td>\n",
              "      <td>good</td>\n",
              "      <td>Male</td>\n",
              "      <td>Mutant</td>\n",
              "      <td>5'11 // 180 cm</td>\n",
              "      <td>402 lb // 181 kg</td>\n",
              "      <td>Blue</td>\n",
              "      <td>Blue</td>\n",
              "      <td>Biochemist, formerly Xavier Institute for High...</td>\n",
              "      <td>Xavier Institute, Salem Center, Westchester Co...</td>\n",
              "      <td>Defenders, Cerebro's X-Men, Ultimate X-Men, Ap...</td>\n",
              "      <td>Sadie McCoy (paternal grandmother), Norton McC...</td>\n",
              "      <td>Blue</td>\n",
              "      <td>380.0</td>\n",
              "    </tr>\n",
              "    <tr>\n",
              "      <th>140</th>\n",
              "      <td>140</td>\n",
              "      <td>140</td>\n",
              "      <td>Brundlefly</td>\n",
              "      <td>/brundlefly/10-10642/</td>\n",
              "      <td>85.0</td>\n",
              "      <td>35.0</td>\n",
              "      <td>25.0</td>\n",
              "      <td>40.0</td>\n",
              "      <td>35.0</td>\n",
              "      <td>15.0</td>\n",
              "      <td>Sethaniel Brundle</td>\n",
              "      <td>No alter egos found.</td>\n",
              "      <td>The Fly</td>\n",
              "      <td>-</td>\n",
              "      <td>The Fly (1986)</td>\n",
              "      <td>NaN</td>\n",
              "      <td>neutral</td>\n",
              "      <td>Male</td>\n",
              "      <td>Mutant</td>\n",
              "      <td>6'4 // 193 cm</td>\n",
              "      <td>- lb // 0 kg</td>\n",
              "      <td>-</td>\n",
              "      <td>-</td>\n",
              "      <td>Scientist</td>\n",
              "      <td>-</td>\n",
              "      <td>No team connections added yet.</td>\n",
              "      <td>-</td>\n",
              "      <td>NaN</td>\n",
              "      <td>235.0</td>\n",
              "    </tr>\n",
              "    <tr>\n",
              "      <th>305</th>\n",
              "      <td>305</td>\n",
              "      <td>305</td>\n",
              "      <td>Green Lantern</td>\n",
              "      <td>/green-lantern/10-10649/</td>\n",
              "      <td>80.0</td>\n",
              "      <td>90.0</td>\n",
              "      <td>45.0</td>\n",
              "      <td>55.0</td>\n",
              "      <td>100.0</td>\n",
              "      <td>60.0</td>\n",
              "      <td>-</td>\n",
              "      <td>No alter egos found.</td>\n",
              "      <td>Green Lantern, White Lantern</td>\n",
              "      <td>Dearborn, Michigan</td>\n",
              "      <td>The New 52: FCBD Special Edition #1 (June, 2012)</td>\n",
              "      <td>DC Comics</td>\n",
              "      <td>good</td>\n",
              "      <td>Male</td>\n",
              "      <td>Human</td>\n",
              "      <td>- // 0 cm</td>\n",
              "      <td>- lb // 0 kg</td>\n",
              "      <td>Bown</td>\n",
              "      <td>Black</td>\n",
              "      <td>-</td>\n",
              "      <td>-</td>\n",
              "      <td>Green Lantern Corps, Formerly: Justice League ...</td>\n",
              "      <td>Sira Baz (sister), Farid Amar (nephew), Nazir ...</td>\n",
              "      <td>NaN</td>\n",
              "      <td>430.0</td>\n",
              "    </tr>\n",
              "    <tr>\n",
              "      <th>621</th>\n",
              "      <td>621</td>\n",
              "      <td>621</td>\n",
              "      <td>Spawn</td>\n",
              "      <td>/spawn/10-842/</td>\n",
              "      <td>90.0</td>\n",
              "      <td>75.0</td>\n",
              "      <td>50.0</td>\n",
              "      <td>100.0</td>\n",
              "      <td>100.0</td>\n",
              "      <td>100.0</td>\n",
              "      <td>Al Simmons</td>\n",
              "      <td>Divine Spawn, Hell King Spawn, Omega Spawn, Re...</td>\n",
              "      <td>The One, Hellspawn</td>\n",
              "      <td>Detroit, Michigan (8th level of Hell after reb...</td>\n",
              "      <td>Spawn #1 (May, 1992)</td>\n",
              "      <td>Image Comics</td>\n",
              "      <td>good</td>\n",
              "      <td>Male</td>\n",
              "      <td>Demon</td>\n",
              "      <td>6'11 // 211 cm</td>\n",
              "      <td>900 lb // 405 kg</td>\n",
              "      <td>Brown</td>\n",
              "      <td>Black</td>\n",
              "      <td>-</td>\n",
              "      <td>Hell</td>\n",
              "      <td>No team connections added yet.</td>\n",
              "      <td>Wanda (widow), Cyan (widow's daughter)</td>\n",
              "      <td>NaN</td>\n",
              "      <td>515.0</td>\n",
              "    </tr>\n",
              "    <tr>\n",
              "      <th>431</th>\n",
              "      <td>431</td>\n",
              "      <td>431</td>\n",
              "      <td>Man-Wolf</td>\n",
              "      <td>/man-wolf/10-91/</td>\n",
              "      <td>85.0</td>\n",
              "      <td>45.0</td>\n",
              "      <td>35.0</td>\n",
              "      <td>45.0</td>\n",
              "      <td>45.0</td>\n",
              "      <td>70.0</td>\n",
              "      <td>John Jameson</td>\n",
              "      <td>No alter egos found.</td>\n",
              "      <td>Stargod, Vanwolf, Skywolf</td>\n",
              "      <td>New York, New York</td>\n",
              "      <td>AMAZING SPIDER-MAN #1, (as Man-Wolf) AMAZING S...</td>\n",
              "      <td>Marvel Comics</td>\n",
              "      <td>good</td>\n",
              "      <td>Male</td>\n",
              "      <td>-</td>\n",
              "      <td>6'2' // 188 cm</td>\n",
              "      <td>200 lb // 90 kg</td>\n",
              "      <td>Brown</td>\n",
              "      <td>Auburn</td>\n",
              "      <td>Employed by Dept. of Social Services, Queens; ...</td>\n",
              "      <td>Queens</td>\n",
              "      <td>No team connections added yet.</td>\n",
              "      <td>J. Jonah (father), Joan (mother, deceased), Ma...</td>\n",
              "      <td>NaN</td>\n",
              "      <td>325.0</td>\n",
              "    </tr>\n",
              "  </tbody>\n",
              "</table>\n",
              "</div>"
            ],
            "text/plain": [
              "     Unnamed: 0  Unnamed: 0.1  ... Skin color Total Power\n",
              "75           75            75  ...       Blue       380.0\n",
              "140         140           140  ...        NaN       235.0\n",
              "305         305           305  ...        NaN       430.0\n",
              "621         621           621  ...        NaN       515.0\n",
              "431         431           431  ...        NaN       325.0\n",
              "\n",
              "[5 rows x 29 columns]"
            ]
          },
          "metadata": {
            "tags": []
          },
          "execution_count": 20
        }
      ]
    },
    {
      "cell_type": "markdown",
      "metadata": {
        "id": "U4BjXlYtDBkk"
      },
      "source": [
        "### heroes_information.csv"
      ]
    },
    {
      "cell_type": "code",
      "metadata": {
        "id": "OZCNZ8uQSfbj",
        "colab": {
          "base_uri": "https://localhost:8080/"
        },
        "outputId": "9f7dafe7-654a-4cac-b208-a2155a4b2ced"
      },
      "source": [
        "heroes_information.info()"
      ],
      "execution_count": 15,
      "outputs": [
        {
          "output_type": "stream",
          "text": [
            "<class 'pandas.core.frame.DataFrame'>\n",
            "RangeIndex: 734 entries, 0 to 733\n",
            "Data columns (total 11 columns):\n",
            " #   Column      Non-Null Count  Dtype  \n",
            "---  ------      --------------  -----  \n",
            " 0   Unnamed: 0  734 non-null    int64  \n",
            " 1   name        734 non-null    object \n",
            " 2   Gender      734 non-null    object \n",
            " 3   Eye color   734 non-null    object \n",
            " 4   Race        734 non-null    object \n",
            " 5   Hair color  734 non-null    object \n",
            " 6   Height      734 non-null    float64\n",
            " 7   Publisher   719 non-null    object \n",
            " 8   Skin color  734 non-null    object \n",
            " 9   Alignment   734 non-null    object \n",
            " 10  Weight      732 non-null    float64\n",
            "dtypes: float64(2), int64(1), object(8)\n",
            "memory usage: 63.2+ KB\n"
          ],
          "name": "stdout"
        }
      ]
    },
    {
      "cell_type": "code",
      "metadata": {
        "colab": {
          "base_uri": "https://localhost:8080/",
          "height": 198
        },
        "id": "PQc5V3zHH1Qp",
        "outputId": "fedd858a-5861-461b-e426-d086de17ee66"
      },
      "source": [
        "heroes_information.sample(5)"
      ],
      "execution_count": 21,
      "outputs": [
        {
          "output_type": "execute_result",
          "data": {
            "text/html": [
              "<div>\n",
              "<style scoped>\n",
              "    .dataframe tbody tr th:only-of-type {\n",
              "        vertical-align: middle;\n",
              "    }\n",
              "\n",
              "    .dataframe tbody tr th {\n",
              "        vertical-align: top;\n",
              "    }\n",
              "\n",
              "    .dataframe thead th {\n",
              "        text-align: right;\n",
              "    }\n",
              "</style>\n",
              "<table border=\"1\" class=\"dataframe\">\n",
              "  <thead>\n",
              "    <tr style=\"text-align: right;\">\n",
              "      <th></th>\n",
              "      <th>Unnamed: 0</th>\n",
              "      <th>name</th>\n",
              "      <th>Gender</th>\n",
              "      <th>Eye color</th>\n",
              "      <th>Race</th>\n",
              "      <th>Hair color</th>\n",
              "      <th>Height</th>\n",
              "      <th>Publisher</th>\n",
              "      <th>Skin color</th>\n",
              "      <th>Alignment</th>\n",
              "      <th>Weight</th>\n",
              "    </tr>\n",
              "  </thead>\n",
              "  <tbody>\n",
              "    <tr>\n",
              "      <th>521</th>\n",
              "      <td>521</td>\n",
              "      <td>Plastic Man</td>\n",
              "      <td>Male</td>\n",
              "      <td>blue</td>\n",
              "      <td>Human</td>\n",
              "      <td>Black</td>\n",
              "      <td>185.0</td>\n",
              "      <td>DC Comics</td>\n",
              "      <td>-</td>\n",
              "      <td>good</td>\n",
              "      <td>80.0</td>\n",
              "    </tr>\n",
              "    <tr>\n",
              "      <th>512</th>\n",
              "      <td>512</td>\n",
              "      <td>Penance I</td>\n",
              "      <td>Female</td>\n",
              "      <td>-</td>\n",
              "      <td>-</td>\n",
              "      <td>-</td>\n",
              "      <td>-99.0</td>\n",
              "      <td>Marvel Comics</td>\n",
              "      <td>-</td>\n",
              "      <td>good</td>\n",
              "      <td>-99.0</td>\n",
              "    </tr>\n",
              "    <tr>\n",
              "      <th>143</th>\n",
              "      <td>143</td>\n",
              "      <td>Bushido</td>\n",
              "      <td>Male</td>\n",
              "      <td>-</td>\n",
              "      <td>Human</td>\n",
              "      <td>-</td>\n",
              "      <td>-99.0</td>\n",
              "      <td>DC Comics</td>\n",
              "      <td>-</td>\n",
              "      <td>good</td>\n",
              "      <td>-99.0</td>\n",
              "    </tr>\n",
              "    <tr>\n",
              "      <th>407</th>\n",
              "      <td>407</td>\n",
              "      <td>Lightning Lad</td>\n",
              "      <td>Male</td>\n",
              "      <td>blue</td>\n",
              "      <td>-</td>\n",
              "      <td>Red</td>\n",
              "      <td>155.0</td>\n",
              "      <td>DC Comics</td>\n",
              "      <td>-</td>\n",
              "      <td>good</td>\n",
              "      <td>65.0</td>\n",
              "    </tr>\n",
              "    <tr>\n",
              "      <th>525</th>\n",
              "      <td>525</td>\n",
              "      <td>Power Girl</td>\n",
              "      <td>Female</td>\n",
              "      <td>blue</td>\n",
              "      <td>Kryptonian</td>\n",
              "      <td>blond</td>\n",
              "      <td>180.0</td>\n",
              "      <td>DC Comics</td>\n",
              "      <td>-</td>\n",
              "      <td>good</td>\n",
              "      <td>81.0</td>\n",
              "    </tr>\n",
              "  </tbody>\n",
              "</table>\n",
              "</div>"
            ],
            "text/plain": [
              "     Unnamed: 0           name  Gender  ... Skin color Alignment Weight\n",
              "521         521    Plastic Man    Male  ...          -      good   80.0\n",
              "512         512      Penance I  Female  ...          -      good  -99.0\n",
              "143         143        Bushido    Male  ...          -      good  -99.0\n",
              "407         407  Lightning Lad    Male  ...          -      good   65.0\n",
              "525         525     Power Girl  Female  ...          -      good   81.0\n",
              "\n",
              "[5 rows x 11 columns]"
            ]
          },
          "metadata": {
            "tags": []
          },
          "execution_count": 21
        }
      ]
    },
    {
      "cell_type": "markdown",
      "metadata": {
        "id": "-7ubOwPZEEz4"
      },
      "source": [
        "### super_hero_powers.csv"
      ]
    },
    {
      "cell_type": "code",
      "metadata": {
        "colab": {
          "base_uri": "https://localhost:8080/"
        },
        "id": "0h_CwN1kDG-8",
        "outputId": "42fe138f-288d-4eb6-c6c8-f107f338b4e2"
      },
      "source": [
        "super_hero_powers.info()"
      ],
      "execution_count": 16,
      "outputs": [
        {
          "output_type": "stream",
          "text": [
            "<class 'pandas.core.frame.DataFrame'>\n",
            "RangeIndex: 667 entries, 0 to 666\n",
            "Columns: 168 entries, hero_names to Omniscient\n",
            "dtypes: bool(167), object(1)\n",
            "memory usage: 114.1+ KB\n"
          ],
          "name": "stdout"
        }
      ]
    },
    {
      "cell_type": "code",
      "metadata": {
        "colab": {
          "base_uri": "https://localhost:8080/",
          "height": 299
        },
        "id": "8oC-Xo9YIDKy",
        "outputId": "09cefe18-5076-4595-b3a8-a1999d8397cc"
      },
      "source": [
        "super_hero_powers.sample(5)"
      ],
      "execution_count": 23,
      "outputs": [
        {
          "output_type": "execute_result",
          "data": {
            "text/html": [
              "<div>\n",
              "<style scoped>\n",
              "    .dataframe tbody tr th:only-of-type {\n",
              "        vertical-align: middle;\n",
              "    }\n",
              "\n",
              "    .dataframe tbody tr th {\n",
              "        vertical-align: top;\n",
              "    }\n",
              "\n",
              "    .dataframe thead th {\n",
              "        text-align: right;\n",
              "    }\n",
              "</style>\n",
              "<table border=\"1\" class=\"dataframe\">\n",
              "  <thead>\n",
              "    <tr style=\"text-align: right;\">\n",
              "      <th></th>\n",
              "      <th>hero_names</th>\n",
              "      <th>Agility</th>\n",
              "      <th>Accelerated Healing</th>\n",
              "      <th>Lantern Power Ring</th>\n",
              "      <th>Dimensional Awareness</th>\n",
              "      <th>Cold Resistance</th>\n",
              "      <th>Durability</th>\n",
              "      <th>Stealth</th>\n",
              "      <th>Energy Absorption</th>\n",
              "      <th>Flight</th>\n",
              "      <th>Danger Sense</th>\n",
              "      <th>Underwater breathing</th>\n",
              "      <th>Marksmanship</th>\n",
              "      <th>Weapons Master</th>\n",
              "      <th>Power Augmentation</th>\n",
              "      <th>Animal Attributes</th>\n",
              "      <th>Longevity</th>\n",
              "      <th>Intelligence</th>\n",
              "      <th>Super Strength</th>\n",
              "      <th>Cryokinesis</th>\n",
              "      <th>Telepathy</th>\n",
              "      <th>Energy Armor</th>\n",
              "      <th>Energy Blasts</th>\n",
              "      <th>Duplication</th>\n",
              "      <th>Size Changing</th>\n",
              "      <th>Density Control</th>\n",
              "      <th>Stamina</th>\n",
              "      <th>Astral Travel</th>\n",
              "      <th>Audio Control</th>\n",
              "      <th>Dexterity</th>\n",
              "      <th>Omnitrix</th>\n",
              "      <th>Super Speed</th>\n",
              "      <th>Possession</th>\n",
              "      <th>Animal Oriented Powers</th>\n",
              "      <th>Weapon-based Powers</th>\n",
              "      <th>Electrokinesis</th>\n",
              "      <th>Darkforce Manipulation</th>\n",
              "      <th>Death Touch</th>\n",
              "      <th>Teleportation</th>\n",
              "      <th>Enhanced Senses</th>\n",
              "      <th>...</th>\n",
              "      <th>Mind Control Resistance</th>\n",
              "      <th>Plant Control</th>\n",
              "      <th>Sonar</th>\n",
              "      <th>Sonic Scream</th>\n",
              "      <th>Time Manipulation</th>\n",
              "      <th>Enhanced Touch</th>\n",
              "      <th>Magic Resistance</th>\n",
              "      <th>Invisibility</th>\n",
              "      <th>Sub-Mariner</th>\n",
              "      <th>Radiation Absorption</th>\n",
              "      <th>Intuitive aptitude</th>\n",
              "      <th>Vision - Microscopic</th>\n",
              "      <th>Melting</th>\n",
              "      <th>Wind Control</th>\n",
              "      <th>Super Breath</th>\n",
              "      <th>Wallcrawling</th>\n",
              "      <th>Vision - Night</th>\n",
              "      <th>Vision - Infrared</th>\n",
              "      <th>Grim Reaping</th>\n",
              "      <th>Matter Absorption</th>\n",
              "      <th>The Force</th>\n",
              "      <th>Resurrection</th>\n",
              "      <th>Terrakinesis</th>\n",
              "      <th>Vision - Heat</th>\n",
              "      <th>Vitakinesis</th>\n",
              "      <th>Radar Sense</th>\n",
              "      <th>Qwardian Power Ring</th>\n",
              "      <th>Weather Control</th>\n",
              "      <th>Vision - X-Ray</th>\n",
              "      <th>Vision - Thermal</th>\n",
              "      <th>Web Creation</th>\n",
              "      <th>Reality Warping</th>\n",
              "      <th>Odin Force</th>\n",
              "      <th>Symbiote Costume</th>\n",
              "      <th>Speed Force</th>\n",
              "      <th>Phoenix Force</th>\n",
              "      <th>Molecular Dissipation</th>\n",
              "      <th>Vision - Cryo</th>\n",
              "      <th>Omnipresent</th>\n",
              "      <th>Omniscient</th>\n",
              "    </tr>\n",
              "  </thead>\n",
              "  <tbody>\n",
              "    <tr>\n",
              "      <th>181</th>\n",
              "      <td>Darkstar</td>\n",
              "      <td>False</td>\n",
              "      <td>False</td>\n",
              "      <td>False</td>\n",
              "      <td>False</td>\n",
              "      <td>False</td>\n",
              "      <td>False</td>\n",
              "      <td>False</td>\n",
              "      <td>False</td>\n",
              "      <td>True</td>\n",
              "      <td>False</td>\n",
              "      <td>False</td>\n",
              "      <td>False</td>\n",
              "      <td>False</td>\n",
              "      <td>False</td>\n",
              "      <td>False</td>\n",
              "      <td>False</td>\n",
              "      <td>False</td>\n",
              "      <td>False</td>\n",
              "      <td>False</td>\n",
              "      <td>False</td>\n",
              "      <td>False</td>\n",
              "      <td>True</td>\n",
              "      <td>False</td>\n",
              "      <td>False</td>\n",
              "      <td>False</td>\n",
              "      <td>False</td>\n",
              "      <td>False</td>\n",
              "      <td>False</td>\n",
              "      <td>False</td>\n",
              "      <td>False</td>\n",
              "      <td>False</td>\n",
              "      <td>False</td>\n",
              "      <td>False</td>\n",
              "      <td>False</td>\n",
              "      <td>False</td>\n",
              "      <td>False</td>\n",
              "      <td>False</td>\n",
              "      <td>True</td>\n",
              "      <td>False</td>\n",
              "      <td>...</td>\n",
              "      <td>False</td>\n",
              "      <td>False</td>\n",
              "      <td>False</td>\n",
              "      <td>False</td>\n",
              "      <td>False</td>\n",
              "      <td>False</td>\n",
              "      <td>False</td>\n",
              "      <td>False</td>\n",
              "      <td>False</td>\n",
              "      <td>False</td>\n",
              "      <td>False</td>\n",
              "      <td>False</td>\n",
              "      <td>False</td>\n",
              "      <td>False</td>\n",
              "      <td>False</td>\n",
              "      <td>False</td>\n",
              "      <td>False</td>\n",
              "      <td>False</td>\n",
              "      <td>False</td>\n",
              "      <td>False</td>\n",
              "      <td>False</td>\n",
              "      <td>False</td>\n",
              "      <td>False</td>\n",
              "      <td>False</td>\n",
              "      <td>False</td>\n",
              "      <td>False</td>\n",
              "      <td>False</td>\n",
              "      <td>False</td>\n",
              "      <td>False</td>\n",
              "      <td>False</td>\n",
              "      <td>False</td>\n",
              "      <td>False</td>\n",
              "      <td>False</td>\n",
              "      <td>False</td>\n",
              "      <td>False</td>\n",
              "      <td>False</td>\n",
              "      <td>False</td>\n",
              "      <td>False</td>\n",
              "      <td>False</td>\n",
              "      <td>False</td>\n",
              "    </tr>\n",
              "    <tr>\n",
              "      <th>373</th>\n",
              "      <td>Lobo</td>\n",
              "      <td>False</td>\n",
              "      <td>False</td>\n",
              "      <td>False</td>\n",
              "      <td>False</td>\n",
              "      <td>False</td>\n",
              "      <td>True</td>\n",
              "      <td>False</td>\n",
              "      <td>False</td>\n",
              "      <td>False</td>\n",
              "      <td>False</td>\n",
              "      <td>False</td>\n",
              "      <td>False</td>\n",
              "      <td>False</td>\n",
              "      <td>False</td>\n",
              "      <td>False</td>\n",
              "      <td>True</td>\n",
              "      <td>True</td>\n",
              "      <td>True</td>\n",
              "      <td>False</td>\n",
              "      <td>False</td>\n",
              "      <td>False</td>\n",
              "      <td>False</td>\n",
              "      <td>True</td>\n",
              "      <td>False</td>\n",
              "      <td>False</td>\n",
              "      <td>True</td>\n",
              "      <td>False</td>\n",
              "      <td>False</td>\n",
              "      <td>False</td>\n",
              "      <td>False</td>\n",
              "      <td>False</td>\n",
              "      <td>False</td>\n",
              "      <td>False</td>\n",
              "      <td>False</td>\n",
              "      <td>False</td>\n",
              "      <td>False</td>\n",
              "      <td>False</td>\n",
              "      <td>False</td>\n",
              "      <td>True</td>\n",
              "      <td>...</td>\n",
              "      <td>False</td>\n",
              "      <td>False</td>\n",
              "      <td>False</td>\n",
              "      <td>False</td>\n",
              "      <td>False</td>\n",
              "      <td>False</td>\n",
              "      <td>False</td>\n",
              "      <td>False</td>\n",
              "      <td>False</td>\n",
              "      <td>False</td>\n",
              "      <td>False</td>\n",
              "      <td>False</td>\n",
              "      <td>False</td>\n",
              "      <td>False</td>\n",
              "      <td>False</td>\n",
              "      <td>False</td>\n",
              "      <td>False</td>\n",
              "      <td>False</td>\n",
              "      <td>False</td>\n",
              "      <td>False</td>\n",
              "      <td>False</td>\n",
              "      <td>False</td>\n",
              "      <td>False</td>\n",
              "      <td>False</td>\n",
              "      <td>False</td>\n",
              "      <td>False</td>\n",
              "      <td>False</td>\n",
              "      <td>False</td>\n",
              "      <td>False</td>\n",
              "      <td>False</td>\n",
              "      <td>False</td>\n",
              "      <td>False</td>\n",
              "      <td>False</td>\n",
              "      <td>False</td>\n",
              "      <td>False</td>\n",
              "      <td>False</td>\n",
              "      <td>False</td>\n",
              "      <td>False</td>\n",
              "      <td>False</td>\n",
              "      <td>False</td>\n",
              "    </tr>\n",
              "    <tr>\n",
              "      <th>107</th>\n",
              "      <td>Bloodaxe</td>\n",
              "      <td>True</td>\n",
              "      <td>False</td>\n",
              "      <td>False</td>\n",
              "      <td>False</td>\n",
              "      <td>False</td>\n",
              "      <td>True</td>\n",
              "      <td>False</td>\n",
              "      <td>False</td>\n",
              "      <td>False</td>\n",
              "      <td>False</td>\n",
              "      <td>False</td>\n",
              "      <td>False</td>\n",
              "      <td>False</td>\n",
              "      <td>False</td>\n",
              "      <td>False</td>\n",
              "      <td>False</td>\n",
              "      <td>False</td>\n",
              "      <td>True</td>\n",
              "      <td>True</td>\n",
              "      <td>False</td>\n",
              "      <td>False</td>\n",
              "      <td>True</td>\n",
              "      <td>False</td>\n",
              "      <td>False</td>\n",
              "      <td>False</td>\n",
              "      <td>True</td>\n",
              "      <td>False</td>\n",
              "      <td>False</td>\n",
              "      <td>False</td>\n",
              "      <td>False</td>\n",
              "      <td>True</td>\n",
              "      <td>False</td>\n",
              "      <td>False</td>\n",
              "      <td>True</td>\n",
              "      <td>False</td>\n",
              "      <td>False</td>\n",
              "      <td>False</td>\n",
              "      <td>True</td>\n",
              "      <td>False</td>\n",
              "      <td>...</td>\n",
              "      <td>False</td>\n",
              "      <td>False</td>\n",
              "      <td>False</td>\n",
              "      <td>False</td>\n",
              "      <td>False</td>\n",
              "      <td>False</td>\n",
              "      <td>False</td>\n",
              "      <td>False</td>\n",
              "      <td>False</td>\n",
              "      <td>False</td>\n",
              "      <td>False</td>\n",
              "      <td>False</td>\n",
              "      <td>False</td>\n",
              "      <td>False</td>\n",
              "      <td>False</td>\n",
              "      <td>False</td>\n",
              "      <td>False</td>\n",
              "      <td>False</td>\n",
              "      <td>False</td>\n",
              "      <td>False</td>\n",
              "      <td>False</td>\n",
              "      <td>False</td>\n",
              "      <td>False</td>\n",
              "      <td>False</td>\n",
              "      <td>False</td>\n",
              "      <td>False</td>\n",
              "      <td>False</td>\n",
              "      <td>False</td>\n",
              "      <td>False</td>\n",
              "      <td>False</td>\n",
              "      <td>False</td>\n",
              "      <td>False</td>\n",
              "      <td>False</td>\n",
              "      <td>False</td>\n",
              "      <td>False</td>\n",
              "      <td>False</td>\n",
              "      <td>False</td>\n",
              "      <td>False</td>\n",
              "      <td>False</td>\n",
              "      <td>False</td>\n",
              "    </tr>\n",
              "    <tr>\n",
              "      <th>641</th>\n",
              "      <td>Vixen</td>\n",
              "      <td>True</td>\n",
              "      <td>True</td>\n",
              "      <td>False</td>\n",
              "      <td>False</td>\n",
              "      <td>False</td>\n",
              "      <td>False</td>\n",
              "      <td>True</td>\n",
              "      <td>False</td>\n",
              "      <td>True</td>\n",
              "      <td>True</td>\n",
              "      <td>False</td>\n",
              "      <td>False</td>\n",
              "      <td>False</td>\n",
              "      <td>False</td>\n",
              "      <td>True</td>\n",
              "      <td>False</td>\n",
              "      <td>False</td>\n",
              "      <td>True</td>\n",
              "      <td>False</td>\n",
              "      <td>False</td>\n",
              "      <td>False</td>\n",
              "      <td>False</td>\n",
              "      <td>False</td>\n",
              "      <td>False</td>\n",
              "      <td>False</td>\n",
              "      <td>True</td>\n",
              "      <td>False</td>\n",
              "      <td>False</td>\n",
              "      <td>False</td>\n",
              "      <td>False</td>\n",
              "      <td>True</td>\n",
              "      <td>False</td>\n",
              "      <td>True</td>\n",
              "      <td>False</td>\n",
              "      <td>False</td>\n",
              "      <td>False</td>\n",
              "      <td>False</td>\n",
              "      <td>False</td>\n",
              "      <td>False</td>\n",
              "      <td>...</td>\n",
              "      <td>False</td>\n",
              "      <td>False</td>\n",
              "      <td>False</td>\n",
              "      <td>False</td>\n",
              "      <td>False</td>\n",
              "      <td>False</td>\n",
              "      <td>False</td>\n",
              "      <td>False</td>\n",
              "      <td>False</td>\n",
              "      <td>False</td>\n",
              "      <td>False</td>\n",
              "      <td>False</td>\n",
              "      <td>False</td>\n",
              "      <td>False</td>\n",
              "      <td>False</td>\n",
              "      <td>True</td>\n",
              "      <td>False</td>\n",
              "      <td>False</td>\n",
              "      <td>False</td>\n",
              "      <td>False</td>\n",
              "      <td>False</td>\n",
              "      <td>False</td>\n",
              "      <td>False</td>\n",
              "      <td>False</td>\n",
              "      <td>False</td>\n",
              "      <td>False</td>\n",
              "      <td>False</td>\n",
              "      <td>False</td>\n",
              "      <td>False</td>\n",
              "      <td>False</td>\n",
              "      <td>False</td>\n",
              "      <td>False</td>\n",
              "      <td>False</td>\n",
              "      <td>False</td>\n",
              "      <td>False</td>\n",
              "      <td>False</td>\n",
              "      <td>False</td>\n",
              "      <td>False</td>\n",
              "      <td>False</td>\n",
              "      <td>False</td>\n",
              "    </tr>\n",
              "    <tr>\n",
              "      <th>358</th>\n",
              "      <td>Lady Deathstrike</td>\n",
              "      <td>True</td>\n",
              "      <td>True</td>\n",
              "      <td>False</td>\n",
              "      <td>False</td>\n",
              "      <td>False</td>\n",
              "      <td>True</td>\n",
              "      <td>True</td>\n",
              "      <td>False</td>\n",
              "      <td>False</td>\n",
              "      <td>False</td>\n",
              "      <td>False</td>\n",
              "      <td>False</td>\n",
              "      <td>False</td>\n",
              "      <td>False</td>\n",
              "      <td>False</td>\n",
              "      <td>False</td>\n",
              "      <td>True</td>\n",
              "      <td>True</td>\n",
              "      <td>False</td>\n",
              "      <td>False</td>\n",
              "      <td>False</td>\n",
              "      <td>False</td>\n",
              "      <td>False</td>\n",
              "      <td>False</td>\n",
              "      <td>False</td>\n",
              "      <td>True</td>\n",
              "      <td>False</td>\n",
              "      <td>False</td>\n",
              "      <td>False</td>\n",
              "      <td>False</td>\n",
              "      <td>True</td>\n",
              "      <td>False</td>\n",
              "      <td>False</td>\n",
              "      <td>False</td>\n",
              "      <td>False</td>\n",
              "      <td>False</td>\n",
              "      <td>False</td>\n",
              "      <td>False</td>\n",
              "      <td>False</td>\n",
              "      <td>...</td>\n",
              "      <td>False</td>\n",
              "      <td>False</td>\n",
              "      <td>False</td>\n",
              "      <td>False</td>\n",
              "      <td>False</td>\n",
              "      <td>False</td>\n",
              "      <td>False</td>\n",
              "      <td>False</td>\n",
              "      <td>False</td>\n",
              "      <td>False</td>\n",
              "      <td>False</td>\n",
              "      <td>False</td>\n",
              "      <td>False</td>\n",
              "      <td>False</td>\n",
              "      <td>False</td>\n",
              "      <td>False</td>\n",
              "      <td>False</td>\n",
              "      <td>False</td>\n",
              "      <td>False</td>\n",
              "      <td>False</td>\n",
              "      <td>False</td>\n",
              "      <td>False</td>\n",
              "      <td>False</td>\n",
              "      <td>False</td>\n",
              "      <td>False</td>\n",
              "      <td>False</td>\n",
              "      <td>False</td>\n",
              "      <td>False</td>\n",
              "      <td>False</td>\n",
              "      <td>False</td>\n",
              "      <td>False</td>\n",
              "      <td>False</td>\n",
              "      <td>False</td>\n",
              "      <td>False</td>\n",
              "      <td>False</td>\n",
              "      <td>False</td>\n",
              "      <td>False</td>\n",
              "      <td>False</td>\n",
              "      <td>False</td>\n",
              "      <td>False</td>\n",
              "    </tr>\n",
              "  </tbody>\n",
              "</table>\n",
              "<p>5 rows × 168 columns</p>\n",
              "</div>"
            ],
            "text/plain": [
              "           hero_names  Agility  ...  Omnipresent  Omniscient\n",
              "181          Darkstar    False  ...        False       False\n",
              "373              Lobo    False  ...        False       False\n",
              "107          Bloodaxe     True  ...        False       False\n",
              "641             Vixen     True  ...        False       False\n",
              "358  Lady Deathstrike     True  ...        False       False\n",
              "\n",
              "[5 rows x 168 columns]"
            ]
          },
          "metadata": {
            "tags": []
          },
          "execution_count": 23
        }
      ]
    },
    {
      "cell_type": "markdown",
      "metadata": {
        "id": "hardSZBNEXsS"
      },
      "source": [
        "## Null Values"
      ]
    },
    {
      "cell_type": "markdown",
      "metadata": {
        "id": "Xzi8mXxEEd1Z"
      },
      "source": [
        "### SuperHero.csv"
      ]
    },
    {
      "cell_type": "code",
      "metadata": {
        "colab": {
          "base_uri": "https://localhost:8080/"
        },
        "id": "iLAY4y-tIRjr",
        "outputId": "cd0116a2-0d9d-4f34-8512-88e204a6e19b"
      },
      "source": [
        "superhero.isnull().sum()"
      ],
      "execution_count": 26,
      "outputs": [
        {
          "output_type": "execute_result",
          "data": {
            "text/plain": [
              "Unnamed: 0            0\n",
              "Unnamed: 0.1          0\n",
              "Name                  0\n",
              "Url                   0\n",
              "Intelligence         78\n",
              "Strength             78\n",
              "Speed                78\n",
              "Durability           78\n",
              "Power                78\n",
              "Combat               78\n",
              "Full name             0\n",
              "Alter Egos            0\n",
              "Aliases               0\n",
              "Place of birth        0\n",
              "First appearance      0\n",
              "Creator               8\n",
              "Alignment             0\n",
              "Gender                0\n",
              "Race                  0\n",
              "Height                0\n",
              "Weight                0\n",
              "Eye color             0\n",
              "Hair color            0\n",
              "Occupation            0\n",
              "Base                  0\n",
              "Team Affiliation      0\n",
              "Relatives             0\n",
              "Skin color          669\n",
              "Total Power           0\n",
              "dtype: int64"
            ]
          },
          "metadata": {
            "tags": []
          },
          "execution_count": 26
        }
      ]
    },
    {
      "cell_type": "markdown",
      "metadata": {
        "id": "yp_8UUXyEkDy"
      },
      "source": [
        "### heroes_information.csv"
      ]
    },
    {
      "cell_type": "code",
      "metadata": {
        "colab": {
          "base_uri": "https://localhost:8080/"
        },
        "id": "b1HihQb8Ir_7",
        "outputId": "8559d363-7528-40c9-ac51-83e2d21658be"
      },
      "source": [
        "heroes_information.isnull().sum()\n"
      ],
      "execution_count": 27,
      "outputs": [
        {
          "output_type": "execute_result",
          "data": {
            "text/plain": [
              "Unnamed: 0     0\n",
              "name           0\n",
              "Gender         0\n",
              "Eye color      0\n",
              "Race           0\n",
              "Hair color     0\n",
              "Height         0\n",
              "Publisher     15\n",
              "Skin color     0\n",
              "Alignment      0\n",
              "Weight         2\n",
              "dtype: int64"
            ]
          },
          "metadata": {
            "tags": []
          },
          "execution_count": 27
        }
      ]
    },
    {
      "cell_type": "markdown",
      "metadata": {
        "id": "ePTtyjPwErRy"
      },
      "source": [
        "### super_hero_powers.csv"
      ]
    },
    {
      "cell_type": "code",
      "metadata": {
        "colab": {
          "base_uri": "https://localhost:8080/"
        },
        "id": "aVKgQXyFIww5",
        "outputId": "de7b2e1e-fd8b-45bf-c1f6-1d25ac0a3f4e"
      },
      "source": [
        "super_hero_powers.isnull().sum()"
      ],
      "execution_count": 33,
      "outputs": [
        {
          "output_type": "execute_result",
          "data": {
            "text/plain": [
              "hero_names               0\n",
              "Agility                  0\n",
              "Accelerated Healing      0\n",
              "Lantern Power Ring       0\n",
              "Dimensional Awareness    0\n",
              "                        ..\n",
              "Phoenix Force            0\n",
              "Molecular Dissipation    0\n",
              "Vision - Cryo            0\n",
              "Omnipresent              0\n",
              "Omniscient               0\n",
              "Length: 168, dtype: int64"
            ]
          },
          "metadata": {
            "tags": []
          },
          "execution_count": 33
        }
      ]
    },
    {
      "cell_type": "code",
      "metadata": {
        "colab": {
          "base_uri": "https://localhost:8080/"
        },
        "id": "6xO8uhtsI1dT",
        "outputId": "9135c132-e1f6-401a-9e0b-0c27b5bf1e86"
      },
      "source": [
        "super_hero_powers.isnull().sum().sum()"
      ],
      "execution_count": 29,
      "outputs": [
        {
          "output_type": "execute_result",
          "data": {
            "text/plain": [
              "0"
            ]
          },
          "metadata": {
            "tags": []
          },
          "execution_count": 29
        }
      ]
    },
    {
      "cell_type": "markdown",
      "metadata": {
        "id": "dbqj74IMEuxE"
      },
      "source": [
        "## Duplicates"
      ]
    },
    {
      "cell_type": "markdown",
      "metadata": {
        "id": "5-eEIBHLE-hp"
      },
      "source": [
        "### SuperHero.csv"
      ]
    },
    {
      "cell_type": "code",
      "metadata": {
        "colab": {
          "base_uri": "https://localhost:8080/"
        },
        "id": "9mj0oBWAI8nR",
        "outputId": "ee8e1da7-1fa0-4a48-c1aa-206453205fd6"
      },
      "source": [
        "superhero.duplicated().sum()"
      ],
      "execution_count": 31,
      "outputs": [
        {
          "output_type": "execute_result",
          "data": {
            "text/plain": [
              "0"
            ]
          },
          "metadata": {
            "tags": []
          },
          "execution_count": 31
        }
      ]
    },
    {
      "cell_type": "markdown",
      "metadata": {
        "id": "l8oEiMxMFBJS"
      },
      "source": [
        "### heroes_information.csv"
      ]
    },
    {
      "cell_type": "code",
      "metadata": {
        "colab": {
          "base_uri": "https://localhost:8080/"
        },
        "id": "7vth1ZnkLaQQ",
        "outputId": "fb716211-bcf5-4e44-ff1a-37ff2a62b51c"
      },
      "source": [
        "heroes_information.duplicated().sum()\n"
      ],
      "execution_count": 36,
      "outputs": [
        {
          "output_type": "execute_result",
          "data": {
            "text/plain": [
              "0"
            ]
          },
          "metadata": {
            "tags": []
          },
          "execution_count": 36
        }
      ]
    },
    {
      "cell_type": "markdown",
      "metadata": {
        "id": "uqp7VmGrFFYC"
      },
      "source": [
        "### super_hero_powers.csv"
      ]
    },
    {
      "cell_type": "code",
      "metadata": {
        "colab": {
          "base_uri": "https://localhost:8080/"
        },
        "id": "DFYDLkDuLyNh",
        "outputId": "cded2d87-bee0-4c87-c178-26a265f9db20"
      },
      "source": [
        "super_hero_powers.duplicated().sum()"
      ],
      "execution_count": 40,
      "outputs": [
        {
          "output_type": "execute_result",
          "data": {
            "text/plain": [
              "0"
            ]
          },
          "metadata": {
            "tags": []
          },
          "execution_count": 40
        }
      ]
    },
    {
      "cell_type": "markdown",
      "metadata": {
        "id": "YL5UQT-oFhox"
      },
      "source": [
        "# Data Cleaning"
      ]
    },
    {
      "cell_type": "markdown",
      "metadata": {
        "id": "uKfd-IngFnKR"
      },
      "source": [
        "## SuperHero.csv"
      ]
    },
    {
      "cell_type": "code",
      "metadata": {
        "id": "0eeSYV0RL7XB"
      },
      "source": [
        ""
      ],
      "execution_count": null,
      "outputs": []
    },
    {
      "cell_type": "markdown",
      "metadata": {
        "id": "N8bYtuYKFhnh"
      },
      "source": [
        "## heroes_information.csv"
      ]
    },
    {
      "cell_type": "markdown",
      "metadata": {
        "id": "GS9DRrEjFv8r"
      },
      "source": [
        "## super_hero_powers.csv"
      ]
    },
    {
      "cell_type": "markdown",
      "metadata": {
        "id": "VxiPCd2MFzgY"
      },
      "source": [
        "# Data Wrangling"
      ]
    },
    {
      "cell_type": "markdown",
      "metadata": {
        "id": "mwKM27oqF2LQ"
      },
      "source": [
        "## SuperHero.csv"
      ]
    },
    {
      "cell_type": "markdown",
      "metadata": {
        "id": "oFFwfdVrF32Z"
      },
      "source": [
        "## heroes_information.csv"
      ]
    },
    {
      "cell_type": "markdown",
      "metadata": {
        "id": "O5WRbJwIF84g"
      },
      "source": [
        "## super_hero_powers.csv"
      ]
    },
    {
      "cell_type": "markdown",
      "metadata": {
        "id": "-rllXa8OGAMx"
      },
      "source": [
        "# Questions"
      ]
    },
    {
      "cell_type": "code",
      "metadata": {
        "id": "vwjAFoQPE89P"
      },
      "source": [
        ""
      ],
      "execution_count": 16,
      "outputs": []
    }
  ]
}