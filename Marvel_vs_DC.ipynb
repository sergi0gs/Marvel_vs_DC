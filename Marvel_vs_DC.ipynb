{
  "nbformat": 4,
  "nbformat_minor": 0,
  "metadata": {
    "colab": {
      "name": "Marvel_vs_DC.ipynb",
      "provenance": [],
      "authorship_tag": "ABX9TyNeFRmxjFXMFdrsRmpSyd3L",
      "include_colab_link": true
    },
    "kernelspec": {
      "name": "python3",
      "display_name": "Python 3"
    },
    "language_info": {
      "name": "python"
    }
  },
  "cells": [
    {
      "cell_type": "markdown",
      "metadata": {
        "id": "view-in-github",
        "colab_type": "text"
      },
      "source": [
        "<a href=\"https://colab.research.google.com/github/sergi0gs/Marvel_vs_DC/blob/main/Marvel_vs_DC.ipynb\" target=\"_parent\"><img src=\"https://colab.research.google.com/assets/colab-badge.svg\" alt=\"Open In Colab\"/></a>"
      ]
    },
    {
      "cell_type": "markdown",
      "metadata": {
        "id": "_-ahwrefCy4J"
      },
      "source": [
        "# **Introduction**\n",
        "\n",
        "In this project we will try to analyse the information about the heroes of Marvel and DC comics learning about the different types of techniques that we have in Python to analyse, clean, transform and visualize data.\n",
        "\n",
        "The information comes from these datasets in kaggle: https://www.kaggle.com/thec03u5/complete-superhero-dataset, https://www.kaggle.com/claudiodavi/superhero-set\n",
        "\n",
        "Which was constructed using web scrapping tecniques from the next website: https://www.superherodb.com/.\n",
        "\n",
        "Alse we use as a guide the next example maked in R from: https://cosmoduende.medium.com/dc-comics-vs-marvel-comics-an%C3%A1lisis-exploratorio-y-visualizaci%C3%B3n-de-datos-con-r-b0cf565e44e2\n",
        "\n",
        "# **What do we want to know?**\n",
        "1. How many heroes are there in DC Comics and Marvel Comics?\n",
        "2. What is the predominant gender in the characters of DC Comics and Marvel Comics?\n",
        "3. What is the predominant race in both comics?\n",
        "4.   Which has more Heroes or Villains?\n",
        "5.   Realize a comparative between the character abilites of both comics.\n",
        "6.   Who are the most intelligent characters?\n",
        "7.   Who are the strongest characters?\n",
        "8.   Who are the fastest characters?\n",
        "9.   Who are the characters with more power?\n",
        "10. What superpowers predominate in the characters of DC Comics and Marvel Comics?\n",
        "\n",
        "\n",
        "\n"
      ]
    },
    {
      "cell_type": "code",
      "metadata": {
        "id": "JJq8smoyAiU_"
      },
      "source": [
        ""
      ],
      "execution_count": null,
      "outputs": []
    },
    {
      "cell_type": "markdown",
      "metadata": {
        "id": "Y2ViSL1JCyV8"
      },
      "source": [
        ""
      ]
    }
  ]
}