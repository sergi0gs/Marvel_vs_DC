{
  "nbformat": 4,
  "nbformat_minor": 0,
  "metadata": {
    "colab": {
      "name": "Marvel_vs_DC.ipynb",
      "provenance": [],
      "collapsed_sections": [
        "psf8jH5y0Gd6"
      ],
      "toc_visible": true,
      "mount_file_id": "1btc3IjdXb7SCOK_lQSe_dqt9OVTMMmMT",
      "authorship_tag": "ABX9TyML0qXYmDfOGaKefMu0TBar",
      "include_colab_link": true
    },
    "kernelspec": {
      "name": "python3",
      "display_name": "Python 3"
    }
  },
  "cells": [
    {
      "cell_type": "markdown",
      "metadata": {
        "id": "view-in-github",
        "colab_type": "text"
      },
      "source": [
        "<a href=\"https://colab.research.google.com/github/sergi0gs/Marvel_vs_DC/blob/main/Marvel_vs_DC.ipynb\" target=\"_parent\"><img src=\"https://colab.research.google.com/assets/colab-badge.svg\" alt=\"Open In Colab\"/></a>"
      ]
    },
    {
      "cell_type": "markdown",
      "metadata": {
        "id": "-f5mUpvN97bh"
      },
      "source": [
        "**In this project we will try to analyse the information about the heroes of Marvel and DC comics so try don't be shame if some of this results doesn't like you. The information comes from these datasets in kaggle:\r\n",
        "https://www.kaggle.com/thec03u5/complete-superhero-dataset, \r\n",
        "https://www.kaggle.com/claudiodavi/superhero-set\r\n",
        "Which was constructed using web scrapping tecniques from the next website: https://www.superherodb.com/.\r\n",
        "Alse we use an example maked in R from: https://cosmoduende.medium.com/dc-comics-vs-marvel-comics-an%C3%A1lisis-exploratorio-y-visualizaci%C3%B3n-de-datos-con-r-b0cf565e44e2\r\n",
        "Come and analyse!**"
      ]
    },
    {
      "cell_type": "markdown",
      "metadata": {
        "id": "ML1j9aYWAADw"
      },
      "source": [
        "# Import the neccesary libraries"
      ]
    },
    {
      "cell_type": "code",
      "metadata": {
        "id": "g6j3PWZv_08M"
      },
      "source": [
        "import pandas as pd\r\n",
        "import numpy as np\r\n",
        "import matplotlib.pyplot as plt\r\n",
        "import seaborn as sns\r\n"
      ],
      "execution_count": 3,
      "outputs": []
    },
    {
      "cell_type": "markdown",
      "metadata": {
        "id": "pDkSpn9zEM2i"
      },
      "source": [
        "# Read the data"
      ]
    },
    {
      "cell_type": "code",
      "metadata": {
        "id": "X31Vwrx892v4"
      },
      "source": [
        "heroes_information = pd.read_csv('/content/drive/MyDrive/SERGIO/PROYECTOS/Marvel vs DC/heroes_information.csv')\r\n",
        "hero_powers = pd.read_csv('/content/drive/MyDrive/SERGIO/PROYECTOS/Marvel vs DC/super_hero_powers.csv')\r\n",
        "super_hero = pd.read_csv('/content/drive/MyDrive/SERGIO/PROYECTOS/Marvel vs DC/SuperheroDataset.csv')\r\n"
      ],
      "execution_count": 7,
      "outputs": []
    },
    {
      "cell_type": "markdown",
      "metadata": {
        "id": "psf8jH5y0Gd6"
      },
      "source": [
        "# Explore data"
      ]
    },
    {
      "cell_type": "code",
      "metadata": {
        "id": "P0qYU2A10Vrp"
      },
      "source": [
        "print(f'The shape of heroes_information is: {heroes_information.shape}, \\nThe shape of hero_powers is: {hero_powers.shape}')\r\n",
        "print(f'The shape of super_hero is: {super_hero.shape}')"
      ],
      "execution_count": null,
      "outputs": []
    },
    {
      "cell_type": "code",
      "metadata": {
        "id": "OTN_qHsi1WxK"
      },
      "source": [
        "print(f'              heroes_information info:')\r\n",
        "print(f'              --------------------------')\r\n",
        "print(heroes_information.info())\r\n",
        "heroes_information.head(3)"
      ],
      "execution_count": null,
      "outputs": []
    },
    {
      "cell_type": "code",
      "metadata": {
        "id": "DZ-4RZiE2HUK"
      },
      "source": [
        "print(f'              hero powers info:')\r\n",
        "print(f'              --------------------------')\r\n",
        "print(hero_powers.info())\r\n",
        "hero_powers.head(3)"
      ],
      "execution_count": null,
      "outputs": []
    },
    {
      "cell_type": "code",
      "metadata": {
        "id": "aG4sqpsb2HIh"
      },
      "source": [
        "print(f'              super_hero info:')\r\n",
        "print(f'              --------------------------')\r\n",
        "print(super_hero.info())\r\n",
        "super_hero.head(3)"
      ],
      "execution_count": null,
      "outputs": []
    },
    {
      "cell_type": "code",
      "metadata": {
        "id": "9r95vF3y4UID"
      },
      "source": [
        "print(f'    Nulls in Hero information')\r\n",
        "print(f'    -------------------------')\r\n",
        "print(heroes_information.isnull().sum())\r\n",
        "print(f'    Nulls in Hero Powers')\r\n",
        "print(f'    -------------------------')\r\n",
        "print(hero_powers.isnull().sum())\r\n",
        "print(f'    Nulls in Super Hero')\r\n",
        "print(f'    -------------------------')\r\n",
        "print(super_hero.isnull().sum())"
      ],
      "execution_count": null,
      "outputs": []
    },
    {
      "cell_type": "markdown",
      "metadata": {
        "id": "_UnaKLR3FRaK"
      },
      "source": [
        "# Cleaning the data"
      ]
    },
    {
      "cell_type": "markdown",
      "metadata": {
        "id": "5NxdwwxA47n3"
      },
      "source": [
        "## Marvel\r\n",
        "We can use this features and values to filter: \r\n",
        "*   Hero Information dataset: \"Publisher\" - \"Marvel Comics\"\r\n",
        "*   Hero Powers dataset: There aren't any feature to filter so we will use \"groupby\" to cross it with the marvel heroes of the \"Hero Information dataset\"\r\n",
        "*   Super Hero dataset: \"Creator\" - Marvel Comics\"\r\n",
        "\r\n",
        "\r\n"
      ]
    },
    {
      "cell_type": "markdown",
      "metadata": {
        "id": "2qBJRBRv8FYs"
      },
      "source": [
        "### Hero Information"
      ]
    },
    {
      "cell_type": "markdown",
      "metadata": {
        "id": "3YfLOz_M8IKt"
      },
      "source": [
        "#### Filter by Publisher"
      ]
    },
    {
      "cell_type": "code",
      "metadata": {
        "colab": {
          "base_uri": "https://localhost:8080/",
          "height": 407
        },
        "id": "aDREbIGr49Ve",
        "outputId": "a47950d2-bb49-44db-e093-c67edab1f4cd"
      },
      "source": [
        "# Filtering by Publisher \r\n",
        "heroes_information_marvel_clean = heroes_information[heroes_information['Publisher']=='Marvel Comics']\r\n",
        "heroes_information_marvel_clean"
      ],
      "execution_count": 38,
      "outputs": [
        {
          "output_type": "execute_result",
          "data": {
            "text/html": [
              "<div>\n",
              "<style scoped>\n",
              "    .dataframe tbody tr th:only-of-type {\n",
              "        vertical-align: middle;\n",
              "    }\n",
              "\n",
              "    .dataframe tbody tr th {\n",
              "        vertical-align: top;\n",
              "    }\n",
              "\n",
              "    .dataframe thead th {\n",
              "        text-align: right;\n",
              "    }\n",
              "</style>\n",
              "<table border=\"1\" class=\"dataframe\">\n",
              "  <thead>\n",
              "    <tr style=\"text-align: right;\">\n",
              "      <th></th>\n",
              "      <th>Unnamed: 0</th>\n",
              "      <th>name</th>\n",
              "      <th>Gender</th>\n",
              "      <th>Eye color</th>\n",
              "      <th>Race</th>\n",
              "      <th>Hair color</th>\n",
              "      <th>Height</th>\n",
              "      <th>Publisher</th>\n",
              "      <th>Skin color</th>\n",
              "      <th>Alignment</th>\n",
              "      <th>Weight</th>\n",
              "    </tr>\n",
              "  </thead>\n",
              "  <tbody>\n",
              "    <tr>\n",
              "      <th>0</th>\n",
              "      <td>0</td>\n",
              "      <td>A-Bomb</td>\n",
              "      <td>Male</td>\n",
              "      <td>yellow</td>\n",
              "      <td>Human</td>\n",
              "      <td>No Hair</td>\n",
              "      <td>203.0</td>\n",
              "      <td>Marvel Comics</td>\n",
              "      <td>-</td>\n",
              "      <td>good</td>\n",
              "      <td>441.0</td>\n",
              "    </tr>\n",
              "    <tr>\n",
              "      <th>3</th>\n",
              "      <td>3</td>\n",
              "      <td>Abomination</td>\n",
              "      <td>Male</td>\n",
              "      <td>green</td>\n",
              "      <td>Human / Radiation</td>\n",
              "      <td>No Hair</td>\n",
              "      <td>203.0</td>\n",
              "      <td>Marvel Comics</td>\n",
              "      <td>-</td>\n",
              "      <td>bad</td>\n",
              "      <td>441.0</td>\n",
              "    </tr>\n",
              "    <tr>\n",
              "      <th>4</th>\n",
              "      <td>4</td>\n",
              "      <td>Abraxas</td>\n",
              "      <td>Male</td>\n",
              "      <td>blue</td>\n",
              "      <td>Cosmic Entity</td>\n",
              "      <td>Black</td>\n",
              "      <td>-99.0</td>\n",
              "      <td>Marvel Comics</td>\n",
              "      <td>-</td>\n",
              "      <td>bad</td>\n",
              "      <td>-99.0</td>\n",
              "    </tr>\n",
              "    <tr>\n",
              "      <th>5</th>\n",
              "      <td>5</td>\n",
              "      <td>Absorbing Man</td>\n",
              "      <td>Male</td>\n",
              "      <td>blue</td>\n",
              "      <td>Human</td>\n",
              "      <td>No Hair</td>\n",
              "      <td>193.0</td>\n",
              "      <td>Marvel Comics</td>\n",
              "      <td>-</td>\n",
              "      <td>bad</td>\n",
              "      <td>122.0</td>\n",
              "    </tr>\n",
              "    <tr>\n",
              "      <th>8</th>\n",
              "      <td>8</td>\n",
              "      <td>Agent 13</td>\n",
              "      <td>Female</td>\n",
              "      <td>blue</td>\n",
              "      <td>-</td>\n",
              "      <td>Blond</td>\n",
              "      <td>173.0</td>\n",
              "      <td>Marvel Comics</td>\n",
              "      <td>-</td>\n",
              "      <td>good</td>\n",
              "      <td>61.0</td>\n",
              "    </tr>\n",
              "    <tr>\n",
              "      <th>...</th>\n",
              "      <td>...</td>\n",
              "      <td>...</td>\n",
              "      <td>...</td>\n",
              "      <td>...</td>\n",
              "      <td>...</td>\n",
              "      <td>...</td>\n",
              "      <td>...</td>\n",
              "      <td>...</td>\n",
              "      <td>...</td>\n",
              "      <td>...</td>\n",
              "      <td>...</td>\n",
              "    </tr>\n",
              "    <tr>\n",
              "      <th>726</th>\n",
              "      <td>726</td>\n",
              "      <td>X-Man</td>\n",
              "      <td>Male</td>\n",
              "      <td>blue</td>\n",
              "      <td>-</td>\n",
              "      <td>Brown</td>\n",
              "      <td>175.0</td>\n",
              "      <td>Marvel Comics</td>\n",
              "      <td>-</td>\n",
              "      <td>good</td>\n",
              "      <td>61.0</td>\n",
              "    </tr>\n",
              "    <tr>\n",
              "      <th>727</th>\n",
              "      <td>727</td>\n",
              "      <td>Yellow Claw</td>\n",
              "      <td>Male</td>\n",
              "      <td>blue</td>\n",
              "      <td>-</td>\n",
              "      <td>No Hair</td>\n",
              "      <td>188.0</td>\n",
              "      <td>Marvel Comics</td>\n",
              "      <td>-</td>\n",
              "      <td>bad</td>\n",
              "      <td>95.0</td>\n",
              "    </tr>\n",
              "    <tr>\n",
              "      <th>728</th>\n",
              "      <td>728</td>\n",
              "      <td>Yellowjacket</td>\n",
              "      <td>Male</td>\n",
              "      <td>blue</td>\n",
              "      <td>Human</td>\n",
              "      <td>Blond</td>\n",
              "      <td>183.0</td>\n",
              "      <td>Marvel Comics</td>\n",
              "      <td>-</td>\n",
              "      <td>good</td>\n",
              "      <td>83.0</td>\n",
              "    </tr>\n",
              "    <tr>\n",
              "      <th>729</th>\n",
              "      <td>729</td>\n",
              "      <td>Yellowjacket II</td>\n",
              "      <td>Female</td>\n",
              "      <td>blue</td>\n",
              "      <td>Human</td>\n",
              "      <td>Strawberry Blond</td>\n",
              "      <td>165.0</td>\n",
              "      <td>Marvel Comics</td>\n",
              "      <td>-</td>\n",
              "      <td>good</td>\n",
              "      <td>52.0</td>\n",
              "    </tr>\n",
              "    <tr>\n",
              "      <th>730</th>\n",
              "      <td>730</td>\n",
              "      <td>Ymir</td>\n",
              "      <td>Male</td>\n",
              "      <td>white</td>\n",
              "      <td>Frost Giant</td>\n",
              "      <td>No Hair</td>\n",
              "      <td>304.8</td>\n",
              "      <td>Marvel Comics</td>\n",
              "      <td>white</td>\n",
              "      <td>good</td>\n",
              "      <td>-99.0</td>\n",
              "    </tr>\n",
              "  </tbody>\n",
              "</table>\n",
              "<p>388 rows × 11 columns</p>\n",
              "</div>"
            ],
            "text/plain": [
              "     Unnamed: 0             name  Gender  ... Skin color Alignment Weight\n",
              "0             0           A-Bomb    Male  ...          -      good  441.0\n",
              "3             3      Abomination    Male  ...          -       bad  441.0\n",
              "4             4          Abraxas    Male  ...          -       bad  -99.0\n",
              "5             5    Absorbing Man    Male  ...          -       bad  122.0\n",
              "8             8         Agent 13  Female  ...          -      good   61.0\n",
              "..          ...              ...     ...  ...        ...       ...    ...\n",
              "726         726            X-Man    Male  ...          -      good   61.0\n",
              "727         727      Yellow Claw    Male  ...          -       bad   95.0\n",
              "728         728     Yellowjacket    Male  ...          -      good   83.0\n",
              "729         729  Yellowjacket II  Female  ...          -      good   52.0\n",
              "730         730             Ymir    Male  ...      white      good  -99.0\n",
              "\n",
              "[388 rows x 11 columns]"
            ]
          },
          "metadata": {
            "tags": []
          },
          "execution_count": 38
        }
      ]
    },
    {
      "cell_type": "markdown",
      "metadata": {
        "id": "Yp27GsSt85Hk"
      },
      "source": [
        "#### Look for Null values"
      ]
    },
    {
      "cell_type": "code",
      "metadata": {
        "colab": {
          "base_uri": "https://localhost:8080/"
        },
        "id": "2UDeoZGm8716",
        "outputId": "aec439fc-b328-4834-8e01-51468ccd6241"
      },
      "source": [
        "heroes_information_marvel_clean.isnull().sum()"
      ],
      "execution_count": 41,
      "outputs": [
        {
          "output_type": "execute_result",
          "data": {
            "text/plain": [
              "Unnamed: 0    0\n",
              "name          0\n",
              "Gender        0\n",
              "Eye color     0\n",
              "Race          0\n",
              "Hair color    0\n",
              "Height        0\n",
              "Publisher     0\n",
              "Skin color    0\n",
              "Alignment     0\n",
              "Weight        0\n",
              "dtype: int64"
            ]
          },
          "metadata": {
            "tags": []
          },
          "execution_count": 41
        }
      ]
    },
    {
      "cell_type": "markdown",
      "metadata": {
        "id": "R2DpDZ9N9WTj"
      },
      "source": [
        "#### Drop columns that we are not going to use:\r\n",
        "*   Unnamed: 0\r\n",
        "\r\n",
        "\r\n",
        "\r\n",
        "\r\n"
      ]
    },
    {
      "cell_type": "code",
      "metadata": {
        "colab": {
          "base_uri": "https://localhost:8080/",
          "height": 407
        },
        "id": "schIXnPA9-Ix",
        "outputId": "ab4d9569-f04b-4009-9717-205ac30153b9"
      },
      "source": [
        "heroes_information_marvel_clean = heroes_information_marvel_clean.drop(['Unnamed: 0'], axis = 1)\r\n",
        "heroes_information_marvel_clean"
      ],
      "execution_count": 42,
      "outputs": [
        {
          "output_type": "execute_result",
          "data": {
            "text/html": [
              "<div>\n",
              "<style scoped>\n",
              "    .dataframe tbody tr th:only-of-type {\n",
              "        vertical-align: middle;\n",
              "    }\n",
              "\n",
              "    .dataframe tbody tr th {\n",
              "        vertical-align: top;\n",
              "    }\n",
              "\n",
              "    .dataframe thead th {\n",
              "        text-align: right;\n",
              "    }\n",
              "</style>\n",
              "<table border=\"1\" class=\"dataframe\">\n",
              "  <thead>\n",
              "    <tr style=\"text-align: right;\">\n",
              "      <th></th>\n",
              "      <th>name</th>\n",
              "      <th>Gender</th>\n",
              "      <th>Eye color</th>\n",
              "      <th>Race</th>\n",
              "      <th>Hair color</th>\n",
              "      <th>Height</th>\n",
              "      <th>Publisher</th>\n",
              "      <th>Skin color</th>\n",
              "      <th>Alignment</th>\n",
              "      <th>Weight</th>\n",
              "    </tr>\n",
              "  </thead>\n",
              "  <tbody>\n",
              "    <tr>\n",
              "      <th>0</th>\n",
              "      <td>A-Bomb</td>\n",
              "      <td>Male</td>\n",
              "      <td>yellow</td>\n",
              "      <td>Human</td>\n",
              "      <td>No Hair</td>\n",
              "      <td>203.0</td>\n",
              "      <td>Marvel Comics</td>\n",
              "      <td>-</td>\n",
              "      <td>good</td>\n",
              "      <td>441.0</td>\n",
              "    </tr>\n",
              "    <tr>\n",
              "      <th>3</th>\n",
              "      <td>Abomination</td>\n",
              "      <td>Male</td>\n",
              "      <td>green</td>\n",
              "      <td>Human / Radiation</td>\n",
              "      <td>No Hair</td>\n",
              "      <td>203.0</td>\n",
              "      <td>Marvel Comics</td>\n",
              "      <td>-</td>\n",
              "      <td>bad</td>\n",
              "      <td>441.0</td>\n",
              "    </tr>\n",
              "    <tr>\n",
              "      <th>4</th>\n",
              "      <td>Abraxas</td>\n",
              "      <td>Male</td>\n",
              "      <td>blue</td>\n",
              "      <td>Cosmic Entity</td>\n",
              "      <td>Black</td>\n",
              "      <td>-99.0</td>\n",
              "      <td>Marvel Comics</td>\n",
              "      <td>-</td>\n",
              "      <td>bad</td>\n",
              "      <td>-99.0</td>\n",
              "    </tr>\n",
              "    <tr>\n",
              "      <th>5</th>\n",
              "      <td>Absorbing Man</td>\n",
              "      <td>Male</td>\n",
              "      <td>blue</td>\n",
              "      <td>Human</td>\n",
              "      <td>No Hair</td>\n",
              "      <td>193.0</td>\n",
              "      <td>Marvel Comics</td>\n",
              "      <td>-</td>\n",
              "      <td>bad</td>\n",
              "      <td>122.0</td>\n",
              "    </tr>\n",
              "    <tr>\n",
              "      <th>8</th>\n",
              "      <td>Agent 13</td>\n",
              "      <td>Female</td>\n",
              "      <td>blue</td>\n",
              "      <td>-</td>\n",
              "      <td>Blond</td>\n",
              "      <td>173.0</td>\n",
              "      <td>Marvel Comics</td>\n",
              "      <td>-</td>\n",
              "      <td>good</td>\n",
              "      <td>61.0</td>\n",
              "    </tr>\n",
              "    <tr>\n",
              "      <th>...</th>\n",
              "      <td>...</td>\n",
              "      <td>...</td>\n",
              "      <td>...</td>\n",
              "      <td>...</td>\n",
              "      <td>...</td>\n",
              "      <td>...</td>\n",
              "      <td>...</td>\n",
              "      <td>...</td>\n",
              "      <td>...</td>\n",
              "      <td>...</td>\n",
              "    </tr>\n",
              "    <tr>\n",
              "      <th>726</th>\n",
              "      <td>X-Man</td>\n",
              "      <td>Male</td>\n",
              "      <td>blue</td>\n",
              "      <td>-</td>\n",
              "      <td>Brown</td>\n",
              "      <td>175.0</td>\n",
              "      <td>Marvel Comics</td>\n",
              "      <td>-</td>\n",
              "      <td>good</td>\n",
              "      <td>61.0</td>\n",
              "    </tr>\n",
              "    <tr>\n",
              "      <th>727</th>\n",
              "      <td>Yellow Claw</td>\n",
              "      <td>Male</td>\n",
              "      <td>blue</td>\n",
              "      <td>-</td>\n",
              "      <td>No Hair</td>\n",
              "      <td>188.0</td>\n",
              "      <td>Marvel Comics</td>\n",
              "      <td>-</td>\n",
              "      <td>bad</td>\n",
              "      <td>95.0</td>\n",
              "    </tr>\n",
              "    <tr>\n",
              "      <th>728</th>\n",
              "      <td>Yellowjacket</td>\n",
              "      <td>Male</td>\n",
              "      <td>blue</td>\n",
              "      <td>Human</td>\n",
              "      <td>Blond</td>\n",
              "      <td>183.0</td>\n",
              "      <td>Marvel Comics</td>\n",
              "      <td>-</td>\n",
              "      <td>good</td>\n",
              "      <td>83.0</td>\n",
              "    </tr>\n",
              "    <tr>\n",
              "      <th>729</th>\n",
              "      <td>Yellowjacket II</td>\n",
              "      <td>Female</td>\n",
              "      <td>blue</td>\n",
              "      <td>Human</td>\n",
              "      <td>Strawberry Blond</td>\n",
              "      <td>165.0</td>\n",
              "      <td>Marvel Comics</td>\n",
              "      <td>-</td>\n",
              "      <td>good</td>\n",
              "      <td>52.0</td>\n",
              "    </tr>\n",
              "    <tr>\n",
              "      <th>730</th>\n",
              "      <td>Ymir</td>\n",
              "      <td>Male</td>\n",
              "      <td>white</td>\n",
              "      <td>Frost Giant</td>\n",
              "      <td>No Hair</td>\n",
              "      <td>304.8</td>\n",
              "      <td>Marvel Comics</td>\n",
              "      <td>white</td>\n",
              "      <td>good</td>\n",
              "      <td>-99.0</td>\n",
              "    </tr>\n",
              "  </tbody>\n",
              "</table>\n",
              "<p>388 rows × 10 columns</p>\n",
              "</div>"
            ],
            "text/plain": [
              "                name  Gender Eye color  ... Skin color Alignment  Weight\n",
              "0             A-Bomb    Male    yellow  ...          -      good   441.0\n",
              "3        Abomination    Male     green  ...          -       bad   441.0\n",
              "4            Abraxas    Male      blue  ...          -       bad   -99.0\n",
              "5      Absorbing Man    Male      blue  ...          -       bad   122.0\n",
              "8           Agent 13  Female      blue  ...          -      good    61.0\n",
              "..               ...     ...       ...  ...        ...       ...     ...\n",
              "726            X-Man    Male      blue  ...          -      good    61.0\n",
              "727      Yellow Claw    Male      blue  ...          -       bad    95.0\n",
              "728     Yellowjacket    Male      blue  ...          -      good    83.0\n",
              "729  Yellowjacket II  Female      blue  ...          -      good    52.0\n",
              "730             Ymir    Male     white  ...      white      good   -99.0\n",
              "\n",
              "[388 rows x 10 columns]"
            ]
          },
          "metadata": {
            "tags": []
          },
          "execution_count": 42
        }
      ]
    },
    {
      "cell_type": "markdown",
      "metadata": {
        "id": "G3kMr0A5AXXZ"
      },
      "source": [
        "#### Look for duplicates"
      ]
    },
    {
      "cell_type": "code",
      "metadata": {
        "colab": {
          "base_uri": "https://localhost:8080/"
        },
        "id": "gmwCdYi7Ac0K",
        "outputId": "c56f9e25-84e7-443c-ef7e-1664e0bb4efe"
      },
      "source": [
        "heroes_information['name'].value_counts()"
      ],
      "execution_count": 44,
      "outputs": [
        {
          "output_type": "execute_result",
          "data": {
            "text/plain": [
              "Spider-Man     3\n",
              "Goliath        3\n",
              "Firestorm      2\n",
              "Nova           2\n",
              "Namor          2\n",
              "              ..\n",
              "Clea           1\n",
              "Doctor Doom    1\n",
              "Cheetah        1\n",
              "Darkhawk       1\n",
              "T-850          1\n",
              "Name: name, Length: 715, dtype: int64"
            ]
          },
          "metadata": {
            "tags": []
          },
          "execution_count": 44
        }
      ]
    }
  ]
}